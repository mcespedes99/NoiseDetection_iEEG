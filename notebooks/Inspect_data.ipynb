{
 "cells": [
  {
   "cell_type": "code",
   "execution_count": 1,
   "id": "ad1bf397-4006-4d52-a9e5-b217a65b6fad",
   "metadata": {},
   "outputs": [],
   "source": [
    "import zipfile\n",
    "import scipy.io\n",
    "import pandas as pd\n",
    "import numpy as np\n",
    "import os\n",
    "import re\n",
    "import matplotlib.pyplot as plt\n",
    "import mne\n",
    "import torch\n",
    "from torchvision import datasets, transforms"
   ]
  },
  {
   "cell_type": "code",
   "execution_count": 2,
   "id": "579ff424-dcb6-497f-bc9e-926e44dba058",
   "metadata": {},
   "outputs": [],
   "source": [
    "import sys\n",
    "sys.path.insert(0,'/scratch/mcesped/code/NoiseDetection_iEEG/interictal_classifier/')\n",
    "\n",
    "import custom_dataset"
   ]
  },
  {
   "cell_type": "markdown",
   "id": "8b9d7f6b-4ff3-4bd8-919f-85982e555b18",
   "metadata": {
    "jp-MarkdownHeadingCollapsed": true
   },
   "source": [
    "## Inspect Florida"
   ]
  },
  {
   "cell_type": "code",
   "execution_count": 3,
   "id": "4cc29b8f-98fa-49fc-be85-bf6f3206e728",
   "metadata": {},
   "outputs": [
    {
     "data": {
      "text/html": [
       "<div>\n",
       "<style scoped>\n",
       "    .dataframe tbody tr th:only-of-type {\n",
       "        vertical-align: middle;\n",
       "    }\n",
       "\n",
       "    .dataframe tbody tr th {\n",
       "        vertical-align: top;\n",
       "    }\n",
       "\n",
       "    .dataframe thead th {\n",
       "        text-align: right;\n",
       "    }\n",
       "</style>\n",
       "<table border=\"1\" class=\"dataframe\">\n",
       "  <thead>\n",
       "    <tr style=\"text-align: right;\">\n",
       "      <th></th>\n",
       "      <th>anatomy</th>\n",
       "      <th>category_id</th>\n",
       "      <th>channel</th>\n",
       "      <th>electrode_type</th>\n",
       "      <th>institution</th>\n",
       "      <th>patient_id</th>\n",
       "      <th>reviewer_id</th>\n",
       "      <th>segment_id</th>\n",
       "      <th>soz</th>\n",
       "      <th>category_name</th>\n",
       "      <th>time_series_index</th>\n",
       "    </tr>\n",
       "    <tr>\n",
       "      <th>index</th>\n",
       "      <th></th>\n",
       "      <th></th>\n",
       "      <th></th>\n",
       "      <th></th>\n",
       "      <th></th>\n",
       "      <th></th>\n",
       "      <th></th>\n",
       "      <th></th>\n",
       "      <th></th>\n",
       "      <th></th>\n",
       "      <th></th>\n",
       "    </tr>\n",
       "  </thead>\n",
       "  <tbody>\n",
       "    <tr>\n",
       "      <th>1</th>\n",
       "      <td>Left-Hippocampus|Left-Hippocampus</td>\n",
       "      <td>2</td>\n",
       "      <td>LAH2-3</td>\n",
       "      <td>depth</td>\n",
       "      <td>UFlorida</td>\n",
       "      <td>1</td>\n",
       "      <td>1</td>\n",
       "      <td>x000001</td>\n",
       "      <td>0</td>\n",
       "      <td>pathology</td>\n",
       "      <td>403665</td>\n",
       "    </tr>\n",
       "    <tr>\n",
       "      <th>2</th>\n",
       "      <td>Left-Hippocampus|Left-Hippocampus</td>\n",
       "      <td>2</td>\n",
       "      <td>LAH3-4</td>\n",
       "      <td>depth</td>\n",
       "      <td>UFlorida</td>\n",
       "      <td>1</td>\n",
       "      <td>1</td>\n",
       "      <td>x000002</td>\n",
       "      <td>0</td>\n",
       "      <td>pathology</td>\n",
       "      <td>386386</td>\n",
       "    </tr>\n",
       "    <tr>\n",
       "      <th>3</th>\n",
       "      <td>Left-Hippocampus|Left-Hippocampus</td>\n",
       "      <td>2</td>\n",
       "      <td>LAH3-4</td>\n",
       "      <td>depth</td>\n",
       "      <td>UFlorida</td>\n",
       "      <td>1</td>\n",
       "      <td>1</td>\n",
       "      <td>x000003</td>\n",
       "      <td>0</td>\n",
       "      <td>pathology</td>\n",
       "      <td>390249</td>\n",
       "    </tr>\n",
       "    <tr>\n",
       "      <th>4</th>\n",
       "      <td>Left-Hippocampus|Left-Hippocampus</td>\n",
       "      <td>2</td>\n",
       "      <td>LAH3-4</td>\n",
       "      <td>depth</td>\n",
       "      <td>UFlorida</td>\n",
       "      <td>1</td>\n",
       "      <td>1</td>\n",
       "      <td>x000004</td>\n",
       "      <td>0</td>\n",
       "      <td>pathology</td>\n",
       "      <td>435349</td>\n",
       "    </tr>\n",
       "    <tr>\n",
       "      <th>5</th>\n",
       "      <td>Left-Hippocampus|Left-Hippocampus</td>\n",
       "      <td>2</td>\n",
       "      <td>LAH3-4</td>\n",
       "      <td>depth</td>\n",
       "      <td>UFlorida</td>\n",
       "      <td>1</td>\n",
       "      <td>1</td>\n",
       "      <td>x000005</td>\n",
       "      <td>0</td>\n",
       "      <td>pathology</td>\n",
       "      <td>443032</td>\n",
       "    </tr>\n",
       "  </tbody>\n",
       "</table>\n",
       "</div>"
      ],
      "text/plain": [
       "                                 anatomy  category_id channel electrode_type  \\\n",
       "index                                                                          \n",
       "1      Left-Hippocampus|Left-Hippocampus            2  LAH2-3          depth   \n",
       "2      Left-Hippocampus|Left-Hippocampus            2  LAH3-4          depth   \n",
       "3      Left-Hippocampus|Left-Hippocampus            2  LAH3-4          depth   \n",
       "4      Left-Hippocampus|Left-Hippocampus            2  LAH3-4          depth   \n",
       "5      Left-Hippocampus|Left-Hippocampus            2  LAH3-4          depth   \n",
       "\n",
       "      institution  patient_id  reviewer_id segment_id  soz category_name  \\\n",
       "index                                                                      \n",
       "1        UFlorida           1            1    x000001    0     pathology   \n",
       "2        UFlorida           1            1    x000002    0     pathology   \n",
       "3        UFlorida           1            1    x000003    0     pathology   \n",
       "4        UFlorida           1            1    x000004    0     pathology   \n",
       "5        UFlorida           1            1    x000005    0     pathology   \n",
       "\n",
       "       time_series_index  \n",
       "index                     \n",
       "1                 403665  \n",
       "2                 386386  \n",
       "3                 390249  \n",
       "4                 435349  \n",
       "5                 443032  "
      ]
     },
     "execution_count": 3,
     "metadata": {},
     "output_type": "execute_result"
    }
   ],
   "source": [
    "df_florida = pd.read_csv('/scratch/mcesped/Datasets/segments_uflorida.csv', sep=\",\", index_col=\"index\")\n",
    "df_florida.head()"
   ]
  },
  {
   "cell_type": "code",
   "execution_count": 5,
   "id": "1307e0d8-2352-42cd-8a97-713180def82c",
   "metadata": {},
   "outputs": [
    {
     "data": {
      "text/plain": [
       "(array(['noise', 'pathology', 'physiology', 'powerline'], dtype=object),\n",
       " array([  22, 1374,  657,    5]))"
      ]
     },
     "execution_count": 5,
     "metadata": {},
     "output_type": "execute_result"
    }
   ],
   "source": [
    "np.unique(df_florida.category_name, return_counts=True)"
   ]
  },
  {
   "cell_type": "markdown",
   "id": "9be81cdd-d140-4b49-b437-f260711a1119",
   "metadata": {
    "jp-MarkdownHeadingCollapsed": true
   },
   "source": [
    "## Merging 2 datasets"
   ]
  },
  {
   "cell_type": "code",
   "execution_count": 3,
   "id": "1e9c76b9-f73f-47f9-945f-a5e19440437a",
   "metadata": {},
   "outputs": [
    {
     "data": {
      "text/html": [
       "<div>\n",
       "<style scoped>\n",
       "    .dataframe tbody tr th:only-of-type {\n",
       "        vertical-align: middle;\n",
       "    }\n",
       "\n",
       "    .dataframe tbody tr th {\n",
       "        vertical-align: top;\n",
       "    }\n",
       "\n",
       "    .dataframe thead th {\n",
       "        text-align: right;\n",
       "    }\n",
       "</style>\n",
       "<table border=\"1\" class=\"dataframe\">\n",
       "  <thead>\n",
       "    <tr style=\"text-align: right;\">\n",
       "      <th></th>\n",
       "      <th>index</th>\n",
       "      <th>anatomy</th>\n",
       "      <th>category_id</th>\n",
       "      <th>channel</th>\n",
       "      <th>electrode_type</th>\n",
       "      <th>institution</th>\n",
       "      <th>patient_id</th>\n",
       "      <th>reviewer_id</th>\n",
       "      <th>segment_id</th>\n",
       "      <th>soz</th>\n",
       "      <th>category_name</th>\n",
       "    </tr>\n",
       "  </thead>\n",
       "  <tbody>\n",
       "    <tr>\n",
       "      <th>0</th>\n",
       "      <td>0</td>\n",
       "      <td>gyrus lingualis</td>\n",
       "      <td>0</td>\n",
       "      <td>D1</td>\n",
       "      <td>depth</td>\n",
       "      <td>fnusa</td>\n",
       "      <td>0</td>\n",
       "      <td>1</td>\n",
       "      <td>y000000</td>\n",
       "      <td>0</td>\n",
       "      <td>powerline</td>\n",
       "    </tr>\n",
       "    <tr>\n",
       "      <th>1</th>\n",
       "      <td>1</td>\n",
       "      <td>gyrus lingualis</td>\n",
       "      <td>0</td>\n",
       "      <td>D1</td>\n",
       "      <td>depth</td>\n",
       "      <td>fnusa</td>\n",
       "      <td>0</td>\n",
       "      <td>1</td>\n",
       "      <td>y000001</td>\n",
       "      <td>0</td>\n",
       "      <td>powerline</td>\n",
       "    </tr>\n",
       "    <tr>\n",
       "      <th>2</th>\n",
       "      <td>2</td>\n",
       "      <td>gyrus lingualis</td>\n",
       "      <td>0</td>\n",
       "      <td>D1</td>\n",
       "      <td>depth</td>\n",
       "      <td>fnusa</td>\n",
       "      <td>0</td>\n",
       "      <td>1</td>\n",
       "      <td>y000002</td>\n",
       "      <td>0</td>\n",
       "      <td>powerline</td>\n",
       "    </tr>\n",
       "    <tr>\n",
       "      <th>3</th>\n",
       "      <td>3</td>\n",
       "      <td>gyrus lingualis</td>\n",
       "      <td>0</td>\n",
       "      <td>D1</td>\n",
       "      <td>depth</td>\n",
       "      <td>fnusa</td>\n",
       "      <td>0</td>\n",
       "      <td>1</td>\n",
       "      <td>y000003</td>\n",
       "      <td>0</td>\n",
       "      <td>powerline</td>\n",
       "    </tr>\n",
       "    <tr>\n",
       "      <th>4</th>\n",
       "      <td>4</td>\n",
       "      <td>gyrus lingualis</td>\n",
       "      <td>0</td>\n",
       "      <td>D1</td>\n",
       "      <td>depth</td>\n",
       "      <td>fnusa</td>\n",
       "      <td>0</td>\n",
       "      <td>1</td>\n",
       "      <td>y000004</td>\n",
       "      <td>0</td>\n",
       "      <td>powerline</td>\n",
       "    </tr>\n",
       "  </tbody>\n",
       "</table>\n",
       "</div>"
      ],
      "text/plain": [
       "   index          anatomy  category_id channel electrode_type institution  \\\n",
       "0      0  gyrus lingualis            0      D1          depth       fnusa   \n",
       "1      1  gyrus lingualis            0      D1          depth       fnusa   \n",
       "2      2  gyrus lingualis            0      D1          depth       fnusa   \n",
       "3      3  gyrus lingualis            0      D1          depth       fnusa   \n",
       "4      4  gyrus lingualis            0      D1          depth       fnusa   \n",
       "\n",
       "   patient_id  reviewer_id segment_id  soz category_name  \n",
       "0           0            1    y000000    0     powerline  \n",
       "1           0            1    y000001    0     powerline  \n",
       "2           0            1    y000002    0     powerline  \n",
       "3           0            1    y000003    0     powerline  \n",
       "4           0            1    y000004    0     powerline  "
      ]
     },
     "execution_count": 3,
     "metadata": {},
     "output_type": "execute_result"
    }
   ],
   "source": [
    "zip_files = ['/home/mcesped/scratch/Datasets/Dataset_Fnusa_np.zip', '/home/mcesped/scratch/Datasets/Dataset_Mayo_np.zip']\n",
    "df_train, df_val = custom_dataset.get_train_val_sets(zip_files)\n",
    "df_train.head()"
   ]
  },
  {
   "cell_type": "code",
   "execution_count": 4,
   "id": "98746aac-28ae-4535-95ee-b89404e5915a",
   "metadata": {},
   "outputs": [
    {
     "data": {
      "text/html": [
       "<div>\n",
       "<style scoped>\n",
       "    .dataframe tbody tr th:only-of-type {\n",
       "        vertical-align: middle;\n",
       "    }\n",
       "\n",
       "    .dataframe tbody tr th {\n",
       "        vertical-align: top;\n",
       "    }\n",
       "\n",
       "    .dataframe thead th {\n",
       "        text-align: right;\n",
       "    }\n",
       "</style>\n",
       "<table border=\"1\" class=\"dataframe\">\n",
       "  <thead>\n",
       "    <tr style=\"text-align: right;\">\n",
       "      <th></th>\n",
       "      <th>index</th>\n",
       "      <th>anatomy</th>\n",
       "      <th>category_id</th>\n",
       "      <th>channel</th>\n",
       "      <th>electrode_type</th>\n",
       "      <th>institution</th>\n",
       "      <th>patient_id</th>\n",
       "      <th>reviewer_id</th>\n",
       "      <th>segment_id</th>\n",
       "      <th>soz</th>\n",
       "      <th>category_name</th>\n",
       "    </tr>\n",
       "  </thead>\n",
       "  <tbody>\n",
       "    <tr>\n",
       "      <th>244182</th>\n",
       "      <td>155177</td>\n",
       "      <td>NaN</td>\n",
       "      <td>2</td>\n",
       "      <td>LPD_4</td>\n",
       "      <td>depth</td>\n",
       "      <td>mayo</td>\n",
       "      <td>23</td>\n",
       "      <td>3</td>\n",
       "      <td>x155177</td>\n",
       "      <td>0</td>\n",
       "      <td>pathology</td>\n",
       "    </tr>\n",
       "    <tr>\n",
       "      <th>244183</th>\n",
       "      <td>155178</td>\n",
       "      <td>NaN</td>\n",
       "      <td>2</td>\n",
       "      <td>LPD_4</td>\n",
       "      <td>depth</td>\n",
       "      <td>mayo</td>\n",
       "      <td>23</td>\n",
       "      <td>3</td>\n",
       "      <td>x155178</td>\n",
       "      <td>0</td>\n",
       "      <td>pathology</td>\n",
       "    </tr>\n",
       "    <tr>\n",
       "      <th>244184</th>\n",
       "      <td>155179</td>\n",
       "      <td>NaN</td>\n",
       "      <td>2</td>\n",
       "      <td>LPD_4</td>\n",
       "      <td>depth</td>\n",
       "      <td>mayo</td>\n",
       "      <td>23</td>\n",
       "      <td>3</td>\n",
       "      <td>x155179</td>\n",
       "      <td>0</td>\n",
       "      <td>pathology</td>\n",
       "    </tr>\n",
       "    <tr>\n",
       "      <th>244185</th>\n",
       "      <td>155180</td>\n",
       "      <td>NaN</td>\n",
       "      <td>2</td>\n",
       "      <td>LPD_4</td>\n",
       "      <td>depth</td>\n",
       "      <td>mayo</td>\n",
       "      <td>23</td>\n",
       "      <td>3</td>\n",
       "      <td>x155180</td>\n",
       "      <td>0</td>\n",
       "      <td>pathology</td>\n",
       "    </tr>\n",
       "    <tr>\n",
       "      <th>244186</th>\n",
       "      <td>155181</td>\n",
       "      <td>NaN</td>\n",
       "      <td>2</td>\n",
       "      <td>LPD_4</td>\n",
       "      <td>depth</td>\n",
       "      <td>mayo</td>\n",
       "      <td>23</td>\n",
       "      <td>2</td>\n",
       "      <td>x155181</td>\n",
       "      <td>0</td>\n",
       "      <td>pathology</td>\n",
       "    </tr>\n",
       "  </tbody>\n",
       "</table>\n",
       "</div>"
      ],
      "text/plain": [
       "         index anatomy  category_id channel electrode_type institution  \\\n",
       "244182  155177     NaN            2   LPD_4          depth        mayo   \n",
       "244183  155178     NaN            2   LPD_4          depth        mayo   \n",
       "244184  155179     NaN            2   LPD_4          depth        mayo   \n",
       "244185  155180     NaN            2   LPD_4          depth        mayo   \n",
       "244186  155181     NaN            2   LPD_4          depth        mayo   \n",
       "\n",
       "        patient_id  reviewer_id segment_id  soz category_name  \n",
       "244182          23            3    x155177    0     pathology  \n",
       "244183          23            3    x155178    0     pathology  \n",
       "244184          23            3    x155179    0     pathology  \n",
       "244185          23            3    x155180    0     pathology  \n",
       "244186          23            2    x155181    0     pathology  "
      ]
     },
     "execution_count": 4,
     "metadata": {},
     "output_type": "execute_result"
    }
   ],
   "source": [
    "df_train.tail()"
   ]
  },
  {
   "cell_type": "code",
   "execution_count": 5,
   "id": "48260b23-ac96-4b8d-a22b-3d27c8dc4879",
   "metadata": {},
   "outputs": [],
   "source": [
    "tmpdir = os.environ.get('SLURM_TMPDIR')"
   ]
  },
  {
   "cell_type": "code",
   "execution_count": 16,
   "id": "12c34ed1-34a3-4fb7-99a7-584c2412e3ab",
   "metadata": {},
   "outputs": [
    {
     "data": {
      "text/plain": [
       "(244187, 11)"
      ]
     },
     "execution_count": 16,
     "metadata": {},
     "output_type": "execute_result"
    }
   ],
   "source": [
    "df_train.shape"
   ]
  },
  {
   "cell_type": "code",
   "execution_count": 17,
   "id": "1fa8be12-e33b-40ce-9d51-4de8eb34d953",
   "metadata": {},
   "outputs": [
    {
     "data": {
      "text/plain": [
       "'fnusa'"
      ]
     },
     "execution_count": 17,
     "metadata": {},
     "output_type": "execute_result"
    }
   ],
   "source": [
    "df_train['institution'][0]"
   ]
  },
  {
   "cell_type": "code",
   "execution_count": 6,
   "id": "ded83bc0-b06e-444e-8015-edf9680b4ab6",
   "metadata": {},
   "outputs": [],
   "source": [
    "import seaborn as sns"
   ]
  },
  {
   "cell_type": "code",
   "execution_count": 15,
   "id": "aa3fc481-dc5f-47dc-ac2b-7a644d66fb34",
   "metadata": {},
   "outputs": [
    {
     "name": "stdout",
     "output_type": "stream",
     "text": [
      "\n",
      "Regions for noise:\n",
      "\n",
      "Train\n",
      "\n",
      "['amygdala' 'gyrus temporalis medius' 'insula/gyrus temporalis superior'\n",
      " 'gyrus temporalis superior' 'wm' 'hippocampus anterior' 'none'\n",
      " 'ventricle' 'hippocampus posterior' 'gyrus temporalis inferior'\n",
      " 'gyrus fusiformis' 'gyrus precentralis'\n",
      " 'sulcus parietooccipitalis/precuneus' 'cuneus' 'precuneus'\n",
      " 'gyrus angularis' 'gyrus cinguli' 'gyrus supramarginalis'\n",
      " 'gyrus parahippocampalis' 'gyrus lingualis' 'insula'\n",
      " 'lobulus parietalis inferior' nan 'Right-Hippocampus' 'Right-Amygdala'\n",
      " 'Left-Amygdala' 'Left-Hippocampus' 'Left-Cerebral-White-Matter'\n",
      " 'Right-Cerebral-White-Matter' 'ctx-rh-fusiform' 'Right-choroid-plexus'\n",
      " 'ctx-rh-parahippocampal' 'Left-VentralDC' 'ctx-rh-temporalpole' 'Unknown'\n",
      " 'Left-Thalamus-Proper' 'Left-Putamen' 'lingual' 'isthmuscingulate'\n",
      " 'Left-Inf-Lat-Vent' 'ctx-lh-superiortemporal' 'ctx-lh-middletemporal'\n",
      " 'ctx-lh-parahippocampal' 'ctx-lh-inferiortemporal' 'ctx-rh-entorhinal'\n",
      " 'ctx-lh-insula' 'Right-Putamen' 'ctx-rh-inferiorparietal'\n",
      " 'ctx-lh-fusiform' 'ctx-lh-lateraloccipital' 'ctx-rh-inferiortemporal'\n",
      " 'ctx-rh-lateraloccipital' 'ctx-lh-lateralorbitofrontal'\n",
      " 'ctx-lh-entorhinal']\n",
      "\n",
      "Test\n",
      "\n",
      "['amygdala' 'gyrus temporalis medius' 'none' 'wm' 'hippocampus anterior'\n",
      " 'hippocampus posterior' 'gyrus parahippocampalis'\n",
      " 'gyrus temporalis inferior' 'gyrus temporalis superior'\n",
      " 'gyri temporales transversi' 'ventricle' 'gyrus fusiformis'\n",
      " 'Left-Cerebral-White-Matter']\n",
      "\n",
      "Regions for pathology:\n",
      "\n",
      "Train\n",
      "\n",
      "['hippocampus anterior' 'gliosis' 'amygdala' 'gyrus temporalis medius'\n",
      " 'wm' 'gyrus temporalis inferior' 'hippocampus posterior'\n",
      " 'uncus gyri parahippocampalis' 'ventricle'\n",
      " 'amygdala/hippocampus anterior' 'gyrus parahippocampalis' 'none'\n",
      " 'gyrus temporalis superior' 'insula' 'hippocampus' 'gyrus fusiformis' nan\n",
      " 'Right-Hippocampus' 'Right-Amygdala' 'Left-Hippocampus'\n",
      " 'ctx-lh-parahippocampal' 'Left-Cerebral-White-Matter' 'ctx-lh-fusiform'\n",
      " 'ctx-lh-inferiorparietal' 'Right-Cerebral-White-Matter' 'ctx-rh-bankssts'\n",
      " 'ctx-rh-inferiorparietal' 'Unknown' 'ctx-lh-entorhinal']\n",
      "\n",
      "Test\n",
      "\n",
      "['amygdala' 'wm' 'gyrus temporalis medius' 'hippocampus anterior'\n",
      " 'gyrus fusiformis' 'hippocampus posterior' 'none'\n",
      " 'gyrus temporalis superior' 'ventricle']\n",
      "\n",
      "Regions for physiology:\n",
      "\n",
      "Train\n",
      "\n",
      "['amygdala' 'gyrus temporalis medius' 'insula/gyrus temporalis superior'\n",
      " 'gyrus temporalis superior' 'wm' 'hippocampus anterior' 'none'\n",
      " 'ventricle' 'hippocampus posterior' 'uncus gyri parahippocampalis'\n",
      " 'gyrus parahippocampalis' 'insula' 'lesion' 'gyrus fusiformis'\n",
      " 'gyrus cinguli anterior' 'gyrus frontalis medius' nan 'Right-Hippocampus'\n",
      " 'Left-Amygdala' 'Left-Hippocampus' 'Left-Cerebral-White-Matter'\n",
      " 'Right-Cerebral-White-Matter' 'ctx-rh-fusiform' 'ctx-rh-parahippocampal'\n",
      " 'Left-VentralDC' 'ctx-lh-inferiorparietal' 'Unknown'\n",
      " 'Left-Thalamus-Proper' 'Left-Putamen' 'lingual' 'isthmuscingulate'\n",
      " 'precuneus' 'Left-Inf-Lat-Vent' 'ctx-lh-superiortemporal'\n",
      " 'ctx-lh-middletemporal' 'ctx-lh-parahippocampal'\n",
      " 'ctx-lh-inferiortemporal' 'ctx-rh-entorhinal' 'ctx-lh-insula'\n",
      " 'Right-Putamen' 'ctx-rh-inferiorparietal' 'ctx-lh-lateralorbitofrontal']\n",
      "\n",
      "Test\n",
      "\n",
      "['amygdala' 'gyrus temporalis medius' 'none' 'wm' 'hippocampus anterior'\n",
      " 'gyrus fusiformis' 'hippocampus posterior' 'ventricle'\n",
      " 'Right-Hippocampus' 'Right-Cerebral-White-Matter']\n",
      "\n",
      "Regions for powerline:\n",
      "\n",
      "Train\n",
      "\n",
      "['gyrus lingualis' 'gyrus cinguli posterior' 'precuneus'\n",
      " 'gyrus temporalis medius' 'Left-Hippocampus' 'Left-Cerebral-White-Matter'\n",
      " 'Right-choroid-plexus' 'Right-Hippocampus' 'ctx-rh-parahippocampal'\n",
      " 'Right-Cerebral-White-Matter' 'Right-Lateral-Ventricle' 'Left-Pallidum'\n",
      " 'Left-Putamen' 'ctx-lh-insula' nan 'Unknown' 'Left-Amygdala'\n",
      " 'Left-Thalamus-Proper' 'lingual' 'isthmuscingulate' 'Right-VentralDC']\n",
      "\n",
      "Test\n",
      "\n",
      "['Left-Cerebral-White-Matter' 'ctx-lh-superiortemporal' 'Left-Hippocampus'\n",
      " 'Unknown' 'Left-Putamen' 'ctx-lh-insula']\n"
     ]
    }
   ],
   "source": [
    "for category in np.unique(df_train.category_name):\n",
    "    print(f'\\nRegions for {category}:\\n')\n",
    "    print('Train\\n')\n",
    "    df_tmp = df_train.loc[df_train['category_name']==category]\n",
    "    print(df_tmp['anatomy'].unique())\n",
    "    print('\\nTest\\n')\n",
    "    df_tmp = df_val.loc[df_val['category_name']==category]\n",
    "    print(df_tmp['anatomy'].unique())"
   ]
  },
  {
   "cell_type": "markdown",
   "id": "0aa9de25-ee77-418f-8d39-0b47e3a22074",
   "metadata": {
    "jp-MarkdownHeadingCollapsed": true
   },
   "source": [
    "## Using uncompressed data"
   ]
  },
  {
   "cell_type": "code",
   "execution_count": 3,
   "id": "cde4a1ff-f6c8-4abb-99f3-0a9da9eb6b0b",
   "metadata": {},
   "outputs": [
    {
     "ename": "FileNotFoundError",
     "evalue": "[Errno 2] No such file or directory: '/home/mcesped/scratch/Datasets/Dataset_Fnusa_np_maps.zip'",
     "output_type": "error",
     "traceback": [
      "\u001b[0;31m---------------------------------------------------------------------------\u001b[0m",
      "\u001b[0;31mFileNotFoundError\u001b[0m                         Traceback (most recent call last)",
      "Cell \u001b[0;32mIn[3], line 3\u001b[0m\n\u001b[1;32m      1\u001b[0m \u001b[38;5;66;03m# zip_files = ['/home/mcesped/scratch/Datasets/Dataset_UFlorida_np_maps.zip']\u001b[39;00m\n\u001b[1;32m      2\u001b[0m zip_files \u001b[38;5;241m=\u001b[39m [\u001b[38;5;124m'\u001b[39m\u001b[38;5;124m/home/mcesped/scratch/Datasets/Dataset_Fnusa_np_maps.zip\u001b[39m\u001b[38;5;124m'\u001b[39m, \u001b[38;5;124m'\u001b[39m\u001b[38;5;124m/home/mcesped/scratch/Datasets/Dataset_Mayo_np_maps.zip\u001b[39m\u001b[38;5;124m'\u001b[39m]\n\u001b[0;32m----> 3\u001b[0m df_train, df_val \u001b[38;5;241m=\u001b[39m \u001b[43mcustom_dataset\u001b[49m\u001b[38;5;241;43m.\u001b[39;49m\u001b[43mget_train_val_sets\u001b[49m\u001b[43m(\u001b[49m\u001b[43mzip_files\u001b[49m\u001b[43m,\u001b[49m\u001b[43m \u001b[49m\u001b[43mrandom_split\u001b[49m\u001b[38;5;241;43m=\u001b[39;49m\u001b[38;5;28;43;01mFalse\u001b[39;49;00m\u001b[43m)\u001b[49m\n\u001b[1;32m      4\u001b[0m df_train\u001b[38;5;241m.\u001b[39mhead()\n",
      "File \u001b[0;32m/scratch/mcesped/code/NoiseDetection_iEEG/interictal_classifier/custom_dataset.py:365\u001b[0m, in \u001b[0;36mget_train_val_sets\u001b[0;34m(paths, val_split, random_split)\u001b[0m\n\u001b[1;32m    363\u001b[0m \u001b[38;5;66;03m# Compute total df\u001b[39;00m\n\u001b[1;32m    364\u001b[0m \u001b[38;5;28;01mfor\u001b[39;00m zip_id, zip_file \u001b[38;5;129;01min\u001b[39;00m \u001b[38;5;28menumerate\u001b[39m(paths):\n\u001b[0;32m--> 365\u001b[0m     \u001b[38;5;28;01mwith\u001b[39;00m \u001b[43mzipfile\u001b[49m\u001b[38;5;241;43m.\u001b[39;49m\u001b[43mZipFile\u001b[49m\u001b[43m(\u001b[49m\u001b[43mzip_file\u001b[49m\u001b[43m,\u001b[49m\u001b[43m \u001b[49m\u001b[43mmode\u001b[49m\u001b[38;5;241;43m=\u001b[39;49m\u001b[38;5;124;43m\"\u001b[39;49m\u001b[38;5;124;43mr\u001b[39;49m\u001b[38;5;124;43m\"\u001b[39;49m\u001b[43m)\u001b[49m \u001b[38;5;28;01mas\u001b[39;00m f:\n\u001b[1;32m    366\u001b[0m         \u001b[38;5;66;03m# Get all files\u001b[39;00m\n\u001b[1;32m    367\u001b[0m         files_zip \u001b[38;5;241m=\u001b[39m f\u001b[38;5;241m.\u001b[39mnamelist()\n\u001b[1;32m    368\u001b[0m         files\u001b[38;5;241m.\u001b[39mappend(files_zip)  \u001b[38;5;66;03m# Save files\u001b[39;00m\n",
      "File \u001b[0;32m/cvmfs/soft.computecanada.ca/easybuild/software/2020/avx2/Core/python/3.10.2/lib/python3.10/zipfile.py:1240\u001b[0m, in \u001b[0;36mZipFile.__init__\u001b[0;34m(self, file, mode, compression, allowZip64, compresslevel, strict_timestamps)\u001b[0m\n\u001b[1;32m   1238\u001b[0m \u001b[38;5;28;01mwhile\u001b[39;00m \u001b[38;5;28;01mTrue\u001b[39;00m:\n\u001b[1;32m   1239\u001b[0m     \u001b[38;5;28;01mtry\u001b[39;00m:\n\u001b[0;32m-> 1240\u001b[0m         \u001b[38;5;28mself\u001b[39m\u001b[38;5;241m.\u001b[39mfp \u001b[38;5;241m=\u001b[39m \u001b[43mio\u001b[49m\u001b[38;5;241;43m.\u001b[39;49m\u001b[43mopen\u001b[49m\u001b[43m(\u001b[49m\u001b[43mfile\u001b[49m\u001b[43m,\u001b[49m\u001b[43m \u001b[49m\u001b[43mfilemode\u001b[49m\u001b[43m)\u001b[49m\n\u001b[1;32m   1241\u001b[0m     \u001b[38;5;28;01mexcept\u001b[39;00m \u001b[38;5;167;01mOSError\u001b[39;00m:\n\u001b[1;32m   1242\u001b[0m         \u001b[38;5;28;01mif\u001b[39;00m filemode \u001b[38;5;129;01min\u001b[39;00m modeDict:\n",
      "\u001b[0;31mFileNotFoundError\u001b[0m: [Errno 2] No such file or directory: '/home/mcesped/scratch/Datasets/Dataset_Fnusa_np_maps.zip'"
     ]
    }
   ],
   "source": [
    "# zip_files = ['/home/mcesped/scratch/Datasets/Dataset_UFlorida_np_maps.zip']\n",
    "zip_files = ['/home/mcesped/scratch/Datasets/Dataset_Fnusa_np_maps.zip', '/home/mcesped/scratch/Datasets/Dataset_Mayo_np_maps.zip']\n",
    "df_train, df_val = custom_dataset.get_train_val_sets(zip_files, random_split=False)\n",
    "df_train.head()"
   ]
  },
  {
   "cell_type": "code",
   "execution_count": 6,
   "id": "30db59ad-f39a-481e-9f01-548ce0689121",
   "metadata": {},
   "outputs": [
    {
     "data": {
      "text/plain": [
       "(0.701082400229687, 0.29891759977031296)"
      ]
     },
     "execution_count": 6,
     "metadata": {},
     "output_type": "execute_result"
    }
   ],
   "source": [
    "len(df_train)/(len(df_train)+len(df_val)), len(df_val)/(len(df_train)+len(df_val))"
   ]
  },
  {
   "cell_type": "code",
   "execution_count": 10,
   "id": "8a1ff6db-bf7a-47c3-a7c5-74540cad8b27",
   "metadata": {},
   "outputs": [],
   "source": [
    "weights_subj = dict()\n",
    "for inst in np.unique(df_train.institution):\n",
    "    bool_mask = df_train.loc[(df_train.institution==inst).astype(bool) & (df_train.patient_id == 0).astype(bool)]\n",
    "    # df_inst = df.loc[df_train.institution==inst]\n",
    "    # print(f'subjects from inst {inst}')\n",
    "    # print(np.unique(df_inst.patient_id))"
   ]
  },
  {
   "cell_type": "code",
   "execution_count": 8,
   "id": "5c465a26-5ca9-4232-bd1f-6f01f0b8143f",
   "metadata": {},
   "outputs": [
    {
     "name": "stdout",
     "output_type": "stream",
     "text": [
      "train\n",
      "subjects from inst fnusa\n",
      "[ 0  1  2  3  4  5  6  7  8  9 10 11 12 13]\n",
      "subjects from inst mayo\n",
      "[ 0  1  2  3  4  5  6  7  8  9 10 11 12 13 14 15 16 17 18 19 20 21 22 23]\n",
      "val\n",
      "subjects from inst fnusa\n",
      "[ 0  1  2  3  4  5  6  7  8  9 10 11 12 13]\n",
      "subjects from inst mayo\n",
      "[ 0  1  2  3  4  5  6  7  8  9 10 11 12 13 14 15 16 17 18 19 20 21 22 23]\n"
     ]
    }
   ],
   "source": [
    "for df,name in [(df_train, 'train'), (df_val,'val')]:\n",
    "    print(name)\n",
    "    for inst in np.unique(df.institution):\n",
    "        df_inst = df.loc[df.institution==inst]\n",
    "        print(f'subjects from inst {inst}')\n",
    "        print(np.unique(df_inst.patient_id))"
   ]
  },
  {
   "cell_type": "code",
   "execution_count": 5,
   "id": "821082db-adfe-4442-ac32-a1a203f39d50",
   "metadata": {},
   "outputs": [],
   "source": [
    "import utils"
   ]
  },
  {
   "cell_type": "code",
   "execution_count": 6,
   "id": "d10279ca-e232-4698-a8bd-3f5a8cba81f2",
   "metadata": {},
   "outputs": [],
   "source": [
    "tmpdir = utils.get_tmpdir()\n",
    "# Now uncompress\n",
    "utils.uncompress_zip(zip_files=zip_files, out_dir=tmpdir)"
   ]
  },
  {
   "cell_type": "code",
   "execution_count": 7,
   "id": "b224622f-288b-455c-97cf-d5be0b20a9c2",
   "metadata": {},
   "outputs": [
    {
     "name": "stdout",
     "output_type": "stream",
     "text": [
      "\n",
      "Creating dataset classes...\n",
      "\n"
     ]
    }
   ],
   "source": [
    "print(\"\\nCreating dataset classes...\\n\", end=\"\\n\", flush=True)\n",
    "dataset_custom = custom_dataset.MultiLevelSpectrogramDir\n",
    "train_data = dataset_custom(\n",
    "    df=df_train, input_folder=tmpdir, transform=None\n",
    ")\n",
    "val_data = dataset_custom(\n",
    "    df=df_val, input_folder=tmpdir, transform=None\n",
    ")"
   ]
  },
  {
   "cell_type": "code",
   "execution_count": 8,
   "id": "edbb3f77-c5ce-4649-8721-77b74dd23e20",
   "metadata": {},
   "outputs": [
    {
     "name": "stdout",
     "output_type": "stream",
     "text": [
      "\n",
      "Creating dataset classes...\n",
      "\n"
     ]
    },
    {
     "data": {
      "text/plain": [
       "(<torch.utils.data.dataloader.DataLoader at 0x2aac8a002740>,\n",
       " <torch.utils.data.dataloader.DataLoader at 0x2aac8a002d10>,\n",
       " ['noise', 'pathology', 'physiology', 'powerline'])"
      ]
     },
     "execution_count": 8,
     "metadata": {},
     "output_type": "execute_result"
    }
   ],
   "source": [
    "# Test dataloader\n",
    "import data_setup\n",
    "train_dataloader, val_dataloader, class_names = data_setup.create_dataloaders_uncompress(zip_files, None, None, batch_size=32, num_workers=4, dataset_class='MultiLevelSpectrogramDir')\n",
    "train_dataloader, val_dataloader, class_names "
   ]
  },
  {
   "cell_type": "code",
   "execution_count": 12,
   "id": "ec48ae00-b858-4d8f-818a-61081e51ba08",
   "metadata": {},
   "outputs": [
    {
     "data": {
      "text/plain": [
       "(1528, 1536)"
      ]
     },
     "execution_count": 12,
     "metadata": {},
     "output_type": "execute_result"
    }
   ],
   "source": [
    "len(df_train), len(train_dataloader)*32 # len is equal to number of batches"
   ]
  },
  {
   "cell_type": "code",
   "execution_count": 54,
   "id": "24e3e74d-0fc0-443b-aa52-acd596b316e7",
   "metadata": {},
   "outputs": [
    {
     "name": "stdout",
     "output_type": "stream",
     "text": [
      "Image shape: torch.Size([32, 8, 30, 100]) -> [batch_size, color_channels, height, width]\n",
      "Label shape: torch.Size([32])\n"
     ]
    }
   ],
   "source": [
    "# Check out single image size/shape\n",
    "img, label = next(iter(train_dataloader))\n",
    "\n",
    "# Batch size will now be 1, try changing the batch_size parameter above and see what happens\n",
    "print(f\"Image shape: {img.shape} -> [batch_size, color_channels, height, width]\")\n",
    "print(f\"Label shape: {label.shape}\")"
   ]
  },
  {
   "cell_type": "code",
   "execution_count": 55,
   "id": "6308cd0d-9a8d-4dff-82c0-e419af057392",
   "metadata": {},
   "outputs": [
    {
     "data": {
      "text/plain": [
       "tensor([0, 0, 1, 1, 2, 0, 2, 3, 2, 2, 2, 3, 0, 2, 2, 3, 1, 1, 1, 2, 2, 2, 3, 2,\n",
       "        3, 2, 1, 1, 2, 3, 3, 3])"
      ]
     },
     "execution_count": 55,
     "metadata": {},
     "output_type": "execute_result"
    }
   ],
   "source": [
    "label"
   ]
  },
  {
   "cell_type": "code",
   "execution_count": 68,
   "id": "7c86d07b-ee77-4fd8-9fdf-0fb743b56537",
   "metadata": {},
   "outputs": [
    {
     "name": "stdout",
     "output_type": "stream",
     "text": [
      "torch.Size([32, 8, 30, 100]) tensor(2)\n",
      "torch.Size([32, 8, 30, 100]) tensor(2)\n",
      "torch.Size([32, 8, 30, 100]) tensor(2)\n",
      "torch.Size([32, 8, 30, 100]) tensor(2)\n",
      "torch.Size([32, 8, 30, 100]) tensor(2)\n",
      "torch.Size([32, 8, 30, 100]) tensor(2)\n",
      "torch.Size([32, 8, 30, 100]) tensor(2)\n",
      "torch.Size([32, 8, 30, 100]) tensor(2)\n"
     ]
    },
    {
     "data": {
      "image/png": "[encoded data removed]",
      "text/plain": [
       "<Figure size 600x1200 with 8 Axes>"
      ]
     },
     "metadata": {},
     "output_type": "display_data"
    }
   ],
   "source": [
    "fig, axes = plt.subplots(ncols=2, nrows=4, figsize=(6,12))\n",
    "n = 13\n",
    "for i, ax in enumerate(axes.flat):\n",
    "    # image_torch = torch.from_numpy(np.expand_dims(image, axis=0))\n",
    "    # ax.pcolormesh(train_transforms(image_torch).squeeze())\n",
    "    ax.pcolormesh(img[n,i,:,:])\n",
    "    print(img.shape, label[n])"
   ]
  },
  {
   "cell_type": "markdown",
   "id": "e53fd717-a364-4f6a-bf53-c3506d393175",
   "metadata": {},
   "source": [
    "## Manually picked data as a whole"
   ]
  },
  {
   "cell_type": "code",
   "execution_count": 4,
   "id": "4b007214-4d78-404a-b2b0-fb97ceb31ab5",
   "metadata": {},
   "outputs": [
    {
     "data": {
      "text/html": [
       "<div>\n",
       "<style scoped>\n",
       "    .dataframe tbody tr th:only-of-type {\n",
       "        vertical-align: middle;\n",
       "    }\n",
       "\n",
       "    .dataframe tbody tr th {\n",
       "        vertical-align: top;\n",
       "    }\n",
       "\n",
       "    .dataframe thead th {\n",
       "        text-align: right;\n",
       "    }\n",
       "</style>\n",
       "<table border=\"1\" class=\"dataframe\">\n",
       "  <thead>\n",
       "    <tr style=\"text-align: right;\">\n",
       "      <th></th>\n",
       "      <th>anatomy</th>\n",
       "      <th>category_id</th>\n",
       "      <th>channel</th>\n",
       "      <th>electrode_type</th>\n",
       "      <th>institution</th>\n",
       "      <th>patient_id</th>\n",
       "      <th>reviewer_id</th>\n",
       "      <th>segment_id</th>\n",
       "      <th>soz</th>\n",
       "      <th>category_name</th>\n",
       "    </tr>\n",
       "    <tr>\n",
       "      <th>index</th>\n",
       "      <th></th>\n",
       "      <th></th>\n",
       "      <th></th>\n",
       "      <th></th>\n",
       "      <th></th>\n",
       "      <th></th>\n",
       "      <th></th>\n",
       "      <th></th>\n",
       "      <th></th>\n",
       "      <th></th>\n",
       "    </tr>\n",
       "  </thead>\n",
       "  <tbody>\n",
       "    <tr>\n",
       "      <th>0</th>\n",
       "      <td>NaN</td>\n",
       "      <td>1</td>\n",
       "      <td>LMacro_01</td>\n",
       "      <td>depth</td>\n",
       "      <td>mayo</td>\n",
       "      <td>0</td>\n",
       "      <td>3</td>\n",
       "      <td>x000000</td>\n",
       "      <td>1</td>\n",
       "      <td>noise</td>\n",
       "    </tr>\n",
       "    <tr>\n",
       "      <th>1</th>\n",
       "      <td>NaN</td>\n",
       "      <td>1</td>\n",
       "      <td>LMacro_01</td>\n",
       "      <td>depth</td>\n",
       "      <td>mayo</td>\n",
       "      <td>0</td>\n",
       "      <td>1</td>\n",
       "      <td>x000001</td>\n",
       "      <td>1</td>\n",
       "      <td>noise</td>\n",
       "    </tr>\n",
       "    <tr>\n",
       "      <th>2</th>\n",
       "      <td>NaN</td>\n",
       "      <td>1</td>\n",
       "      <td>LMacro_01</td>\n",
       "      <td>depth</td>\n",
       "      <td>mayo</td>\n",
       "      <td>0</td>\n",
       "      <td>3</td>\n",
       "      <td>x000002</td>\n",
       "      <td>1</td>\n",
       "      <td>noise</td>\n",
       "    </tr>\n",
       "    <tr>\n",
       "      <th>3</th>\n",
       "      <td>NaN</td>\n",
       "      <td>1</td>\n",
       "      <td>LMacro_01</td>\n",
       "      <td>depth</td>\n",
       "      <td>mayo</td>\n",
       "      <td>0</td>\n",
       "      <td>3</td>\n",
       "      <td>x000003</td>\n",
       "      <td>1</td>\n",
       "      <td>noise</td>\n",
       "    </tr>\n",
       "    <tr>\n",
       "      <th>4</th>\n",
       "      <td>NaN</td>\n",
       "      <td>1</td>\n",
       "      <td>LMacro_01</td>\n",
       "      <td>depth</td>\n",
       "      <td>mayo</td>\n",
       "      <td>0</td>\n",
       "      <td>1</td>\n",
       "      <td>x000004</td>\n",
       "      <td>1</td>\n",
       "      <td>noise</td>\n",
       "    </tr>\n",
       "  </tbody>\n",
       "</table>\n",
       "</div>"
      ],
      "text/plain": [
       "      anatomy  category_id    channel electrode_type institution  patient_id  \\\n",
       "index                                                                          \n",
       "0         NaN            1  LMacro_01          depth        mayo           0   \n",
       "1         NaN            1  LMacro_01          depth        mayo           0   \n",
       "2         NaN            1  LMacro_01          depth        mayo           0   \n",
       "3         NaN            1  LMacro_01          depth        mayo           0   \n",
       "4         NaN            1  LMacro_01          depth        mayo           0   \n",
       "\n",
       "       reviewer_id segment_id  soz category_name  \n",
       "index                                             \n",
       "0                3    x000000    1         noise  \n",
       "1                1    x000001    1         noise  \n",
       "2                3    x000002    1         noise  \n",
       "3                3    x000003    1         noise  \n",
       "4                1    x000004    1         noise  "
      ]
     },
     "execution_count": 4,
     "metadata": {},
     "output_type": "execute_result"
    }
   ],
   "source": [
    "# Load two dataframes\n",
    "import pandas as pd\n",
    "df_mayo = pd.read_csv('/scratch/mcesped/Datasets/segments_mayo.csv', sep=\",\", index_col=\"index\")\n",
    "df_fnusa = pd.read_csv('/scratch/mcesped/Datasets/segments_fnusa.csv', sep=\",\", index_col=\"index\")\n",
    "df_total = pd.concat([df_mayo, df_fnusa])\n",
    "df_total.head()"
   ]
  },
  {
   "cell_type": "code",
   "execution_count": 5,
   "id": "72b9a91c-aa06-42a2-9f6b-dbb02882c574",
   "metadata": {},
   "outputs": [],
   "source": [
    "df_total = df_total.loc[df_total.category_id != 0]\n",
    "df_total.loc[:,'category_id'] = df_total.category_id - 1"
   ]
  },
  {
   "cell_type": "code",
   "execution_count": 4,
   "id": "be7c70b8-a37d-477c-bd1f-9e79d4f19090",
   "metadata": {},
   "outputs": [],
   "source": [
    "df_total.to_csv('/scratch/mcesped/Datasets/segments_mayo_fnusa_complete_version.csv', sep=\",\", index_label='index')"
   ]
  },
  {
   "cell_type": "code",
   "execution_count": 6,
   "id": "1b04e69a-e093-4bfa-9e7b-3332bd90f626",
   "metadata": {},
   "outputs": [
    {
     "name": "stdout",
     "output_type": "stream",
     "text": [
      "subjects from inst fnusa\n",
      "subjects from inst mayo\n",
      "{'noise': [0, 2892, 12, 8463, 5059, 0, 5416, 18, 0, 5876, 3339, 1343, 181, 2318, 0, 466, 4636, 2063, 1002, 12873, 0, 0, 740, 0, 3699, 4096, 1700, 5613, 1278, 58, 761], 'path': [1912, 1657, 8076, 0, 1527, 1554, 7738, 1896, 6750, 4260, 4072, 7710, 5318, 0, 883, 1923, 0, 0, 0, 0, 0, 2816, 0, 3426, 0, 0, 0, 0, 0, 3432, 2747], 'phys': [0, 7809, 0, 0, 5452, 962, 2689, 20860, 0, 1545, 2890, 38217, 14136, 330, 8653, 399, 2057, 790, 6583, 0, 25951, 0, 0, 498, 177, 6098, 3126, 0, 1424, 0, 644]}\n"
     ]
    }
   ],
   "source": [
    "counter = {\n",
    "    # 'pw':[],\n",
    "    'noise':[],\n",
    "    'path':[],\n",
    "    'phys':[]\n",
    "}\n",
    "categories = ['noise', 'path', 'phys']\n",
    "\n",
    "for inst in np.unique(df_total.institution):\n",
    "    df_inst = df_total.loc[df_total.institution==inst]\n",
    "    print(f'subjects from inst {inst}')\n",
    "    for subj in np.unique(df_inst.patient_id):\n",
    "        df_subj = df_inst.loc[df_inst.patient_id==subj]\n",
    "        for cat_id, cat_name in zip(range(len(categories)), categories):\n",
    "            counter[cat_name].append(len(df_subj.loc[df_subj.category_id==cat_id]))\n",
    "print(counter)"
   ]
  },
  {
   "cell_type": "code",
   "execution_count": 8,
   "id": "458347c6-07ce-416c-a0d7-27a8671f8592",
   "metadata": {},
   "outputs": [
    {
     "name": "stdout",
     "output_type": "stream",
     "text": [
      "noise \n",
      "Number of subj: 24 \n",
      "Median events per subj 2190.5 \n",
      "Total events proportion 25.23208450983137 \n",
      "Total events: 73902\n",
      "\n",
      "path \n",
      "Number of subj: 18 \n",
      "Median events per subj 3121.0 \n",
      "Total events proportion 23.11353447893229 \n",
      "Total events: 67697\n",
      "\n",
      "phys \n",
      "Number of subj: 22 \n",
      "Median events per subj 2789.5 \n",
      "Total events proportion 51.65438101123634 \n",
      "Total events: 151290\n",
      "\n"
     ]
    }
   ],
   "source": [
    "df_evaluated = df_total\n",
    "for cat in counter:\n",
    "    array_count = np.array(counter[cat])\n",
    "    print(cat,f'\\nNumber of subj: {len(array_count[array_count!=0])}', f'\\nMedian events per subj {np.median(array_count[array_count!=0])}',f'\\nTotal events proportion {np.sum(array_count)*100/len(df_evaluated)}', f'\\nTotal events: {np.sum(array_count)}\\n')"
   ]
  },
  {
   "cell_type": "code",
   "execution_count": 18,
   "id": "e6beed42-a10f-43cb-91c5-548299cf5e55",
   "metadata": {},
   "outputs": [
    {
     "name": "stdout",
     "output_type": "stream",
     "text": [
      "{'pw': 2000, 'noise': 916, 'path': 1222, 'phys': 1000}\n"
     ]
    }
   ],
   "source": [
    "# Based on this, I'll get per class a max of 11*2000=22000 images so this means per cat per subj\n",
    "max_img_subj_cat = dict()\n",
    "for cat in counter:\n",
    "    array_count = np.array(counter[cat])\n",
    "    max_img_subj_cat[cat] = int(22000/len(array_count[array_count!=0]))\n",
    "print(max_img_subj_cat)"
   ]
  },
  {
   "cell_type": "code",
   "execution_count": 9,
   "id": "f6528927-3717-4a83-a086-23a102e3a11e",
   "metadata": {},
   "outputs": [],
   "source": [
    "# Manually picked choice\n",
    "max_img_subj_cat = {\n",
    "    # 'pw': 1000, # Less the pw as it is easily identifiable\n",
    "    'noise': 2000, # Pay more the noise\n",
    "    'path': 1000, # Less path at it is not so hard to identify\n",
    "    'phys': 1200\n",
    "}"
   ]
  },
  {
   "cell_type": "code",
   "execution_count": 11,
   "id": "1e9f3e20-0a0d-4889-818d-712794ed66bc",
   "metadata": {},
   "outputs": [
    {
     "name": "stdout",
     "output_type": "stream",
     "text": [
      "subjects from inst fnusa\n",
      "subjects from inst mayo\n"
     ]
    }
   ],
   "source": [
    "df_curated = []\n",
    "for inst in np.unique(df_total.institution):\n",
    "    df_inst = df_total.loc[df_total.institution==inst]\n",
    "    print(f'subjects from inst {inst}')\n",
    "    for subj in np.unique(df_inst.patient_id):\n",
    "        df_subj = df_inst.loc[df_inst.patient_id==subj]\n",
    "        for cat_id, cat_name in zip(range(len(categories)), categories):\n",
    "            df_cat = df_subj.loc[df_subj.category_id==cat_id]\n",
    "            if len(df_curated)<1:\n",
    "                df_curated = df_cat.sample(min(len(df_cat),max_img_subj_cat[cat_name]))\n",
    "            else:\n",
    "                df_curated = pd.concat([df_curated, df_cat.sample(min(len(df_cat),max_img_subj_cat[cat_name]))])\n",
    "df_curated = df_curated.reset_index(drop=True)"
   ]
  },
  {
   "cell_type": "code",
   "execution_count": 12,
   "id": "d0c1a4d6-32c1-43d0-adec-be0f8f6613d2",
   "metadata": {},
   "outputs": [
    {
     "data": {
      "text/html": [
       "<div>\n",
       "<style scoped>\n",
       "    .dataframe tbody tr th:only-of-type {\n",
       "        vertical-align: middle;\n",
       "    }\n",
       "\n",
       "    .dataframe tbody tr th {\n",
       "        vertical-align: top;\n",
       "    }\n",
       "\n",
       "    .dataframe thead th {\n",
       "        text-align: right;\n",
       "    }\n",
       "</style>\n",
       "<table border=\"1\" class=\"dataframe\">\n",
       "  <thead>\n",
       "    <tr style=\"text-align: right;\">\n",
       "      <th></th>\n",
       "      <th>anatomy</th>\n",
       "      <th>category_id</th>\n",
       "      <th>channel</th>\n",
       "      <th>electrode_type</th>\n",
       "      <th>institution</th>\n",
       "      <th>patient_id</th>\n",
       "      <th>reviewer_id</th>\n",
       "      <th>segment_id</th>\n",
       "      <th>soz</th>\n",
       "      <th>category_name</th>\n",
       "    </tr>\n",
       "  </thead>\n",
       "  <tbody>\n",
       "    <tr>\n",
       "      <th>73237</th>\n",
       "      <td>NaN</td>\n",
       "      <td>2</td>\n",
       "      <td>LAD_2</td>\n",
       "      <td>depth</td>\n",
       "      <td>mayo</td>\n",
       "      <td>23</td>\n",
       "      <td>1</td>\n",
       "      <td>x151633</td>\n",
       "      <td>0</td>\n",
       "      <td>physiology</td>\n",
       "    </tr>\n",
       "    <tr>\n",
       "      <th>73238</th>\n",
       "      <td>NaN</td>\n",
       "      <td>2</td>\n",
       "      <td>LAD_2</td>\n",
       "      <td>depth</td>\n",
       "      <td>mayo</td>\n",
       "      <td>23</td>\n",
       "      <td>1</td>\n",
       "      <td>x151602</td>\n",
       "      <td>0</td>\n",
       "      <td>physiology</td>\n",
       "    </tr>\n",
       "    <tr>\n",
       "      <th>73239</th>\n",
       "      <td>NaN</td>\n",
       "      <td>2</td>\n",
       "      <td>LAD_3</td>\n",
       "      <td>depth</td>\n",
       "      <td>mayo</td>\n",
       "      <td>23</td>\n",
       "      <td>1</td>\n",
       "      <td>x152095</td>\n",
       "      <td>0</td>\n",
       "      <td>physiology</td>\n",
       "    </tr>\n",
       "    <tr>\n",
       "      <th>73240</th>\n",
       "      <td>NaN</td>\n",
       "      <td>2</td>\n",
       "      <td>LAD_2</td>\n",
       "      <td>depth</td>\n",
       "      <td>mayo</td>\n",
       "      <td>23</td>\n",
       "      <td>1</td>\n",
       "      <td>x151440</td>\n",
       "      <td>0</td>\n",
       "      <td>physiology</td>\n",
       "    </tr>\n",
       "    <tr>\n",
       "      <th>73241</th>\n",
       "      <td>NaN</td>\n",
       "      <td>2</td>\n",
       "      <td>LAD_3</td>\n",
       "      <td>depth</td>\n",
       "      <td>mayo</td>\n",
       "      <td>23</td>\n",
       "      <td>1</td>\n",
       "      <td>x152058</td>\n",
       "      <td>0</td>\n",
       "      <td>physiology</td>\n",
       "    </tr>\n",
       "  </tbody>\n",
       "</table>\n",
       "</div>"
      ],
      "text/plain": [
       "      anatomy  category_id channel electrode_type institution  patient_id  \\\n",
       "73237     NaN            2   LAD_2          depth        mayo          23   \n",
       "73238     NaN            2   LAD_2          depth        mayo          23   \n",
       "73239     NaN            2   LAD_3          depth        mayo          23   \n",
       "73240     NaN            2   LAD_2          depth        mayo          23   \n",
       "73241     NaN            2   LAD_3          depth        mayo          23   \n",
       "\n",
       "       reviewer_id segment_id  soz category_name  \n",
       "73237            1    x151633    0    physiology  \n",
       "73238            1    x151602    0    physiology  \n",
       "73239            1    x152095    0    physiology  \n",
       "73240            1    x151440    0    physiology  \n",
       "73241            1    x152058    0    physiology  "
      ]
     },
     "execution_count": 12,
     "metadata": {},
     "output_type": "execute_result"
    }
   ],
   "source": [
    "df_curated.tail()"
   ]
  },
  {
   "cell_type": "code",
   "execution_count": 15,
   "id": "9cdf4016-52fe-4137-9741-3269dd8da9de",
   "metadata": {},
   "outputs": [
    {
     "name": "stdout",
     "output_type": "stream",
     "text": [
      "subjects from inst fnusa\n",
      "subjects from inst mayo\n",
      "{'noise': [0, 2000, 12, 2000, 2000, 0, 2000, 18, 0, 2000, 2000, 1343, 181, 2000, 0, 466, 2000, 2000, 1002, 2000, 0, 0, 740, 0, 2000, 2000, 1700, 2000, 1278, 58, 761], 'path': [1000, 1000, 1000, 0, 1000, 1000, 1000, 1000, 1000, 1000, 1000, 1000, 1000, 0, 883, 1000, 0, 0, 0, 0, 0, 1000, 0, 1000, 0, 0, 0, 0, 0, 1000, 1000], 'phys': [0, 1200, 0, 0, 1200, 962, 1200, 1200, 0, 1200, 1200, 1200, 1200, 330, 1200, 399, 1200, 790, 1200, 0, 1200, 0, 0, 498, 177, 1200, 1200, 0, 1200, 0, 644]}\n"
     ]
    }
   ],
   "source": [
    "counter = {\n",
    "    # 'pw':[],\n",
    "    'noise':[],\n",
    "    'path':[],\n",
    "    'phys':[]\n",
    "}\n",
    "categories = ['noise', 'path', 'phys']\n",
    "\n",
    "for inst in np.unique(df_curated.institution):\n",
    "    df_inst = df_curated.loc[df_curated.institution==inst]\n",
    "    print(f'subjects from inst {inst}')\n",
    "    for subj in np.unique(df_inst.patient_id):\n",
    "        df_subj = df_inst.loc[df_inst.patient_id==subj]\n",
    "        for cat_id, cat_name in zip(range(len(categories)), categories):\n",
    "            counter[cat_name].append(len(df_subj.loc[df_subj.category_id==cat_id]))\n",
    "print(counter)"
   ]
  },
  {
   "cell_type": "code",
   "execution_count": 16,
   "id": "5f2b85e3-675d-40cd-bb82-d60dfe4e8e88",
   "metadata": {},
   "outputs": [
    {
     "name": "stdout",
     "output_type": "stream",
     "text": [
      "noise \n",
      "Number of subj: 24 \n",
      "Median events per subj 2000.0 \n",
      "Total events proportion 45.81933863084023 \n",
      "Total events: 33559\n",
      "\n",
      "path \n",
      "Number of subj: 18 \n",
      "Median events per subj 1000.0 \n",
      "Total events proportion 24.416318505775376 \n",
      "Total events: 17883\n",
      "\n",
      "phys \n",
      "Number of subj: 22 \n",
      "Median events per subj 1200.0 \n",
      "Total events proportion 29.764342863384396 \n",
      "Total events: 21800\n",
      "\n"
     ]
    }
   ],
   "source": [
    "df_evaluated = df_curated\n",
    "for cat in counter:\n",
    "    array_count = np.array(counter[cat])\n",
    "    print(cat,f'\\nNumber of subj: {len(array_count[array_count!=0])}', f'\\nMedian events per subj {np.median(array_count[array_count!=0])}',f'\\nTotal events proportion {np.sum(array_count)*100/len(df_evaluated)}', f'\\nTotal events: {np.sum(array_count)}\\n')"
   ]
  },
  {
   "cell_type": "code",
   "execution_count": 17,
   "id": "1763ee6a-7c7b-4271-aacd-05e091d113bb",
   "metadata": {},
   "outputs": [],
   "source": [
    "df_train, df_test_val = custom_dataset.train_val_split_multiclass(\n",
    "        df_curated, val_split=0.4, margin_allowance=0.02, class_col=\"institution\"\n",
    "    )\n",
    "df_test, df_val = custom_dataset.train_val_split_multiclass(\n",
    "        df_test_val, val_split=0.5, margin_allowance=0.02, class_col=\"institution\"\n",
    "    )"
   ]
  },
  {
   "cell_type": "code",
   "execution_count": 13,
   "id": "08346083-4e99-42c9-b3ea-dac3a1e2c677",
   "metadata": {},
   "outputs": [
    {
     "data": {
      "text/html": [
       "<div>\n",
       "<style scoped>\n",
       "    .dataframe tbody tr th:only-of-type {\n",
       "        vertical-align: middle;\n",
       "    }\n",
       "\n",
       "    .dataframe tbody tr th {\n",
       "        vertical-align: top;\n",
       "    }\n",
       "\n",
       "    .dataframe thead th {\n",
       "        text-align: right;\n",
       "    }\n",
       "</style>\n",
       "<table border=\"1\" class=\"dataframe\">\n",
       "  <thead>\n",
       "    <tr style=\"text-align: right;\">\n",
       "      <th></th>\n",
       "      <th>index</th>\n",
       "      <th>anatomy</th>\n",
       "      <th>category_id</th>\n",
       "      <th>channel</th>\n",
       "      <th>electrode_type</th>\n",
       "      <th>institution</th>\n",
       "      <th>patient_id</th>\n",
       "      <th>reviewer_id</th>\n",
       "      <th>segment_id</th>\n",
       "      <th>soz</th>\n",
       "      <th>category_name</th>\n",
       "    </tr>\n",
       "  </thead>\n",
       "  <tbody>\n",
       "    <tr>\n",
       "      <th>65831</th>\n",
       "      <td>105748</td>\n",
       "      <td>Right-VentralDC</td>\n",
       "      <td>0</td>\n",
       "      <td>LTD_1</td>\n",
       "      <td>depth</td>\n",
       "      <td>mayo</td>\n",
       "      <td>22</td>\n",
       "      <td>3</td>\n",
       "      <td>x149042</td>\n",
       "      <td>0</td>\n",
       "      <td>powerline</td>\n",
       "    </tr>\n",
       "    <tr>\n",
       "      <th>65832</th>\n",
       "      <td>105749</td>\n",
       "      <td>Right-VentralDC</td>\n",
       "      <td>0</td>\n",
       "      <td>LTD_1</td>\n",
       "      <td>depth</td>\n",
       "      <td>mayo</td>\n",
       "      <td>22</td>\n",
       "      <td>3</td>\n",
       "      <td>x149977</td>\n",
       "      <td>0</td>\n",
       "      <td>powerline</td>\n",
       "    </tr>\n",
       "    <tr>\n",
       "      <th>65833</th>\n",
       "      <td>105750</td>\n",
       "      <td>Right-VentralDC</td>\n",
       "      <td>0</td>\n",
       "      <td>LTD_1</td>\n",
       "      <td>depth</td>\n",
       "      <td>mayo</td>\n",
       "      <td>22</td>\n",
       "      <td>3</td>\n",
       "      <td>x150424</td>\n",
       "      <td>0</td>\n",
       "      <td>powerline</td>\n",
       "    </tr>\n",
       "    <tr>\n",
       "      <th>65834</th>\n",
       "      <td>105751</td>\n",
       "      <td>Right-VentralDC</td>\n",
       "      <td>0</td>\n",
       "      <td>LTD_1</td>\n",
       "      <td>depth</td>\n",
       "      <td>mayo</td>\n",
       "      <td>22</td>\n",
       "      <td>2</td>\n",
       "      <td>x150692</td>\n",
       "      <td>0</td>\n",
       "      <td>powerline</td>\n",
       "    </tr>\n",
       "    <tr>\n",
       "      <th>65835</th>\n",
       "      <td>105752</td>\n",
       "      <td>Right-VentralDC</td>\n",
       "      <td>0</td>\n",
       "      <td>LTD_1</td>\n",
       "      <td>depth</td>\n",
       "      <td>mayo</td>\n",
       "      <td>22</td>\n",
       "      <td>3</td>\n",
       "      <td>x150933</td>\n",
       "      <td>0</td>\n",
       "      <td>powerline</td>\n",
       "    </tr>\n",
       "  </tbody>\n",
       "</table>\n",
       "</div>"
      ],
      "text/plain": [
       "        index          anatomy  category_id channel electrode_type  \\\n",
       "65831  105748  Right-VentralDC            0   LTD_1          depth   \n",
       "65832  105749  Right-VentralDC            0   LTD_1          depth   \n",
       "65833  105750  Right-VentralDC            0   LTD_1          depth   \n",
       "65834  105751  Right-VentralDC            0   LTD_1          depth   \n",
       "65835  105752  Right-VentralDC            0   LTD_1          depth   \n",
       "\n",
       "      institution  patient_id  reviewer_id segment_id  soz category_name  \n",
       "65831        mayo          22            3    x149042    0     powerline  \n",
       "65832        mayo          22            3    x149977    0     powerline  \n",
       "65833        mayo          22            3    x150424    0     powerline  \n",
       "65834        mayo          22            2    x150692    0     powerline  \n",
       "65835        mayo          22            3    x150933    0     powerline  "
      ]
     },
     "execution_count": 13,
     "metadata": {},
     "output_type": "execute_result"
    }
   ],
   "source": [
    "df_train.tail()"
   ]
  },
  {
   "cell_type": "code",
   "execution_count": 18,
   "id": "5aedbda2-b2f8-4f77-88cd-69bace43b2b9",
   "metadata": {},
   "outputs": [
    {
     "data": {
      "text/plain": [
       "(0.6152480817017558,\n",
       " 0.3847519182982442,\n",
       " 0.15854291253652275,\n",
       " 0.22620900576172143)"
      ]
     },
     "execution_count": 18,
     "metadata": {},
     "output_type": "execute_result"
    }
   ],
   "source": [
    "len(df_train)/len(df_curated), len(df_test_val)/len(df_curated), len(df_val)/len(df_curated), len(df_test)/len(df_curated)"
   ]
  },
  {
   "cell_type": "code",
   "execution_count": 19,
   "id": "c02dfe28-7e3b-451f-a990-664dc7c22921",
   "metadata": {},
   "outputs": [
    {
     "name": "stdout",
     "output_type": "stream",
     "text": [
      "subjects from inst fnusa: [ 1  4  6  8  9 10 11 12 13]\n",
      "subjects from inst mayo: [ 0  1  2  5  6  7  8  9 14 16 19 21 23]\n",
      "\n",
      "\n",
      "subjects from inst fnusa: [2 3]\n",
      "subjects from inst mayo: [ 3 17]\n",
      "\n",
      "\n",
      "subjects from inst fnusa: [5 7]\n",
      "subjects from inst mayo: [ 4 18 20]\n",
      "\n",
      "\n"
     ]
    }
   ],
   "source": [
    "# Subjects per dataframe\n",
    "for df in [df_train, df_val, df_test]:\n",
    "    for inst in np.unique(df.institution):\n",
    "        df_inst = df.loc[df.institution==inst]\n",
    "        print(f'subjects from inst {inst}: {np.unique(df_inst.patient_id)}')\n",
    "    print('\\n')"
   ]
  },
  {
   "cell_type": "code",
   "execution_count": 34,
   "id": "169f9382-b375-46c0-939c-5a6936b73a50",
   "metadata": {},
   "outputs": [
    {
     "name": "stdout",
     "output_type": "stream",
     "text": [
      "subjects from inst fnusa: [ 1  4  6  8  9 10 11 12 13]\n",
      "subjects from inst mayo: [ 0  1  2  5  6  7  8  9 14 16 19 21 23]\n",
      "noise \n",
      "Number of subj: 15 \n",
      "Median events per subj 1343.0 \n",
      "Total events proportion 41.207669433225334 \n",
      "Total events: 18569\n",
      "\n",
      "path \n",
      "Number of subj: 14 \n",
      "Median events per subj 1000.0 \n",
      "Total events proportion 30.808663619013803 \n",
      "Total events: 13883\n",
      "\n",
      "phys \n",
      "Number of subj: 14 \n",
      "Median events per subj 1200.0 \n",
      "Total events proportion 27.983666947760863 \n",
      "Total events: 12610\n",
      "\n"
     ]
    }
   ],
   "source": [
    "# Evaluate number of subjects and events per df\n",
    "counter = {\n",
    "    # 'pw':[],\n",
    "    'noise':[],\n",
    "    'path':[],\n",
    "    'phys':[]\n",
    "}\n",
    "df_eval = df_train\n",
    "for inst in np.unique(df_eval.institution):\n",
    "    df_inst = df_eval.loc[df_eval.institution==inst]\n",
    "    print(f'subjects from inst {inst}: {np.unique(df_inst.patient_id)}')\n",
    "    for subj in np.unique(df_inst.patient_id):\n",
    "        df_subj = df_inst.loc[df_inst.patient_id==subj]\n",
    "        for cat_id, cat_name in zip(range(len(categories)), categories):\n",
    "            counter[cat_name].append(len(df_subj.loc[df_subj.category_id==cat_id]))\n",
    "for cat in counter:\n",
    "    array_count = np.array(counter[cat])\n",
    "    print(cat,f'\\nNumber of subj: {len(array_count[array_count!=0])}', f'\\nMedian events per subj {np.median(array_count[array_count!=0])}',f'\\nTotal events proportion {np.sum(array_count)*100/len(df_eval)}', f'\\nTotal events: {np.sum(array_count)}\\n')"
   ]
  },
  {
   "cell_type": "code",
   "execution_count": 50,
   "id": "9a2d1148-ad2a-4f22-bef6-3b3b37162678",
   "metadata": {},
   "outputs": [],
   "source": [
    "# Save dataframe \n",
    "df_curated.to_csv('/scratch/mcesped/Datasets/segments_mayo_fnusa_curated_big_version.csv', sep=\",\", index_label='index')"
   ]
  },
  {
   "cell_type": "code",
   "execution_count": 4,
   "id": "fb50146b-54d9-49c9-b423-ae4595de1673",
   "metadata": {},
   "outputs": [
    {
     "data": {
      "text/html": [
       "<div>\n",
       "<style scoped>\n",
       "    .dataframe tbody tr th:only-of-type {\n",
       "        vertical-align: middle;\n",
       "    }\n",
       "\n",
       "    .dataframe tbody tr th {\n",
       "        vertical-align: top;\n",
       "    }\n",
       "\n",
       "    .dataframe thead th {\n",
       "        text-align: right;\n",
       "    }\n",
       "</style>\n",
       "<table border=\"1\" class=\"dataframe\">\n",
       "  <thead>\n",
       "    <tr style=\"text-align: right;\">\n",
       "      <th></th>\n",
       "      <th>anatomy</th>\n",
       "      <th>category_id</th>\n",
       "      <th>channel</th>\n",
       "      <th>electrode_type</th>\n",
       "      <th>institution</th>\n",
       "      <th>patient_id</th>\n",
       "      <th>reviewer_id</th>\n",
       "      <th>segment_id</th>\n",
       "      <th>soz</th>\n",
       "      <th>category_name</th>\n",
       "    </tr>\n",
       "    <tr>\n",
       "      <th>index</th>\n",
       "      <th></th>\n",
       "      <th></th>\n",
       "      <th></th>\n",
       "      <th></th>\n",
       "      <th></th>\n",
       "      <th></th>\n",
       "      <th></th>\n",
       "      <th></th>\n",
       "      <th></th>\n",
       "      <th></th>\n",
       "    </tr>\n",
       "  </thead>\n",
       "  <tbody>\n",
       "    <tr>\n",
       "      <th>0</th>\n",
       "      <td>precuneus</td>\n",
       "      <td>0</td>\n",
       "      <td>R2</td>\n",
       "      <td>depth</td>\n",
       "      <td>fnusa</td>\n",
       "      <td>0</td>\n",
       "      <td>1</td>\n",
       "      <td>y005184</td>\n",
       "      <td>2</td>\n",
       "      <td>powerline</td>\n",
       "    </tr>\n",
       "    <tr>\n",
       "      <th>1</th>\n",
       "      <td>gyrus cinguli posterior</td>\n",
       "      <td>0</td>\n",
       "      <td>H2</td>\n",
       "      <td>depth</td>\n",
       "      <td>fnusa</td>\n",
       "      <td>0</td>\n",
       "      <td>1</td>\n",
       "      <td>y002503</td>\n",
       "      <td>0</td>\n",
       "      <td>powerline</td>\n",
       "    </tr>\n",
       "    <tr>\n",
       "      <th>2</th>\n",
       "      <td>gyrus lingualis</td>\n",
       "      <td>0</td>\n",
       "      <td>D1</td>\n",
       "      <td>depth</td>\n",
       "      <td>fnusa</td>\n",
       "      <td>0</td>\n",
       "      <td>1</td>\n",
       "      <td>y000296</td>\n",
       "      <td>0</td>\n",
       "      <td>powerline</td>\n",
       "    </tr>\n",
       "    <tr>\n",
       "      <th>3</th>\n",
       "      <td>gyrus cinguli posterior</td>\n",
       "      <td>0</td>\n",
       "      <td>H2</td>\n",
       "      <td>depth</td>\n",
       "      <td>fnusa</td>\n",
       "      <td>0</td>\n",
       "      <td>1</td>\n",
       "      <td>y002209</td>\n",
       "      <td>0</td>\n",
       "      <td>powerline</td>\n",
       "    </tr>\n",
       "    <tr>\n",
       "      <th>4</th>\n",
       "      <td>gyrus cinguli posterior</td>\n",
       "      <td>0</td>\n",
       "      <td>H1</td>\n",
       "      <td>depth</td>\n",
       "      <td>fnusa</td>\n",
       "      <td>0</td>\n",
       "      <td>1</td>\n",
       "      <td>y001017</td>\n",
       "      <td>0</td>\n",
       "      <td>powerline</td>\n",
       "    </tr>\n",
       "  </tbody>\n",
       "</table>\n",
       "</div>"
      ],
      "text/plain": [
       "                       anatomy  category_id channel electrode_type  \\\n",
       "index                                                                \n",
       "0                    precuneus            0      R2          depth   \n",
       "1      gyrus cinguli posterior            0      H2          depth   \n",
       "2              gyrus lingualis            0      D1          depth   \n",
       "3      gyrus cinguli posterior            0      H2          depth   \n",
       "4      gyrus cinguli posterior            0      H1          depth   \n",
       "\n",
       "      institution  patient_id  reviewer_id segment_id  soz category_name  \n",
       "index                                                                     \n",
       "0           fnusa           0            1    y005184    2     powerline  \n",
       "1           fnusa           0            1    y002503    0     powerline  \n",
       "2           fnusa           0            1    y000296    0     powerline  \n",
       "3           fnusa           0            1    y002209    0     powerline  \n",
       "4           fnusa           0            1    y001017    0     powerline  "
      ]
     },
     "execution_count": 4,
     "metadata": {},
     "output_type": "execute_result"
    }
   ],
   "source": [
    "df_curated = pd.read_csv('/scratch/mcesped/Datasets/segments_mayo_fnusa_curated_big_version.csv', sep=\",\",index_col=\"index\")\n",
    "df_curated.head()"
   ]
  },
  {
   "cell_type": "code",
   "execution_count": 21,
   "id": "511fa371-3518-467e-ad6d-314545ced745",
   "metadata": {},
   "outputs": [
    {
     "data": {
      "text/html": [
       "<div>\n",
       "<style scoped>\n",
       "    .dataframe tbody tr th:only-of-type {\n",
       "        vertical-align: middle;\n",
       "    }\n",
       "\n",
       "    .dataframe tbody tr th {\n",
       "        vertical-align: top;\n",
       "    }\n",
       "\n",
       "    .dataframe thead th {\n",
       "        text-align: right;\n",
       "    }\n",
       "</style>\n",
       "<table border=\"1\" class=\"dataframe\">\n",
       "  <thead>\n",
       "    <tr style=\"text-align: right;\">\n",
       "      <th></th>\n",
       "      <th>anatomy</th>\n",
       "      <th>category_id</th>\n",
       "      <th>channel</th>\n",
       "      <th>electrode_type</th>\n",
       "      <th>institution</th>\n",
       "      <th>patient_id</th>\n",
       "      <th>reviewer_id</th>\n",
       "      <th>segment_id</th>\n",
       "      <th>soz</th>\n",
       "      <th>category_name</th>\n",
       "    </tr>\n",
       "    <tr>\n",
       "      <th>index</th>\n",
       "      <th></th>\n",
       "      <th></th>\n",
       "      <th></th>\n",
       "      <th></th>\n",
       "      <th></th>\n",
       "      <th></th>\n",
       "      <th></th>\n",
       "      <th></th>\n",
       "      <th></th>\n",
       "      <th></th>\n",
       "    </tr>\n",
       "  </thead>\n",
       "  <tbody>\n",
       "    <tr>\n",
       "      <th>0</th>\n",
       "      <td>gyrus cinguli posterior</td>\n",
       "      <td>0</td>\n",
       "      <td>H2</td>\n",
       "      <td>depth</td>\n",
       "      <td>fnusa</td>\n",
       "      <td>0</td>\n",
       "      <td>1</td>\n",
       "      <td>y002465</td>\n",
       "      <td>0</td>\n",
       "      <td>powerline</td>\n",
       "    </tr>\n",
       "    <tr>\n",
       "      <th>1</th>\n",
       "      <td>gyrus cinguli posterior</td>\n",
       "      <td>0</td>\n",
       "      <td>H3</td>\n",
       "      <td>depth</td>\n",
       "      <td>fnusa</td>\n",
       "      <td>0</td>\n",
       "      <td>1</td>\n",
       "      <td>y003394</td>\n",
       "      <td>0</td>\n",
       "      <td>powerline</td>\n",
       "    </tr>\n",
       "    <tr>\n",
       "      <th>2</th>\n",
       "      <td>precuneus</td>\n",
       "      <td>0</td>\n",
       "      <td>R1</td>\n",
       "      <td>depth</td>\n",
       "      <td>fnusa</td>\n",
       "      <td>0</td>\n",
       "      <td>1</td>\n",
       "      <td>y004308</td>\n",
       "      <td>2</td>\n",
       "      <td>powerline</td>\n",
       "    </tr>\n",
       "    <tr>\n",
       "      <th>3</th>\n",
       "      <td>precuneus</td>\n",
       "      <td>0</td>\n",
       "      <td>R2</td>\n",
       "      <td>depth</td>\n",
       "      <td>fnusa</td>\n",
       "      <td>0</td>\n",
       "      <td>1</td>\n",
       "      <td>y005918</td>\n",
       "      <td>2</td>\n",
       "      <td>powerline</td>\n",
       "    </tr>\n",
       "    <tr>\n",
       "      <th>4</th>\n",
       "      <td>gyrus cinguli posterior</td>\n",
       "      <td>0</td>\n",
       "      <td>H2</td>\n",
       "      <td>depth</td>\n",
       "      <td>fnusa</td>\n",
       "      <td>0</td>\n",
       "      <td>1</td>\n",
       "      <td>y002884</td>\n",
       "      <td>0</td>\n",
       "      <td>powerline</td>\n",
       "    </tr>\n",
       "  </tbody>\n",
       "</table>\n",
       "</div>"
      ],
      "text/plain": [
       "                       anatomy  category_id channel electrode_type  \\\n",
       "index                                                                \n",
       "0      gyrus cinguli posterior            0      H2          depth   \n",
       "1      gyrus cinguli posterior            0      H3          depth   \n",
       "2                    precuneus            0      R1          depth   \n",
       "3                    precuneus            0      R2          depth   \n",
       "4      gyrus cinguli posterior            0      H2          depth   \n",
       "\n",
       "      institution  patient_id  reviewer_id segment_id  soz category_name  \n",
       "index                                                                     \n",
       "0           fnusa           0            1    y002465    0     powerline  \n",
       "1           fnusa           0            1    y003394    0     powerline  \n",
       "2           fnusa           0            1    y004308    2     powerline  \n",
       "3           fnusa           0            1    y005918    2     powerline  \n",
       "4           fnusa           0            1    y002884    0     powerline  "
      ]
     },
     "execution_count": 21,
     "metadata": {},
     "output_type": "execute_result"
    }
   ],
   "source": [
    "df_shorter = pd.read_csv('/scratch/mcesped/Datasets/segments_mayo_fnusa_curated_short_version.csv', sep=\",\",index_col=\"index\")\n",
    "df_shorter.head()"
   ]
  },
  {
   "cell_type": "code",
   "execution_count": 5,
   "id": "71b1e7ed-a0f2-40e0-8ef1-b84b8d2afb58",
   "metadata": {},
   "outputs": [
    {
     "ename": "NameError",
     "evalue": "name 'df' is not defined",
     "output_type": "error",
     "traceback": [
      "\u001b[0;31m---------------------------------------------------------------------------\u001b[0m",
      "\u001b[0;31mNameError\u001b[0m                                 Traceback (most recent call last)",
      "Cell \u001b[0;32mIn[5], line 1\u001b[0m\n\u001b[0;32m----> 1\u001b[0m \u001b[43mdf\u001b[49m\u001b[38;5;241m.\u001b[39mtail()\n",
      "\u001b[0;31mNameError\u001b[0m: name 'df' is not defined"
     ]
    }
   ],
   "source": [
    "df.tail()"
   ]
  },
  {
   "cell_type": "code",
   "execution_count": 6,
   "id": "aa5414f1-1cbd-4119-9743-d5b751108d60",
   "metadata": {},
   "outputs": [
    {
     "ename": "NameError",
     "evalue": "name 'df_total' is not defined",
     "output_type": "error",
     "traceback": [
      "\u001b[0;31m---------------------------------------------------------------------------\u001b[0m",
      "\u001b[0;31mNameError\u001b[0m                                 Traceback (most recent call last)",
      "Cell \u001b[0;32mIn[6], line 9\u001b[0m\n\u001b[1;32m      1\u001b[0m \u001b[38;5;66;03m# Even shorter df from big df\u001b[39;00m\n\u001b[1;32m      2\u001b[0m \u001b[38;5;66;03m# Based on this, I'll get per class a max of 11*1000=11000 images so this means per cat per subj\u001b[39;00m\n\u001b[1;32m      3\u001b[0m counter \u001b[38;5;241m=\u001b[39m {\n\u001b[1;32m      4\u001b[0m     \u001b[38;5;124m'\u001b[39m\u001b[38;5;124mpw\u001b[39m\u001b[38;5;124m'\u001b[39m:[],\n\u001b[1;32m      5\u001b[0m     \u001b[38;5;124m'\u001b[39m\u001b[38;5;124mnoise\u001b[39m\u001b[38;5;124m'\u001b[39m:[],\n\u001b[1;32m      6\u001b[0m     \u001b[38;5;124m'\u001b[39m\u001b[38;5;124mpath\u001b[39m\u001b[38;5;124m'\u001b[39m:[],\n\u001b[1;32m      7\u001b[0m     \u001b[38;5;124m'\u001b[39m\u001b[38;5;124mphys\u001b[39m\u001b[38;5;124m'\u001b[39m:[]\n\u001b[1;32m      8\u001b[0m }\n\u001b[0;32m----> 9\u001b[0m \u001b[38;5;28;01mfor\u001b[39;00m inst \u001b[38;5;129;01min\u001b[39;00m np\u001b[38;5;241m.\u001b[39munique(\u001b[43mdf_total\u001b[49m\u001b[38;5;241m.\u001b[39minstitution):\n\u001b[1;32m     10\u001b[0m     df_inst \u001b[38;5;241m=\u001b[39m df_total\u001b[38;5;241m.\u001b[39mloc[df_total\u001b[38;5;241m.\u001b[39minstitution\u001b[38;5;241m==\u001b[39minst]\n\u001b[1;32m     11\u001b[0m     \u001b[38;5;28mprint\u001b[39m(\u001b[38;5;124mf\u001b[39m\u001b[38;5;124m'\u001b[39m\u001b[38;5;124msubjects from inst \u001b[39m\u001b[38;5;132;01m{\u001b[39;00minst\u001b[38;5;132;01m}\u001b[39;00m\u001b[38;5;124m'\u001b[39m)\n",
      "\u001b[0;31mNameError\u001b[0m: name 'df_total' is not defined"
     ]
    }
   ],
   "source": [
    "# Even shorter df from big df\n",
    "# Based on this, I'll get per class a max of 11*1000=11000 images so this means per cat per subj\n",
    "counter = {\n",
    "    'pw':[],\n",
    "    'noise':[],\n",
    "    'path':[],\n",
    "    'phys':[]\n",
    "}\n",
    "for inst in np.unique(df_total.institution):\n",
    "    df_inst = df_total.loc[df_total.institution==inst]\n",
    "    print(f'subjects from inst {inst}')\n",
    "    for subj in np.unique(df_inst.patient_id):\n",
    "        df_subj = df_inst.loc[df_inst.patient_id==subj]\n",
    "        for cat_id, cat_name in [(0,'pw'), (1, 'noise'), (2, 'path'), (3,'phys')]:\n",
    "            counter[cat_name].append(len(df_subj.loc[df_subj.category_id==cat_id]))\n",
    "\n",
    "max_img_subj_cat = dict()\n",
    "for cat in counter:\n",
    "    array_count = np.array(counter[cat])\n",
    "    max_img_subj_cat[cat] = int(11000/len(array_count[array_count!=0]))\n",
    "print(max_img_subj_cat)"
   ]
  },
  {
   "cell_type": "code",
   "execution_count": 7,
   "id": "69b8ec56-70d1-477a-ab1f-e45048576428",
   "metadata": {},
   "outputs": [],
   "source": [
    "# Manually picked choice\n",
    "max_img_subj_cat = {\n",
    "    'pw': 500, # Less the pw as it is easily identifiable\n",
    "    'noise': 1000, # Pay more the noise\n",
    "    'path': 1000, # Less path at it is not so hard to identify\n",
    "    'phys': 1000\n",
    "}\n",
    "\n",
    "# The automatic was\n",
    "# max_img_subj_cat = {'pw': 1000, 'noise': 458, 'path': 611, 'phys': 500}\n"
   ]
  },
  {
   "cell_type": "code",
   "execution_count": 8,
   "id": "44ca1138-5b47-44c0-8965-921045df9656",
   "metadata": {},
   "outputs": [
    {
     "name": "stdout",
     "output_type": "stream",
     "text": [
      "subjects from inst fnusa\n",
      "subjects from inst mayo\n"
     ]
    }
   ],
   "source": [
    "df_shorter = []\n",
    "for inst in np.unique(df_curated.institution):\n",
    "    df_inst = df_curated.loc[df_curated.institution==inst]\n",
    "    print(f'subjects from inst {inst}')\n",
    "    for subj in np.unique(df_inst.patient_id):\n",
    "        df_subj = df_inst.loc[df_inst.patient_id==subj]\n",
    "        for cat_id, cat_name in [(0,'pw'), (1, 'noise'), (2, 'path'), (3,'phys')]:\n",
    "            df_cat = df_subj.loc[df_subj.category_id==cat_id]\n",
    "            if len(df_shorter)<1:\n",
    "                df_shorter = df_cat.sample(min(len(df_cat),max_img_subj_cat[cat_name]))\n",
    "            else:\n",
    "                df_shorter = pd.concat([df_shorter, df_cat.sample(min(len(df_cat),max_img_subj_cat[cat_name]))])\n",
    "df_shorter = df_shorter.reset_index(drop=True)"
   ]
  },
  {
   "cell_type": "code",
   "execution_count": 9,
   "id": "10889bb6-1a25-49df-be66-76ec51c5d81d",
   "metadata": {},
   "outputs": [
    {
     "data": {
      "text/html": [
       "<div>\n",
       "<style scoped>\n",
       "    .dataframe tbody tr th:only-of-type {\n",
       "        vertical-align: middle;\n",
       "    }\n",
       "\n",
       "    .dataframe tbody tr th {\n",
       "        vertical-align: top;\n",
       "    }\n",
       "\n",
       "    .dataframe thead th {\n",
       "        text-align: right;\n",
       "    }\n",
       "</style>\n",
       "<table border=\"1\" class=\"dataframe\">\n",
       "  <thead>\n",
       "    <tr style=\"text-align: right;\">\n",
       "      <th></th>\n",
       "      <th>anatomy</th>\n",
       "      <th>category_id</th>\n",
       "      <th>channel</th>\n",
       "      <th>electrode_type</th>\n",
       "      <th>institution</th>\n",
       "      <th>patient_id</th>\n",
       "      <th>reviewer_id</th>\n",
       "      <th>segment_id</th>\n",
       "      <th>soz</th>\n",
       "      <th>category_name</th>\n",
       "    </tr>\n",
       "  </thead>\n",
       "  <tbody>\n",
       "    <tr>\n",
       "      <th>59607</th>\n",
       "      <td>NaN</td>\n",
       "      <td>3</td>\n",
       "      <td>LAD_1</td>\n",
       "      <td>depth</td>\n",
       "      <td>mayo</td>\n",
       "      <td>23</td>\n",
       "      <td>1</td>\n",
       "      <td>x151201</td>\n",
       "      <td>0</td>\n",
       "      <td>physiology</td>\n",
       "    </tr>\n",
       "    <tr>\n",
       "      <th>59608</th>\n",
       "      <td>NaN</td>\n",
       "      <td>3</td>\n",
       "      <td>LAD_3</td>\n",
       "      <td>depth</td>\n",
       "      <td>mayo</td>\n",
       "      <td>23</td>\n",
       "      <td>1</td>\n",
       "      <td>x151989</td>\n",
       "      <td>0</td>\n",
       "      <td>physiology</td>\n",
       "    </tr>\n",
       "    <tr>\n",
       "      <th>59609</th>\n",
       "      <td>NaN</td>\n",
       "      <td>3</td>\n",
       "      <td>LAD_3</td>\n",
       "      <td>depth</td>\n",
       "      <td>mayo</td>\n",
       "      <td>23</td>\n",
       "      <td>1</td>\n",
       "      <td>x151851</td>\n",
       "      <td>0</td>\n",
       "      <td>physiology</td>\n",
       "    </tr>\n",
       "    <tr>\n",
       "      <th>59610</th>\n",
       "      <td>NaN</td>\n",
       "      <td>3</td>\n",
       "      <td>LAD_1</td>\n",
       "      <td>depth</td>\n",
       "      <td>mayo</td>\n",
       "      <td>23</td>\n",
       "      <td>1</td>\n",
       "      <td>x151067</td>\n",
       "      <td>0</td>\n",
       "      <td>physiology</td>\n",
       "    </tr>\n",
       "    <tr>\n",
       "      <th>59611</th>\n",
       "      <td>NaN</td>\n",
       "      <td>3</td>\n",
       "      <td>LAD_3</td>\n",
       "      <td>depth</td>\n",
       "      <td>mayo</td>\n",
       "      <td>23</td>\n",
       "      <td>1</td>\n",
       "      <td>x151990</td>\n",
       "      <td>0</td>\n",
       "      <td>physiology</td>\n",
       "    </tr>\n",
       "  </tbody>\n",
       "</table>\n",
       "</div>"
      ],
      "text/plain": [
       "      anatomy  category_id channel electrode_type institution  patient_id  \\\n",
       "59607     NaN            3   LAD_1          depth        mayo          23   \n",
       "59608     NaN            3   LAD_3          depth        mayo          23   \n",
       "59609     NaN            3   LAD_3          depth        mayo          23   \n",
       "59610     NaN            3   LAD_1          depth        mayo          23   \n",
       "59611     NaN            3   LAD_3          depth        mayo          23   \n",
       "\n",
       "       reviewer_id segment_id  soz category_name  \n",
       "59607            1    x151201    0    physiology  \n",
       "59608            1    x151989    0    physiology  \n",
       "59609            1    x151851    0    physiology  \n",
       "59610            1    x151067    0    physiology  \n",
       "59611            1    x151990    0    physiology  "
      ]
     },
     "execution_count": 9,
     "metadata": {},
     "output_type": "execute_result"
    }
   ],
   "source": [
    "df_shorter.tail()"
   ]
  },
  {
   "cell_type": "code",
   "execution_count": 25,
   "id": "b9fe23c6-90fc-4df7-a749-76df34de48a8",
   "metadata": {},
   "outputs": [],
   "source": [
    "df_train, df_test_val = custom_dataset.train_val_split_multiclass(\n",
    "        df_shorter, val_split=0.4, margin_allowance=0.02, class_col=\"institution\"\n",
    "    )\n",
    "df_test, df_val = custom_dataset.train_val_split_multiclass(\n",
    "        df_test_val, val_split=0.5, margin_allowance=0.02, class_col=\"institution\"\n",
    "    )"
   ]
  },
  {
   "cell_type": "code",
   "execution_count": 11,
   "id": "4130f589-b6c9-4800-880b-2552c79cad30",
   "metadata": {},
   "outputs": [
    {
     "data": {
      "text/plain": [
       "(0.6093571764074347,\n",
       " 0.39064282359256525,\n",
       " 0.15585788096356437,\n",
       " 0.23478494262900088)"
      ]
     },
     "execution_count": 11,
     "metadata": {},
     "output_type": "execute_result"
    }
   ],
   "source": [
    "len(df_train)/len(df_shorter), len(df_test_val)/len(df_shorter), len(df_val)/len(df_shorter), len(df_test)/len(df_shorter)"
   ]
  },
  {
   "cell_type": "code",
   "execution_count": 27,
   "id": "e8b0badb-3b85-4aba-809d-a642df5cb90d",
   "metadata": {},
   "outputs": [
    {
     "name": "stdout",
     "output_type": "stream",
     "text": [
      "subjects from inst fnusa\n",
      "subjects from inst mayo\n",
      "pw \n",
      "Number of subj: 6 \n",
      "Median events per subj 1000.0 \n",
      "Total events proportion 23.73849957443359 \n",
      "Total events: 5857\n",
      "\n",
      "noise \n",
      "Number of subj: 16 \n",
      "Median events per subj 458.0 \n",
      "Total events proportion 23.365622340209946 \n",
      "Total events: 5765\n",
      "\n",
      "path \n",
      "Number of subj: 11 \n",
      "Median events per subj 611.0 \n",
      "Total events proportion 27.24030316540348 \n",
      "Total events: 6721\n",
      "\n",
      "phys \n",
      "Number of subj: 13 \n",
      "Median events per subj 500.0 \n",
      "Total events proportion 25.655574919952986 \n",
      "Total events: 6330\n",
      "\n"
     ]
    }
   ],
   "source": [
    "counter = {\n",
    "    'pw':[],\n",
    "    'noise':[],\n",
    "    'path':[],\n",
    "    'phys':[]\n",
    "}\n",
    "df_evaluated = df_train\n",
    "for inst in np.unique(df_evaluated.institution):\n",
    "    df_inst = df_evaluated.loc[df_evaluated.institution==inst]\n",
    "    print(f'subjects from inst {inst}')\n",
    "    for subj in np.unique(df_inst.patient_id):\n",
    "        df_subj = df_inst.loc[df_inst.patient_id==subj]\n",
    "        for cat_id, cat_name in [(0,'pw'), (1, 'noise'), (2, 'path'), (3,'phys')]:\n",
    "            counter[cat_name].append(len(df_subj.loc[df_subj.category_id==cat_id]))\n",
    "\n",
    "for cat in counter:\n",
    "    array_count = np.array(counter[cat])\n",
    "    print(cat,f'\\nNumber of subj: {len(array_count[array_count!=0])}', f'\\nMedian events per subj {np.median(array_count[array_count!=0])}',f'\\nTotal events proportion {np.sum(array_count)*100/len(df_evaluated)}', f'\\nTotal events: {np.sum(array_count)}\\n')"
   ]
  },
  {
   "cell_type": "code",
   "execution_count": 12,
   "id": "0393d7ae-d55c-4128-ab06-163adea2b2b2",
   "metadata": {},
   "outputs": [
    {
     "name": "stdout",
     "output_type": "stream",
     "text": [
      "subjects from inst fnusa\n",
      "subjects from inst mayo\n",
      "pw Number of subj: 7 Total events proportion 9.274604267033723\n",
      "noise Number of subj: 14 Total events proportion 26.722642807983483\n",
      "path Number of subj: 13 Total events proportion 35.46593255333792\n",
      "phys Number of subj: 13 Total events proportion 28.536820371644872\n"
     ]
    }
   ],
   "source": [
    "# Evaluate number of subjects and events per df\n",
    "counter = {\n",
    "    'pw':[],\n",
    "    'noise':[],\n",
    "    'path':[],\n",
    "    'phys':[]\n",
    "}\n",
    "df_eval = df_train\n",
    "for inst in np.unique(df_eval.institution):\n",
    "    df_inst = df_eval.loc[df_eval.institution==inst]\n",
    "    print(f'subjects from inst {inst}')\n",
    "    for subj in np.unique(df_inst.patient_id):\n",
    "        df_subj = df_inst.loc[df_inst.patient_id==subj]\n",
    "        for cat_id, cat_name in [(0,'pw'), (1, 'noise'), (2, 'path'), (3,'phys')]:\n",
    "            counter[cat_name].append(len(df_subj.loc[df_subj.category_id==cat_id]))\n",
    "for cat in counter:\n",
    "    array_count = np.array(counter[cat])\n",
    "    print(cat,f'Number of subj: {len(array_count[array_count!=0])}',f'Total events proportion {np.sum(array_count)*100/len(df_eval)}')"
   ]
  },
  {
   "cell_type": "code",
   "execution_count": 28,
   "id": "029f8b9f-fbc5-4993-8d22-fb6926116784",
   "metadata": {},
   "outputs": [
    {
     "name": "stdout",
     "output_type": "stream",
     "text": [
      "{'pw': [1000, 0, 0, 0, 0, 0, 0, 0, 0, 0, 0, 0, 0, 0, 0, 0, 0, 857, 1000, 1000, 1000, 0, 0, 0, 0, 0, 1000], 'noise': [0, 0, 12, 0, 18, 0, 458, 458, 458, 181, 458, 458, 458, 458, 0, 0, 458, 0, 0, 0, 0, 458, 458, 458, 458, 58, 0], 'path': [0, 611, 611, 611, 611, 611, 611, 611, 611, 611, 0, 0, 0, 0, 0, 611, 0, 0, 0, 0, 0, 0, 0, 0, 0, 611, 0], 'phys': [0, 0, 0, 500, 500, 0, 500, 500, 500, 500, 330, 500, 500, 0, 500, 0, 0, 0, 0, 0, 0, 500, 500, 0, 500, 0, 0]}\n"
     ]
    }
   ],
   "source": [
    "print(counter)"
   ]
  },
  {
   "cell_type": "code",
   "execution_count": 82,
   "id": "c1204bad-4e54-41a9-a08a-f10b47a26e36",
   "metadata": {},
   "outputs": [],
   "source": [
    "# Save dataframe \n",
    "df_shorter.to_csv('/scratch/mcesped/Datasets/segments_mayo_fnusa_curated_short_version.csv', sep=\",\", index_label='index')"
   ]
  },
  {
   "cell_type": "markdown",
   "id": "a50b1dbf-d2a3-468b-a416-48130ce2ae50",
   "metadata": {},
   "source": [
    "## Manually picked datasets Noise Detection"
   ]
  },
  {
   "cell_type": "code",
   "execution_count": 3,
   "id": "e7a423a4-b199-431c-8019-4a4df6f8dc83",
   "metadata": {},
   "outputs": [
    {
     "data": {
      "text/html": [
       "<div>\n",
       "<style scoped>\n",
       "    .dataframe tbody tr th:only-of-type {\n",
       "        vertical-align: middle;\n",
       "    }\n",
       "\n",
       "    .dataframe tbody tr th {\n",
       "        vertical-align: top;\n",
       "    }\n",
       "\n",
       "    .dataframe thead th {\n",
       "        text-align: right;\n",
       "    }\n",
       "</style>\n",
       "<table border=\"1\" class=\"dataframe\">\n",
       "  <thead>\n",
       "    <tr style=\"text-align: right;\">\n",
       "      <th></th>\n",
       "      <th>anatomy</th>\n",
       "      <th>category_id</th>\n",
       "      <th>channel</th>\n",
       "      <th>electrode_type</th>\n",
       "      <th>institution</th>\n",
       "      <th>patient_id</th>\n",
       "      <th>reviewer_id</th>\n",
       "      <th>segment_id</th>\n",
       "      <th>soz</th>\n",
       "      <th>category_name</th>\n",
       "    </tr>\n",
       "    <tr>\n",
       "      <th>index</th>\n",
       "      <th></th>\n",
       "      <th></th>\n",
       "      <th></th>\n",
       "      <th></th>\n",
       "      <th></th>\n",
       "      <th></th>\n",
       "      <th></th>\n",
       "      <th></th>\n",
       "      <th></th>\n",
       "      <th></th>\n",
       "    </tr>\n",
       "  </thead>\n",
       "  <tbody>\n",
       "    <tr>\n",
       "      <th>0</th>\n",
       "      <td>NaN</td>\n",
       "      <td>0</td>\n",
       "      <td>LMacro_01</td>\n",
       "      <td>depth</td>\n",
       "      <td>mayo</td>\n",
       "      <td>0</td>\n",
       "      <td>3</td>\n",
       "      <td>x000000</td>\n",
       "      <td>1</td>\n",
       "      <td>noise</td>\n",
       "    </tr>\n",
       "    <tr>\n",
       "      <th>1</th>\n",
       "      <td>NaN</td>\n",
       "      <td>0</td>\n",
       "      <td>LMacro_01</td>\n",
       "      <td>depth</td>\n",
       "      <td>mayo</td>\n",
       "      <td>0</td>\n",
       "      <td>1</td>\n",
       "      <td>x000001</td>\n",
       "      <td>1</td>\n",
       "      <td>noise</td>\n",
       "    </tr>\n",
       "    <tr>\n",
       "      <th>2</th>\n",
       "      <td>NaN</td>\n",
       "      <td>0</td>\n",
       "      <td>LMacro_01</td>\n",
       "      <td>depth</td>\n",
       "      <td>mayo</td>\n",
       "      <td>0</td>\n",
       "      <td>3</td>\n",
       "      <td>x000002</td>\n",
       "      <td>1</td>\n",
       "      <td>noise</td>\n",
       "    </tr>\n",
       "    <tr>\n",
       "      <th>3</th>\n",
       "      <td>NaN</td>\n",
       "      <td>0</td>\n",
       "      <td>LMacro_01</td>\n",
       "      <td>depth</td>\n",
       "      <td>mayo</td>\n",
       "      <td>0</td>\n",
       "      <td>3</td>\n",
       "      <td>x000003</td>\n",
       "      <td>1</td>\n",
       "      <td>noise</td>\n",
       "    </tr>\n",
       "    <tr>\n",
       "      <th>4</th>\n",
       "      <td>NaN</td>\n",
       "      <td>0</td>\n",
       "      <td>LMacro_01</td>\n",
       "      <td>depth</td>\n",
       "      <td>mayo</td>\n",
       "      <td>0</td>\n",
       "      <td>1</td>\n",
       "      <td>x000004</td>\n",
       "      <td>1</td>\n",
       "      <td>noise</td>\n",
       "    </tr>\n",
       "  </tbody>\n",
       "</table>\n",
       "</div>"
      ],
      "text/plain": [
       "      anatomy  category_id    channel electrode_type institution  patient_id  \\\n",
       "index                                                                          \n",
       "0         NaN            0  LMacro_01          depth        mayo           0   \n",
       "1         NaN            0  LMacro_01          depth        mayo           0   \n",
       "2         NaN            0  LMacro_01          depth        mayo           0   \n",
       "3         NaN            0  LMacro_01          depth        mayo           0   \n",
       "4         NaN            0  LMacro_01          depth        mayo           0   \n",
       "\n",
       "       reviewer_id segment_id  soz category_name  \n",
       "index                                             \n",
       "0                3    x000000    1         noise  \n",
       "1                1    x000001    1         noise  \n",
       "2                3    x000002    1         noise  \n",
       "3                3    x000003    1         noise  \n",
       "4                1    x000004    1         noise  "
      ]
     },
     "execution_count": 3,
     "metadata": {},
     "output_type": "execute_result"
    }
   ],
   "source": [
    "# Load two dataframes\n",
    "import pandas as pd\n",
    "df_mayo = pd.read_csv('/scratch/mcesped/Datasets/segments_mayo.csv', sep=\",\", index_col=\"index\")\n",
    "df_fnusa = pd.read_csv('/scratch/mcesped/Datasets/segments_fnusa.csv', sep=\",\", index_col=\"index\")\n",
    "df_total = pd.concat([df_mayo, df_fnusa])\n",
    "df_total = df_total.loc[df_total.category_id != 0]\n",
    "df_total.loc[:,'category_id'] = df_total.category_id - 1\n",
    "df_total.head()"
   ]
  },
  {
   "cell_type": "code",
   "execution_count": 4,
   "id": "2853769f-08a4-4359-b6f4-f420b8473a27",
   "metadata": {},
   "outputs": [],
   "source": [
    "# Split subjects between train,val,test using subjects distribution from longer curated dataset (see above)\n",
    "data_dist = {\n",
    "    'fnusa': {\n",
    "        'train': [ 1,  4,  6,  8,  9, 10, 11, 12, 13],\n",
    "        'val': [2, 3],\n",
    "        'test': [5,7]\n",
    "    },\n",
    "    'mayo': {\n",
    "        'train': [ 0,  1,  2,  5,  6,  7,  8,  9, 14, 16, 19, 21, 23],\n",
    "        'val': [ 4, 18, 20],\n",
    "        'test': [3, 17] # changed val and test (respect to the automatic for more balance)\n",
    "\n",
    "    }\n",
    "}"
   ]
  },
  {
   "cell_type": "code",
   "execution_count": 5,
   "id": "735f9537-f4a4-44ea-b914-162bf4c4f7d2",
   "metadata": {},
   "outputs": [],
   "source": [
    "categories = ['noise', 'path', 'phys']"
   ]
  },
  {
   "cell_type": "code",
   "execution_count": 6,
   "id": "d99edc61-759c-40bf-bca8-d4cbabe03a20",
   "metadata": {},
   "outputs": [],
   "source": [
    "# Create initial datasets\n",
    "dfs = {\n",
    "    'train': pd.DataFrame(columns=df_total.columns),\n",
    "    'val': pd.DataFrame(columns=df_total.columns),\n",
    "    'test': pd.DataFrame(columns=df_total.columns),\n",
    "}\n",
    "\n",
    "\n",
    "for inst in data_dist:\n",
    "    df_inst = df_total.loc[df_total.institution == inst]\n",
    "    for type_df in dfs:\n",
    "        df_tmp = df_inst.loc[df_inst.patient_id.isin(data_dist[inst][type_df]).astype(bool)]\n",
    "        # Concatenate to df\n",
    "        dfs[type_df] = pd.concat([dfs[type_df], df_tmp])"
   ]
  },
  {
   "cell_type": "markdown",
   "id": "53460069-fe03-4738-80dd-9e516c69d54a",
   "metadata": {},
   "source": [
    "### Manually adjust train set"
   ]
  },
  {
   "cell_type": "markdown",
   "id": "907b9fe8-96b7-4bfb-8499-4c81d505970c",
   "metadata": {},
   "source": [
    "I have seen that the performance of the model is generally better when using very few samples per subject for the training."
   ]
  },
  {
   "cell_type": "code",
   "execution_count": 13,
   "id": "cc4a3ab9-b1a0-4bad-bab3-7a35756b79d3",
   "metadata": {},
   "outputs": [
    {
     "name": "stdout",
     "output_type": "stream",
     "text": [
      "subjects from inst fnusa\n",
      "subjects from inst mayo\n",
      "{'noise': [0, 8463, 0, 18, 0, 5876, 3339, 1343, 181, 2318, 0, 466, 1002, 12873, 0, 0, 740, 0, 3699, 5613, 58, 761], 'path': [1912, 0, 1554, 1896, 6750, 4260, 4072, 7710, 5318, 0, 883, 1923, 0, 0, 0, 2816, 0, 3426, 0, 0, 3432, 2747], 'phys': [0, 0, 962, 20860, 0, 1545, 2890, 38217, 14136, 330, 8653, 399, 6583, 0, 25951, 0, 0, 498, 177, 0, 0, 644]}\n"
     ]
    }
   ],
   "source": [
    "# Eval\n",
    "counter = {\n",
    "    # 'pw':[],\n",
    "    'noise':[],\n",
    "    'path':[],\n",
    "    'phys':[]\n",
    "}\n",
    "df_evaluated = dfs['train']\n",
    "for inst in np.unique(df_evaluated.institution):\n",
    "    df_inst = df_evaluated.loc[df_evaluated.institution==inst]\n",
    "    print(f'subjects from inst {inst}')\n",
    "    for subj in np.unique(df_inst.patient_id):\n",
    "        df_subj = df_inst.loc[df_inst.patient_id==subj]\n",
    "        for cat_id, cat_name in [(0, 'noise'), (1, 'path'), (2,'phys')]:\n",
    "            counter[cat_name].append(len(df_subj.loc[df_subj.category_id==cat_id]))\n",
    "print(counter)"
   ]
  },
  {
   "cell_type": "code",
   "execution_count": 14,
   "id": "7e7faa59-c355-4ec5-a795-e167c8f3df1c",
   "metadata": {},
   "outputs": [
    {
     "name": "stdout",
     "output_type": "stream",
     "text": [
      "noise \n",
      "Number of subj: 15 \n",
      "Median events per subj 1343.0 \n",
      "Total events proportion 21.514629948364888 \n",
      "Total events: 46750\n",
      "\n",
      "path \n",
      "Number of subj: 14 \n",
      "Median events per subj 3121.0 \n",
      "Total events proportion 22.41157141936731 \n",
      "Total events: 48699\n",
      "\n",
      "phys \n",
      "Number of subj: 14 \n",
      "Median events per subj 2217.5 \n",
      "Total events proportion 56.0737986322678 \n",
      "Total events: 121845\n",
      "\n"
     ]
    }
   ],
   "source": [
    "for cat in counter:\n",
    "    array_count = np.array(counter[cat])\n",
    "    print(cat,f'\\nNumber of subj: {len(array_count[array_count!=0])}', f'\\nMedian events per subj {np.median(array_count[array_count!=0])}',f'\\nTotal events proportion {np.sum(array_count)*100/len(df_evaluated)}', f'\\nTotal events: {np.sum(array_count)}\\n')"
   ]
  },
  {
   "cell_type": "code",
   "execution_count": 15,
   "id": "30cf321c-f343-49f1-9aaf-464eca8b7c7f",
   "metadata": {},
   "outputs": [],
   "source": [
    "# Manually picked choice. A bit based in the whole dataset dist\n",
    "max_img_subj_cat = {\n",
    "    # 'pw': 500, # Less the pw as it is easily identifiable\n",
    "    'noise': 2000, # Pay more the noise\n",
    "    'path': 700, # Less path at it is not so hard to identify\n",
    "    'phys': 1400\n",
    "}"
   ]
  },
  {
   "cell_type": "code",
   "execution_count": 16,
   "id": "bed9e2d2-0895-46e9-9fbd-cc52deb7c18f",
   "metadata": {},
   "outputs": [
    {
     "name": "stdout",
     "output_type": "stream",
     "text": [
      "subjects from inst fnusa\n",
      "subjects from inst mayo\n"
     ]
    }
   ],
   "source": [
    "df_curated = []\n",
    "for inst in np.unique(df_evaluated.institution):\n",
    "    df_inst = df_evaluated.loc[df_evaluated.institution==inst]\n",
    "    print(f'subjects from inst {inst}')\n",
    "    for subj in np.unique(df_inst.patient_id):\n",
    "        df_subj = df_inst.loc[df_inst.patient_id==subj]\n",
    "        for cat_id, cat_name in [(0, 'noise'), (1, 'path'), (2,'phys')]:\n",
    "            df_cat = df_subj.loc[df_subj.category_id==cat_id]\n",
    "            if len(df_curated)<1:\n",
    "                df_curated = df_cat.sample(min(len(df_cat),max_img_subj_cat[cat_name]))\n",
    "            else:\n",
    "                df_curated = pd.concat([df_curated, df_cat.sample(min(len(df_cat),max_img_subj_cat[cat_name]))])\n",
    "df_curated = df_curated.reset_index(drop=True)"
   ]
  },
  {
   "cell_type": "code",
   "execution_count": 17,
   "id": "e940847d-e585-4353-8fce-0457302ed139",
   "metadata": {},
   "outputs": [
    {
     "name": "stdout",
     "output_type": "stream",
     "text": [
      "subjects from inst fnusa\n",
      "subjects from inst mayo\n",
      "noise \n",
      "Number of subj: 15 \n",
      "Median events per subj 1343.0 \n",
      "Total events proportion 43.61070011038305 \n",
      "Total events: 18569\n",
      "\n",
      "path \n",
      "Number of subj: 14 \n",
      "Median events per subj 700.0 \n",
      "Total events proportion 23.016040771272223 \n",
      "Total events: 9800\n",
      "\n",
      "phys \n",
      "Number of subj: 14 \n",
      "Median events per subj 1400.0 \n",
      "Total events proportion 33.37325911834473 \n",
      "Total events: 14210\n",
      "\n"
     ]
    }
   ],
   "source": [
    "counter = {\n",
    "    'noise':[],\n",
    "    'path':[],\n",
    "    'phys':[]\n",
    "}\n",
    "df_evaluated = df_curated\n",
    "for inst in np.unique(df_evaluated.institution):\n",
    "    df_inst = df_evaluated.loc[df_evaluated.institution==inst]\n",
    "    print(f'subjects from inst {inst}')\n",
    "    for subj in np.unique(df_inst.patient_id):\n",
    "        df_subj = df_inst.loc[df_inst.patient_id==subj]\n",
    "        for cat_id, cat_name in [(0, 'noise'), (1, 'path'), (2,'phys')]:\n",
    "            counter[cat_name].append(len(df_subj.loc[df_subj.category_id==cat_id]))\n",
    "\n",
    "for cat in counter:\n",
    "    array_count = np.array(counter[cat])\n",
    "    print(cat,f'\\nNumber of subj: {len(array_count[array_count!=0])}', f'\\nMedian events per subj {np.median(array_count[array_count!=0])}',f'\\nTotal events proportion {np.sum(array_count)*100/len(df_evaluated)}', f'\\nTotal events: {np.sum(array_count)}\\n')"
   ]
  },
  {
   "cell_type": "code",
   "execution_count": 18,
   "id": "cc244c93-1f04-4bb9-9de0-532ac9924605",
   "metadata": {},
   "outputs": [
    {
     "data": {
      "text/plain": [
       "42579"
      ]
     },
     "execution_count": 18,
     "metadata": {},
     "output_type": "execute_result"
    }
   ],
   "source": [
    "df_curated_train = df_curated\n",
    "len(df_curated_train)"
   ]
  },
  {
   "cell_type": "markdown",
   "id": "039ec00c-3091-4f86-8c5a-b7e0239a5c6b",
   "metadata": {},
   "source": [
    "### Manually adjust val set"
   ]
  },
  {
   "cell_type": "markdown",
   "id": "dd241356-c4b0-486a-97af-b1c528ebe883",
   "metadata": {},
   "source": [
    "For the validation, I'll just balance classes. Not cutting off as in training"
   ]
  },
  {
   "cell_type": "code",
   "execution_count": 23,
   "id": "b58355a6-2c27-4f44-b58f-92beea66c111",
   "metadata": {},
   "outputs": [
    {
     "name": "stdout",
     "output_type": "stream",
     "text": [
      "subjects from inst fnusa\n",
      "subjects from inst mayo\n",
      "{'noise': [2892, 12, 2063, 1700, 1278], 'path': [1657, 8076, 0, 0, 0], 'phys': [7809, 0, 790, 3126, 1424]}\n"
     ]
    }
   ],
   "source": [
    "# Eval\n",
    "counter = {\n",
    "    'noise':[],\n",
    "    'path':[],\n",
    "    'phys':[]\n",
    "}\n",
    "df_evaluated = dfs['val']\n",
    "for inst in np.unique(df_evaluated.institution):\n",
    "    df_inst = df_evaluated.loc[df_evaluated.institution==inst]\n",
    "    print(f'subjects from inst {inst}')\n",
    "    for subj in np.unique(df_inst.patient_id):\n",
    "        df_subj = df_inst.loc[df_inst.patient_id==subj]\n",
    "        for cat_id, cat_name in [(0, 'noise'), (1, 'path'), (2,'phys')]:\n",
    "            counter[cat_name].append(len(df_subj.loc[df_subj.category_id==cat_id]))\n",
    "print(counter)"
   ]
  },
  {
   "cell_type": "code",
   "execution_count": 20,
   "id": "214ccb6b-86c1-457a-bbd7-91b02f6eae5e",
   "metadata": {},
   "outputs": [
    {
     "name": "stdout",
     "output_type": "stream",
     "text": [
      "noise \n",
      "Number of subj: 5 \n",
      "Median events per subj 1700.0 \n",
      "Total events proportion 25.7728614526227 \n",
      "Total events: 7945\n",
      "\n",
      "path \n",
      "Number of subj: 2 \n",
      "Median events per subj 4866.5 \n",
      "Total events proportion 31.572971745547733 \n",
      "Total events: 9733\n",
      "\n",
      "phys \n",
      "Number of subj: 4 \n",
      "Median events per subj 2275.0 \n",
      "Total events proportion 42.65416680182957 \n",
      "Total events: 13149\n",
      "\n"
     ]
    }
   ],
   "source": [
    "for cat in counter:\n",
    "    array_count = np.array(counter[cat])\n",
    "    print(cat,f'\\nNumber of subj: {len(array_count[array_count!=0])}', f'\\nMedian events per subj {np.median(array_count[array_count!=0])}',f'\\nTotal events proportion {np.sum(array_count)*100/len(df_evaluated)}', f'\\nTotal events: {np.sum(array_count)}\\n')"
   ]
  },
  {
   "cell_type": "code",
   "execution_count": 24,
   "id": "d4c0b059-214c-46ff-bfd7-a07d1a67d31c",
   "metadata": {},
   "outputs": [
    {
     "name": "stdout",
     "output_type": "stream",
     "text": [
      "subjects from inst fnusa\n",
      "subjects from inst mayo\n"
     ]
    }
   ],
   "source": [
    "# Manually picked choice\n",
    "max_img_subj_cat = {\n",
    "    # 'pw': 1500, # Less the pw as it is easily identifiable\n",
    "    'noise': 2000, # Pay more the noise\n",
    "    'path': 1500, # Less path at it is not so hard to identify\n",
    "    'phys': 1200\n",
    "}\n",
    "\n",
    "df_curated = []\n",
    "for inst in np.unique(df_evaluated.institution):\n",
    "    df_inst = df_evaluated.loc[df_evaluated.institution==inst]\n",
    "    print(f'subjects from inst {inst}')\n",
    "    for subj in np.unique(df_inst.patient_id):\n",
    "        df_subj = df_inst.loc[df_inst.patient_id==subj]\n",
    "        for cat_id, cat_name in zip(range(len(categories)), categories):\n",
    "            df_cat = df_subj.loc[df_subj.category_id==cat_id]\n",
    "            if len(df_curated)<1:\n",
    "                df_curated = df_cat.sample(min(len(df_cat),max_img_subj_cat[cat_name]))\n",
    "            else:\n",
    "                df_curated = pd.concat([df_curated, df_cat.sample(min(len(df_cat),max_img_subj_cat[cat_name]))])\n",
    "df_curated = df_curated.reset_index(drop=True)"
   ]
  },
  {
   "cell_type": "code",
   "execution_count": 25,
   "id": "e570ed16-4651-48dd-993f-06b6d493e5ec",
   "metadata": {},
   "outputs": [
    {
     "name": "stdout",
     "output_type": "stream",
     "text": [
      "subjects from inst fnusa\n",
      "subjects from inst mayo\n",
      "noise \n",
      "Number of subj: 5 \n",
      "Median events per subj 1700.0 \n",
      "Total events proportion 48.60917941585535 \n",
      "Total events: 6990\n",
      "\n",
      "path \n",
      "Number of subj: 2 \n",
      "Median events per subj 1500.0 \n",
      "Total events proportion 20.86230876216968 \n",
      "Total events: 3000\n",
      "\n",
      "phys \n",
      "Number of subj: 4 \n",
      "Median events per subj 1200.0 \n",
      "Total events proportion 30.528511821974966 \n",
      "Total events: 4390\n",
      "\n"
     ]
    }
   ],
   "source": [
    "counter = {\n",
    "    'noise':[],\n",
    "    'path':[],\n",
    "    'phys':[]\n",
    "}\n",
    "df_evaluated = df_curated\n",
    "for inst in np.unique(df_evaluated.institution):\n",
    "    df_inst = df_evaluated.loc[df_evaluated.institution==inst]\n",
    "    print(f'subjects from inst {inst}')\n",
    "    for subj in np.unique(df_inst.patient_id):\n",
    "        df_subj = df_inst.loc[df_inst.patient_id==subj]\n",
    "        for cat_id, cat_name in zip(range(len(categories)), categories):\n",
    "            counter[cat_name].append(len(df_subj.loc[df_subj.category_id==cat_id]))\n",
    "\n",
    "for cat in counter:\n",
    "    array_count = np.array(counter[cat])\n",
    "    print(cat,f'\\nNumber of subj: {len(array_count[array_count!=0])}', f'\\nMedian events per subj {np.median(array_count[array_count!=0])}',f'\\nTotal events proportion {np.sum(array_count)*100/len(df_evaluated)}', f'\\nTotal events: {np.sum(array_count)}\\n')"
   ]
  },
  {
   "cell_type": "code",
   "execution_count": 26,
   "id": "6ce9ebc8-0b97-45f0-8808-d6193df04e81",
   "metadata": {},
   "outputs": [
    {
     "data": {
      "text/plain": [
       "14380"
      ]
     },
     "execution_count": 26,
     "metadata": {},
     "output_type": "execute_result"
    }
   ],
   "source": [
    "df_curated_val = df_curated\n",
    "len(df_curated_val)"
   ]
  },
  {
   "cell_type": "markdown",
   "id": "264393c8-f752-4d1c-bddf-3c0a457f31e1",
   "metadata": {},
   "source": [
    "### Manually curated test set"
   ]
  },
  {
   "cell_type": "code",
   "execution_count": 27,
   "id": "7196b6b7-268b-44c6-a8ae-31528b707fed",
   "metadata": {},
   "outputs": [
    {
     "name": "stdout",
     "output_type": "stream",
     "text": [
      "subjects from inst fnusa\n",
      "subjects from inst mayo\n",
      "{'noise': [5059, 5416, 4636, 4096], 'path': [1527, 7738, 0, 0], 'phys': [5452, 2689, 2057, 6098]}\n"
     ]
    }
   ],
   "source": [
    "# Eval\n",
    "counter = {\n",
    "    # 'pw':[],\n",
    "    'noise':[],\n",
    "    'path':[],\n",
    "    'phys':[]\n",
    "}\n",
    "df_evaluated = dfs['test']\n",
    "for inst in np.unique(df_evaluated.institution):\n",
    "    df_inst = df_evaluated.loc[df_evaluated.institution==inst]\n",
    "    print(f'subjects from inst {inst}')\n",
    "    for subj in np.unique(df_inst.patient_id):\n",
    "        df_subj = df_inst.loc[df_inst.patient_id==subj]\n",
    "        for cat_id, cat_name in zip(range(len(categories)), categories):\n",
    "            counter[cat_name].append(len(df_subj.loc[df_subj.category_id==cat_id]))\n",
    "print(counter)"
   ]
  },
  {
   "cell_type": "code",
   "execution_count": 28,
   "id": "a969558d-067f-4126-95fc-1cbbffa81a25",
   "metadata": {},
   "outputs": [
    {
     "name": "stdout",
     "output_type": "stream",
     "text": [
      "noise \n",
      "Number of subj: 4 \n",
      "Median events per subj 4847.5 \n",
      "Total events proportion 42.90341315225161 \n",
      "Total events: 19207\n",
      "\n",
      "path \n",
      "Number of subj: 2 \n",
      "Median events per subj 4632.5 \n",
      "Total events proportion 20.69558613295211 \n",
      "Total events: 9265\n",
      "\n",
      "phys \n",
      "Number of subj: 4 \n",
      "Median events per subj 4070.5 \n",
      "Total events proportion 36.40100071479628 \n",
      "Total events: 16296\n",
      "\n"
     ]
    }
   ],
   "source": [
    "for cat in counter:\n",
    "    array_count = np.array(counter[cat])\n",
    "    print(cat,f'\\nNumber of subj: {len(array_count[array_count!=0])}', f'\\nMedian events per subj {np.median(array_count[array_count!=0])}',f'\\nTotal events proportion {np.sum(array_count)*100/len(df_evaluated)}', f'\\nTotal events: {np.sum(array_count)}\\n')"
   ]
  },
  {
   "cell_type": "code",
   "execution_count": 29,
   "id": "5520b869-5fdc-4618-9664-3dea34b34322",
   "metadata": {},
   "outputs": [
    {
     "name": "stdout",
     "output_type": "stream",
     "text": [
      "subjects from inst fnusa\n",
      "subjects from inst mayo\n"
     ]
    }
   ],
   "source": [
    "# Manually picked choice\n",
    "max_img_subj_cat = {\n",
    "    # 'pw': 500, # Less the pw as it is easily identifiable\n",
    "    'noise': 2000, # Pay more the noise\n",
    "    'path': 1000, # Less path at it is not so hard to identify\n",
    "    'phys': 1000\n",
    "}\n",
    "df_curated = []\n",
    "for inst in np.unique(df_evaluated.institution):\n",
    "    df_inst = df_evaluated.loc[df_evaluated.institution==inst]\n",
    "    print(f'subjects from inst {inst}')\n",
    "    for subj in np.unique(df_inst.patient_id):\n",
    "        df_subj = df_inst.loc[df_inst.patient_id==subj]\n",
    "        for cat_id, cat_name in zip(range(len(categories)), categories):\n",
    "            df_cat = df_subj.loc[df_subj.category_id==cat_id]\n",
    "            if len(df_curated)<1:\n",
    "                df_curated = df_cat.sample(min(len(df_cat),max_img_subj_cat[cat_name]))\n",
    "            else:\n",
    "                df_curated = pd.concat([df_curated, df_cat.sample(min(len(df_cat),max_img_subj_cat[cat_name]))])\n",
    "df_curated = df_curated.reset_index(drop=True)"
   ]
  },
  {
   "cell_type": "code",
   "execution_count": 30,
   "id": "9bc00584-094d-4dff-a57f-9a6a11d05a94",
   "metadata": {},
   "outputs": [
    {
     "name": "stdout",
     "output_type": "stream",
     "text": [
      "subjects from inst fnusa\n",
      "subjects from inst mayo\n",
      "noise \n",
      "Number of subj: 4 \n",
      "Median events per subj 2000.0 \n",
      "Total events proportion 57.142857142857146 \n",
      "Total events: 8000\n",
      "\n",
      "path \n",
      "Number of subj: 2 \n",
      "Median events per subj 1000.0 \n",
      "Total events proportion 14.285714285714286 \n",
      "Total events: 2000\n",
      "\n",
      "phys \n",
      "Number of subj: 4 \n",
      "Median events per subj 1000.0 \n",
      "Total events proportion 28.571428571428573 \n",
      "Total events: 4000\n",
      "\n"
     ]
    }
   ],
   "source": [
    "counter = {\n",
    "    # 'pw':[],\n",
    "    'noise':[],\n",
    "    'path':[],\n",
    "    'phys':[]\n",
    "}\n",
    "df_evaluated = df_curated\n",
    "for inst in np.unique(df_evaluated.institution):\n",
    "    df_inst = df_evaluated.loc[df_evaluated.institution==inst]\n",
    "    print(f'subjects from inst {inst}')\n",
    "    for subj in np.unique(df_inst.patient_id):\n",
    "        df_subj = df_inst.loc[df_inst.patient_id==subj]\n",
    "        for cat_id, cat_name in zip(range(len(categories)), categories):\n",
    "            counter[cat_name].append(len(df_subj.loc[df_subj.category_id==cat_id]))\n",
    "\n",
    "for cat in counter:\n",
    "    array_count = np.array(counter[cat])\n",
    "    print(cat,f'\\nNumber of subj: {len(array_count[array_count!=0])}', f'\\nMedian events per subj {np.median(array_count[array_count!=0])}',f'\\nTotal events proportion {np.sum(array_count)*100/len(df_evaluated)}', f'\\nTotal events: {np.sum(array_count)}\\n')"
   ]
  },
  {
   "cell_type": "code",
   "execution_count": 31,
   "id": "be444b09-60aa-415c-b40c-e0b53cbc3be0",
   "metadata": {},
   "outputs": [
    {
     "data": {
      "text/plain": [
       "14000"
      ]
     },
     "execution_count": 31,
     "metadata": {},
     "output_type": "execute_result"
    }
   ],
   "source": [
    "df_curated_test = df_curated\n",
    "len(df_curated_test)"
   ]
  },
  {
   "cell_type": "markdown",
   "id": "9748d9ad-ac9d-4e63-b4f0-fefbbb448428",
   "metadata": {},
   "source": [
    "### Check final distribution"
   ]
  },
  {
   "cell_type": "code",
   "execution_count": 32,
   "id": "ce73a8a9-565c-4d9d-835f-8ec0ddff3b38",
   "metadata": {},
   "outputs": [
    {
     "data": {
      "text/plain": [
       "(60.00507335221748, 20.265223579813696, 19.729703067968828)"
      ]
     },
     "execution_count": 32,
     "metadata": {},
     "output_type": "execute_result"
    }
   ],
   "source": [
    "len_total = len(df_curated_train) + len(df_curated_val) + len(df_curated_test)\n",
    "len(df_curated_train)*100/len_total, len(df_curated_val)*100/len_total, len(df_curated_test)*100/len_total"
   ]
  },
  {
   "cell_type": "code",
   "execution_count": 33,
   "id": "af937d43-5757-454f-aa61-8484c15ae6aa",
   "metadata": {},
   "outputs": [
    {
     "data": {
      "text/plain": [
       "(74.75377025579803, 25.24622974420197)"
      ]
     },
     "execution_count": 33,
     "metadata": {},
     "output_type": "execute_result"
    }
   ],
   "source": [
    "len_total = len(df_curated_train) + len(df_curated_val) \n",
    "len(df_curated_train)*100/len_total, len(df_curated_val)*100/len_total"
   ]
  },
  {
   "cell_type": "code",
   "execution_count": 34,
   "id": "42dfd24c-f260-44b0-9337-ba3ada44efc0",
   "metadata": {},
   "outputs": [],
   "source": [
    "df_curated_train.to_csv('/scratch/mcesped/Datasets/df_train_curated.csv', sep=\",\", index_label='index')"
   ]
  },
  {
   "cell_type": "code",
   "execution_count": 35,
   "id": "1fd38ef4-3bcb-494e-b832-c7f563103a19",
   "metadata": {},
   "outputs": [],
   "source": [
    "# Ended up having a distribution of 70, 15, 15\n",
    "# Save dataframes\n",
    "df_curated_val.to_csv('/scratch/mcesped/Datasets/df_val_curated.csv', sep=\",\", index_label='index')"
   ]
  },
  {
   "cell_type": "code",
   "execution_count": 36,
   "id": "9ba1cae9-3a5a-4734-85d3-f9385c1e56f0",
   "metadata": {},
   "outputs": [],
   "source": [
    "dfs['test'].to_csv('/scratch/mcesped/Datasets/df_test_curated.csv', sep=\",\", index_label='index')"
   ]
  }
 ],
 "metadata": {
  "kernelspec": {
   "display_name": "Python 3 (ipykernel)",
   "language": "python",
   "name": "python3"
  },
  "language_info": {
   "codemirror_mode": {
    "name": "ipython",
    "version": 3
   },
   "file_extension": ".py",
   "mimetype": "text/x-python",
   "name": "python",
   "nbconvert_exporter": "python",
   "pygments_lexer": "ipython3",
   "version": "3.10.2"
  }
 },
 "nbformat": 4,
 "nbformat_minor": 5
}
