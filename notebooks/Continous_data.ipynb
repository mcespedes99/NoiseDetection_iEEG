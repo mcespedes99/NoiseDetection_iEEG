{
 "cells": [
  {
   "cell_type": "code",
   "execution_count": 2,
   "id": "83bf7975-f417-4cdb-9932-8ba6f1b0eba9",
   "metadata": {},
   "outputs": [],
   "source": [
    "import numpy as np\n",
    "import pyedflib\n",
    "import dask\n",
    "from dask.delayed import delayed\n",
    "import dask.array as da\n",
    "import os\n",
    "import pickle\n",
    "import sys\n",
    "sys.path.insert(0,'/scratch/mcesped/code/NoiseDetection_iEEG/interictal_classifier/')\n",
    "from features import get_DWT_features "
   ]
  },
  {
   "cell_type": "markdown",
   "id": "fc9f99f7-e195-4b36-8ae8-9c4d37e8408e",
   "metadata": {},
   "source": [
    "### Functions"
   ]
  },
  {
   "cell_type": "code",
   "execution_count": 28,
   "id": "a69dab58-11d7-4aa3-87b9-1b9c5dcecd5f",
   "metadata": {},
   "outputs": [],
   "source": [
    "import dask.array as da\n",
    "\n",
    "@dask.delayed\n",
    "def load_segment(file_path, channel_name, n_samples):\n",
    "    with pyedflib.EdfReader(file_path) as f:\n",
    "        edf_chns = f.getSignalLabels()\n",
    "        # Load the specified segment from the file\n",
    "        segment_data = f.readSignal(edf_chns.index(channel_name), n=n_samples)\n",
    "    return segment_data\n",
    "\n",
    "\n",
    "# Assuming `segments_array` is a Dask array with the shape (n_channels, n_segments, samples_per_epoch)\n",
    "# and `rf_model` is your pre-trained RandomForestClassifier\n",
    "def predict(data):\n",
    "    shape = len(data)\n",
    "    random_array = np.random.choice([0, 1, 2], size=shape)\n",
    "    return random_array\n",
    "\n",
    "def get_features(data): \n",
    "    return np.vstack([np.mean(data, axis=1), np.median(data, axis=1)]).T\n",
    "\n",
    "def predict_channel_epochs(channel_data, model):\n",
    "    # Compute the Dask array for the current channel to a NumPy array\n",
    "    channel_data_np = np.array(np.split(channel_data.compute(), len(channel_data)/channel_data.chunks[0][0])) \n",
    "    # Predict\n",
    "    features = []\n",
    "    for epoch in channel_data_np:\n",
    "        features.append(get_DWT_features(epoch, \"db4\"))\n",
    "    features = np.array(features)\n",
    "    predictions = model.predict_proba(features)\n",
    "    return predictions"
   ]
  },
  {
   "cell_type": "markdown",
   "id": "a291b980-3ed3-48f1-b25f-204a429572c8",
   "metadata": {},
   "source": [
    "### Compute"
   ]
  },
  {
   "cell_type": "code",
   "execution_count": 16,
   "id": "e265c159-2395-4339-bb9d-deb82da12a4a",
   "metadata": {},
   "outputs": [
    {
     "data": {
      "text/html": [
       "<style>#sk-container-id-2 {color: black;}#sk-container-id-2 pre{padding: 0;}#sk-container-id-2 div.sk-toggleable {background-color: white;}#sk-container-id-2 label.sk-toggleable__label {cursor: pointer;display: block;width: 100%;margin-bottom: 0;padding: 0.3em;box-sizing: border-box;text-align: center;}#sk-container-id-2 label.sk-toggleable__label-arrow:before {content: \"▸\";float: left;margin-right: 0.25em;color: #696969;}#sk-container-id-2 label.sk-toggleable__label-arrow:hover:before {color: black;}#sk-container-id-2 div.sk-estimator:hover label.sk-toggleable__label-arrow:before {color: black;}#sk-container-id-2 div.sk-toggleable__content {max-height: 0;max-width: 0;overflow: hidden;text-align: left;background-color: #f0f8ff;}#sk-container-id-2 div.sk-toggleable__content pre {margin: 0.2em;color: black;border-radius: 0.25em;background-color: #f0f8ff;}#sk-container-id-2 input.sk-toggleable__control:checked~div.sk-toggleable__content {max-height: 200px;max-width: 100%;overflow: auto;}#sk-container-id-2 input.sk-toggleable__control:checked~label.sk-toggleable__label-arrow:before {content: \"▾\";}#sk-container-id-2 div.sk-estimator input.sk-toggleable__control:checked~label.sk-toggleable__label {background-color: #d4ebff;}#sk-container-id-2 div.sk-label input.sk-toggleable__control:checked~label.sk-toggleable__label {background-color: #d4ebff;}#sk-container-id-2 input.sk-hidden--visually {border: 0;clip: rect(1px 1px 1px 1px);clip: rect(1px, 1px, 1px, 1px);height: 1px;margin: -1px;overflow: hidden;padding: 0;position: absolute;width: 1px;}#sk-container-id-2 div.sk-estimator {font-family: monospace;background-color: #f0f8ff;border: 1px dotted black;border-radius: 0.25em;box-sizing: border-box;margin-bottom: 0.5em;}#sk-container-id-2 div.sk-estimator:hover {background-color: #d4ebff;}#sk-container-id-2 div.sk-parallel-item::after {content: \"\";width: 100%;border-bottom: 1px solid gray;flex-grow: 1;}#sk-container-id-2 div.sk-label:hover label.sk-toggleable__label {background-color: #d4ebff;}#sk-container-id-2 div.sk-serial::before {content: \"\";position: absolute;border-left: 1px solid gray;box-sizing: border-box;top: 0;bottom: 0;left: 50%;z-index: 0;}#sk-container-id-2 div.sk-serial {display: flex;flex-direction: column;align-items: center;background-color: white;padding-right: 0.2em;padding-left: 0.2em;position: relative;}#sk-container-id-2 div.sk-item {position: relative;z-index: 1;}#sk-container-id-2 div.sk-parallel {display: flex;align-items: stretch;justify-content: center;background-color: white;position: relative;}#sk-container-id-2 div.sk-item::before, #sk-container-id-2 div.sk-parallel-item::before {content: \"\";position: absolute;border-left: 1px solid gray;box-sizing: border-box;top: 0;bottom: 0;left: 50%;z-index: -1;}#sk-container-id-2 div.sk-parallel-item {display: flex;flex-direction: column;z-index: 1;position: relative;background-color: white;}#sk-container-id-2 div.sk-parallel-item:first-child::after {align-self: flex-end;width: 50%;}#sk-container-id-2 div.sk-parallel-item:last-child::after {align-self: flex-start;width: 50%;}#sk-container-id-2 div.sk-parallel-item:only-child::after {width: 0;}#sk-container-id-2 div.sk-dashed-wrapped {border: 1px dashed gray;margin: 0 0.4em 0.5em 0.4em;box-sizing: border-box;padding-bottom: 0.4em;background-color: white;}#sk-container-id-2 div.sk-label label {font-family: monospace;font-weight: bold;display: inline-block;line-height: 1.2em;}#sk-container-id-2 div.sk-label-container {text-align: center;}#sk-container-id-2 div.sk-container {/* jupyter's `normalize.less` sets `[hidden] { display: none; }` but bootstrap.min.css set `[hidden] { display: none !important; }` so we also need the `!important` here to be able to override the default hidden behavior on the sphinx rendered scikit-learn.org. See: https://github.com/scikit-learn/scikit-learn/issues/21755 */display: inline-block !important;position: relative;}#sk-container-id-2 div.sk-text-repr-fallback {display: none;}</style><div id=\"sk-container-id-2\" class=\"sk-top-container\"><div class=\"sk-text-repr-fallback\"><pre>RandomForestClassifier(class_weight=&#x27;balanced&#x27;, criterion=&#x27;entropy&#x27;,\n",
       "                       max_depth=3, max_features=0.5, min_samples_leaf=0.05,\n",
       "                       n_estimators=250, n_jobs=32)</pre><b>In a Jupyter environment, please rerun this cell to show the HTML representation or trust the notebook. <br />On GitHub, the HTML representation is unable to render, please try loading this page with nbviewer.org.</b></div><div class=\"sk-container\" hidden><div class=\"sk-item\"><div class=\"sk-estimator sk-toggleable\"><input class=\"sk-toggleable__control sk-hidden--visually\" id=\"sk-estimator-id-2\" type=\"checkbox\" checked><label for=\"sk-estimator-id-2\" class=\"sk-toggleable__label sk-toggleable__label-arrow\">RandomForestClassifier</label><div class=\"sk-toggleable__content\"><pre>RandomForestClassifier(class_weight=&#x27;balanced&#x27;, criterion=&#x27;entropy&#x27;,\n",
       "                       max_depth=3, max_features=0.5, min_samples_leaf=0.05,\n",
       "                       n_estimators=250, n_jobs=32)</pre></div></div></div></div></div>"
      ],
      "text/plain": [
       "RandomForestClassifier(class_weight='balanced', criterion='entropy',\n",
       "                       max_depth=3, max_features=0.5, min_samples_leaf=0.05,\n",
       "                       n_estimators=250, n_jobs=32)"
      ]
     },
     "execution_count": 16,
     "metadata": {},
     "output_type": "execute_result"
    }
   ],
   "source": [
    "# Load model\n",
    "filename = 'RF_model.sav'\n",
    "model_rf = pickle.load(open(filename, 'rb'))\n",
    "# model_rf.set_params(n_jobs = 8)\n",
    "model_rf"
   ]
  },
  {
   "cell_type": "code",
   "execution_count": 53,
   "id": "c5a1609b-cf6a-429e-a459-90ce723c741a",
   "metadata": {},
   "outputs": [],
   "source": [
    "# Files and channels\n",
    "files_and_channels = [\n",
    "    ('/home/mcesped/scratch/Results/seegprep/ml/work/sub-103/ses-003/ieeg/sub-103_ses-003_task-full_rec-PLIreject_run-01_clip-01_ieeg.edf',\n",
    "    [\"RAHc1-2\",\"RAHc2-3\",\"RAHc3-4\",\"RAHc4-5\",\"RAIn1-2\",\"RAIn2-3\",\"RAIn3-4\",\"RAIn5-6\",\"LAHc1-2\",\"LAHc2-3\",\"LAHc3-4\",\"LAHc4-5\",\"LOFr3-4\",\"LOFr4-5\",\"LOFr5-6\",\"LOFr6-7\"]),\n",
    "    ('/home/mcesped/scratch/Results/seegprep/ml/work/sub-087/ses-007/ieeg/sub-087_ses-007_task-full_rec-PLIreject_run-01_clip-01_ieeg.edf',\n",
    "    [\"LAm1-2\",\"LAm2-3\",\"LAm3-4\",\"LAm8-9\",\"RAIn6-7\",\"RAIn7-8\",\"RAIn8-9\",\"RAIn3-4\",\"ROFr1-2\",\"ROFr4-5\",\"ROFr7-8\",\"ROFr8-9\",\"LOFr4-5\",\"LOFr5-6\",\"LOFr6-7\",\"LOFr7-8\"]),\n",
    "    ('/home/mcesped/scratch/Results/seegprep/ml/work/sub-093/ses-004/ieeg/sub-093_ses-004_task-full_rec-PLIreject_run-01_clip-01_ieeg.edf',\n",
    "    [\"LITeLs2-3\",\"LITeLs3-4\",\"LITeLs6-7\",\"LITeLs8-9\",\"LPOFr1-2\",\"LPOFr2-3\",\"LPOFr4-5\",\"LPOFr8-9\",\"LAOFr1-2\",\"LAOFr2-3\",\"LAOFr3-4\",\"LAOFr4-5\",\"LOpS1-3-4\",\"LOpS1-5-6\",\"LOpS1-6-7\",\"LOpS1-7-8\"]),\n",
    "    ('/home/mcesped/scratch/Results/seegprep/ml/work/sub-081/ses-006/ieeg/sub-081_ses-006_task-full_rec-PLIreject_run-01_clip-01_ieeg.edf',\n",
    "    [\"LMHc1-2\",\"LMHc2-3\",\"LMHc3-4\",\"LMHc4-5\",\"RAm1-2\",\"RAm2-3\",\"RAm3-4\",\"RAm4-5\",\"RAIn1-2\",\"RAIn3-4\",\"RAIn4-5\",\"RAIn5-6\",\"LPNeC5-6\",\"LPNeC6-7\",\"LPNeC7-8\",\"LPNeC8-9\"]),\n",
    "]\n",
    "# files_and_channels = [\n",
    "#     ('/home/mcesped/scratch/Results/seegprep/ml/bids/sub-103/ses-003/ieeg/sub-103_ses-003_task-full_rec-regionID_run-01_clip-01_ieeg.edf',\n",
    "#     [\"RAHc1-2\"])\n",
    "# ]\n",
    "out_dir = '/home/mcesped/scratch/Results/ML_continous_data'"
   ]
  },
  {
   "cell_type": "code",
   "execution_count": 55,
   "id": "7af10d17-4df2-4a08-8f7b-8b2c806baaf2",
   "metadata": {},
   "outputs": [
    {
     "data": {
      "text/plain": [
       "64"
      ]
     },
     "execution_count": 55,
     "metadata": {},
     "output_type": "execute_result"
    }
   ],
   "source": [
    "n = 0\n",
    "for file_path, channels in files_and_channels:\n",
    "    n+=len(channels)\n",
    "n"
   ]
  },
  {
   "cell_type": "code",
   "execution_count": 54,
   "id": "0be5d681-cd3c-492b-8701-fb10f6c33318",
   "metadata": {},
   "outputs": [],
   "source": [
    "# Process and classify epochs for each file, using Dask for epoch storage\n",
    "for file_path, channels in files_and_channels:\n",
    "    # Get number of chunks\n",
    "    with pyedflib.EdfReader(file_path) as edf:\n",
    "        n_samples = edf.getNSamples()[0]\n",
    "        sample_rate = edf.getSampleFrequencies()[0]# / edf.datarecord_duration #UNCOMENT FOR pyedlib < 0.1.32\n",
    "    samples_per_epoch = int(3 * sample_rate)  # 3 seconds of data\n",
    "    chunks = n_samples // samples_per_epoch\n",
    "    segment_tasks = [load_segment(file_path, ch, chunks*samples_per_epoch) for ch in channels]\n",
    "    segments_array = da.stack([da.from_delayed(task, shape=(chunks*samples_per_epoch,), dtype=float).rechunk((samples_per_epoch,)) for task in segment_tasks])\n",
    "    # Predict per channel\n",
    "    for i in range(segments_array.shape[0]):  # Loop over channels\n",
    "        channel_data = segments_array[i, :]\n",
    "        predictions_prob = predict_channel_epochs(channel_data, model_rf)\n",
    "        # Save pred prob\n",
    "        os.makedirs(os.path.join(out_dir, 'prob'), exist_ok=True)\n",
    "        out_file = os.path.join(out_dir, 'prob', os.path.basename(file_path).replace('ieeg.edf', f\"chn-{channels[i]}_pred.npy\"))\n",
    "        np.save(out_file, predictions_prob)\n",
    "        # Produce an output\n",
    "        os.makedirs(os.path.join(out_dir, 'edf'), exist_ok=True)\n",
    "        out_file = os.path.join(out_dir, 'edf', os.path.basename(file_path).replace('ieeg.edf', f\"chn-{channels[i]}_ieeg.edf\"))\n",
    "        write_ML_results(file_path, out_file, predictions_prob, epoch_duration_seconds=3)"
   ]
  },
  {
   "cell_type": "markdown",
   "id": "3b507d36-fbb6-42aa-addb-dfb9b9220883",
   "metadata": {},
   "source": [
    "# Create hypnogram"
   ]
  },
  {
   "cell_type": "code",
   "execution_count": 51,
   "id": "c3f2f69c-5f09-4957-a5fd-b9d6678465ca",
   "metadata": {},
   "outputs": [],
   "source": [
    "def write_ML_results(original_file, new_file, predictions_prob, epoch_duration_seconds):\n",
    "    from pyedflib import EdfReader, EdfWriter\n",
    "    import numpy as np\n",
    "\n",
    "    # Step 1: Read the original EDF file\n",
    "    with EdfReader(original_file) as edf:\n",
    "        # Gather signal and header information\n",
    "        n_signals = edf.signals_in_file\n",
    "        signal_headers = edf.getSignalHeaders()\n",
    "        header = edf.getHeader()\n",
    "        #For pyedlib < 0.1.32\n",
    "        datarecord_duration = int(edf.datarecord_duration * 100000)\n",
    "        # else\n",
    "        # datarecord_duration = int(edf.datarecord_duration)\n",
    "\n",
    "        # Read signal data\n",
    "        signals = [edf.readSignal(i) for i in range(n_signals)]\n",
    "        \n",
    "\n",
    "    # Step 2: Create a new EDF file, preserving header and signal information but excluding annotations\n",
    "    with EdfWriter(new_file, n_signals, file_type=pyedflib.FILETYPE_EDFPLUS) as out_edf:\n",
    "        # Write header information\n",
    "        out_edf.setHeader(header)\n",
    "        out_edf.setSignalHeaders(signal_headers)\n",
    "        # out_edf.setDatarecordDuration(datarecord_duration)\n",
    "\n",
    "        # Write signal data\n",
    "        out_edf.writeSamples(signals)\n",
    "\n",
    "        \n",
    "        # Convert predictions to string\n",
    "        # First get labels\n",
    "        predictions = predictions_prob.argmax(axis=1)\n",
    "        # labels = np.array(['Noise', 'Pathology', 'Baseline'])\n",
    "        # mapped_labels = labels[predictions]\n",
    "        # # Now the probabilities\n",
    "        # probabilities = predictions_prob.max(axis=1)\n",
    "        # final_array = np.array([f'{label} {prob*100:.2f}%' for label, prob in zip(mapped_labels, probabilities)])\n",
    "        \n",
    "        # Step 3: Add new annotations\n",
    "        new_annotations = [(i*epoch_duration_seconds, epoch_duration_seconds, f'{cat}') for i, cat in enumerate(predictions)]\n",
    "        for onset, duration, description in new_annotations:\n",
    "            out_edf.writeAnnotation(onset, duration, description)"
   ]
  },
  {
   "cell_type": "code",
   "execution_count": null,
   "id": "f1332960-9918-4d2e-a71f-b7e3c98c2fe0",
   "metadata": {},
   "outputs": [],
   "source": [
    "a = "
   ]
  },
  {
   "cell_type": "code",
   "execution_count": 5,
   "id": "b244498e-9410-4b9b-a0aa-1745a9e5a2d5",
   "metadata": {},
   "outputs": [],
   "source": [
    "from pyedflib import EdfWriter\n",
    "import pyedflib\n",
    "import numpy as np\n",
    "\n",
    "# Define the filename\n",
    "filename = 'sleep_data.edf'\n",
    "\n",
    "# Create a new EDF file\n",
    "with EdfWriter(filename, n_channels=1, file_type=pyedflib.FILETYPE_EDFPLUS) as f:\n",
    "    # Set signal headers (adjust parameters as needed)\n",
    "    signal_headers = [{'label': 'Dummy Signal', 'dimension': 'uV', 'sample_rate': 1, 'physical_max': 100, 'physical_min': -100, 'digital_max': 32767, 'digital_min': -32768}]\n",
    "    f.setSignalHeaders(signal_headers)\n",
    "    \n",
    "    # Generate dummy signal data (replace with your actual data)\n",
    "    data = np.zeros(100)  # 100 seconds of dummy data\n",
    "    f.writeSamples([data])\n",
    "    \n",
    "    # Add sleep stage annotations\n",
    "    # The annotations are tuples in the form (onset, duration, annotation)\n",
    "    # Onset is in seconds from the start of the recording\n",
    "    annotations = [\n",
    "        (0, 30, 'Baseline'),\n",
    "        (30, 30, 'Pathology'),\n",
    "        (60, 30, 'Noise'),\n",
    "        (90, 30, 'Pathology'),\n",
    "        # Add more stages as needed\n",
    "    ]\n",
    "    for onset, duration, stage in annotations:\n",
    "        f.writeAnnotation(onset, duration, stage)\n",
    "\n",
    "# The EDF file is now created with the dummy signal and annotations"
   ]
  }
 ],
 "metadata": {
  "kernelspec": {
   "display_name": "Python 3 (ipykernel)",
   "language": "python",
   "name": "python3"
  },
  "language_info": {
   "codemirror_mode": {
    "name": "ipython",
    "version": 3
   },
   "file_extension": ".py",
   "mimetype": "text/x-python",
   "name": "python",
   "nbconvert_exporter": "python",
   "pygments_lexer": "ipython3",
   "version": "3.10.2"
  }
 },
 "nbformat": 4,
 "nbformat_minor": 5
}
