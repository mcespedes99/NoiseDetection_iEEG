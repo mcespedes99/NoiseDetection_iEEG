{
 "cells": [
  {
   "cell_type": "code",
   "execution_count": 2,
   "id": "e683ebd3-e233-4ffa-a312-9a60932f5999",
   "metadata": {},
   "outputs": [],
   "source": [
    "import zipfile\n",
    "import scipy.io\n",
    "import pandas as pd\n",
    "import numpy as np\n",
    "import os\n",
    "import re\n",
    "import matplotlib.pyplot as plt\n",
    "import mne\n",
    "import shutil"
   ]
  },
  {
   "cell_type": "markdown",
   "id": "f0db5d07-c11f-49dc-ae08-e315896909f5",
   "metadata": {
    "jp-MarkdownHeadingCollapsed": true
   },
   "source": [
    "## Deal with PLI\n",
    "In the original work, they removed PLI as the network didn't seem to perform well. They assign a different class to the powerline noise of 60 Hz and 50 Hz. I will just change all the labels to 'powerline' or 'noise'."
   ]
  },
  {
   "cell_type": "code",
   "execution_count": 2,
   "id": "25913eca-3017-452c-b58a-b7d6a89f3269",
   "metadata": {},
   "outputs": [],
   "source": [
    "inputZip = '/home/mcesped/scratch/Datasets/Dataset_Fnusa.zip'\n",
    "path_to_segments = 'DATASET_FNUSA/segments.csv'"
   ]
  },
  {
   "cell_type": "code",
   "execution_count": 77,
   "id": "a446b3db-542d-4ddd-bd19-3bc5273e036d",
   "metadata": {},
   "outputs": [],
   "source": [
    "with zipfile.ZipFile(inputZip, mode=\"r\") as archive:\n",
    "    files= archive.namelist()\n",
    "    with archive.open(path_to_segments) as myfile:\n",
    "        df = pd.read_csv(myfile, sep=',', index_col='index')"
   ]
  },
  {
   "cell_type": "code",
   "execution_count": 80,
   "id": "372cbe73-b7ff-4181-bfdd-2435430ca41b",
   "metadata": {},
   "outputs": [
    {
     "data": {
      "text/plain": [
       "['DATASET_FNUSA/y000002.mat']"
      ]
     },
     "execution_count": 80,
     "metadata": {},
     "output_type": "execute_result"
    }
   ],
   "source": [
    "reg = re.compile(\"y000002\")\n",
    "list(filter(reg.search, files)) "
   ]
  },
  {
   "cell_type": "code",
   "execution_count": 26,
   "id": "470e1f59-807c-49a8-8de2-6f306a064a86",
   "metadata": {},
   "outputs": [],
   "source": [
    "# scipy.io.loadmat(data)"
   ]
  },
  {
   "cell_type": "code",
   "execution_count": 56,
   "id": "15ac21b0-8e98-4526-92c6-47ecd161244c",
   "metadata": {},
   "outputs": [
    {
     "data": {
      "text/html": [
       "<div>\n",
       "<style scoped>\n",
       "    .dataframe tbody tr th:only-of-type {\n",
       "        vertical-align: middle;\n",
       "    }\n",
       "\n",
       "    .dataframe tbody tr th {\n",
       "        vertical-align: top;\n",
       "    }\n",
       "\n",
       "    .dataframe thead th {\n",
       "        text-align: right;\n",
       "    }\n",
       "</style>\n",
       "<table border=\"1\" class=\"dataframe\">\n",
       "  <thead>\n",
       "    <tr style=\"text-align: right;\">\n",
       "      <th></th>\n",
       "      <th>anatomy</th>\n",
       "      <th>category_id</th>\n",
       "      <th>channel</th>\n",
       "      <th>electrode_type</th>\n",
       "      <th>institution</th>\n",
       "      <th>patient_id</th>\n",
       "      <th>reviewer_id</th>\n",
       "      <th>segment_id</th>\n",
       "      <th>soz</th>\n",
       "      <th>category_name</th>\n",
       "    </tr>\n",
       "    <tr>\n",
       "      <th>index</th>\n",
       "      <th></th>\n",
       "      <th></th>\n",
       "      <th></th>\n",
       "      <th></th>\n",
       "      <th></th>\n",
       "      <th></th>\n",
       "      <th></th>\n",
       "      <th></th>\n",
       "      <th></th>\n",
       "      <th></th>\n",
       "    </tr>\n",
       "  </thead>\n",
       "  <tbody>\n",
       "    <tr>\n",
       "      <th>0</th>\n",
       "      <td>gyrus lingualis</td>\n",
       "      <td>0</td>\n",
       "      <td>D1</td>\n",
       "      <td>depth</td>\n",
       "      <td>fnusa</td>\n",
       "      <td>0</td>\n",
       "      <td>1</td>\n",
       "      <td>y000000</td>\n",
       "      <td>0</td>\n",
       "      <td>powerline_50hz</td>\n",
       "    </tr>\n",
       "    <tr>\n",
       "      <th>1</th>\n",
       "      <td>gyrus lingualis</td>\n",
       "      <td>0</td>\n",
       "      <td>D1</td>\n",
       "      <td>depth</td>\n",
       "      <td>fnusa</td>\n",
       "      <td>0</td>\n",
       "      <td>1</td>\n",
       "      <td>y000001</td>\n",
       "      <td>0</td>\n",
       "      <td>powerline_50hz</td>\n",
       "    </tr>\n",
       "    <tr>\n",
       "      <th>2</th>\n",
       "      <td>gyrus lingualis</td>\n",
       "      <td>0</td>\n",
       "      <td>D1</td>\n",
       "      <td>depth</td>\n",
       "      <td>fnusa</td>\n",
       "      <td>0</td>\n",
       "      <td>1</td>\n",
       "      <td>y000002</td>\n",
       "      <td>0</td>\n",
       "      <td>powerline_50hz</td>\n",
       "    </tr>\n",
       "    <tr>\n",
       "      <th>3</th>\n",
       "      <td>gyrus lingualis</td>\n",
       "      <td>0</td>\n",
       "      <td>D1</td>\n",
       "      <td>depth</td>\n",
       "      <td>fnusa</td>\n",
       "      <td>0</td>\n",
       "      <td>1</td>\n",
       "      <td>y000003</td>\n",
       "      <td>0</td>\n",
       "      <td>powerline_50hz</td>\n",
       "    </tr>\n",
       "    <tr>\n",
       "      <th>4</th>\n",
       "      <td>gyrus lingualis</td>\n",
       "      <td>0</td>\n",
       "      <td>D1</td>\n",
       "      <td>depth</td>\n",
       "      <td>fnusa</td>\n",
       "      <td>0</td>\n",
       "      <td>1</td>\n",
       "      <td>y000004</td>\n",
       "      <td>0</td>\n",
       "      <td>powerline_50hz</td>\n",
       "    </tr>\n",
       "    <tr>\n",
       "      <th>...</th>\n",
       "      <td>...</td>\n",
       "      <td>...</td>\n",
       "      <td>...</td>\n",
       "      <td>...</td>\n",
       "      <td>...</td>\n",
       "      <td>...</td>\n",
       "      <td>...</td>\n",
       "      <td>...</td>\n",
       "      <td>...</td>\n",
       "      <td>...</td>\n",
       "    </tr>\n",
       "    <tr>\n",
       "      <th>74076</th>\n",
       "      <td>gyrus temporalis medius</td>\n",
       "      <td>0</td>\n",
       "      <td>H'12</td>\n",
       "      <td>depth</td>\n",
       "      <td>fnusa</td>\n",
       "      <td>7</td>\n",
       "      <td>2</td>\n",
       "      <td>y074076</td>\n",
       "      <td>0</td>\n",
       "      <td>powerline_50hz</td>\n",
       "    </tr>\n",
       "    <tr>\n",
       "      <th>74077</th>\n",
       "      <td>gyrus temporalis medius</td>\n",
       "      <td>0</td>\n",
       "      <td>H'12</td>\n",
       "      <td>depth</td>\n",
       "      <td>fnusa</td>\n",
       "      <td>7</td>\n",
       "      <td>2</td>\n",
       "      <td>y074077</td>\n",
       "      <td>0</td>\n",
       "      <td>powerline_50hz</td>\n",
       "    </tr>\n",
       "    <tr>\n",
       "      <th>74078</th>\n",
       "      <td>gyrus temporalis medius</td>\n",
       "      <td>0</td>\n",
       "      <td>H'12</td>\n",
       "      <td>depth</td>\n",
       "      <td>fnusa</td>\n",
       "      <td>7</td>\n",
       "      <td>2</td>\n",
       "      <td>y074078</td>\n",
       "      <td>0</td>\n",
       "      <td>powerline_50hz</td>\n",
       "    </tr>\n",
       "    <tr>\n",
       "      <th>74079</th>\n",
       "      <td>gyrus temporalis medius</td>\n",
       "      <td>0</td>\n",
       "      <td>H'12</td>\n",
       "      <td>depth</td>\n",
       "      <td>fnusa</td>\n",
       "      <td>7</td>\n",
       "      <td>2</td>\n",
       "      <td>y074079</td>\n",
       "      <td>0</td>\n",
       "      <td>powerline_50hz</td>\n",
       "    </tr>\n",
       "    <tr>\n",
       "      <th>74080</th>\n",
       "      <td>gyrus temporalis medius</td>\n",
       "      <td>0</td>\n",
       "      <td>H'12</td>\n",
       "      <td>depth</td>\n",
       "      <td>fnusa</td>\n",
       "      <td>7</td>\n",
       "      <td>2</td>\n",
       "      <td>y074080</td>\n",
       "      <td>0</td>\n",
       "      <td>powerline_50hz</td>\n",
       "    </tr>\n",
       "  </tbody>\n",
       "</table>\n",
       "<p>13489 rows × 10 columns</p>\n",
       "</div>"
      ],
      "text/plain": [
       "                       anatomy  category_id channel electrode_type  \\\n",
       "index                                                                \n",
       "0              gyrus lingualis            0      D1          depth   \n",
       "1              gyrus lingualis            0      D1          depth   \n",
       "2              gyrus lingualis            0      D1          depth   \n",
       "3              gyrus lingualis            0      D1          depth   \n",
       "4              gyrus lingualis            0      D1          depth   \n",
       "...                        ...          ...     ...            ...   \n",
       "74076  gyrus temporalis medius            0    H'12          depth   \n",
       "74077  gyrus temporalis medius            0    H'12          depth   \n",
       "74078  gyrus temporalis medius            0    H'12          depth   \n",
       "74079  gyrus temporalis medius            0    H'12          depth   \n",
       "74080  gyrus temporalis medius            0    H'12          depth   \n",
       "\n",
       "      institution  patient_id  reviewer_id segment_id  soz   category_name  \n",
       "index                                                                       \n",
       "0           fnusa           0            1    y000000    0  powerline_50hz  \n",
       "1           fnusa           0            1    y000001    0  powerline_50hz  \n",
       "2           fnusa           0            1    y000002    0  powerline_50hz  \n",
       "3           fnusa           0            1    y000003    0  powerline_50hz  \n",
       "4           fnusa           0            1    y000004    0  powerline_50hz  \n",
       "...           ...         ...          ...        ...  ...             ...  \n",
       "74076       fnusa           7            2    y074076    0  powerline_50hz  \n",
       "74077       fnusa           7            2    y074077    0  powerline_50hz  \n",
       "74078       fnusa           7            2    y074078    0  powerline_50hz  \n",
       "74079       fnusa           7            2    y074079    0  powerline_50hz  \n",
       "74080       fnusa           7            2    y074080    0  powerline_50hz  \n",
       "\n",
       "[13489 rows x 10 columns]"
      ]
     },
     "execution_count": 56,
     "metadata": {},
     "output_type": "execute_result"
    }
   ],
   "source": [
    "df[df['category_id']==0]"
   ]
  },
  {
   "cell_type": "code",
   "execution_count": 57,
   "id": "6adf4c4d-9177-46b5-8970-4c778686226b",
   "metadata": {},
   "outputs": [
    {
     "data": {
      "text/html": [
       "<div>\n",
       "<style scoped>\n",
       "    .dataframe tbody tr th:only-of-type {\n",
       "        vertical-align: middle;\n",
       "    }\n",
       "\n",
       "    .dataframe tbody tr th {\n",
       "        vertical-align: top;\n",
       "    }\n",
       "\n",
       "    .dataframe thead th {\n",
       "        text-align: right;\n",
       "    }\n",
       "</style>\n",
       "<table border=\"1\" class=\"dataframe\">\n",
       "  <thead>\n",
       "    <tr style=\"text-align: right;\">\n",
       "      <th></th>\n",
       "      <th>anatomy</th>\n",
       "      <th>category_id</th>\n",
       "      <th>channel</th>\n",
       "      <th>electrode_type</th>\n",
       "      <th>institution</th>\n",
       "      <th>patient_id</th>\n",
       "      <th>reviewer_id</th>\n",
       "      <th>segment_id</th>\n",
       "      <th>soz</th>\n",
       "      <th>category_name</th>\n",
       "    </tr>\n",
       "    <tr>\n",
       "      <th>index</th>\n",
       "      <th></th>\n",
       "      <th></th>\n",
       "      <th></th>\n",
       "      <th></th>\n",
       "      <th></th>\n",
       "      <th></th>\n",
       "      <th></th>\n",
       "      <th></th>\n",
       "      <th></th>\n",
       "      <th></th>\n",
       "    </tr>\n",
       "  </thead>\n",
       "  <tbody>\n",
       "    <tr>\n",
       "      <th>0</th>\n",
       "      <td>gyrus lingualis</td>\n",
       "      <td>0</td>\n",
       "      <td>D1</td>\n",
       "      <td>depth</td>\n",
       "      <td>fnusa</td>\n",
       "      <td>0</td>\n",
       "      <td>1</td>\n",
       "      <td>y000000</td>\n",
       "      <td>0</td>\n",
       "      <td>powerline</td>\n",
       "    </tr>\n",
       "    <tr>\n",
       "      <th>1</th>\n",
       "      <td>gyrus lingualis</td>\n",
       "      <td>0</td>\n",
       "      <td>D1</td>\n",
       "      <td>depth</td>\n",
       "      <td>fnusa</td>\n",
       "      <td>0</td>\n",
       "      <td>1</td>\n",
       "      <td>y000001</td>\n",
       "      <td>0</td>\n",
       "      <td>powerline</td>\n",
       "    </tr>\n",
       "    <tr>\n",
       "      <th>2</th>\n",
       "      <td>gyrus lingualis</td>\n",
       "      <td>0</td>\n",
       "      <td>D1</td>\n",
       "      <td>depth</td>\n",
       "      <td>fnusa</td>\n",
       "      <td>0</td>\n",
       "      <td>1</td>\n",
       "      <td>y000002</td>\n",
       "      <td>0</td>\n",
       "      <td>powerline</td>\n",
       "    </tr>\n",
       "    <tr>\n",
       "      <th>3</th>\n",
       "      <td>gyrus lingualis</td>\n",
       "      <td>0</td>\n",
       "      <td>D1</td>\n",
       "      <td>depth</td>\n",
       "      <td>fnusa</td>\n",
       "      <td>0</td>\n",
       "      <td>1</td>\n",
       "      <td>y000003</td>\n",
       "      <td>0</td>\n",
       "      <td>powerline</td>\n",
       "    </tr>\n",
       "    <tr>\n",
       "      <th>4</th>\n",
       "      <td>gyrus lingualis</td>\n",
       "      <td>0</td>\n",
       "      <td>D1</td>\n",
       "      <td>depth</td>\n",
       "      <td>fnusa</td>\n",
       "      <td>0</td>\n",
       "      <td>1</td>\n",
       "      <td>y000004</td>\n",
       "      <td>0</td>\n",
       "      <td>powerline</td>\n",
       "    </tr>\n",
       "    <tr>\n",
       "      <th>...</th>\n",
       "      <td>...</td>\n",
       "      <td>...</td>\n",
       "      <td>...</td>\n",
       "      <td>...</td>\n",
       "      <td>...</td>\n",
       "      <td>...</td>\n",
       "      <td>...</td>\n",
       "      <td>...</td>\n",
       "      <td>...</td>\n",
       "      <td>...</td>\n",
       "    </tr>\n",
       "    <tr>\n",
       "      <th>74076</th>\n",
       "      <td>gyrus temporalis medius</td>\n",
       "      <td>0</td>\n",
       "      <td>H'12</td>\n",
       "      <td>depth</td>\n",
       "      <td>fnusa</td>\n",
       "      <td>7</td>\n",
       "      <td>2</td>\n",
       "      <td>y074076</td>\n",
       "      <td>0</td>\n",
       "      <td>powerline</td>\n",
       "    </tr>\n",
       "    <tr>\n",
       "      <th>74077</th>\n",
       "      <td>gyrus temporalis medius</td>\n",
       "      <td>0</td>\n",
       "      <td>H'12</td>\n",
       "      <td>depth</td>\n",
       "      <td>fnusa</td>\n",
       "      <td>7</td>\n",
       "      <td>2</td>\n",
       "      <td>y074077</td>\n",
       "      <td>0</td>\n",
       "      <td>powerline</td>\n",
       "    </tr>\n",
       "    <tr>\n",
       "      <th>74078</th>\n",
       "      <td>gyrus temporalis medius</td>\n",
       "      <td>0</td>\n",
       "      <td>H'12</td>\n",
       "      <td>depth</td>\n",
       "      <td>fnusa</td>\n",
       "      <td>7</td>\n",
       "      <td>2</td>\n",
       "      <td>y074078</td>\n",
       "      <td>0</td>\n",
       "      <td>powerline</td>\n",
       "    </tr>\n",
       "    <tr>\n",
       "      <th>74079</th>\n",
       "      <td>gyrus temporalis medius</td>\n",
       "      <td>0</td>\n",
       "      <td>H'12</td>\n",
       "      <td>depth</td>\n",
       "      <td>fnusa</td>\n",
       "      <td>7</td>\n",
       "      <td>2</td>\n",
       "      <td>y074079</td>\n",
       "      <td>0</td>\n",
       "      <td>powerline</td>\n",
       "    </tr>\n",
       "    <tr>\n",
       "      <th>74080</th>\n",
       "      <td>gyrus temporalis medius</td>\n",
       "      <td>0</td>\n",
       "      <td>H'12</td>\n",
       "      <td>depth</td>\n",
       "      <td>fnusa</td>\n",
       "      <td>7</td>\n",
       "      <td>2</td>\n",
       "      <td>y074080</td>\n",
       "      <td>0</td>\n",
       "      <td>powerline</td>\n",
       "    </tr>\n",
       "  </tbody>\n",
       "</table>\n",
       "<p>13489 rows × 10 columns</p>\n",
       "</div>"
      ],
      "text/plain": [
       "                       anatomy  category_id channel electrode_type  \\\n",
       "index                                                                \n",
       "0              gyrus lingualis            0      D1          depth   \n",
       "1              gyrus lingualis            0      D1          depth   \n",
       "2              gyrus lingualis            0      D1          depth   \n",
       "3              gyrus lingualis            0      D1          depth   \n",
       "4              gyrus lingualis            0      D1          depth   \n",
       "...                        ...          ...     ...            ...   \n",
       "74076  gyrus temporalis medius            0    H'12          depth   \n",
       "74077  gyrus temporalis medius            0    H'12          depth   \n",
       "74078  gyrus temporalis medius            0    H'12          depth   \n",
       "74079  gyrus temporalis medius            0    H'12          depth   \n",
       "74080  gyrus temporalis medius            0    H'12          depth   \n",
       "\n",
       "      institution  patient_id  reviewer_id segment_id  soz category_name  \n",
       "index                                                                     \n",
       "0           fnusa           0            1    y000000    0     powerline  \n",
       "1           fnusa           0            1    y000001    0     powerline  \n",
       "2           fnusa           0            1    y000002    0     powerline  \n",
       "3           fnusa           0            1    y000003    0     powerline  \n",
       "4           fnusa           0            1    y000004    0     powerline  \n",
       "...           ...         ...          ...        ...  ...           ...  \n",
       "74076       fnusa           7            2    y074076    0     powerline  \n",
       "74077       fnusa           7            2    y074077    0     powerline  \n",
       "74078       fnusa           7            2    y074078    0     powerline  \n",
       "74079       fnusa           7            2    y074079    0     powerline  \n",
       "74080       fnusa           7            2    y074080    0     powerline  \n",
       "\n",
       "[13489 rows x 10 columns]"
      ]
     },
     "execution_count": 57,
     "metadata": {},
     "output_type": "execute_result"
    }
   ],
   "source": [
    "df_new = df.copy()\n",
    "df_new.loc[df_new['category_name'].str.contains('powerline'),'category_name'] = 'powerline'\n",
    "df_new[df_new['category_name'].str.contains('powerline')]"
   ]
  },
  {
   "cell_type": "code",
   "execution_count": 58,
   "id": "5b716a72-b0eb-4031-af16-e7177cb71568",
   "metadata": {},
   "outputs": [],
   "source": [
    "# Save dfs\n",
    "# df.to_csv('segments_orig.csv', sep=',')\n",
    "df_new.to_csv('segments_new_Fnusa.csv', sep=',')"
   ]
  },
  {
   "cell_type": "markdown",
   "id": "a62766c8-7002-429e-bf38-b1a6f5deb8b4",
   "metadata": {},
   "source": [
    "## Downsampling of the data"
   ]
  },
  {
   "cell_type": "code",
   "execution_count": 1,
   "id": "398c0cb4-43d9-425f-8990-9d6060562629",
   "metadata": {},
   "outputs": [],
   "source": [
    "import sys\n",
    "sys.path.insert(0,'/scratch/mcesped/code/NoiseDetection_iEEG/interictal_classifier/')\n",
    "\n",
    "import preprocessing"
   ]
  },
  {
   "cell_type": "code",
   "execution_count": 47,
   "id": "014e6849-2d95-4b91-b44d-3cb1a88a4600",
   "metadata": {
    "scrolled": true
   },
   "outputs": [],
   "source": [
    "zip_files = ['/home/mcesped/scratch/Datasets/Dataset_UFlorida.zip']\n",
    "for zip_id, zip_file in enumerate(zip_files):\n",
    "    with zipfile.ZipFile(zip_file, mode=\"r\") as f:\n",
    "        # Filename \n",
    "        filename = os.path.basename(zip_file)\n",
    "        # Get all files\n",
    "        files = f.namelist()\n",
    "        # Find segments.csv\n",
    "        reg = re.compile(\"segments_new.csv\")\n",
    "        seg_path= list(filter(reg.search, files))[0]\n",
    "        # Get df\n",
    "        with f.open(seg_path) as myfile:\n",
    "            df_seg = pd.read_csv(myfile, sep=',', index_col='index')\n",
    "        # Now downsample every mat file and save to dir\n",
    "        # Create dir first\n",
    "        dir_name = filename.split('.')[0]\n",
    "        new_dir = os.path.join(os.environ.get('SLURM_TMPDIR'), dir_name)\n",
    "        os.makedirs(new_dir,exist_ok=True)\n",
    "        # Compute for each mat file\n",
    "        for idx in df_seg.index.to_numpy():\n",
    "            # Get the data \n",
    "            sid = df_seg.loc[idx, 'segment_id']\n",
    "            reg = re.compile(sid)\n",
    "            seg_file = list(filter(reg.search, files))[0]\n",
    "            with f.open(seg_file) as myfile:\n",
    "                data = scipy.io.loadmat(myfile)['data'].squeeze()\n",
    "            # Preprocess data\n",
    "            data = preprocessing.preprocess_data(data, df_seg.loc[idx])\n",
    "            # Write to tmp file\n",
    "            np.save(os.path.join(new_dir, sid+'.npy'),data)\n",
    "        # Create zipfile from dir\n",
    "        archive_name = os.path.join('/home/mcesped/scratch/Datasets/', dir_name+'_np')\n",
    "        shutil.make_archive(\n",
    "            archive_name,\n",
    "            'zip',\n",
    "            root_dir=os.environ.get('SLURM_TMPDIR'),\n",
    "            base_dir=dir_name,\n",
    "        )\n",
    "        # Remove files from tmp\n",
    "        shutil.rmtree(new_dir)"
   ]
  },
  {
   "cell_type": "code",
   "execution_count": 9,
   "id": "8ae0c6c4-529e-451d-b329-9000ec60e6aa",
   "metadata": {},
   "outputs": [
    {
     "data": {
      "text/plain": [
       "'x002058'"
      ]
     },
     "execution_count": 9,
     "metadata": {},
     "output_type": "execute_result"
    }
   ],
   "source": [
    "df_seg.loc[2058, 'segment_id']"
   ]
  },
  {
   "cell_type": "code",
   "execution_count": 41,
   "id": "18cac263-449d-43dd-9618-f54f95f53822",
   "metadata": {},
   "outputs": [
    {
     "data": {
      "text/plain": [
       "'y000000'"
      ]
     },
     "execution_count": 41,
     "metadata": {},
     "output_type": "execute_result"
    }
   ],
   "source": [
    "df_seg.iloc[0]['segment_id']"
   ]
  },
  {
   "cell_type": "code",
   "execution_count": 30,
   "id": "edd5a6dd-30df-4384-ab72-c84509c44cd4",
   "metadata": {},
   "outputs": [
    {
     "data": {
      "text/plain": [
       "['tmp', 'caca']"
      ]
     },
     "execution_count": 30,
     "metadata": {},
     "output_type": "execute_result"
    }
   ],
   "source": [
    "import os\n",
    "# Test create dir\n",
    "os.makedirs(os.path.join(os.environ.get('SLURM_TMPDIR'), 'caca'))\n",
    "a = os.listdir(os.environ.get('SLURM_TMPDIR'))\n",
    "a"
   ]
  },
  {
   "cell_type": "code",
   "execution_count": 28,
   "id": "e694c19b-7176-4d7e-bdc4-6fd7c27d291a",
   "metadata": {},
   "outputs": [
    {
     "data": {
      "text/plain": [
       "'/localscratch/mcesped.13640469.0'"
      ]
     },
     "execution_count": 28,
     "metadata": {},
     "output_type": "execute_result"
    }
   ],
   "source": [
    "os.environ['SLURM_TMPDIR']"
   ]
  },
  {
   "cell_type": "markdown",
   "id": "381148ed-f294-401e-ac5d-0f5b471cc4e1",
   "metadata": {},
   "source": [
    "### Test the preprocessing"
   ]
  },
  {
   "cell_type": "code",
   "execution_count": 57,
   "id": "30c6f708-f8f4-4993-9eac-d732c27e97de",
   "metadata": {},
   "outputs": [],
   "source": [
    "seg_file = 'DATASET_UFLORIDA/x002000.mat'"
   ]
  },
  {
   "cell_type": "code",
   "execution_count": 58,
   "id": "584b3a0f-53fa-49ea-a720-74c3fa747f39",
   "metadata": {},
   "outputs": [
    {
     "name": "stdout",
     "output_type": "stream",
     "text": [
      "(3600,)\n"
     ]
    },
    {
     "data": {
      "text/plain": [
       "[<matplotlib.lines.Line2D at 0x2aea0d6b90c0>]"
      ]
     },
     "execution_count": 58,
     "metadata": {},
     "output_type": "execute_result"
    },
    {
     "data": {
      "image/png": "[encoded data removed]",
      "text/plain": [
       "<Figure size 640x480 with 1 Axes>"
      ]
     },
     "metadata": {},
     "output_type": "display_data"
    }
   ],
   "source": [
    "with zipfile.ZipFile(zip_file, mode=\"r\") as f:\n",
    "    with f.open(seg_file) as myfile:\n",
    "        data = scipy.io.loadmat(myfile)['data'].squeeze()\n",
    "print(data.shape)\n",
    "plt.plot(data)"
   ]
  },
  {
   "cell_type": "code",
   "execution_count": 59,
   "id": "103ba175-0cc7-411a-aa3d-0a0bbd963ca4",
   "metadata": {},
   "outputs": [
    {
     "data": {
      "text/plain": [
       "[<matplotlib.lines.Line2D at 0x2aea0d83dff0>]"
      ]
     },
     "execution_count": 59,
     "metadata": {},
     "output_type": "execute_result"
    },
    {
     "data": {
      "image/png": "[encoded data removed]",
      "text/plain": [
       "<Figure size 640x480 with 1 Axes>"
      ]
     },
     "metadata": {},
     "output_type": "display_data"
    }
   ],
   "source": [
    "f, P = scipy.signal.welch(data, fs=1200)\n",
    "# print(P)\n",
    "plt.plot(f, P)"
   ]
  },
  {
   "cell_type": "code",
   "execution_count": 60,
   "id": "1b1b4446-cb25-4346-bc92-3a43307369f0",
   "metadata": {},
   "outputs": [
    {
     "data": {
      "text/plain": [
       "-1.2323151619439219"
      ]
     },
     "execution_count": 60,
     "metadata": {},
     "output_type": "execute_result"
    }
   ],
   "source": [
    "np.mean(data)"
   ]
  },
  {
   "cell_type": "code",
   "execution_count": 61,
   "id": "34b7e6ab-507a-4c75-81e7-23461ed546cb",
   "metadata": {},
   "outputs": [
    {
     "name": "stdout",
     "output_type": "stream",
     "text": [
      "(3600,)\n"
     ]
    },
    {
     "data": {
      "text/plain": [
       "[<matplotlib.lines.Line2D at 0x2aea0dafeb30>]"
      ]
     },
     "execution_count": 61,
     "metadata": {},
     "output_type": "execute_result"
    },
    {
     "data": {
      "image/png": "[encoded data removed]",
      "text/plain": [
       "<Figure size 640x480 with 1 Axes>"
      ]
     },
     "metadata": {},
     "output_type": "display_data"
    }
   ],
   "source": [
    "with zipfile.ZipFile('/home/mcesped/scratch/Datasets/Dataset_UFlorida_np.zip', mode=\"r\") as f:\n",
    "    with f.open(os.path.join(dir_name, 'x002000'+'.npy')) as myfile:\n",
    "        data = np.load(myfile)\n",
    "print(data.shape)\n",
    "plt.plot(data)"
   ]
  },
  {
   "cell_type": "code",
   "execution_count": 55,
   "id": "9470e4ec-b042-4640-b176-57e1b04d6717",
   "metadata": {},
   "outputs": [
    {
     "data": {
      "text/plain": [
       "49.181338555844604"
      ]
     },
     "execution_count": 55,
     "metadata": {},
     "output_type": "execute_result"
    }
   ],
   "source": [
    "np.mean(data)"
   ]
  },
  {
   "cell_type": "code",
   "execution_count": 56,
   "id": "a44a3ccc-30b0-4a43-84f6-87b8a5a88d41",
   "metadata": {},
   "outputs": [
    {
     "data": {
      "text/plain": [
       "[<matplotlib.lines.Line2D at 0x2aea0d5807c0>]"
      ]
     },
     "execution_count": 56,
     "metadata": {},
     "output_type": "execute_result"
    },
    {
     "data": {
      "image/png": "[encoded data removed]",
      "text/plain": [
       "<Figure size 640x480 with 1 Axes>"
      ]
     },
     "metadata": {},
     "output_type": "display_data"
    }
   ],
   "source": [
    "f, P = scipy.signal.welch(data, fs=1200)\n",
    "plt.plot(f, P)"
   ]
  },
  {
   "cell_type": "code",
   "execution_count": 30,
   "id": "581984d6-1558-406a-ad22-2b8fb520e447",
   "metadata": {},
   "outputs": [
    {
     "data": {
      "text/plain": [
       "array([1.76967282e+01, 1.05782788e+02, 4.64284981e+01, 1.55295883e+01,\n",
       "       6.62838466e+00, 3.41422533e+00, 1.07855105e+00, 4.49295299e-01,\n",
       "       3.48675186e-01, 3.54553132e-01, 2.70432944e-01, 1.66981119e-01,\n",
       "       7.34708073e-02, 5.31869018e-02, 4.53372378e-02, 4.49893764e-02,\n",
       "       4.75347267e-02, 3.83907582e-02, 2.10955575e-02, 1.87872027e-02,\n",
       "       2.10197907e-02, 1.99266512e-02, 1.62474871e-02, 1.43715688e-02,\n",
       "       1.37336312e-02, 6.45424740e-03, 5.77745534e-03, 8.13983688e-03,\n",
       "       7.56032871e-03, 6.25019615e-03, 7.12473068e-03, 6.94074109e-03,\n",
       "       8.07069371e-03, 7.47820950e-03, 5.28368667e-03, 5.56168323e-03,\n",
       "       6.03678610e-03, 4.81157650e-03, 2.56990558e-03, 2.63817832e-03,\n",
       "       3.00184189e-03, 3.06595317e-03, 3.45578996e-03, 3.20736058e-03,\n",
       "       3.04599898e-03, 3.50012204e-03, 2.65501780e-03, 3.47445782e-03,\n",
       "       3.82177036e-03, 3.10462560e-03, 2.89630273e-03, 2.82395921e-03,\n",
       "       3.64022307e-03, 3.56146923e-03, 3.43703867e-03, 3.68086104e-03,\n",
       "       3.53979192e-03, 3.36848151e-03, 3.09788168e-03, 2.60701769e-03,\n",
       "       2.47386742e-03, 2.99729114e-03, 3.17279556e-03, 2.47556911e-03,\n",
       "       1.76327774e-03, 1.49515955e-03, 1.94598510e-03, 2.33422695e-03,\n",
       "       1.84475103e-03, 1.64378143e-03, 2.54081958e-03, 1.98020934e-03,\n",
       "       1.62774227e-03, 1.83939158e-03, 1.85119054e-03, 1.75193726e-03,\n",
       "       1.50878259e-03, 1.23989361e-03, 1.52938045e-03, 1.66176118e-03,\n",
       "       1.63238075e-03, 1.62715202e-03, 1.09428484e-03, 2.01852911e-03,\n",
       "       1.99689163e-03, 1.24160096e-03, 1.33421214e-03, 1.09558643e-03,\n",
       "       1.28631530e-03, 1.38507883e-03, 1.09067447e-03, 1.60965876e-03,\n",
       "       1.65725858e-03, 1.40152446e-03, 1.40545866e-03, 1.84474678e-03,\n",
       "       2.26668658e-03, 1.66684000e-03, 1.48311472e-03, 1.13339584e-03,\n",
       "       2.03613933e-03, 1.67086573e-03, 1.13524234e-03, 1.27442837e-03,\n",
       "       1.96711421e-03, 1.89246665e-03, 2.20735980e-03, 1.84674992e-03,\n",
       "       1.50968777e-03, 1.67734711e-03, 1.43218225e-03, 1.57194453e-03,\n",
       "       2.04190790e-03, 1.86524312e-03, 1.99566623e-03, 1.25676876e-03,\n",
       "       1.49682295e-03, 1.12641477e-03, 1.64319345e-03, 1.55935401e-03,\n",
       "       1.20312749e-03, 1.55027658e-03, 1.70878478e-03, 1.39684645e-03,\n",
       "       1.56357595e-03, 1.57003846e-03, 2.04952205e-03, 1.55994420e-03,\n",
       "       3.57218929e-04])"
      ]
     },
     "execution_count": 30,
     "metadata": {},
     "output_type": "execute_result"
    }
   ],
   "source": [
    "P"
   ]
  }
 ],
 "metadata": {
  "kernelspec": {
   "display_name": "Python 3 (ipykernel)",
   "language": "python",
   "name": "python3"
  },
  "language_info": {
   "codemirror_mode": {
    "name": "ipython",
    "version": 3
   },
   "file_extension": ".py",
   "mimetype": "text/x-python",
   "name": "python",
   "nbconvert_exporter": "python",
   "pygments_lexer": "ipython3",
   "version": "3.10.2"
  }
 },
 "nbformat": 4,
 "nbformat_minor": 5
}
