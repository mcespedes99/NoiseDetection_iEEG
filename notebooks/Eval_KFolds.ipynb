{
 "cells": [
  {
   "cell_type": "markdown",
   "id": "ea97bd21-2834-483b-88d1-487a34e9ca24",
   "metadata": {},
   "source": [
    "# Noise model"
   ]
  },
  {
   "cell_type": "code",
   "execution_count": 2,
   "id": "3e16cd0d-4df3-4f15-895a-69259b8483b8",
   "metadata": {},
   "outputs": [],
   "source": [
    "import numpy as np\n",
    "import json\n",
    "import os\n",
    "import matplotlib.pyplot as plt\n",
    "import pandas as pd\n",
    "import seaborn as sns"
   ]
  },
  {
   "cell_type": "code",
   "execution_count": 34,
   "id": "4c25fafc-7e7d-4cff-b985-f74cac76a6a8",
   "metadata": {},
   "outputs": [],
   "source": [
    "trials=[11, 12, 13]\n",
    "folds = np.arange(20)\n",
    "total = {\n",
    "    'Value':[],\n",
    "    'Metric':[],\n",
    "    'Trial': [],\n",
    "    'Fold': []\n",
    "}\n",
    "for trial in trials:\n",
    "    for fold in folds:\n",
    "        path_results = f'/home/mcesped/scratch/code/NoiseDetection_iEEG/Reports/Multiclass/2048Hz/trial_{trial}/fold_{fold}/Noise/results_val.txt'\n",
    "        if os.path.exists(path_results):\n",
    "            with open(path_results, 'r') as f:\n",
    "                data = json.load(f)\n",
    "                total['Metric'] += [metric for metric in data]\n",
    "                total['Trial'] += [trial for metric in data]\n",
    "                total['Fold'] += [fold for metric in data]\n",
    "                for metric in data:\n",
    "                    total['Value'].append(data[metric])\n",
    "        else:\n",
    "            print(path_results)"
   ]
  },
  {
   "cell_type": "code",
   "execution_count": 35,
   "id": "61835800-cf91-4520-8331-c7687d01eaa6",
   "metadata": {},
   "outputs": [
    {
     "data": {
      "text/html": [
       "<div>\n",
       "<style scoped>\n",
       "    .dataframe tbody tr th:only-of-type {\n",
       "        vertical-align: middle;\n",
       "    }\n",
       "\n",
       "    .dataframe tbody tr th {\n",
       "        vertical-align: top;\n",
       "    }\n",
       "\n",
       "    .dataframe thead th {\n",
       "        text-align: right;\n",
       "    }\n",
       "</style>\n",
       "<table border=\"1\" class=\"dataframe\">\n",
       "  <thead>\n",
       "    <tr style=\"text-align: right;\">\n",
       "      <th></th>\n",
       "      <th>Value</th>\n",
       "      <th>Metric</th>\n",
       "      <th>Trial</th>\n",
       "      <th>Fold</th>\n",
       "    </tr>\n",
       "  </thead>\n",
       "  <tbody>\n",
       "    <tr>\n",
       "      <th>0</th>\n",
       "      <td>0.948914</td>\n",
       "      <td>acc</td>\n",
       "      <td>11</td>\n",
       "      <td>0</td>\n",
       "    </tr>\n",
       "    <tr>\n",
       "      <th>1</th>\n",
       "      <td>0.892237</td>\n",
       "      <td>balanced_acc</td>\n",
       "      <td>11</td>\n",
       "      <td>0</td>\n",
       "    </tr>\n",
       "    <tr>\n",
       "      <th>2</th>\n",
       "      <td>0.965984</td>\n",
       "      <td>precision</td>\n",
       "      <td>11</td>\n",
       "      <td>0</td>\n",
       "    </tr>\n",
       "    <tr>\n",
       "      <th>3</th>\n",
       "      <td>0.973965</td>\n",
       "      <td>recall</td>\n",
       "      <td>11</td>\n",
       "      <td>0</td>\n",
       "    </tr>\n",
       "    <tr>\n",
       "      <th>4</th>\n",
       "      <td>0.969958</td>\n",
       "      <td>f1</td>\n",
       "      <td>11</td>\n",
       "      <td>0</td>\n",
       "    </tr>\n",
       "  </tbody>\n",
       "</table>\n",
       "</div>"
      ],
      "text/plain": [
       "      Value        Metric  Trial  Fold\n",
       "0  0.948914           acc     11     0\n",
       "1  0.892237  balanced_acc     11     0\n",
       "2  0.965984     precision     11     0\n",
       "3  0.973965        recall     11     0\n",
       "4  0.969958            f1     11     0"
      ]
     },
     "execution_count": 35,
     "metadata": {},
     "output_type": "execute_result"
    }
   ],
   "source": [
    "df = pd.DataFrame(total)\n",
    "df.head()"
   ]
  },
  {
   "cell_type": "code",
   "execution_count": 36,
   "id": "151e0a23-54d1-4a3f-b666-beef350d859f",
   "metadata": {},
   "outputs": [
    {
     "name": "stderr",
     "output_type": "stream",
     "text": [
      "/local/mcesped.17285336.0/tmp/kslurm-venv-hwgg3250/lib/python3.10/site-packages/seaborn/_oldcore.py:1498: FutureWarning: is_categorical_dtype is deprecated and will be removed in a future version. Use isinstance(dtype, CategoricalDtype) instead\n",
      "  if pd.api.types.is_categorical_dtype(vector):\n",
      "/local/mcesped.17285336.0/tmp/kslurm-venv-hwgg3250/lib/python3.10/site-packages/seaborn/_oldcore.py:1498: FutureWarning: is_categorical_dtype is deprecated and will be removed in a future version. Use isinstance(dtype, CategoricalDtype) instead\n",
      "  if pd.api.types.is_categorical_dtype(vector):\n",
      "/local/mcesped.17285336.0/tmp/kslurm-venv-hwgg3250/lib/python3.10/site-packages/seaborn/_oldcore.py:1498: FutureWarning: is_categorical_dtype is deprecated and will be removed in a future version. Use isinstance(dtype, CategoricalDtype) instead\n",
      "  if pd.api.types.is_categorical_dtype(vector):\n",
      "/local/mcesped.17285336.0/tmp/kslurm-venv-hwgg3250/lib/python3.10/site-packages/seaborn/_oldcore.py:1498: FutureWarning: is_categorical_dtype is deprecated and will be removed in a future version. Use isinstance(dtype, CategoricalDtype) instead\n",
      "  if pd.api.types.is_categorical_dtype(vector):\n"
     ]
    },
    {
     "data": {
      "text/plain": [
       "<Axes: xlabel='Value', ylabel='Metric'>"
      ]
     },
     "execution_count": 36,
     "metadata": {},
     "output_type": "execute_result"
    },
    {
     "data": {
      "image/png": "[encoded data removed]",
      "text/plain": [
       "<Figure size 640x480 with 1 Axes>"
      ]
     },
     "metadata": {},
     "output_type": "display_data"
    }
   ],
   "source": [
    "# Plot params\n",
    "df_tmp = df.loc[df.Metric == 'threshold',:]\n",
    "sns.boxplot(data=df_tmp, x=\"Value\", y=\"Metric\", hue='Trial')"
   ]
  },
  {
   "cell_type": "code",
   "execution_count": 10,
   "id": "05889e85-e864-476c-bd92-2a4a3b382d1f",
   "metadata": {},
   "outputs": [
    {
     "name": "stderr",
     "output_type": "stream",
     "text": [
      "/local/mcesped.17285336.0/tmp/kslurm-venv-hwgg3250/lib/python3.10/site-packages/seaborn/_oldcore.py:1498: FutureWarning: is_categorical_dtype is deprecated and will be removed in a future version. Use isinstance(dtype, CategoricalDtype) instead\n",
      "  if pd.api.types.is_categorical_dtype(vector):\n",
      "/local/mcesped.17285336.0/tmp/kslurm-venv-hwgg3250/lib/python3.10/site-packages/seaborn/_oldcore.py:1498: FutureWarning: is_categorical_dtype is deprecated and will be removed in a future version. Use isinstance(dtype, CategoricalDtype) instead\n",
      "  if pd.api.types.is_categorical_dtype(vector):\n",
      "/local/mcesped.17285336.0/tmp/kslurm-venv-hwgg3250/lib/python3.10/site-packages/seaborn/_oldcore.py:1498: FutureWarning: is_categorical_dtype is deprecated and will be removed in a future version. Use isinstance(dtype, CategoricalDtype) instead\n",
      "  if pd.api.types.is_categorical_dtype(vector):\n",
      "/local/mcesped.17285336.0/tmp/kslurm-venv-hwgg3250/lib/python3.10/site-packages/seaborn/_oldcore.py:1498: FutureWarning: is_categorical_dtype is deprecated and will be removed in a future version. Use isinstance(dtype, CategoricalDtype) instead\n",
      "  if pd.api.types.is_categorical_dtype(vector):\n"
     ]
    },
    {
     "data": {
      "text/plain": [
       "<Axes: xlabel='Value', ylabel='Metric'>"
      ]
     },
     "execution_count": 10,
     "metadata": {},
     "output_type": "execute_result"
    },
    {
     "data": {
      "image/png": "[encoded data removed]",
      "text/plain": [
       "<Figure size 640x480 with 1 Axes>"
      ]
     },
     "metadata": {},
     "output_type": "display_data"
    }
   ],
   "source": [
    "# Plot params\n",
    "df_tmp = df.loc[df.Metric == 'n_iters',:]\n",
    "sns.boxplot(data=df_tmp, x=\"Value\", y=\"Metric\", hue='Trial')"
   ]
  },
  {
   "cell_type": "code",
   "execution_count": 15,
   "id": "652a1813-2690-416f-ae12-07ab61d0bdf2",
   "metadata": {},
   "outputs": [
    {
     "name": "stderr",
     "output_type": "stream",
     "text": [
      "/local/mcesped.17285336.0/tmp/kslurm-venv-hwgg3250/lib/python3.10/site-packages/seaborn/_oldcore.py:1498: FutureWarning: is_categorical_dtype is deprecated and will be removed in a future version. Use isinstance(dtype, CategoricalDtype) instead\n",
      "  if pd.api.types.is_categorical_dtype(vector):\n",
      "/local/mcesped.17285336.0/tmp/kslurm-venv-hwgg3250/lib/python3.10/site-packages/seaborn/_oldcore.py:1498: FutureWarning: is_categorical_dtype is deprecated and will be removed in a future version. Use isinstance(dtype, CategoricalDtype) instead\n",
      "  if pd.api.types.is_categorical_dtype(vector):\n",
      "/local/mcesped.17285336.0/tmp/kslurm-venv-hwgg3250/lib/python3.10/site-packages/seaborn/_oldcore.py:1498: FutureWarning: is_categorical_dtype is deprecated and will be removed in a future version. Use isinstance(dtype, CategoricalDtype) instead\n",
      "  if pd.api.types.is_categorical_dtype(vector):\n",
      "/local/mcesped.17285336.0/tmp/kslurm-venv-hwgg3250/lib/python3.10/site-packages/seaborn/_oldcore.py:1498: FutureWarning: is_categorical_dtype is deprecated and will be removed in a future version. Use isinstance(dtype, CategoricalDtype) instead\n",
      "  if pd.api.types.is_categorical_dtype(vector):\n"
     ]
    },
    {
     "data": {
      "text/plain": [
       "<Axes: xlabel='Value', ylabel='Metric'>"
      ]
     },
     "execution_count": 15,
     "metadata": {},
     "output_type": "execute_result"
    },
    {
     "data": {
      "image/png": "[encoded data removed]",
      "text/plain": [
       "<Figure size 640x480 with 1 Axes>"
      ]
     },
     "metadata": {},
     "output_type": "display_data"
    }
   ],
   "source": [
    "# Plot params\n",
    "df_tmp = df.loc[(df.Metric == 'AUROC').astype(bool) | (df.Metric == 'AUPRC').astype(bool),:]\n",
    "sns.boxplot(data=df_tmp, x=\"Value\", y=\"Metric\", hue='Trial')"
   ]
  },
  {
   "cell_type": "code",
   "execution_count": 22,
   "id": "dfb6769e-50f4-4f17-9aeb-eff9df396353",
   "metadata": {},
   "outputs": [
    {
     "data": {
      "text/plain": [
       "512.1111111111111"
      ]
     },
     "execution_count": 22,
     "metadata": {},
     "output_type": "execute_result"
    }
   ],
   "source": [
    "1012.1111111111111-10*50"
   ]
  },
  {
   "cell_type": "markdown",
   "id": "dff2f8e3-8bf6-4086-975d-b9ebba6d6eac",
   "metadata": {
    "jp-MarkdownHeadingCollapsed": true
   },
   "source": [
    "# Pathology"
   ]
  },
  {
   "cell_type": "code",
   "execution_count": 94,
   "id": "7d91b8a4-2c1c-4bfb-8f17-747b4da4625f",
   "metadata": {},
   "outputs": [],
   "source": [
    "import numpy as np\n",
    "import json\n",
    "import os\n",
    "import matplotlib.pyplot as plt"
   ]
  },
  {
   "cell_type": "code",
   "execution_count": 37,
   "id": "406559ff-6bf0-48cf-b673-da80572ed8dd",
   "metadata": {},
   "outputs": [],
   "source": [
    "trials=[11, 12, 13]\n",
    "folds = np.arange(20)\n",
    "total = {\n",
    "    'Value':[],\n",
    "    'Metric':[],\n",
    "    'Trial': [],\n",
    "    'Fold': []\n",
    "}\n",
    "for trial in trials:\n",
    "    for fold in folds:\n",
    "        path_results = f'/home/mcesped/scratch/code/NoiseDetection_iEEG/Reports/Multiclass/2048Hz/trial_{trial}/fold_{fold}/Pathology/results_val.txt'\n",
    "        if os.path.exists(path_results):\n",
    "            with open(path_results, 'r') as f:\n",
    "                data = json.load(f)\n",
    "                total['Metric'] += [metric for metric in data]\n",
    "                total['Trial'] += [trial for metric in data]\n",
    "                total['Fold'] += [fold for metric in data]\n",
    "                for metric in data:\n",
    "                    total['Value'].append(data[metric])\n",
    "        else:\n",
    "            print(path_results)"
   ]
  },
  {
   "cell_type": "code",
   "execution_count": 38,
   "id": "8cdf6fde-9d6a-4120-9017-ab87ae36b262",
   "metadata": {},
   "outputs": [
    {
     "data": {
      "text/html": [
       "<div>\n",
       "<style scoped>\n",
       "    .dataframe tbody tr th:only-of-type {\n",
       "        vertical-align: middle;\n",
       "    }\n",
       "\n",
       "    .dataframe tbody tr th {\n",
       "        vertical-align: top;\n",
       "    }\n",
       "\n",
       "    .dataframe thead th {\n",
       "        text-align: right;\n",
       "    }\n",
       "</style>\n",
       "<table border=\"1\" class=\"dataframe\">\n",
       "  <thead>\n",
       "    <tr style=\"text-align: right;\">\n",
       "      <th></th>\n",
       "      <th>Value</th>\n",
       "      <th>Metric</th>\n",
       "      <th>Trial</th>\n",
       "      <th>Fold</th>\n",
       "    </tr>\n",
       "  </thead>\n",
       "  <tbody>\n",
       "    <tr>\n",
       "      <th>0</th>\n",
       "      <td>0.963501</td>\n",
       "      <td>acc</td>\n",
       "      <td>11</td>\n",
       "      <td>0</td>\n",
       "    </tr>\n",
       "    <tr>\n",
       "      <th>1</th>\n",
       "      <td>0.933766</td>\n",
       "      <td>balanced_acc</td>\n",
       "      <td>11</td>\n",
       "      <td>0</td>\n",
       "    </tr>\n",
       "    <tr>\n",
       "      <th>2</th>\n",
       "      <td>0.831238</td>\n",
       "      <td>precision</td>\n",
       "      <td>11</td>\n",
       "      <td>0</td>\n",
       "    </tr>\n",
       "    <tr>\n",
       "      <th>3</th>\n",
       "      <td>0.893916</td>\n",
       "      <td>recall</td>\n",
       "      <td>11</td>\n",
       "      <td>0</td>\n",
       "    </tr>\n",
       "    <tr>\n",
       "      <th>4</th>\n",
       "      <td>0.861438</td>\n",
       "      <td>f1</td>\n",
       "      <td>11</td>\n",
       "      <td>0</td>\n",
       "    </tr>\n",
       "  </tbody>\n",
       "</table>\n",
       "</div>"
      ],
      "text/plain": [
       "      Value        Metric  Trial  Fold\n",
       "0  0.963501           acc     11     0\n",
       "1  0.933766  balanced_acc     11     0\n",
       "2  0.831238     precision     11     0\n",
       "3  0.893916        recall     11     0\n",
       "4  0.861438            f1     11     0"
      ]
     },
     "execution_count": 38,
     "metadata": {},
     "output_type": "execute_result"
    }
   ],
   "source": [
    "df = pd.DataFrame(total)\n",
    "df.head()"
   ]
  },
  {
   "cell_type": "code",
   "execution_count": 39,
   "id": "b5e166ce-e52f-4ca6-9455-7f6dee094e22",
   "metadata": {},
   "outputs": [
    {
     "name": "stderr",
     "output_type": "stream",
     "text": [
      "/local/mcesped.17285336.0/tmp/kslurm-venv-hwgg3250/lib/python3.10/site-packages/seaborn/_oldcore.py:1498: FutureWarning: is_categorical_dtype is deprecated and will be removed in a future version. Use isinstance(dtype, CategoricalDtype) instead\n",
      "  if pd.api.types.is_categorical_dtype(vector):\n",
      "/local/mcesped.17285336.0/tmp/kslurm-venv-hwgg3250/lib/python3.10/site-packages/seaborn/_oldcore.py:1498: FutureWarning: is_categorical_dtype is deprecated and will be removed in a future version. Use isinstance(dtype, CategoricalDtype) instead\n",
      "  if pd.api.types.is_categorical_dtype(vector):\n",
      "/local/mcesped.17285336.0/tmp/kslurm-venv-hwgg3250/lib/python3.10/site-packages/seaborn/_oldcore.py:1498: FutureWarning: is_categorical_dtype is deprecated and will be removed in a future version. Use isinstance(dtype, CategoricalDtype) instead\n",
      "  if pd.api.types.is_categorical_dtype(vector):\n",
      "/local/mcesped.17285336.0/tmp/kslurm-venv-hwgg3250/lib/python3.10/site-packages/seaborn/_oldcore.py:1498: FutureWarning: is_categorical_dtype is deprecated and will be removed in a future version. Use isinstance(dtype, CategoricalDtype) instead\n",
      "  if pd.api.types.is_categorical_dtype(vector):\n"
     ]
    },
    {
     "data": {
      "text/plain": [
       "<Axes: xlabel='Value', ylabel='Metric'>"
      ]
     },
     "execution_count": 39,
     "metadata": {},
     "output_type": "execute_result"
    },
    {
     "data": {
      "image/png": "[encoded data removed]",
      "text/plain": [
       "<Figure size 640x480 with 1 Axes>"
      ]
     },
     "metadata": {},
     "output_type": "display_data"
    }
   ],
   "source": [
    "# Plot params\n",
    "df_tmp = df.loc[df.Metric == 'threshold',:]\n",
    "sns.boxplot(data=df_tmp, x=\"Value\", y=\"Metric\", hue='Trial')"
   ]
  },
  {
   "cell_type": "code",
   "execution_count": 19,
   "id": "30ad4136-8dd2-4d2b-a066-9cccec02b0f5",
   "metadata": {},
   "outputs": [
    {
     "name": "stderr",
     "output_type": "stream",
     "text": [
      "/local/mcesped.17285336.0/tmp/kslurm-venv-hwgg3250/lib/python3.10/site-packages/seaborn/_oldcore.py:1498: FutureWarning: is_categorical_dtype is deprecated and will be removed in a future version. Use isinstance(dtype, CategoricalDtype) instead\n",
      "  if pd.api.types.is_categorical_dtype(vector):\n",
      "/local/mcesped.17285336.0/tmp/kslurm-venv-hwgg3250/lib/python3.10/site-packages/seaborn/_oldcore.py:1498: FutureWarning: is_categorical_dtype is deprecated and will be removed in a future version. Use isinstance(dtype, CategoricalDtype) instead\n",
      "  if pd.api.types.is_categorical_dtype(vector):\n",
      "/local/mcesped.17285336.0/tmp/kslurm-venv-hwgg3250/lib/python3.10/site-packages/seaborn/_oldcore.py:1498: FutureWarning: is_categorical_dtype is deprecated and will be removed in a future version. Use isinstance(dtype, CategoricalDtype) instead\n",
      "  if pd.api.types.is_categorical_dtype(vector):\n",
      "/local/mcesped.17285336.0/tmp/kslurm-venv-hwgg3250/lib/python3.10/site-packages/seaborn/_oldcore.py:1498: FutureWarning: is_categorical_dtype is deprecated and will be removed in a future version. Use isinstance(dtype, CategoricalDtype) instead\n",
      "  if pd.api.types.is_categorical_dtype(vector):\n"
     ]
    },
    {
     "data": {
      "text/plain": [
       "<Axes: xlabel='Value', ylabel='Metric'>"
      ]
     },
     "execution_count": 19,
     "metadata": {},
     "output_type": "execute_result"
    },
    {
     "data": {
      "image/png": "[encoded data removed]",
      "text/plain": [
       "<Figure size 640x480 with 1 Axes>"
      ]
     },
     "metadata": {},
     "output_type": "display_data"
    }
   ],
   "source": [
    "# Plot params\n",
    "df_tmp = df.loc[df.Metric == 'n_iters',:]\n",
    "sns.boxplot(data=df_tmp, x=\"Value\", y=\"Metric\", hue='Trial')"
   ]
  },
  {
   "cell_type": "code",
   "execution_count": 20,
   "id": "230895f9-16aa-43e6-b80d-d75176ca0f8b",
   "metadata": {},
   "outputs": [
    {
     "name": "stderr",
     "output_type": "stream",
     "text": [
      "/local/mcesped.17285336.0/tmp/kslurm-venv-hwgg3250/lib/python3.10/site-packages/seaborn/_oldcore.py:1498: FutureWarning: is_categorical_dtype is deprecated and will be removed in a future version. Use isinstance(dtype, CategoricalDtype) instead\n",
      "  if pd.api.types.is_categorical_dtype(vector):\n",
      "/local/mcesped.17285336.0/tmp/kslurm-venv-hwgg3250/lib/python3.10/site-packages/seaborn/_oldcore.py:1498: FutureWarning: is_categorical_dtype is deprecated and will be removed in a future version. Use isinstance(dtype, CategoricalDtype) instead\n",
      "  if pd.api.types.is_categorical_dtype(vector):\n",
      "/local/mcesped.17285336.0/tmp/kslurm-venv-hwgg3250/lib/python3.10/site-packages/seaborn/_oldcore.py:1498: FutureWarning: is_categorical_dtype is deprecated and will be removed in a future version. Use isinstance(dtype, CategoricalDtype) instead\n",
      "  if pd.api.types.is_categorical_dtype(vector):\n",
      "/local/mcesped.17285336.0/tmp/kslurm-venv-hwgg3250/lib/python3.10/site-packages/seaborn/_oldcore.py:1498: FutureWarning: is_categorical_dtype is deprecated and will be removed in a future version. Use isinstance(dtype, CategoricalDtype) instead\n",
      "  if pd.api.types.is_categorical_dtype(vector):\n"
     ]
    },
    {
     "data": {
      "text/plain": [
       "<Axes: xlabel='Value', ylabel='Metric'>"
      ]
     },
     "execution_count": 20,
     "metadata": {},
     "output_type": "execute_result"
    },
    {
     "data": {
      "image/png": "[encoded data removed]",
      "text/plain": [
       "<Figure size 640x480 with 1 Axes>"
      ]
     },
     "metadata": {},
     "output_type": "display_data"
    }
   ],
   "source": [
    "# Plot params\n",
    "df_tmp = df.loc[(df.Metric == 'AUROC').astype(bool) | (df.Metric == 'AUPRC').astype(bool),:]\n",
    "sns.boxplot(data=df_tmp, x=\"Value\", y=\"Metric\", hue='Trial')"
   ]
  },
  {
   "cell_type": "markdown",
   "id": "ac827261-e833-4f04-b2af-bd07aebca787",
   "metadata": {},
   "source": [
    "# Multiclass as concatenation of binaries"
   ]
  },
  {
   "cell_type": "code",
   "execution_count": 17,
   "id": "e8bfd904-43c7-4c50-bda5-7c7cc03844ea",
   "metadata": {},
   "outputs": [],
   "source": [
    "import numpy as np\n",
    "import json\n",
    "import os\n",
    "import matplotlib.pyplot as plt"
   ]
  },
  {
   "cell_type": "code",
   "execution_count": 81,
   "id": "b6ed134a-a751-4e71-8761-3a02c743829a",
   "metadata": {},
   "outputs": [
    {
     "data": {
      "text/html": [
       "<div>\n",
       "<style scoped>\n",
       "    .dataframe tbody tr th:only-of-type {\n",
       "        vertical-align: middle;\n",
       "    }\n",
       "\n",
       "    .dataframe tbody tr th {\n",
       "        vertical-align: top;\n",
       "    }\n",
       "\n",
       "    .dataframe thead th {\n",
       "        text-align: right;\n",
       "    }\n",
       "</style>\n",
       "<table border=\"1\" class=\"dataframe\">\n",
       "  <thead>\n",
       "    <tr style=\"text-align: right;\">\n",
       "      <th></th>\n",
       "      <th>Value</th>\n",
       "      <th>Metric</th>\n",
       "      <th>Trial</th>\n",
       "      <th>Fold</th>\n",
       "    </tr>\n",
       "  </thead>\n",
       "  <tbody>\n",
       "    <tr>\n",
       "      <th>0</th>\n",
       "      <td>0.926011</td>\n",
       "      <td>acc</td>\n",
       "      <td>10</td>\n",
       "      <td>0</td>\n",
       "    </tr>\n",
       "    <tr>\n",
       "      <th>1</th>\n",
       "      <td>0.865997</td>\n",
       "      <td>balanced_acc</td>\n",
       "      <td>10</td>\n",
       "      <td>0</td>\n",
       "    </tr>\n",
       "    <tr>\n",
       "      <th>2</th>\n",
       "      <td>0.926011</td>\n",
       "      <td>micro_prec</td>\n",
       "      <td>10</td>\n",
       "      <td>0</td>\n",
       "    </tr>\n",
       "    <tr>\n",
       "      <th>3</th>\n",
       "      <td>0.711477</td>\n",
       "      <td>macro_prec</td>\n",
       "      <td>10</td>\n",
       "      <td>0</td>\n",
       "    </tr>\n",
       "    <tr>\n",
       "      <th>4</th>\n",
       "      <td>0.948898</td>\n",
       "      <td>weighted_prec</td>\n",
       "      <td>10</td>\n",
       "      <td>0</td>\n",
       "    </tr>\n",
       "    <tr>\n",
       "      <th>5</th>\n",
       "      <td>0.926011</td>\n",
       "      <td>micro_recall</td>\n",
       "      <td>10</td>\n",
       "      <td>0</td>\n",
       "    </tr>\n",
       "    <tr>\n",
       "      <th>6</th>\n",
       "      <td>0.865997</td>\n",
       "      <td>macro_recall</td>\n",
       "      <td>10</td>\n",
       "      <td>0</td>\n",
       "    </tr>\n",
       "    <tr>\n",
       "      <th>7</th>\n",
       "      <td>0.926011</td>\n",
       "      <td>weighted_recall</td>\n",
       "      <td>10</td>\n",
       "      <td>0</td>\n",
       "    </tr>\n",
       "    <tr>\n",
       "      <th>8</th>\n",
       "      <td>0.926011</td>\n",
       "      <td>micro_f1</td>\n",
       "      <td>10</td>\n",
       "      <td>0</td>\n",
       "    </tr>\n",
       "    <tr>\n",
       "      <th>9</th>\n",
       "      <td>0.764598</td>\n",
       "      <td>macro_f1</td>\n",
       "      <td>10</td>\n",
       "      <td>0</td>\n",
       "    </tr>\n",
       "    <tr>\n",
       "      <th>10</th>\n",
       "      <td>0.934044</td>\n",
       "      <td>weighted_f1</td>\n",
       "      <td>10</td>\n",
       "      <td>0</td>\n",
       "    </tr>\n",
       "    <tr>\n",
       "      <th>11</th>\n",
       "      <td>{'0.0': {'precision': 0.9902735056945714, 'rec...</td>\n",
       "      <td>class_report</td>\n",
       "      <td>10</td>\n",
       "      <td>0</td>\n",
       "    </tr>\n",
       "    <tr>\n",
       "      <th>12</th>\n",
       "      <td>[[11912, 424, 493], [44, 1832, 47], [73, 40, 2...</td>\n",
       "      <td>conf_matrix</td>\n",
       "      <td>10</td>\n",
       "      <td>0</td>\n",
       "    </tr>\n",
       "  </tbody>\n",
       "</table>\n",
       "</div>"
      ],
      "text/plain": [
       "                                                Value           Metric  Trial  \\\n",
       "0                                            0.926011              acc     10   \n",
       "1                                            0.865997     balanced_acc     10   \n",
       "2                                            0.926011       micro_prec     10   \n",
       "3                                            0.711477       macro_prec     10   \n",
       "4                                            0.948898    weighted_prec     10   \n",
       "5                                            0.926011     micro_recall     10   \n",
       "6                                            0.865997     macro_recall     10   \n",
       "7                                            0.926011  weighted_recall     10   \n",
       "8                                            0.926011         micro_f1     10   \n",
       "9                                            0.764598         macro_f1     10   \n",
       "10                                           0.934044      weighted_f1     10   \n",
       "11  {'0.0': {'precision': 0.9902735056945714, 'rec...     class_report     10   \n",
       "12  [[11912, 424, 493], [44, 1832, 47], [73, 40, 2...      conf_matrix     10   \n",
       "\n",
       "    Fold  \n",
       "0      0  \n",
       "1      0  \n",
       "2      0  \n",
       "3      0  \n",
       "4      0  \n",
       "5      0  \n",
       "6      0  \n",
       "7      0  \n",
       "8      0  \n",
       "9      0  \n",
       "10     0  \n",
       "11     0  \n",
       "12     0  "
      ]
     },
     "execution_count": 81,
     "metadata": {},
     "output_type": "execute_result"
    }
   ],
   "source": [
    "trials=[(10, 'Multiclass'), (12, 'Binary'), (13, 'Binary')]\n",
    "folds = np.arange(20)\n",
    "total = {\n",
    "    'Value':[],\n",
    "    'Metric':[],\n",
    "    'Trial': [],\n",
    "    'Fold': []\n",
    "}\n",
    "for trial, type_val in trials:\n",
    "    for fold in folds:\n",
    "        path_results = f'/home/mcesped/scratch/code/NoiseDetection_iEEG/Reports/Multiclass/2048Hz/trial_{trial}/fold_{fold}/results_val.txt'\n",
    "        if os.path.exists(path_results):\n",
    "            with open(path_results, 'r') as f:\n",
    "                data = json.load(f)\n",
    "                if type_val == 'Multiclass':\n",
    "                    total['Metric'] += [metric for metric in data]\n",
    "                    total['Trial'] += [trial for metric in data]\n",
    "                    total['Fold'] += [fold for metric in data]\n",
    "                    for metric in data:\n",
    "                        total['Value'].append(data[metric])\n",
    "                else:\n",
    "                    total['Metric'] += [metric for metric in data['argmax']]\n",
    "                    total['Trial'] += [trial for metric in data['argmax']]\n",
    "                    total['Fold'] += [fold for metric in data['argmax']]\n",
    "                    for metric in data['argmax']:\n",
    "                        total['Value'].append(data['argmax'][metric])\n",
    "        else:\n",
    "            print(path_results)\n",
    "\n",
    "df = pd.DataFrame(total)\n",
    "df.head(13)"
   ]
  },
  {
   "cell_type": "code",
   "execution_count": 101,
   "id": "ddc2f992-079b-4b1a-a413-0e0178caa764",
   "metadata": {},
   "outputs": [
    {
     "data": {
      "text/plain": [
       "(['acc',\n",
       "  'balanced_acc',\n",
       "  'micro_prec',\n",
       "  'macro_prec',\n",
       "  'weighted_prec',\n",
       "  'micro_recall',\n",
       "  'macro_recall',\n",
       "  'weighted_recall',\n",
       "  'micro_f1',\n",
       "  'macro_f1',\n",
       "  'weighted_f1',\n",
       "  'class_report',\n",
       "  'conf_matrix'],\n",
       " 13)"
      ]
     },
     "execution_count": 101,
     "metadata": {},
     "output_type": "execute_result"
    }
   ],
   "source": [
    "list(total.keys()), len(list(total.keys()))"
   ]
  },
  {
   "cell_type": "code",
   "execution_count": 95,
   "id": "9fd2a205-8448-4e0f-bb4b-8812b4d71e38",
   "metadata": {},
   "outputs": [],
   "source": [
    "# Plot params\n",
    "df_tmp = df.loc[(df.Metric != 'class_report').astype(bool) & (df.Metric != 'conf_matrix').astype(bool) & (df.Metric != 'n_iters').astype(bool),:]\n",
    "# sns.boxplot(data=df_tmp, x=\"Value\", y=\"Metric\", hue='Trial')"
   ]
  },
  {
   "cell_type": "code",
   "execution_count": 94,
   "id": "fc3f8fe2-4135-401d-88b9-7bb8e2a50b63",
   "metadata": {},
   "outputs": [
    {
     "name": "stderr",
     "output_type": "stream",
     "text": [
      "/local/mcesped.17285336.0/tmp/kslurm-venv-hwgg3250/lib/python3.10/site-packages/seaborn/_oldcore.py:1498: FutureWarning: is_categorical_dtype is deprecated and will be removed in a future version. Use isinstance(dtype, CategoricalDtype) instead\n",
      "  if pd.api.types.is_categorical_dtype(vector):\n",
      "/local/mcesped.17285336.0/tmp/kslurm-venv-hwgg3250/lib/python3.10/site-packages/seaborn/_oldcore.py:1498: FutureWarning: is_categorical_dtype is deprecated and will be removed in a future version. Use isinstance(dtype, CategoricalDtype) instead\n",
      "  if pd.api.types.is_categorical_dtype(vector):\n",
      "/local/mcesped.17285336.0/tmp/kslurm-venv-hwgg3250/lib/python3.10/site-packages/seaborn/_oldcore.py:1498: FutureWarning: is_categorical_dtype is deprecated and will be removed in a future version. Use isinstance(dtype, CategoricalDtype) instead\n",
      "  if pd.api.types.is_categorical_dtype(vector):\n",
      "/local/mcesped.17285336.0/tmp/kslurm-venv-hwgg3250/lib/python3.10/site-packages/seaborn/_oldcore.py:1498: FutureWarning: is_categorical_dtype is deprecated and will be removed in a future version. Use isinstance(dtype, CategoricalDtype) instead\n",
      "  if pd.api.types.is_categorical_dtype(vector):\n"
     ]
    },
    {
     "data": {
      "text/plain": [
       "<Axes: xlabel='Value', ylabel='Metric'>"
      ]
     },
     "execution_count": 94,
     "metadata": {},
     "output_type": "execute_result"
    },
    {
     "data": {
      "image/png": "[encoded data removed]",
      "text/plain": [
       "<Figure size 640x480 with 1 Axes>"
      ]
     },
     "metadata": {},
     "output_type": "display_data"
    }
   ],
   "source": [
    "# Plot params\n",
    "boolean = (df.Metric == 'acc').astype(bool) | (df.Metric == 'balanced_acc').astype(bool) | (df.Metric == 'macro_prec').astype(bool) | (df.Metric == 'macro_recall').astype(bool) | (df.Metric == 'macro_f1').astype(bool)\n",
    "df_tmp = df.loc[boolean,:]\n",
    "sns.boxplot(data=df_tmp, x=\"Value\", y=\"Metric\", hue='Trial')"
   ]
  },
  {
   "cell_type": "code",
   "execution_count": 83,
   "id": "bd0d27fc-d959-436d-991e-34a42b43566f",
   "metadata": {},
   "outputs": [
    {
     "data": {
      "text/html": [
       "<div>\n",
       "<style scoped>\n",
       "    .dataframe tbody tr th:only-of-type {\n",
       "        vertical-align: middle;\n",
       "    }\n",
       "\n",
       "    .dataframe tbody tr th {\n",
       "        vertical-align: top;\n",
       "    }\n",
       "\n",
       "    .dataframe thead th {\n",
       "        text-align: right;\n",
       "    }\n",
       "</style>\n",
       "<table border=\"1\" class=\"dataframe\">\n",
       "  <thead>\n",
       "    <tr style=\"text-align: right;\">\n",
       "      <th></th>\n",
       "      <th>Value</th>\n",
       "      <th>Metric</th>\n",
       "      <th>Trial</th>\n",
       "      <th>Fold</th>\n",
       "    </tr>\n",
       "  </thead>\n",
       "  <tbody>\n",
       "    <tr>\n",
       "      <th>746</th>\n",
       "      <td>{'0': {'precision': 0.6869594145043247, 'recal...</td>\n",
       "      <td>class_report</td>\n",
       "      <td>13</td>\n",
       "      <td>15</td>\n",
       "    </tr>\n",
       "    <tr>\n",
       "      <th>759</th>\n",
       "      <td>{'0': {'precision': 0.9869433754810335, 'recal...</td>\n",
       "      <td>class_report</td>\n",
       "      <td>13</td>\n",
       "      <td>16</td>\n",
       "    </tr>\n",
       "    <tr>\n",
       "      <th>772</th>\n",
       "      <td>{'0': {'precision': 0.7638438994292766, 'recal...</td>\n",
       "      <td>class_report</td>\n",
       "      <td>13</td>\n",
       "      <td>17</td>\n",
       "    </tr>\n",
       "    <tr>\n",
       "      <th>785</th>\n",
       "      <td>{'0': {'precision': 0.7346550787615427, 'recal...</td>\n",
       "      <td>class_report</td>\n",
       "      <td>13</td>\n",
       "      <td>18</td>\n",
       "    </tr>\n",
       "    <tr>\n",
       "      <th>798</th>\n",
       "      <td>{'0': {'precision': 0.6047004771160982, 'recal...</td>\n",
       "      <td>class_report</td>\n",
       "      <td>13</td>\n",
       "      <td>19</td>\n",
       "    </tr>\n",
       "  </tbody>\n",
       "</table>\n",
       "</div>"
      ],
      "text/plain": [
       "                                                 Value        Metric  Trial  \\\n",
       "746  {'0': {'precision': 0.6869594145043247, 'recal...  class_report     13   \n",
       "759  {'0': {'precision': 0.9869433754810335, 'recal...  class_report     13   \n",
       "772  {'0': {'precision': 0.7638438994292766, 'recal...  class_report     13   \n",
       "785  {'0': {'precision': 0.7346550787615427, 'recal...  class_report     13   \n",
       "798  {'0': {'precision': 0.6047004771160982, 'recal...  class_report     13   \n",
       "\n",
       "     Fold  \n",
       "746    15  \n",
       "759    16  \n",
       "772    17  \n",
       "785    18  \n",
       "798    19  "
      ]
     },
     "execution_count": 83,
     "metadata": {},
     "output_type": "execute_result"
    }
   ],
   "source": [
    "df_classes = df.loc[(df.Metric == 'class_report'),:]\n",
    "df_classes.tail()"
   ]
  },
  {
   "cell_type": "code",
   "execution_count": 62,
   "id": "12f5e5ab-4e0f-456d-864a-ec8d0444a03f",
   "metadata": {},
   "outputs": [
    {
     "data": {
      "text/plain": [
       "[0, 1, 2]"
      ]
     },
     "execution_count": 62,
     "metadata": {},
     "output_type": "execute_result"
    }
   ],
   "source": [
    "np.array(list(metrics_dict.keys()))[0:3].astype(int).tolist()"
   ]
  },
  {
   "cell_type": "code",
   "execution_count": 84,
   "id": "561ecd78-1b2b-4383-b3df-5535fe8f628c",
   "metadata": {},
   "outputs": [
    {
     "data": {
      "text/html": [
       "<div>\n",
       "<style scoped>\n",
       "    .dataframe tbody tr th:only-of-type {\n",
       "        vertical-align: middle;\n",
       "    }\n",
       "\n",
       "    .dataframe tbody tr th {\n",
       "        vertical-align: top;\n",
       "    }\n",
       "\n",
       "    .dataframe thead th {\n",
       "        text-align: right;\n",
       "    }\n",
       "</style>\n",
       "<table border=\"1\" class=\"dataframe\">\n",
       "  <thead>\n",
       "    <tr style=\"text-align: right;\">\n",
       "      <th></th>\n",
       "      <th>Value</th>\n",
       "      <th>Metric</th>\n",
       "      <th>Trial</th>\n",
       "      <th>Fold</th>\n",
       "      <th>Class</th>\n",
       "    </tr>\n",
       "  </thead>\n",
       "  <tbody>\n",
       "    <tr>\n",
       "      <th>0</th>\n",
       "      <td>0.990274</td>\n",
       "      <td>precision</td>\n",
       "      <td>10</td>\n",
       "      <td>0</td>\n",
       "      <td>0.0</td>\n",
       "    </tr>\n",
       "    <tr>\n",
       "      <th>1</th>\n",
       "      <td>0.928521</td>\n",
       "      <td>recall</td>\n",
       "      <td>10</td>\n",
       "      <td>0</td>\n",
       "      <td>0.0</td>\n",
       "    </tr>\n",
       "    <tr>\n",
       "      <th>2</th>\n",
       "      <td>0.958404</td>\n",
       "      <td>f1-score</td>\n",
       "      <td>10</td>\n",
       "      <td>0</td>\n",
       "      <td>0.0</td>\n",
       "    </tr>\n",
       "    <tr>\n",
       "      <th>3</th>\n",
       "      <td>12829.000000</td>\n",
       "      <td>support</td>\n",
       "      <td>10</td>\n",
       "      <td>0</td>\n",
       "      <td>0.0</td>\n",
       "    </tr>\n",
       "    <tr>\n",
       "      <th>4</th>\n",
       "      <td>0.797909</td>\n",
       "      <td>precision</td>\n",
       "      <td>10</td>\n",
       "      <td>0</td>\n",
       "      <td>1.0</td>\n",
       "    </tr>\n",
       "  </tbody>\n",
       "</table>\n",
       "</div>"
      ],
      "text/plain": [
       "          Value     Metric  Trial  Fold  Class\n",
       "0      0.990274  precision     10     0    0.0\n",
       "1      0.928521     recall     10     0    0.0\n",
       "2      0.958404   f1-score     10     0    0.0\n",
       "3  12829.000000    support     10     0    0.0\n",
       "4      0.797909  precision     10     0    1.0"
      ]
     },
     "execution_count": 84,
     "metadata": {},
     "output_type": "execute_result"
    }
   ],
   "source": [
    "# Metrics for each class\n",
    "total = {\n",
    "    'Value':[],\n",
    "    'Metric':[],\n",
    "    'Trial': [],\n",
    "    'Fold': [],\n",
    "    'Class': []\n",
    "}\n",
    "for i in range(len(df_classes)):\n",
    "    metrics_dict=df_classes.iloc[i,0]\n",
    "    for cat in list(metrics_dict.keys())[0:3]:\n",
    "        total['Fold'] += [df_classes.iloc[i,3] for k in metrics_dict[cat]]\n",
    "        total['Trial'] += [df_classes.iloc[i,2] for k in metrics_dict[cat]]\n",
    "        total['Metric'] += list(metrics_dict[cat].keys())\n",
    "        total['Value'] += list(metrics_dict[cat].values())\n",
    "        total['Class'] += [float(cat) for k in metrics_dict[cat]]\n",
    "df_classes = pd.DataFrame(total)\n",
    "df_classes.head()"
   ]
  },
  {
   "cell_type": "code",
   "execution_count": 92,
   "id": "001eae08-e333-4867-bccf-5e6dd25e6f87",
   "metadata": {},
   "outputs": [
    {
     "name": "stdout",
     "output_type": "stream",
     "text": [
      "\n",
      " label: Noise\n",
      "\n",
      "precision 0.6641154535686924\n",
      "recall 0.8229071737133498\n",
      "f1-score 0.7179639070544708\n"
     ]
    },
    {
     "name": "stderr",
     "output_type": "stream",
     "text": [
      "/local/mcesped.17285336.0/tmp/kslurm-venv-hwgg3250/lib/python3.10/site-packages/seaborn/_oldcore.py:1498: FutureWarning: is_categorical_dtype is deprecated and will be removed in a future version. Use isinstance(dtype, CategoricalDtype) instead\n",
      "  if pd.api.types.is_categorical_dtype(vector):\n",
      "/local/mcesped.17285336.0/tmp/kslurm-venv-hwgg3250/lib/python3.10/site-packages/seaborn/_oldcore.py:1498: FutureWarning: is_categorical_dtype is deprecated and will be removed in a future version. Use isinstance(dtype, CategoricalDtype) instead\n",
      "  if pd.api.types.is_categorical_dtype(vector):\n",
      "/local/mcesped.17285336.0/tmp/kslurm-venv-hwgg3250/lib/python3.10/site-packages/seaborn/_oldcore.py:1498: FutureWarning: is_categorical_dtype is deprecated and will be removed in a future version. Use isinstance(dtype, CategoricalDtype) instead\n",
      "  if pd.api.types.is_categorical_dtype(vector):\n",
      "/local/mcesped.17285336.0/tmp/kslurm-venv-hwgg3250/lib/python3.10/site-packages/seaborn/_oldcore.py:1498: FutureWarning: is_categorical_dtype is deprecated and will be removed in a future version. Use isinstance(dtype, CategoricalDtype) instead\n",
      "  if pd.api.types.is_categorical_dtype(vector):\n"
     ]
    },
    {
     "data": {
      "image/png": "[encoded data removed]",
      "text/plain": [
       "<Figure size 640x480 with 1 Axes>"
      ]
     },
     "metadata": {},
     "output_type": "display_data"
    },
    {
     "name": "stdout",
     "output_type": "stream",
     "text": [
      "\n",
      " label: Pathology\n",
      "\n",
      "precision 0.8100965591992052\n",
      "recall 0.8440278860569715\n",
      "f1-score 0.8095075788086148\n"
     ]
    },
    {
     "name": "stderr",
     "output_type": "stream",
     "text": [
      "/local/mcesped.17285336.0/tmp/kslurm-venv-hwgg3250/lib/python3.10/site-packages/seaborn/_oldcore.py:1498: FutureWarning: is_categorical_dtype is deprecated and will be removed in a future version. Use isinstance(dtype, CategoricalDtype) instead\n",
      "  if pd.api.types.is_categorical_dtype(vector):\n",
      "/local/mcesped.17285336.0/tmp/kslurm-venv-hwgg3250/lib/python3.10/site-packages/seaborn/_oldcore.py:1498: FutureWarning: is_categorical_dtype is deprecated and will be removed in a future version. Use isinstance(dtype, CategoricalDtype) instead\n",
      "  if pd.api.types.is_categorical_dtype(vector):\n",
      "/local/mcesped.17285336.0/tmp/kslurm-venv-hwgg3250/lib/python3.10/site-packages/seaborn/_oldcore.py:1498: FutureWarning: is_categorical_dtype is deprecated and will be removed in a future version. Use isinstance(dtype, CategoricalDtype) instead\n",
      "  if pd.api.types.is_categorical_dtype(vector):\n",
      "/local/mcesped.17285336.0/tmp/kslurm-venv-hwgg3250/lib/python3.10/site-packages/seaborn/_oldcore.py:1498: FutureWarning: is_categorical_dtype is deprecated and will be removed in a future version. Use isinstance(dtype, CategoricalDtype) instead\n",
      "  if pd.api.types.is_categorical_dtype(vector):\n"
     ]
    },
    {
     "data": {
      "image/png": "[encoded data removed]",
      "text/plain": [
       "<Figure size 640x480 with 1 Axes>"
      ]
     },
     "metadata": {},
     "output_type": "display_data"
    },
    {
     "name": "stdout",
     "output_type": "stream",
     "text": [
      "\n",
      " label: Physiology\n",
      "\n",
      "precision 0.8273885094932771\n",
      "recall 0.7535836345358023\n",
      "f1-score 0.7108695997297139\n"
     ]
    },
    {
     "name": "stderr",
     "output_type": "stream",
     "text": [
      "/local/mcesped.17285336.0/tmp/kslurm-venv-hwgg3250/lib/python3.10/site-packages/seaborn/_oldcore.py:1498: FutureWarning: is_categorical_dtype is deprecated and will be removed in a future version. Use isinstance(dtype, CategoricalDtype) instead\n",
      "  if pd.api.types.is_categorical_dtype(vector):\n",
      "/local/mcesped.17285336.0/tmp/kslurm-venv-hwgg3250/lib/python3.10/site-packages/seaborn/_oldcore.py:1498: FutureWarning: is_categorical_dtype is deprecated and will be removed in a future version. Use isinstance(dtype, CategoricalDtype) instead\n",
      "  if pd.api.types.is_categorical_dtype(vector):\n",
      "/local/mcesped.17285336.0/tmp/kslurm-venv-hwgg3250/lib/python3.10/site-packages/seaborn/_oldcore.py:1498: FutureWarning: is_categorical_dtype is deprecated and will be removed in a future version. Use isinstance(dtype, CategoricalDtype) instead\n",
      "  if pd.api.types.is_categorical_dtype(vector):\n",
      "/local/mcesped.17285336.0/tmp/kslurm-venv-hwgg3250/lib/python3.10/site-packages/seaborn/_oldcore.py:1498: FutureWarning: is_categorical_dtype is deprecated and will be removed in a future version. Use isinstance(dtype, CategoricalDtype) instead\n",
      "  if pd.api.types.is_categorical_dtype(vector):\n"
     ]
    },
    {
     "data": {
      "image/png": "[encoded data removed]",
      "text/plain": [
       "<Figure size 640x480 with 1 Axes>"
      ]
     },
     "metadata": {},
     "output_type": "display_data"
    }
   ],
   "source": [
    "# Metrics for Noise\n",
    "for class_n, label in enumerate(['Noise', 'Pathology', 'Physiology']):\n",
    "    df_metric = df_classes.loc[(df_classes.Metric != 'support').astype(bool) & (df_classes.Class == class_n).astype(bool),:]\n",
    "    # Print for every metric the median\n",
    "    print(f'\\n label: {label}\\n')\n",
    "    for metric in df_metric.Metric.unique():\n",
    "        print(metric, df_metric.loc[df_metric.Metric==metric,'Value'].median())\n",
    "    ax = sns.boxplot(data=df_metric, x=\"Value\", y=\"Metric\", hue='Trial')\n",
    "    ax.set_title(label)\n",
    "    plt.show()"
   ]
  },
  {
   "cell_type": "code",
   "execution_count": 93,
   "id": "7147b31e-bde4-48f6-b5da-b9b7f6c54706",
   "metadata": {},
   "outputs": [
    {
     "data": {
      "text/html": [
       "<div>\n",
       "<style scoped>\n",
       "    .dataframe tbody tr th:only-of-type {\n",
       "        vertical-align: middle;\n",
       "    }\n",
       "\n",
       "    .dataframe tbody tr th {\n",
       "        vertical-align: top;\n",
       "    }\n",
       "\n",
       "    .dataframe thead th {\n",
       "        text-align: right;\n",
       "    }\n",
       "</style>\n",
       "<table border=\"1\" class=\"dataframe\">\n",
       "  <thead>\n",
       "    <tr style=\"text-align: right;\">\n",
       "      <th></th>\n",
       "      <th>Value</th>\n",
       "      <th>Metric</th>\n",
       "      <th>Trial</th>\n",
       "      <th>Fold</th>\n",
       "      <th>Class</th>\n",
       "    </tr>\n",
       "  </thead>\n",
       "  <tbody>\n",
       "    <tr>\n",
       "      <th>0</th>\n",
       "      <td>0.990274</td>\n",
       "      <td>precision</td>\n",
       "      <td>10</td>\n",
       "      <td>0</td>\n",
       "      <td>0.0</td>\n",
       "    </tr>\n",
       "    <tr>\n",
       "      <th>1</th>\n",
       "      <td>0.928521</td>\n",
       "      <td>recall</td>\n",
       "      <td>10</td>\n",
       "      <td>0</td>\n",
       "      <td>0.0</td>\n",
       "    </tr>\n",
       "    <tr>\n",
       "      <th>2</th>\n",
       "      <td>0.958404</td>\n",
       "      <td>f1-score</td>\n",
       "      <td>10</td>\n",
       "      <td>0</td>\n",
       "      <td>0.0</td>\n",
       "    </tr>\n",
       "    <tr>\n",
       "      <th>12</th>\n",
       "      <td>0.550884</td>\n",
       "      <td>precision</td>\n",
       "      <td>10</td>\n",
       "      <td>1</td>\n",
       "      <td>0.0</td>\n",
       "    </tr>\n",
       "    <tr>\n",
       "      <th>13</th>\n",
       "      <td>0.822690</td>\n",
       "      <td>recall</td>\n",
       "      <td>10</td>\n",
       "      <td>1</td>\n",
       "      <td>0.0</td>\n",
       "    </tr>\n",
       "    <tr>\n",
       "      <th>...</th>\n",
       "      <td>...</td>\n",
       "      <td>...</td>\n",
       "      <td>...</td>\n",
       "      <td>...</td>\n",
       "      <td>...</td>\n",
       "    </tr>\n",
       "    <tr>\n",
       "      <th>697</th>\n",
       "      <td>0.798171</td>\n",
       "      <td>recall</td>\n",
       "      <td>13</td>\n",
       "      <td>18</td>\n",
       "      <td>0.0</td>\n",
       "    </tr>\n",
       "    <tr>\n",
       "      <th>698</th>\n",
       "      <td>0.765097</td>\n",
       "      <td>f1-score</td>\n",
       "      <td>13</td>\n",
       "      <td>18</td>\n",
       "      <td>0.0</td>\n",
       "    </tr>\n",
       "    <tr>\n",
       "      <th>708</th>\n",
       "      <td>0.604700</td>\n",
       "      <td>precision</td>\n",
       "      <td>13</td>\n",
       "      <td>19</td>\n",
       "      <td>0.0</td>\n",
       "    </tr>\n",
       "    <tr>\n",
       "      <th>709</th>\n",
       "      <td>0.915953</td>\n",
       "      <td>recall</td>\n",
       "      <td>13</td>\n",
       "      <td>19</td>\n",
       "      <td>0.0</td>\n",
       "    </tr>\n",
       "    <tr>\n",
       "      <th>710</th>\n",
       "      <td>0.728473</td>\n",
       "      <td>f1-score</td>\n",
       "      <td>13</td>\n",
       "      <td>19</td>\n",
       "      <td>0.0</td>\n",
       "    </tr>\n",
       "  </tbody>\n",
       "</table>\n",
       "<p>180 rows × 5 columns</p>\n",
       "</div>"
      ],
      "text/plain": [
       "        Value     Metric  Trial  Fold  Class\n",
       "0    0.990274  precision     10     0    0.0\n",
       "1    0.928521     recall     10     0    0.0\n",
       "2    0.958404   f1-score     10     0    0.0\n",
       "12   0.550884  precision     10     1    0.0\n",
       "13   0.822690     recall     10     1    0.0\n",
       "..        ...        ...    ...   ...    ...\n",
       "697  0.798171     recall     13    18    0.0\n",
       "698  0.765097   f1-score     13    18    0.0\n",
       "708  0.604700  precision     13    19    0.0\n",
       "709  0.915953     recall     13    19    0.0\n",
       "710  0.728473   f1-score     13    19    0.0\n",
       "\n",
       "[180 rows x 5 columns]"
      ]
     },
     "execution_count": 93,
     "metadata": {},
     "output_type": "execute_result"
    }
   ],
   "source": [
    "df_classes.loc[(df_classes.Metric != 'support').astype(bool) & (df_classes.Class == 0).astype(bool),:]"
   ]
  }
 ],
 "metadata": {
  "kernelspec": {
   "display_name": "Python 3 (ipykernel)",
   "language": "python",
   "name": "python3"
  },
  "language_info": {
   "codemirror_mode": {
    "name": "ipython",
    "version": 3
   },
   "file_extension": ".py",
   "mimetype": "text/x-python",
   "name": "python",
   "nbconvert_exporter": "python",
   "pygments_lexer": "ipython3",
   "version": "3.10.2"
  }
 },
 "nbformat": 4,
 "nbformat_minor": 5
}
