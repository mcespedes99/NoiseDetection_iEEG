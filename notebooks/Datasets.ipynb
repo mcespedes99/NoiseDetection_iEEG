{
 "cells": [
  {
   "cell_type": "code",
   "execution_count": 1,
   "id": "34aa937b-faaf-48b2-a2d9-581ec9910025",
   "metadata": {},
   "outputs": [],
   "source": [
    "import pandas as pd\n",
    "import numpy as np"
   ]
  },
  {
   "cell_type": "code",
   "execution_count": 2,
   "id": "6a9e9951-676e-43f7-878c-d82f651ecefe",
   "metadata": {},
   "outputs": [],
   "source": [
    "df_mayo = pd.read_csv('/scratch/mcesped/Datasets/segments_mayo.csv', sep=\",\", index_col=\"index\")\n",
    "df_fnusa = pd.read_csv('/scratch/mcesped/Datasets/segments_fnusa.csv', sep=\",\", index_col=\"index\")"
   ]
  },
  {
   "cell_type": "markdown",
   "id": "f8bad19a-d6c2-418b-a2b6-0b083758c8d1",
   "metadata": {},
   "source": [
    "# Noise detection"
   ]
  },
  {
   "cell_type": "markdown",
   "id": "4b954728-bbf9-46d6-ba95-ffd0bfcf89e9",
   "metadata": {
    "jp-MarkdownHeadingCollapsed": true
   },
   "source": [
    "## Fnusa"
   ]
  },
  {
   "cell_type": "markdown",
   "id": "bce2dca0-70ed-4bc4-9519-c8952c7f053a",
   "metadata": {},
   "source": [
    "I'll use fnusa for training as it has more data after curation"
   ]
  },
  {
   "cell_type": "code",
   "execution_count": 3,
   "id": "fa656782-ebe9-44a3-a3f5-aa30607f0778",
   "metadata": {},
   "outputs": [
    {
     "name": "stdout",
     "output_type": "stream",
     "text": [
      "subjects from inst fnusa\n",
      "{'noise': [0, 2892, 12, 8463, 5059, 0, 5416, 18, 0, 5876, 3339, 1343, 181], 'path': [1912, 1657, 8076, 0, 1527, 1554, 7738, 1896, 6750, 4260, 4072, 7710, 5318], 'phys': [0, 7809, 0, 0, 5452, 962, 2689, 20860, 0, 1545, 2890, 38217, 14136]}\n"
     ]
    }
   ],
   "source": [
    "counter = {\n",
    "    # 'pw':[],\n",
    "    # 'noise':[],\n",
    "    # 'path':[],\n",
    "    # 'phys':[]\n",
    "}\n",
    "df_evaluated = df_fnusa\n",
    "# Remove power line\n",
    "df_evaluated = df_evaluated.loc[df_evaluated.category_id != 0]\n",
    "df_evaluated.loc[:,'category_id'] = df_evaluated.category_id - 1\n",
    "\n",
    "counter = {\n",
    "    # 'pw':[],\n",
    "    'noise':[],\n",
    "    'path':[],\n",
    "    'phys':[]\n",
    "}\n",
    "for inst in np.unique(df_evaluated.institution):\n",
    "    df_inst = df_evaluated.loc[df_evaluated.institution==inst]\n",
    "    print(f'subjects from inst {inst}')\n",
    "    for subj in np.unique(df_inst.patient_id):\n",
    "        df_subj = df_inst.loc[df_inst.patient_id==subj]\n",
    "        for cat_id, cat_name in [(0, 'noise'), (1, 'path'), (2,'phys')]:\n",
    "            counter[cat_name].append(len(df_subj.loc[df_subj.category_id==cat_id]))\n",
    "print(counter)"
   ]
  },
  {
   "cell_type": "code",
   "execution_count": 4,
   "id": "dd1d0de8-df32-4e62-8eb1-0ba5eb6e88cf",
   "metadata": {},
   "outputs": [
    {
     "name": "stdout",
     "output_type": "stream",
     "text": [
      "noise \n",
      "Number of subj: 10 \n",
      "Median events per subj 3115.5 \n",
      "Total events proportion 18.147960518624497 \n",
      "Total events: 32599\n",
      "\n",
      "path \n",
      "Number of subj: 12 \n",
      "Median events per subj 4166.0 \n",
      "Total events proportion 29.21020547907075 \n",
      "Total events: 52470\n",
      "\n",
      "phys \n",
      "Number of subj: 9 \n",
      "Median events per subj 5452.0 \n",
      "Total events proportion 52.64183400230475 \n",
      "Total events: 94560\n",
      "\n"
     ]
    }
   ],
   "source": [
    "for cat in counter:\n",
    "    array_count = np.array(counter[cat])\n",
    "    print(cat,f'\\nNumber of subj: {len(array_count[array_count!=0])}', f'\\nMedian events per subj {np.median(array_count[array_count!=0])}',f'\\nTotal events proportion {np.sum(array_count)*100/len(df_evaluated)}', f'\\nTotal events: {np.sum(array_count)}\\n')"
   ]
  },
  {
   "cell_type": "code",
   "execution_count": 5,
   "id": "9d53267d-f5b3-4061-bd16-b09724956bad",
   "metadata": {},
   "outputs": [
    {
     "name": "stdout",
     "output_type": "stream",
     "text": [
      "subjects from inst fnusa\n"
     ]
    }
   ],
   "source": [
    "# Curate\n",
    "max_img_subj_cat = {\n",
    "    'noise': 3000, # Pay more the noise\n",
    "    'path': 800, # Less path at it is not so hard to identify\n",
    "    'phys': 1300\n",
    "}\n",
    "df_curated = []\n",
    "for inst in np.unique(df_evaluated.institution):\n",
    "    df_inst = df_evaluated.loc[df_evaluated.institution==inst]\n",
    "    print(f'subjects from inst {inst}')\n",
    "    for subj in np.unique(df_inst.patient_id):\n",
    "        df_subj = df_inst.loc[df_inst.patient_id==subj]\n",
    "        for cat_id, cat_name in [(0, 'noise'), (1, 'path'), (2,'phys')]:\n",
    "            df_cat = df_subj.loc[df_subj.category_id==cat_id]\n",
    "            if len(df_curated)<1:\n",
    "                df_curated = df_cat.sample(min(len(df_cat),max_img_subj_cat[cat_name]))\n",
    "            else:\n",
    "                df_curated = pd.concat([df_curated, df_cat.sample(min(len(df_cat),max_img_subj_cat[cat_name]))])\n",
    "df_curated = df_curated.reset_index(drop=True)"
   ]
  },
  {
   "cell_type": "code",
   "execution_count": 6,
   "id": "9d4db118-5484-4bbe-8dea-3a04b84a47bc",
   "metadata": {},
   "outputs": [
    {
     "data": {
      "text/plain": [
       "40408"
      ]
     },
     "execution_count": 6,
     "metadata": {},
     "output_type": "execute_result"
    }
   ],
   "source": [
    "len(df_curated)"
   ]
  },
  {
   "cell_type": "code",
   "execution_count": 7,
   "id": "a8459bb9-a424-488f-9e54-96f030876d70",
   "metadata": {},
   "outputs": [
    {
     "name": "stdout",
     "output_type": "stream",
     "text": [
      "subjects from inst fnusa\n",
      "noise \n",
      "Number of subj: 10 \n",
      "Median events per subj 2946.0 \n",
      "Total events proportion 48.124133834884184 \n",
      "Total events: 19446\n",
      "\n",
      "path \n",
      "Number of subj: 12 \n",
      "Median events per subj 800.0 \n",
      "Total events proportion 23.75767174816868 \n",
      "Total events: 9600\n",
      "\n",
      "phys \n",
      "Number of subj: 9 \n",
      "Median events per subj 1300.0 \n",
      "Total events proportion 28.11819441694714 \n",
      "Total events: 11362\n",
      "\n"
     ]
    }
   ],
   "source": [
    "counter = {\n",
    "    'noise':[],\n",
    "    'path':[],\n",
    "    'phys':[]\n",
    "}\n",
    "df_evaluated = df_curated\n",
    "for inst in np.unique(df_evaluated.institution):\n",
    "    df_inst = df_evaluated.loc[df_evaluated.institution==inst]\n",
    "    print(f'subjects from inst {inst}')\n",
    "    for subj in np.unique(df_inst.patient_id):\n",
    "        df_subj = df_inst.loc[df_inst.patient_id==subj]\n",
    "        for cat_id, cat_name in [(0, 'noise'), (1, 'path'), (2,'phys')]:\n",
    "            counter[cat_name].append(len(df_subj.loc[df_subj.category_id==cat_id]))\n",
    "\n",
    "for cat in counter:\n",
    "    array_count = np.array(counter[cat])\n",
    "    print(cat,f'\\nNumber of subj: {len(array_count[array_count!=0])}', f'\\nMedian events per subj {np.median(array_count[array_count!=0])}',f'\\nTotal events proportion {np.sum(array_count)*100/len(df_evaluated)}', f'\\nTotal events: {np.sum(array_count)}\\n')"
   ]
  },
  {
   "cell_type": "markdown",
   "id": "e086f64a-70e4-4369-ae3a-bca2549f1d1c",
   "metadata": {},
   "source": [
    "Therefore, for a 70/30 split, we would need in the val set per class:"
   ]
  },
  {
   "cell_type": "code",
   "execution_count": 8,
   "id": "318beac1-4945-4e08-911f-ce09f207aee0",
   "metadata": {},
   "outputs": [
    {
     "name": "stdout",
     "output_type": "stream",
     "text": [
      "noise \n",
      "Total events in val set: 5833.8\n",
      "\n",
      "path \n",
      "Total events in val set: 2880.0\n",
      "\n",
      "phys \n",
      "Total events in val set: 3408.6\n",
      "\n"
     ]
    }
   ],
   "source": [
    "for cat in counter:\n",
    "    array_count = np.array(counter[cat])\n",
    "    print(cat, f'\\nTotal events in val set: {np.sum(array_count)*0.3}\\n')"
   ]
  },
  {
   "cell_type": "code",
   "execution_count": 9,
   "id": "04aad005-1b29-4c01-b2e7-d78f8e25fca9",
   "metadata": {},
   "outputs": [
    {
     "data": {
      "text/plain": [
       "(0.48124133834884186, 0.2375767174816868, 0.2811819441694714)"
      ]
     },
     "execution_count": 9,
     "metadata": {},
     "output_type": "execute_result"
    }
   ],
   "source": [
    "# This would mean a dist of:\n",
    "total = 5833.8+2880.0+3408.6\n",
    "5833.8/total, 2880.0/total, 3408.6/total\n",
    "# This is great!"
   ]
  },
  {
   "cell_type": "code",
   "execution_count": 10,
   "id": "a2c3ee06-6723-49f5-b4f5-0890df03b9fd",
   "metadata": {},
   "outputs": [
    {
     "name": "stdout",
     "output_type": "stream",
     "text": [
      "(0, 800, 0)\n",
      "(2892, 800, 1300)\n",
      "(12, 800, 0)\n",
      "(3000, 0, 0)\n",
      "(3000, 800, 1300)\n",
      "(0, 800, 962)\n",
      "(3000, 800, 1300)\n",
      "(18, 800, 1300)\n",
      "(0, 800, 0)\n",
      "(3000, 800, 1300)\n",
      "(3000, 800, 1300)\n",
      "(1343, 800, 1300)\n",
      "(181, 800, 1300)\n"
     ]
    }
   ],
   "source": [
    "for tuple_events in zip(counter['noise'],counter['path'],counter['phys']):\n",
    "    print(tuple_events)"
   ]
  },
  {
   "cell_type": "code",
   "execution_count": 11,
   "id": "0d69e243-e11f-49d8-8331-ac077ca7b9c1",
   "metadata": {},
   "outputs": [
    {
     "data": {
      "text/plain": [
       "array([ 1,  2,  3,  4,  5,  6,  7,  8,  9, 10, 11, 12, 13])"
      ]
     },
     "execution_count": 11,
     "metadata": {},
     "output_type": "execute_result"
    }
   ],
   "source": [
    "df_curated.patient_id.unique()"
   ]
  },
  {
   "cell_type": "markdown",
   "id": "034e6bd3-5f7c-4c78-84fa-30e678e32b8c",
   "metadata": {},
   "source": [
    "Based on this distribution:\n",
    "**Val subjects:** 2, 7, 6, 9\n",
    "\n",
    "- Noise: 2892, 3000, 0\n",
    "- Path: 800, 800,800\n",
    "- Phys: 1300, 1300, 962"
   ]
  },
  {
   "cell_type": "code",
   "execution_count": 13,
   "id": "40ed6121-7982-4684-a40e-23e31c106af0",
   "metadata": {},
   "outputs": [
    {
     "data": {
      "text/plain": [
       "(-58, -320.0, -153)"
      ]
     },
     "execution_count": 13,
     "metadata": {},
     "output_type": "execute_result"
    }
   ],
   "source": [
    "5834-2892-3000, 2880.0-800-800-800-800, 3409-1300-1300-962"
   ]
  },
  {
   "cell_type": "markdown",
   "id": "9c335207-6efd-4708-8440-f6ad1fa56b8e",
   "metadata": {
    "jp-MarkdownHeadingCollapsed": true
   },
   "source": [
    "## Mayo"
   ]
  },
  {
   "cell_type": "code",
   "execution_count": 56,
   "id": "aff16972-40f4-425f-9f16-e0c74b62ae1d",
   "metadata": {},
   "outputs": [
    {
     "name": "stdout",
     "output_type": "stream",
     "text": [
      "subjects from inst mayo\n",
      "{'noise': [2318, 0, 466, 4636, 2063, 1002, 12873, 0, 0, 740, 0, 3699, 4096, 1700, 5613, 1278, 58, 761], 'path': [0, 883, 1923, 0, 0, 0, 0, 0, 2816, 0, 3426, 0, 0, 0, 0, 0, 3432, 2747], 'phys': [330, 8653, 399, 2057, 790, 6583, 0, 25951, 0, 0, 498, 177, 6098, 3126, 0, 1424, 0, 644]}\n"
     ]
    }
   ],
   "source": [
    "counter = {\n",
    "    # 'pw':[],\n",
    "    # 'noise':[],\n",
    "    # 'path':[],\n",
    "    # 'phys':[]\n",
    "}\n",
    "df_evaluated = df_mayo\n",
    "# Remove power line\n",
    "df_evaluated = df_evaluated.loc[df_evaluated.category_id != 0]\n",
    "df_evaluated.loc[:,'category_id'] = df_evaluated.category_id - 1\n",
    "\n",
    "counter = {\n",
    "    # 'pw':[],\n",
    "    'noise':[],\n",
    "    'path':[],\n",
    "    'phys':[]\n",
    "}\n",
    "for inst in np.unique(df_evaluated.institution):\n",
    "    df_inst = df_evaluated.loc[df_evaluated.institution==inst]\n",
    "    print(f'subjects from inst {inst}')\n",
    "    for subj in np.unique(df_inst.patient_id):\n",
    "        df_subj = df_inst.loc[df_inst.patient_id==subj]\n",
    "        for cat_id, cat_name in [(0, 'noise'), (1, 'path'), (2,'phys')]:\n",
    "            counter[cat_name].append(len(df_subj.loc[df_subj.category_id==cat_id]))\n",
    "print(counter)"
   ]
  },
  {
   "cell_type": "code",
   "execution_count": 42,
   "id": "b7fb7dd2-d29f-4a7a-a31b-41bb265c9410",
   "metadata": {},
   "outputs": [
    {
     "name": "stdout",
     "output_type": "stream",
     "text": [
      "noise \n",
      "Number of subj: 14 \n",
      "Median events per subj 1881.5 \n",
      "Total events proportion 36.46742009535582 \n",
      "Total events: 41303\n",
      "\n",
      "path \n",
      "Number of subj: 6 \n",
      "Median events per subj 2781.5 \n",
      "Total events proportion 13.444287480134204 \n",
      "Total events: 15227\n",
      "\n",
      "phys \n",
      "Number of subj: 13 \n",
      "Median events per subj 1424.0 \n",
      "Total events proportion 50.08829242450998 \n",
      "Total events: 56730\n",
      "\n"
     ]
    }
   ],
   "source": [
    "for cat in counter:\n",
    "    array_count = np.array(counter[cat])\n",
    "    print(cat,f'\\nNumber of subj: {len(array_count[array_count!=0])}', f'\\nMedian events per subj {np.median(array_count[array_count!=0])}',f'\\nTotal events proportion {np.sum(array_count)*100/len(df_evaluated)}', f'\\nTotal events: {np.sum(array_count)}\\n')"
   ]
  },
  {
   "cell_type": "code",
   "execution_count": 57,
   "id": "d904fc87-574f-468e-a4c5-98cada034cbe",
   "metadata": {},
   "outputs": [
    {
     "name": "stdout",
     "output_type": "stream",
     "text": [
      "subjects from inst mayo\n"
     ]
    }
   ],
   "source": [
    "# Curate\n",
    "max_img_subj_cat = {\n",
    "    'noise': 1800, # Pay more the noise\n",
    "    'path': 1000, # Less path at it is not so hard to identify\n",
    "    'phys': 1000\n",
    "}\n",
    "df_curated = []\n",
    "for inst in np.unique(df_evaluated.institution):\n",
    "    df_inst = df_evaluated.loc[df_evaluated.institution==inst]\n",
    "    print(f'subjects from inst {inst}')\n",
    "    for subj in np.unique(df_inst.patient_id):\n",
    "        df_subj = df_inst.loc[df_inst.patient_id==subj]\n",
    "        for cat_id, cat_name in [(0, 'noise'), (1, 'path'), (2,'phys')]:\n",
    "            df_cat = df_subj.loc[df_subj.category_id==cat_id]\n",
    "            if len(df_curated)<1:\n",
    "                df_curated = df_cat.sample(min(len(df_cat),max_img_subj_cat[cat_name]))\n",
    "            else:\n",
    "                df_curated = pd.concat([df_curated, df_cat.sample(min(len(df_cat),max_img_subj_cat[cat_name]))])\n",
    "df_curated = df_curated.reset_index(drop=True)"
   ]
  },
  {
   "cell_type": "code",
   "execution_count": 59,
   "id": "2c86d85d-58f0-4133-a080-a036e02eb590",
   "metadata": {},
   "outputs": [
    {
     "data": {
      "text/plain": [
       "34326"
      ]
     },
     "execution_count": 59,
     "metadata": {},
     "output_type": "execute_result"
    }
   ],
   "source": [
    "len(df_curated)"
   ]
  },
  {
   "cell_type": "code",
   "execution_count": 58,
   "id": "f269ec2b-7512-4c34-a00c-049fb39f737c",
   "metadata": {},
   "outputs": [
    {
     "name": "stdout",
     "output_type": "stream",
     "text": [
      "subjects from inst mayo\n",
      "noise \n",
      "Number of subj: 14 \n",
      "Median events per subj 1750.0 \n",
      "Total events proportion 54.20089727903047 \n",
      "Total events: 18605\n",
      "\n",
      "path \n",
      "Number of subj: 6 \n",
      "Median events per subj 1000.0 \n",
      "Total events proportion 17.138612130746374 \n",
      "Total events: 5883\n",
      "\n",
      "phys \n",
      "Number of subj: 13 \n",
      "Median events per subj 1000.0 \n",
      "Total events proportion 28.660490590223155 \n",
      "Total events: 9838\n",
      "\n"
     ]
    }
   ],
   "source": [
    "counter = {\n",
    "    'noise':[],\n",
    "    'path':[],\n",
    "    'phys':[]\n",
    "}\n",
    "df_evaluated = df_curated\n",
    "for inst in np.unique(df_evaluated.institution):\n",
    "    df_inst = df_evaluated.loc[df_evaluated.institution==inst]\n",
    "    print(f'subjects from inst {inst}')\n",
    "    for subj in np.unique(df_inst.patient_id):\n",
    "        df_subj = df_inst.loc[df_inst.patient_id==subj]\n",
    "        for cat_id, cat_name in [(0, 'noise'), (1, 'path'), (2,'phys')]:\n",
    "            counter[cat_name].append(len(df_subj.loc[df_subj.category_id==cat_id]))\n",
    "\n",
    "for cat in counter:\n",
    "    array_count = np.array(counter[cat])\n",
    "    print(cat,f'\\nNumber of subj: {len(array_count[array_count!=0])}', f'\\nMedian events per subj {np.median(array_count[array_count!=0])}',f'\\nTotal events proportion {np.sum(array_count)*100/len(df_evaluated)}', f'\\nTotal events: {np.sum(array_count)}\\n')"
   ]
  },
  {
   "cell_type": "markdown",
   "id": "5ce23098-edfe-47ec-9433-5e4e289b94cf",
   "metadata": {},
   "source": [
    "Only choosing two subjects for validation: **number 7 and number 10 from fnusa** as it is balanced between classes. Representing ~15% of the total fnusa data."
   ]
  },
  {
   "cell_type": "markdown",
   "id": "31f5bfc9-81d1-43a7-823e-3a2c6a291fc1",
   "metadata": {},
   "source": [
    "# Investigate datasets distribution"
   ]
  },
  {
   "cell_type": "code",
   "execution_count": 3,
   "id": "b32d3758-b385-4e6f-bc3e-38dd90d8e832",
   "metadata": {},
   "outputs": [
    {
     "data": {
      "text/html": [
       "<div>\n",
       "<style scoped>\n",
       "    .dataframe tbody tr th:only-of-type {\n",
       "        vertical-align: middle;\n",
       "    }\n",
       "\n",
       "    .dataframe tbody tr th {\n",
       "        vertical-align: top;\n",
       "    }\n",
       "\n",
       "    .dataframe thead th {\n",
       "        text-align: right;\n",
       "    }\n",
       "</style>\n",
       "<table border=\"1\" class=\"dataframe\">\n",
       "  <thead>\n",
       "    <tr style=\"text-align: right;\">\n",
       "      <th></th>\n",
       "      <th>anatomy</th>\n",
       "      <th>category_id</th>\n",
       "      <th>channel</th>\n",
       "      <th>electrode_type</th>\n",
       "      <th>institution</th>\n",
       "      <th>patient_id</th>\n",
       "      <th>reviewer_id</th>\n",
       "      <th>segment_id</th>\n",
       "      <th>soz</th>\n",
       "      <th>category_name</th>\n",
       "    </tr>\n",
       "    <tr>\n",
       "      <th>index</th>\n",
       "      <th></th>\n",
       "      <th></th>\n",
       "      <th></th>\n",
       "      <th></th>\n",
       "      <th></th>\n",
       "      <th></th>\n",
       "      <th></th>\n",
       "      <th></th>\n",
       "      <th></th>\n",
       "      <th></th>\n",
       "    </tr>\n",
       "  </thead>\n",
       "  <tbody>\n",
       "    <tr>\n",
       "      <th>7132</th>\n",
       "      <td>hippocampus anterior</td>\n",
       "      <td>1</td>\n",
       "      <td>B'1</td>\n",
       "      <td>depth</td>\n",
       "      <td>fnusa</td>\n",
       "      <td>1</td>\n",
       "      <td>2</td>\n",
       "      <td>y007132</td>\n",
       "      <td>1</td>\n",
       "      <td>pathology</td>\n",
       "    </tr>\n",
       "    <tr>\n",
       "      <th>7133</th>\n",
       "      <td>hippocampus anterior</td>\n",
       "      <td>1</td>\n",
       "      <td>B'1</td>\n",
       "      <td>depth</td>\n",
       "      <td>fnusa</td>\n",
       "      <td>1</td>\n",
       "      <td>2</td>\n",
       "      <td>y007133</td>\n",
       "      <td>1</td>\n",
       "      <td>pathology</td>\n",
       "    </tr>\n",
       "    <tr>\n",
       "      <th>7134</th>\n",
       "      <td>hippocampus anterior</td>\n",
       "      <td>1</td>\n",
       "      <td>B'1</td>\n",
       "      <td>depth</td>\n",
       "      <td>fnusa</td>\n",
       "      <td>1</td>\n",
       "      <td>2</td>\n",
       "      <td>y007134</td>\n",
       "      <td>1</td>\n",
       "      <td>pathology</td>\n",
       "    </tr>\n",
       "    <tr>\n",
       "      <th>7135</th>\n",
       "      <td>hippocampus anterior</td>\n",
       "      <td>1</td>\n",
       "      <td>B'1</td>\n",
       "      <td>depth</td>\n",
       "      <td>fnusa</td>\n",
       "      <td>1</td>\n",
       "      <td>2</td>\n",
       "      <td>y007135</td>\n",
       "      <td>1</td>\n",
       "      <td>pathology</td>\n",
       "    </tr>\n",
       "    <tr>\n",
       "      <th>7136</th>\n",
       "      <td>hippocampus anterior</td>\n",
       "      <td>1</td>\n",
       "      <td>B'1</td>\n",
       "      <td>depth</td>\n",
       "      <td>fnusa</td>\n",
       "      <td>1</td>\n",
       "      <td>2</td>\n",
       "      <td>y007136</td>\n",
       "      <td>1</td>\n",
       "      <td>pathology</td>\n",
       "    </tr>\n",
       "  </tbody>\n",
       "</table>\n",
       "</div>"
      ],
      "text/plain": [
       "                    anatomy  category_id channel electrode_type institution  \\\n",
       "index                                                                         \n",
       "7132   hippocampus anterior            1     B'1          depth       fnusa   \n",
       "7133   hippocampus anterior            1     B'1          depth       fnusa   \n",
       "7134   hippocampus anterior            1     B'1          depth       fnusa   \n",
       "7135   hippocampus anterior            1     B'1          depth       fnusa   \n",
       "7136   hippocampus anterior            1     B'1          depth       fnusa   \n",
       "\n",
       "       patient_id  reviewer_id segment_id  soz category_name  \n",
       "index                                                         \n",
       "7132            1            2    y007132    1     pathology  \n",
       "7133            1            2    y007133    1     pathology  \n",
       "7134            1            2    y007134    1     pathology  \n",
       "7135            1            2    y007135    1     pathology  \n",
       "7136            1            2    y007136    1     pathology  "
      ]
     },
     "execution_count": 3,
     "metadata": {},
     "output_type": "execute_result"
    }
   ],
   "source": [
    "df_fnusa_no_pw = df_fnusa.loc[df_fnusa.category_id != 0]\n",
    "df_fnusa_no_pw.loc[:,'category_id'] = df_fnusa_no_pw.category_id - 1\n",
    "\n",
    "df_mayo_no_pw = df_mayo.loc[df_mayo.category_id != 0]\n",
    "df_mayo_no_pw.loc[:,'category_id'] = df_mayo_no_pw.category_id - 1\n",
    "\n",
    "df_fnusa_no_pw.head()"
   ]
  },
  {
   "cell_type": "markdown",
   "id": "47637f42-139f-42e0-99a2-39801cdc042b",
   "metadata": {},
   "source": [
    "Create a full dataset for CV"
   ]
  },
  {
   "cell_type": "code",
   "execution_count": 4,
   "id": "35623db1-d119-49c5-81b2-e62e3ead818d",
   "metadata": {},
   "outputs": [],
   "source": [
    "df_total_cv = df_mayo_no_pw.copy()\n",
    "# Append the mayo dataset but change the subjects numbers\n",
    "df_fnusa_modified = df_fnusa_no_pw.copy()\n",
    "df_fnusa_modified.loc[:,'patient_id'] = df_fnusa_modified.patient_id+ df_total_cv.patient_id.max()"
   ]
  },
  {
   "cell_type": "code",
   "execution_count": 5,
   "id": "d70ea495-4bf6-4e7f-8e07-dbe3049aa659",
   "metadata": {},
   "outputs": [
    {
     "data": {
      "text/html": [
       "<div>\n",
       "<style scoped>\n",
       "    .dataframe tbody tr th:only-of-type {\n",
       "        vertical-align: middle;\n",
       "    }\n",
       "\n",
       "    .dataframe tbody tr th {\n",
       "        vertical-align: top;\n",
       "    }\n",
       "\n",
       "    .dataframe thead th {\n",
       "        text-align: right;\n",
       "    }\n",
       "</style>\n",
       "<table border=\"1\" class=\"dataframe\">\n",
       "  <thead>\n",
       "    <tr style=\"text-align: right;\">\n",
       "      <th></th>\n",
       "      <th>anatomy</th>\n",
       "      <th>category_id</th>\n",
       "      <th>channel</th>\n",
       "      <th>electrode_type</th>\n",
       "      <th>institution</th>\n",
       "      <th>patient_id</th>\n",
       "      <th>reviewer_id</th>\n",
       "      <th>segment_id</th>\n",
       "      <th>soz</th>\n",
       "      <th>category_name</th>\n",
       "    </tr>\n",
       "  </thead>\n",
       "  <tbody>\n",
       "    <tr>\n",
       "      <th>0</th>\n",
       "      <td>NaN</td>\n",
       "      <td>0</td>\n",
       "      <td>LMacro_01</td>\n",
       "      <td>depth</td>\n",
       "      <td>mayo</td>\n",
       "      <td>0</td>\n",
       "      <td>3</td>\n",
       "      <td>x000000</td>\n",
       "      <td>1</td>\n",
       "      <td>noise</td>\n",
       "    </tr>\n",
       "    <tr>\n",
       "      <th>1</th>\n",
       "      <td>NaN</td>\n",
       "      <td>0</td>\n",
       "      <td>LMacro_01</td>\n",
       "      <td>depth</td>\n",
       "      <td>mayo</td>\n",
       "      <td>0</td>\n",
       "      <td>1</td>\n",
       "      <td>x000001</td>\n",
       "      <td>1</td>\n",
       "      <td>noise</td>\n",
       "    </tr>\n",
       "    <tr>\n",
       "      <th>2</th>\n",
       "      <td>NaN</td>\n",
       "      <td>0</td>\n",
       "      <td>LMacro_01</td>\n",
       "      <td>depth</td>\n",
       "      <td>mayo</td>\n",
       "      <td>0</td>\n",
       "      <td>3</td>\n",
       "      <td>x000002</td>\n",
       "      <td>1</td>\n",
       "      <td>noise</td>\n",
       "    </tr>\n",
       "    <tr>\n",
       "      <th>3</th>\n",
       "      <td>NaN</td>\n",
       "      <td>0</td>\n",
       "      <td>LMacro_01</td>\n",
       "      <td>depth</td>\n",
       "      <td>mayo</td>\n",
       "      <td>0</td>\n",
       "      <td>3</td>\n",
       "      <td>x000003</td>\n",
       "      <td>1</td>\n",
       "      <td>noise</td>\n",
       "    </tr>\n",
       "    <tr>\n",
       "      <th>4</th>\n",
       "      <td>NaN</td>\n",
       "      <td>0</td>\n",
       "      <td>LMacro_01</td>\n",
       "      <td>depth</td>\n",
       "      <td>mayo</td>\n",
       "      <td>0</td>\n",
       "      <td>1</td>\n",
       "      <td>x000004</td>\n",
       "      <td>1</td>\n",
       "      <td>noise</td>\n",
       "    </tr>\n",
       "  </tbody>\n",
       "</table>\n",
       "</div>"
      ],
      "text/plain": [
       "  anatomy  category_id    channel electrode_type institution  patient_id  \\\n",
       "0     NaN            0  LMacro_01          depth        mayo           0   \n",
       "1     NaN            0  LMacro_01          depth        mayo           0   \n",
       "2     NaN            0  LMacro_01          depth        mayo           0   \n",
       "3     NaN            0  LMacro_01          depth        mayo           0   \n",
       "4     NaN            0  LMacro_01          depth        mayo           0   \n",
       "\n",
       "   reviewer_id segment_id  soz category_name  \n",
       "0            3    x000000    1         noise  \n",
       "1            1    x000001    1         noise  \n",
       "2            3    x000002    1         noise  \n",
       "3            3    x000003    1         noise  \n",
       "4            1    x000004    1         noise  "
      ]
     },
     "execution_count": 5,
     "metadata": {},
     "output_type": "execute_result"
    }
   ],
   "source": [
    "df_total_cv = pd.concat([df_total_cv, df_fnusa_modified]).reset_index(drop=True)\n",
    "df_total_cv.head()"
   ]
  },
  {
   "cell_type": "code",
   "execution_count": 6,
   "id": "4c6a5fbc-cf8d-4425-b5c3-dd876df7cb40",
   "metadata": {},
   "outputs": [
    {
     "data": {
      "text/plain": [
       "array([ 0,  1,  2,  3,  4,  5,  6,  7,  8,  9, 14, 16, 17, 18, 19, 20, 21,\n",
       "       23, 24, 25, 26, 27, 28, 29, 30, 31, 32, 33, 34, 35, 36])"
      ]
     },
     "execution_count": 6,
     "metadata": {},
     "output_type": "execute_result"
    }
   ],
   "source": [
    "np.unique(df_total_cv.patient_id)"
   ]
  },
  {
   "cell_type": "code",
   "execution_count": 7,
   "id": "62054090-98e8-4b35-9937-414757d13821",
   "metadata": {},
   "outputs": [
    {
     "data": {
      "text/plain": [
       "array([ 0,  1,  2,  3,  4,  5,  6,  7,  8,  9, 14, 16, 17, 18, 19, 20, 21,\n",
       "       23])"
      ]
     },
     "execution_count": 7,
     "metadata": {},
     "output_type": "execute_result"
    }
   ],
   "source": [
    "np.unique(df_mayo_no_pw.patient_id)"
   ]
  },
  {
   "cell_type": "code",
   "execution_count": 25,
   "id": "4ad3dc5e-44e1-4051-aed4-a597a09c56ed",
   "metadata": {},
   "outputs": [
    {
     "name": "stdout",
     "output_type": "stream",
     "text": [
      "noise 0.25\n",
      "pathology 0.23\n",
      "physiology 0.52\n",
      "Total length: 292889\n"
     ]
    }
   ],
   "source": [
    "# Check distribution per class:\n",
    "for cat in np.unique(df_total_cv.category_name):\n",
    "    print(cat, f'{len(df_total_cv.loc[df_total_cv.category_name == cat])/len(df_total_cv):.2f}')\n",
    "print(f'Total length: {len(df_total_cv)}')"
   ]
  },
  {
   "cell_type": "code",
   "execution_count": 9,
   "id": "13d78c47-cc33-40ac-8b90-53a3838c011d",
   "metadata": {},
   "outputs": [
    {
     "name": "stdout",
     "output_type": "stream",
     "text": [
      "subjects from inst fnusa\n",
      "subjects from inst mayo\n",
      "Median percentage of class noise: 0.23\n",
      "Median percentage of class path: 0.13\n",
      "Median percentage of class phys: 0.17\n"
     ]
    },
    {
     "data": {
      "image/png": "[encoded data removed]",
      "text/plain": [
       "<Figure size 1500x500 with 3 Axes>"
      ]
     },
     "metadata": {},
     "output_type": "display_data"
    }
   ],
   "source": [
    "import matplotlib.pyplot as plt\n",
    "# Check distribution as average per subj\n",
    "counter = {\n",
    "    'noise':[],\n",
    "    'path':[],\n",
    "    'phys':[]\n",
    "}\n",
    "df_evaluated = df_total_cv\n",
    "for inst in np.unique(df_evaluated.institution):\n",
    "    df_inst = df_evaluated.loc[df_evaluated.institution==inst]\n",
    "    print(f'subjects from inst {inst}')\n",
    "    for subj in np.unique(df_inst.patient_id):\n",
    "        df_subj = df_inst.loc[df_inst.patient_id==subj]\n",
    "        for cat_id, cat_name in [(0, 'noise'), (1, 'path'), (2,'phys')]:\n",
    "            counter[cat_name].append(len(df_subj.loc[df_subj.category_id==cat_id])/len(df_subj))\n",
    "# print(counter)\n",
    "\n",
    "fig, ax = plt.subplots(ncols=3, nrows=1, figsize=(15,5))\n",
    "\n",
    "for i,cat in enumerate(counter):\n",
    "    array_count = np.array(counter[cat])\n",
    "    print(f'Median percentage of class {cat}: {np.median(array_count):.2}')\n",
    "    _ = ax[i].hist(array_count)\n",
    "    _ = ax[i].set_title(f'{cat}')\n"
   ]
  },
  {
   "cell_type": "code",
   "execution_count": 63,
   "id": "1e791122-5b78-4a9e-8367-987024ad59a0",
   "metadata": {},
   "outputs": [],
   "source": [
    "df_total_cv.to_csv('/scratch/mcesped/Datasets/df_total_cv.csv', sep=\",\", index_label='index')"
   ]
  },
  {
   "cell_type": "markdown",
   "id": "5dd7eca3-4d5a-46d0-8f13-0e9b04b35aed",
   "metadata": {
    "jp-MarkdownHeadingCollapsed": true
   },
   "source": [
    "### Original curation\n",
    "Just limiting the amount of samples per class per subject based on the median of each class across subjects. This has the limitation that changes the distribution of the data per subject and then as a global, given way more weight to pathology!!"
   ]
  },
  {
   "cell_type": "code",
   "execution_count": 10,
   "id": "3096b989-5981-4862-9cd2-6b4954441346",
   "metadata": {},
   "outputs": [
    {
     "name": "stdout",
     "output_type": "stream",
     "text": [
      "subjects from inst fnusa\n",
      "subjects from inst mayo\n",
      "{'noise': [0, 2892, 12, 8463, 5059, 0, 5416, 18, 0, 5876, 3339, 1343, 181, 2318, 0, 466, 4636, 2063, 1002, 12873, 0, 0, 740, 0, 3699, 4096, 1700, 5613, 1278, 58, 761], 'path': [1912, 1657, 8076, 0, 1527, 1554, 7738, 1896, 6750, 4260, 4072, 7710, 5318, 0, 883, 1923, 0, 0, 0, 0, 0, 2816, 0, 3426, 0, 0, 0, 0, 0, 3432, 2747], 'phys': [0, 7809, 0, 0, 5452, 962, 2689, 20860, 0, 1545, 2890, 38217, 14136, 330, 8653, 399, 2057, 790, 6583, 0, 25951, 0, 0, 498, 177, 6098, 3126, 0, 1424, 0, 644]}\n",
      "\n",
      " noise \n",
      "Number of subj: 24 \n",
      "Median events per subj 2190.5 \n",
      "Total events proportion 25.23208450983137 \n",
      "Total events: 73902\n",
      "\n",
      "\n",
      " path \n",
      "Number of subj: 18 \n",
      "Median events per subj 3121.0 \n",
      "Total events proportion 23.11353447893229 \n",
      "Total events: 67697\n",
      "\n",
      "\n",
      " phys \n",
      "Number of subj: 22 \n",
      "Median events per subj 2789.5 \n",
      "Total events proportion 51.65438101123634 \n",
      "Total events: 151290\n",
      "\n"
     ]
    }
   ],
   "source": [
    "# Curate it\n",
    "# Eval\n",
    "counter = {\n",
    "    'noise':[],\n",
    "    'path':[],\n",
    "    'phys':[]\n",
    "}\n",
    "df_evaluated = df_total_cv\n",
    "for inst in np.unique(df_evaluated.institution):\n",
    "    df_inst = df_evaluated.loc[df_evaluated.institution==inst]\n",
    "    print(f'subjects from inst {inst}')\n",
    "    for subj in np.unique(df_inst.patient_id):\n",
    "        df_subj = df_inst.loc[df_inst.patient_id==subj]\n",
    "        for cat_id, cat_name in [(0, 'noise'), (1, 'path'), (2,'phys')]:\n",
    "            counter[cat_name].append(len(df_subj.loc[df_subj.category_id==cat_id]))\n",
    "print(counter)\n",
    "\n",
    "for cat in counter:\n",
    "    array_count = np.array(counter[cat])\n",
    "    print('\\n',cat,f'\\nNumber of subj: {len(array_count[array_count!=0])}', f'\\nMedian events per subj {np.median(array_count[array_count!=0])}',f'\\nTotal events proportion {np.sum(array_count)*100/len(df_evaluated)}', f'\\nTotal events: {np.sum(array_count)}\\n')"
   ]
  },
  {
   "cell_type": "code",
   "execution_count": 11,
   "id": "1c1aa951-d7c5-472f-aa43-4a3ec396a768",
   "metadata": {},
   "outputs": [
    {
     "name": "stdout",
     "output_type": "stream",
     "text": [
      "subjects from inst fnusa\n",
      "subjects from inst mayo\n"
     ]
    }
   ],
   "source": [
    "# Apply threshold at median\n",
    "max_img_subj_cat = {\n",
    "    'noise': 2190, # Pay more the noise and physiology\n",
    "    'path': 3121, # Less path at it is not so hard to identify. Before in 1000\n",
    "    'phys': 2789\n",
    "}\n",
    "df_curated = []\n",
    "for inst in np.unique(df_evaluated.institution):\n",
    "    df_inst = df_evaluated.loc[df_evaluated.institution==inst]\n",
    "    print(f'subjects from inst {inst}')\n",
    "    for subj in np.unique(df_inst.patient_id):\n",
    "        df_subj = df_inst.loc[df_inst.patient_id==subj]\n",
    "        for cat_id, cat_name in [(0, 'noise'), (1, 'path'), (2,'phys')]:\n",
    "            df_cat = df_subj.loc[df_subj.category_id==cat_id]\n",
    "            if len(df_curated)<1:\n",
    "                df_curated = df_cat.sample(min(len(df_cat),max_img_subj_cat[cat_name]))\n",
    "            else:\n",
    "                df_curated = pd.concat([df_curated, df_cat.sample(min(len(df_cat),max_img_subj_cat[cat_name]))])\n",
    "df_curated = df_curated.reset_index(drop=True)"
   ]
  },
  {
   "cell_type": "code",
   "execution_count": 12,
   "id": "ef7578ab-7fc6-4864-bb25-e74171905991",
   "metadata": {},
   "outputs": [
    {
     "name": "stdout",
     "output_type": "stream",
     "text": [
      "subjects from inst fnusa\n",
      "subjects from inst mayo\n",
      "{'noise': [0, 2190, 12, 2190, 2190, 0, 2190, 18, 0, 2190, 2190, 1343, 181, 2190, 0, 466, 2190, 2063, 1002, 2190, 0, 0, 740, 0, 2190, 2190, 1700, 2190, 1278, 58, 761], 'path': [1912, 1657, 3121, 0, 1527, 1554, 3121, 1896, 3121, 3121, 3121, 3121, 3121, 0, 883, 1923, 0, 0, 0, 0, 0, 2816, 0, 3121, 0, 0, 0, 0, 0, 3121, 2747], 'phys': [0, 2789, 0, 0, 2789, 962, 2689, 2789, 0, 1545, 2789, 2789, 2789, 330, 2789, 399, 2057, 790, 2789, 0, 2789, 0, 0, 498, 177, 2789, 2789, 0, 1424, 0, 644]}\n",
      "\n",
      " noise \n",
      "Number of subj: 24 \n",
      "Median events per subj 2126.5 \n",
      "Total events proportion 29.164906580016247 \n",
      "Total events: 35902\n",
      "\n",
      "\n",
      " path \n",
      "Number of subj: 18 \n",
      "Median events per subj 2968.5 \n",
      "Total events proportion 36.55889520714866 \n",
      "Total events: 45004\n",
      "\n",
      "\n",
      " phys \n",
      "Number of subj: 22 \n",
      "Median events per subj 2739.0 \n",
      "Total events proportion 34.27619821283509 \n",
      "Total events: 42194\n",
      "\n"
     ]
    }
   ],
   "source": [
    "# Eval\n",
    "counter = {\n",
    "    'noise':[],\n",
    "    'path':[],\n",
    "    'phys':[]\n",
    "}\n",
    "df_evaluated = df_curated\n",
    "for inst in np.unique(df_evaluated.institution):\n",
    "    df_inst = df_evaluated.loc[df_evaluated.institution==inst]\n",
    "    print(f'subjects from inst {inst}')\n",
    "    for subj in np.unique(df_inst.patient_id):\n",
    "        df_subj = df_inst.loc[df_inst.patient_id==subj]\n",
    "        for cat_id, cat_name in [(0, 'noise'), (1, 'path'), (2,'phys')]:\n",
    "            counter[cat_name].append(len(df_subj.loc[df_subj.category_id==cat_id]))\n",
    "print(counter)\n",
    "for cat in counter:\n",
    "    array_count = np.array(counter[cat])\n",
    "    print('\\n',cat,f'\\nNumber of subj: {len(array_count[array_count!=0])}', f'\\nMedian events per subj {np.median(array_count[array_count!=0])}',f'\\nTotal events proportion {np.sum(array_count)*100/len(df_evaluated)}', f'\\nTotal events: {np.sum(array_count)}\\n')"
   ]
  },
  {
   "cell_type": "code",
   "execution_count": 13,
   "id": "ca835ff4-a943-491a-9656-5efb8491310b",
   "metadata": {},
   "outputs": [
    {
     "name": "stdout",
     "output_type": "stream",
     "text": [
      "noise 0.29\n",
      "pathology 0.37\n",
      "physiology 0.34\n"
     ]
    }
   ],
   "source": [
    "# Check distribution per class:\n",
    "for cat in np.unique(df_curated.category_name):\n",
    "    print(cat, f'{len(df_curated.loc[df_curated.category_name == cat])/len(df_curated):.2f}')"
   ]
  },
  {
   "cell_type": "code",
   "execution_count": 14,
   "id": "7a3022c2-b49f-4e82-9cd0-fce118d06c0f",
   "metadata": {},
   "outputs": [
    {
     "name": "stdout",
     "output_type": "stream",
     "text": [
      "subjects from inst fnusa\n",
      "subjects from inst mayo\n",
      "Median percentage of class noise: 0.27\n",
      "Median percentage of class path: 0.25\n",
      "Median percentage of class phys: 0.28\n"
     ]
    },
    {
     "data": {
      "image/png": "[encoded data removed]",
      "text/plain": [
       "<Figure size 1500x500 with 3 Axes>"
      ]
     },
     "metadata": {},
     "output_type": "display_data"
    }
   ],
   "source": [
    "import matplotlib.pyplot as plt\n",
    "# Check distribution as average per subj\n",
    "counter = {\n",
    "    'noise':[],\n",
    "    'path':[],\n",
    "    'phys':[]\n",
    "}\n",
    "df_evaluated = df_curated\n",
    "for inst in np.unique(df_evaluated.institution):\n",
    "    df_inst = df_evaluated.loc[df_evaluated.institution==inst]\n",
    "    print(f'subjects from inst {inst}')\n",
    "    for subj in np.unique(df_inst.patient_id):\n",
    "        df_subj = df_inst.loc[df_inst.patient_id==subj]\n",
    "        for cat_id, cat_name in [(0, 'noise'), (1, 'path'), (2,'phys')]:\n",
    "            counter[cat_name].append(len(df_subj.loc[df_subj.category_id==cat_id])/len(df_subj))\n",
    "# print(counter)\n",
    "\n",
    "fig, ax = plt.subplots(ncols=3, nrows=1, figsize=(15,5))\n",
    "\n",
    "for i,cat in enumerate(counter):\n",
    "    array_count = np.array(counter[cat])\n",
    "    print(f'Median percentage of class {cat}: {np.median(array_count):.2}')\n",
    "    _ = ax[i].hist(array_count)\n",
    "    _ = ax[i].set_title(f'{cat}')\n"
   ]
  },
  {
   "cell_type": "code",
   "execution_count": 15,
   "id": "3d347b4c-edf3-49e1-b99f-e32a03071ee2",
   "metadata": {},
   "outputs": [],
   "source": [
    "df_total_cv_curated = df_curated\n",
    "df_total_cv_curated.to_csv('/scratch/mcesped/Datasets/df_total_cv_curated_original.csv', sep=\",\", index_label='index')"
   ]
  },
  {
   "cell_type": "code",
   "execution_count": 90,
   "id": "8d68becb-41ca-47f8-aabf-615d29e783e9",
   "metadata": {},
   "outputs": [
    {
     "data": {
      "text/html": [
       "<div>\n",
       "<style scoped>\n",
       "    .dataframe tbody tr th:only-of-type {\n",
       "        vertical-align: middle;\n",
       "    }\n",
       "\n",
       "    .dataframe tbody tr th {\n",
       "        vertical-align: top;\n",
       "    }\n",
       "\n",
       "    .dataframe thead th {\n",
       "        text-align: right;\n",
       "    }\n",
       "</style>\n",
       "<table border=\"1\" class=\"dataframe\">\n",
       "  <thead>\n",
       "    <tr style=\"text-align: right;\">\n",
       "      <th></th>\n",
       "      <th>anatomy</th>\n",
       "      <th>category_id</th>\n",
       "      <th>channel</th>\n",
       "      <th>electrode_type</th>\n",
       "      <th>institution</th>\n",
       "      <th>patient_id</th>\n",
       "      <th>reviewer_id</th>\n",
       "      <th>segment_id</th>\n",
       "      <th>soz</th>\n",
       "      <th>category_name</th>\n",
       "    </tr>\n",
       "  </thead>\n",
       "  <tbody>\n",
       "    <tr>\n",
       "      <th>0</th>\n",
       "      <td>hippocampus anterior</td>\n",
       "      <td>1</td>\n",
       "      <td>B'1</td>\n",
       "      <td>depth</td>\n",
       "      <td>fnusa</td>\n",
       "      <td>24</td>\n",
       "      <td>2</td>\n",
       "      <td>y007255</td>\n",
       "      <td>1</td>\n",
       "      <td>pathology</td>\n",
       "    </tr>\n",
       "    <tr>\n",
       "      <th>1</th>\n",
       "      <td>hippocampus anterior</td>\n",
       "      <td>1</td>\n",
       "      <td>B'1</td>\n",
       "      <td>depth</td>\n",
       "      <td>fnusa</td>\n",
       "      <td>24</td>\n",
       "      <td>2</td>\n",
       "      <td>y007470</td>\n",
       "      <td>1</td>\n",
       "      <td>pathology</td>\n",
       "    </tr>\n",
       "    <tr>\n",
       "      <th>2</th>\n",
       "      <td>hippocampus anterior</td>\n",
       "      <td>1</td>\n",
       "      <td>B'1</td>\n",
       "      <td>depth</td>\n",
       "      <td>fnusa</td>\n",
       "      <td>24</td>\n",
       "      <td>2</td>\n",
       "      <td>y007432</td>\n",
       "      <td>1</td>\n",
       "      <td>pathology</td>\n",
       "    </tr>\n",
       "    <tr>\n",
       "      <th>3</th>\n",
       "      <td>hippocampus anterior</td>\n",
       "      <td>1</td>\n",
       "      <td>B'1</td>\n",
       "      <td>depth</td>\n",
       "      <td>fnusa</td>\n",
       "      <td>24</td>\n",
       "      <td>2</td>\n",
       "      <td>y008829</td>\n",
       "      <td>1</td>\n",
       "      <td>pathology</td>\n",
       "    </tr>\n",
       "    <tr>\n",
       "      <th>4</th>\n",
       "      <td>hippocampus anterior</td>\n",
       "      <td>1</td>\n",
       "      <td>B'1</td>\n",
       "      <td>depth</td>\n",
       "      <td>fnusa</td>\n",
       "      <td>24</td>\n",
       "      <td>2</td>\n",
       "      <td>y008739</td>\n",
       "      <td>1</td>\n",
       "      <td>pathology</td>\n",
       "    </tr>\n",
       "  </tbody>\n",
       "</table>\n",
       "</div>"
      ],
      "text/plain": [
       "                anatomy  category_id channel electrode_type institution  \\\n",
       "0  hippocampus anterior            1     B'1          depth       fnusa   \n",
       "1  hippocampus anterior            1     B'1          depth       fnusa   \n",
       "2  hippocampus anterior            1     B'1          depth       fnusa   \n",
       "3  hippocampus anterior            1     B'1          depth       fnusa   \n",
       "4  hippocampus anterior            1     B'1          depth       fnusa   \n",
       "\n",
       "   patient_id  reviewer_id segment_id  soz category_name  \n",
       "0          24            2    y007255    1     pathology  \n",
       "1          24            2    y007470    1     pathology  \n",
       "2          24            2    y007432    1     pathology  \n",
       "3          24            2    y008829    1     pathology  \n",
       "4          24            2    y008739    1     pathology  "
      ]
     },
     "execution_count": 90,
     "metadata": {},
     "output_type": "execute_result"
    }
   ],
   "source": [
    "df_total_cv_curated.head()"
   ]
  },
  {
   "cell_type": "code",
   "execution_count": 88,
   "id": "490ce544-d3f5-4872-abf1-08b98eaa5105",
   "metadata": {},
   "outputs": [
    {
     "data": {
      "text/plain": [
       "array([1, 1, 1, ..., 2, 2, 2])"
      ]
     },
     "execution_count": 88,
     "metadata": {},
     "output_type": "execute_result"
    }
   ],
   "source": [
    "df_total_cv_curated.category_id.values"
   ]
  },
  {
   "cell_type": "markdown",
   "id": "e11421bb-1568-41f7-a12c-1f2c0be8f502",
   "metadata": {},
   "source": [
    "### New curation:\n",
    "Limiting samples per subject with the median samples per subject (globally) and preserving the original distribution"
   ]
  },
  {
   "cell_type": "code",
   "execution_count": 34,
   "id": "97fadd5a-d4e8-4af4-bc9f-7295b7581abc",
   "metadata": {},
   "outputs": [
    {
     "name": "stdout",
     "output_type": "stream",
     "text": [
      "subjects from inst fnusa\n",
      "subjects from inst mayo\n",
      "[1912, 12358, 8088, 8463, 12038, 2516, 15843, 22774, 6750, 11681, 10301, 47270, 19635, 2648, 9536, 2788, 6693, 2853, 7585, 12873, 25951, 2816, 740, 3924, 3876, 10194, 4826, 5613, 2702, 3490, 4152]\n",
      "Median samples 6750\n"
     ]
    }
   ],
   "source": [
    "# Curate it\n",
    "# Eval\n",
    "counter = []\n",
    "df_evaluated = df_total_cv\n",
    "for inst in np.unique(df_evaluated.institution):\n",
    "    df_inst = df_evaluated.loc[df_evaluated.institution==inst]\n",
    "    print(f'subjects from inst {inst}')\n",
    "    for subj in np.unique(df_inst.patient_id):\n",
    "        df_subj = df_inst.loc[df_inst.patient_id==subj]\n",
    "        counter.append(len(df_subj))\n",
    "\n",
    "print(counter)\n",
    "median_samples_subj = int(np.median(counter))\n",
    "print(f'Median samples {median_samples_subj}')"
   ]
  },
  {
   "cell_type": "code",
   "execution_count": 35,
   "id": "055cda80-dd97-46c4-86ea-9a114663abd1",
   "metadata": {},
   "outputs": [
    {
     "name": "stdout",
     "output_type": "stream",
     "text": [
      "subjects from inst fnusa\n",
      "subjects from inst mayo\n"
     ]
    }
   ],
   "source": [
    "# Apply threshold at median\n",
    "df_curated = []\n",
    "for inst in np.unique(df_evaluated.institution):\n",
    "    df_inst = df_evaluated.loc[df_evaluated.institution==inst]\n",
    "    print(f'subjects from inst {inst}')\n",
    "    for subj in np.unique(df_inst.patient_id):\n",
    "        df_subj = df_inst.loc[df_inst.patient_id==subj]\n",
    "        if median_samples_subj < len(df_subj):\n",
    "            df_tmp = []\n",
    "            for cat_id, cat_name in [(0, 'noise'), (1, 'path'), (2,'phys')]:\n",
    "                df_cat = df_subj.loc[df_subj.category_id==cat_id]\n",
    "                # Get proportion\n",
    "                cat_prop = len(df_cat)/len(df_subj)\n",
    "                if len(df_tmp)<1:\n",
    "                    df_tmp = df_cat.sample(int(median_samples_subj*cat_prop))\n",
    "                else:\n",
    "                    df_tmp = pd.concat([df_tmp, df_cat.sample(int(median_samples_subj*cat_prop))])\n",
    "        else:\n",
    "            df_tmp = df_subj\n",
    "        if len(df_curated)<1:\n",
    "            df_curated = df_tmp\n",
    "        else:\n",
    "            df_curated = pd.concat([df_curated, df_tmp])\n",
    "            \n",
    "df_curated = df_curated.reset_index(drop=True)"
   ]
  },
  {
   "cell_type": "code",
   "execution_count": 36,
   "id": "1c2aa8d9-6039-4386-b096-0851ab7386e0",
   "metadata": {},
   "outputs": [],
   "source": [
    "df_total_cv_curated = df_curated"
   ]
  },
  {
   "cell_type": "code",
   "execution_count": 37,
   "id": "6b55ea33-90b0-4562-8faf-fdf1fd862bb3",
   "metadata": {},
   "outputs": [
    {
     "name": "stdout",
     "output_type": "stream",
     "text": [
      "subjects from inst fnusa\n",
      "subjects from inst mayo\n",
      "[1912, 6749, 6749, 6750, 6749, 2516, 6748, 6748, 6750, 6748, 6748, 6748, 6749, 2648, 6749, 2788, 6693, 2853, 6749, 6750, 6750, 2816, 740, 3924, 3876, 6749, 4826, 5613, 2702, 3490, 4152]\n",
      "Median samples 6748\n"
     ]
    }
   ],
   "source": [
    "counter = []\n",
    "df_evaluated = df_total_cv_curated\n",
    "for inst in np.unique(df_evaluated.institution):\n",
    "    df_inst = df_evaluated.loc[df_evaluated.institution==inst]\n",
    "    print(f'subjects from inst {inst}')\n",
    "    for subj in np.unique(df_inst.patient_id):\n",
    "        df_subj = df_inst.loc[df_inst.patient_id==subj]\n",
    "        counter.append(len(df_subj))\n",
    "\n",
    "print(counter)\n",
    "median_samples_subj = int(np.median(counter))\n",
    "print(f'Median samples {median_samples_subj}')"
   ]
  },
  {
   "cell_type": "code",
   "execution_count": 38,
   "id": "465ef539-afeb-4b3c-8137-3658443e6cb5",
   "metadata": {},
   "outputs": [
    {
     "name": "stdout",
     "output_type": "stream",
     "text": [
      "noise 0.33\n",
      "pathology 0.29\n",
      "physiology 0.38\n",
      "Total length compared to original: 54.47\n"
     ]
    }
   ],
   "source": [
    "# Check distribution per class:\n",
    "for cat in np.unique(df_total_cv_curated.category_name):\n",
    "    print(cat, f'{len(df_total_cv_curated.loc[df_total_cv_curated.category_name == cat])/len(df_total_cv_curated):.2f}')\n",
    "print(f'Total length compared to original: {len(df_total_cv_curated)*100/len(df_total_cv):.2f}')"
   ]
  },
  {
   "cell_type": "code",
   "execution_count": 39,
   "id": "9688f897-e56c-4e3f-8d6c-2ec6225cfcbe",
   "metadata": {},
   "outputs": [
    {
     "name": "stdout",
     "output_type": "stream",
     "text": [
      "subjects from inst fnusa\n",
      "subjects from inst mayo\n",
      "Median percentage of class noise: 0.23\n",
      "Median percentage of class path: 0.13\n",
      "Median percentage of class phys: 0.17\n"
     ]
    },
    {
     "data": {
      "image/png": "[encoded data removed]",
      "text/plain": [
       "<Figure size 1500x500 with 3 Axes>"
      ]
     },
     "metadata": {},
     "output_type": "display_data"
    }
   ],
   "source": [
    "import matplotlib.pyplot as plt\n",
    "# Check distribution as average per subj\n",
    "counter = {\n",
    "    'noise':[],\n",
    "    'path':[],\n",
    "    'phys':[]\n",
    "}\n",
    "df_evaluated = df_total_cv_curated\n",
    "for inst in np.unique(df_evaluated.institution):\n",
    "    df_inst = df_evaluated.loc[df_evaluated.institution==inst]\n",
    "    print(f'subjects from inst {inst}')\n",
    "    for subj in np.unique(df_inst.patient_id):\n",
    "        df_subj = df_inst.loc[df_inst.patient_id==subj]\n",
    "        for cat_id, cat_name in [(0, 'noise'), (1, 'path'), (2,'phys')]:\n",
    "            counter[cat_name].append(len(df_subj.loc[df_subj.category_id==cat_id])/len(df_subj))\n",
    "# print(counter)\n",
    "\n",
    "fig, ax = plt.subplots(ncols=3, nrows=1, figsize=(15,5))\n",
    "\n",
    "for i,cat in enumerate(counter):\n",
    "    array_count = np.array(counter[cat])\n",
    "    print(f'Median percentage of class {cat}: {np.median(array_count):.2}')\n",
    "    _ = ax[i].hist(array_count)\n",
    "    _ = ax[i].set_title(f'{cat}')\n"
   ]
  },
  {
   "cell_type": "code",
   "execution_count": 86,
   "id": "05b4215a-c117-4f31-8a9e-a2a66b4b9424",
   "metadata": {},
   "outputs": [
    {
     "data": {
      "text/plain": [
       "0.6246463738239874"
      ]
     },
     "execution_count": 86,
     "metadata": {},
     "output_type": "execute_result"
    }
   ],
   "source": [
    "# Change weight of path class to 15%\n",
    "target_percent = 0.2\n",
    "_, (len_noise,len_path,len_phys) = np.unique(df_total_cv_curated.category_id, return_counts=True)              \n",
    "percent_extract = target_percent*(len_noise + len_phys)/(len_path*(1-target_percent))\n",
    "percent_extract"
   ]
  },
  {
   "cell_type": "code",
   "execution_count": 87,
   "id": "81ac9cb5-6f7a-4e63-922c-87ee0fb6e13d",
   "metadata": {},
   "outputs": [],
   "source": [
    "df = df_total_cv_curated.loc[(df_total_cv_curated.category_id != 1)].reset_index(drop=True)\n",
    "# Get path segments without changing the dist\n",
    "df_path = df_total_cv_curated.loc[df_total_cv_curated.category_id == 1, :].reset_index(drop=True)\n",
    "df_path_new = pd.DataFrame(columns= df_path.columns)\n",
    "total_new_samples = percent_extract*len(df_path)\n",
    "for subj in np.unique(df_path.patient_id):\n",
    "    df_subj = df_path.loc[df_path.patient_id==subj]\n",
    "    n_subj = int(total_new_samples*len(df_subj)/len(df_path))\n",
    "    df_path_new = pd.concat([df_path_new, df_subj.sample(n=n_subj)])\n",
    "df = pd.concat([df, df_path_new]).sample(frac=1).reset_index(drop=True)"
   ]
  },
  {
   "cell_type": "code",
   "execution_count": 88,
   "id": "55aa6178-e1dd-47bb-a201-38460667b1f0",
   "metadata": {},
   "outputs": [
    {
     "name": "stdout",
     "output_type": "stream",
     "text": [
      "noise 0.37\n",
      "pathology 0.20\n",
      "physiology 0.43\n",
      "Total length compared to original: 48.62\n"
     ]
    }
   ],
   "source": [
    "# Check distribution per class:\n",
    "for cat in np.unique(df.category_name):\n",
    "    print(cat, f'{len(df.loc[df.category_name == cat])/len(df):.2f}')\n",
    "print(f'Total length compared to original: {len(df)*100/len(df_total_cv):.2f}')"
   ]
  },
  {
   "cell_type": "code",
   "execution_count": 68,
   "id": "55d1890f-ac8e-4b34-a6ac-88bfe222d298",
   "metadata": {},
   "outputs": [],
   "source": [
    "df_total_cv_curated.to_csv('/scratch/mcesped/Datasets/df_total_cv_curated_new.csv', sep=\",\", index_label='index')"
   ]
  },
  {
   "cell_type": "code",
   "execution_count": 5,
   "id": "337a482a-c652-493e-830f-c9fe64e5231e",
   "metadata": {},
   "outputs": [
    {
     "data": {
      "text/html": [
       "<div>\n",
       "<style scoped>\n",
       "    .dataframe tbody tr th:only-of-type {\n",
       "        vertical-align: middle;\n",
       "    }\n",
       "\n",
       "    .dataframe tbody tr th {\n",
       "        vertical-align: top;\n",
       "    }\n",
       "\n",
       "    .dataframe thead th {\n",
       "        text-align: right;\n",
       "    }\n",
       "</style>\n",
       "<table border=\"1\" class=\"dataframe\">\n",
       "  <thead>\n",
       "    <tr style=\"text-align: right;\">\n",
       "      <th></th>\n",
       "      <th>anatomy</th>\n",
       "      <th>category_id</th>\n",
       "      <th>channel</th>\n",
       "      <th>electrode_type</th>\n",
       "      <th>institution</th>\n",
       "      <th>patient_id</th>\n",
       "      <th>reviewer_id</th>\n",
       "      <th>segment_id</th>\n",
       "      <th>soz</th>\n",
       "      <th>category_name</th>\n",
       "    </tr>\n",
       "    <tr>\n",
       "      <th>index</th>\n",
       "      <th></th>\n",
       "      <th></th>\n",
       "      <th></th>\n",
       "      <th></th>\n",
       "      <th></th>\n",
       "      <th></th>\n",
       "      <th></th>\n",
       "      <th></th>\n",
       "      <th></th>\n",
       "      <th></th>\n",
       "    </tr>\n",
       "  </thead>\n",
       "  <tbody>\n",
       "    <tr>\n",
       "      <th>0</th>\n",
       "      <td>hippocampus anterior</td>\n",
       "      <td>1</td>\n",
       "      <td>B'1</td>\n",
       "      <td>depth</td>\n",
       "      <td>fnusa</td>\n",
       "      <td>24</td>\n",
       "      <td>2</td>\n",
       "      <td>y007132</td>\n",
       "      <td>1</td>\n",
       "      <td>pathology</td>\n",
       "    </tr>\n",
       "    <tr>\n",
       "      <th>1</th>\n",
       "      <td>hippocampus anterior</td>\n",
       "      <td>1</td>\n",
       "      <td>B'1</td>\n",
       "      <td>depth</td>\n",
       "      <td>fnusa</td>\n",
       "      <td>24</td>\n",
       "      <td>2</td>\n",
       "      <td>y007133</td>\n",
       "      <td>1</td>\n",
       "      <td>pathology</td>\n",
       "    </tr>\n",
       "    <tr>\n",
       "      <th>2</th>\n",
       "      <td>hippocampus anterior</td>\n",
       "      <td>1</td>\n",
       "      <td>B'1</td>\n",
       "      <td>depth</td>\n",
       "      <td>fnusa</td>\n",
       "      <td>24</td>\n",
       "      <td>2</td>\n",
       "      <td>y007134</td>\n",
       "      <td>1</td>\n",
       "      <td>pathology</td>\n",
       "    </tr>\n",
       "    <tr>\n",
       "      <th>3</th>\n",
       "      <td>hippocampus anterior</td>\n",
       "      <td>1</td>\n",
       "      <td>B'1</td>\n",
       "      <td>depth</td>\n",
       "      <td>fnusa</td>\n",
       "      <td>24</td>\n",
       "      <td>2</td>\n",
       "      <td>y007135</td>\n",
       "      <td>1</td>\n",
       "      <td>pathology</td>\n",
       "    </tr>\n",
       "    <tr>\n",
       "      <th>4</th>\n",
       "      <td>hippocampus anterior</td>\n",
       "      <td>1</td>\n",
       "      <td>B'1</td>\n",
       "      <td>depth</td>\n",
       "      <td>fnusa</td>\n",
       "      <td>24</td>\n",
       "      <td>2</td>\n",
       "      <td>y007136</td>\n",
       "      <td>1</td>\n",
       "      <td>pathology</td>\n",
       "    </tr>\n",
       "  </tbody>\n",
       "</table>\n",
       "</div>"
      ],
      "text/plain": [
       "                    anatomy  category_id channel electrode_type institution  \\\n",
       "index                                                                         \n",
       "0      hippocampus anterior            1     B'1          depth       fnusa   \n",
       "1      hippocampus anterior            1     B'1          depth       fnusa   \n",
       "2      hippocampus anterior            1     B'1          depth       fnusa   \n",
       "3      hippocampus anterior            1     B'1          depth       fnusa   \n",
       "4      hippocampus anterior            1     B'1          depth       fnusa   \n",
       "\n",
       "       patient_id  reviewer_id segment_id  soz category_name  \n",
       "index                                                         \n",
       "0              24            2    y007132    1     pathology  \n",
       "1              24            2    y007133    1     pathology  \n",
       "2              24            2    y007134    1     pathology  \n",
       "3              24            2    y007135    1     pathology  \n",
       "4              24            2    y007136    1     pathology  "
      ]
     },
     "execution_count": 5,
     "metadata": {},
     "output_type": "execute_result"
    }
   ],
   "source": [
    "df_total_cv_curated = pd.read_csv('/scratch/mcesped/Datasets/df_total_cv_curated_new.csv', sep=\",\", index_col=\"index\")\n",
    "df_total_cv_curated.head()"
   ]
  },
  {
   "cell_type": "code",
   "execution_count": 14,
   "id": "b8c1bb94-abd9-4946-8149-a15038366282",
   "metadata": {},
   "outputs": [
    {
     "name": "stdout",
     "output_type": "stream",
     "text": [
      "Subjects with no samples for category noise:\n",
      "[ 1  7  8 14 24 29 32]\n",
      "\n",
      "\n",
      "Subjects with no samples for category path:\n",
      "[ 0  3  4  5  6  7  9 16 17 18 19 20 27]\n",
      "\n",
      "\n",
      "Subjects with no samples for category phys:\n",
      "[ 6  8  9 19 21 24 26 27 32]\n",
      "\n",
      "\n"
     ]
    },
    {
     "data": {
      "text/plain": [
       "{'noise': array([ 1,  7,  8, 14, 24, 29, 32]),\n",
       " 'path': array([ 0,  3,  4,  5,  6,  7,  9, 16, 17, 18, 19, 20, 27]),\n",
       " 'phys': array([ 6,  8,  9, 19, 21, 24, 26, 27, 32])}"
      ]
     },
     "execution_count": 14,
     "metadata": {},
     "output_type": "execute_result"
    }
   ],
   "source": [
    "# Check samples per class\n",
    "subjs_id = np.unique(df_total_cv_curated.patient_id)\n",
    "# Curate it\n",
    "# Eval\n",
    "counter = {\n",
    "    'noise':[],\n",
    "    'path':[],\n",
    "    'phys':[]\n",
    "}\n",
    "df_evaluated = df_total_cv_curated\n",
    "for subj in np.unique(df_total_cv_curated.patient_id):\n",
    "    df_subj = df_total_cv_curated.loc[df_total_cv_curated.patient_id==subj]\n",
    "    for cat_id, cat_name in [(0, 'noise'), (1, 'path'), (2,'phys')]:\n",
    "        counter[cat_name].append(len(df_subj.loc[df_subj.category_id==cat_id]))\n",
    "\n",
    "no_samples_subjs = dict()\n",
    "for cat in counter:\n",
    "    bool_zero_samples = np.array(counter[cat])==0\n",
    "    print(f'Subjects with no samples for category {cat}:')\n",
    "    print(subjs_id[bool_zero_samples])\n",
    "    print('\\n')\n",
    "    no_samples_subjs[cat] = subjs_id[bool_zero_samples]\n",
    "\n",
    "no_samples_subjs"
   ]
  },
  {
   "cell_type": "markdown",
   "id": "71f6cbea-63be-4ec2-99eb-8d1107e83237",
   "metadata": {
    "jp-MarkdownHeadingCollapsed": true
   },
   "source": [
    "### KFold test"
   ]
  },
  {
   "cell_type": "code",
   "execution_count": 11,
   "id": "c1572981-37d2-40cc-b56d-03b56ab55379",
   "metadata": {},
   "outputs": [],
   "source": [
    "import sklearn\n",
    "from sklearn.utils.validation import check_array, check_random_state, _deprecate_positional_args\n",
    "from sklearn.model_selection._split import _BaseKFold, _RepeatedSplits\n",
    "\n",
    "class GroupKFold(_BaseKFold):\n",
    "    \"\"\"K-fold iterator variant with non-overlapping groups.\n",
    "    The same group will not appear in two different folds (the number of\n",
    "    distinct groups has to be at least equal to the number of folds).\n",
    "    The folds are approximately balanced in the sense that the number of\n",
    "    distinct groups is approximately the same in each fold.\n",
    "    Read more in the :ref:`User Guide <group_k_fold>`.\n",
    "    Parameters\n",
    "    ----------\n",
    "    n_splits : int, default=5\n",
    "        Number of folds. Must be at least 2.\n",
    "        .. versionchanged:: 0.22\n",
    "            ``n_splits`` default value changed from 3 to 5.\n",
    "    shuffle : bool, default=False\n",
    "        Whether to shuffle the data before splitting into batches.\n",
    "        Note that the samples within each split will not be shuffled.\n",
    "    random_state : int, RandomState instance or None, default=None\n",
    "        When `shuffle` is True, `random_state` affects the ordering of the\n",
    "        indices, which controls the randomness of each fold. Otherwise, this\n",
    "        parameter has no effect.\n",
    "        Pass an int for reproducible output across multiple function calls.\n",
    "        See :term:`Glossary <random_state>`.     \n",
    "\n",
    "    Examples\n",
    "    --------\n",
    "    >>> import numpy as np\n",
    "    >>> from sklearn.model_selection import GroupKFold\n",
    "    >>> X = np.array([[1, 2], [3, 4], [5, 6], [7, 8]])\n",
    "    >>> y = np.array([0, 0, 2, 2])\n",
    "    >>> groups = np.array([0, 1, 2, 3])\n",
    "    >>> group_kfold = GroupKFold(n_splits=2, shuffle=True, random_state=12345)\n",
    "    >>> group_kfold.get_n_splits(X, y, groups)\n",
    "    2\n",
    "    >>> print(group_kfold)\n",
    "    GroupKFold(n_splits=2, random_state=12345, shuffle=True)\n",
    "    >>> for train_index, test_index in group_kfold.split(X, y, groups):\n",
    "    ...    print(\"TRAIN:\", train_index, \"TEST:\", test_index)\n",
    "    ...    X_train, X_test = X[train_index], X[test_index]\n",
    "    ...    y_train, y_test = y[train_index], y[test_index]\n",
    "    ...    print(X_train, X_test, y_train, y_test)\n",
    "    ...\n",
    "    TRAIN: [0 1] TEST: [2 3]\n",
    "    [[1 2]\n",
    "     [3 4]] [[5 6]\n",
    "     [7 8]] [0 0] [2 2]\n",
    "    TRAIN: [2 3] TEST: [0 1]\n",
    "    [[5 6]\n",
    "     [7 8]] [[1 2]\n",
    "     [3 4]] [2 2] [0 0]\n",
    "\n",
    "    See Also\n",
    "    --------\n",
    "    LeaveOneGroupOut : For splitting the data according to explicit\n",
    "        domain-specific stratification of the dataset.\n",
    "    \"\"\"\n",
    "    def __init__(self, n_splits=5, *, shuffle=False, random_state=None):\n",
    "        super().__init__(n_splits=n_splits, shuffle=shuffle,\n",
    "                         random_state=random_state)\n",
    "\n",
    "    def _iter_test_indices(self, X, y, groups):\n",
    "        if groups is None:\n",
    "            raise ValueError(\"The 'groups' parameter should not be None.\")\n",
    "        groups = check_array(groups, ensure_2d=False, dtype=None)\n",
    "        \n",
    "        unique_groups, groups = np.unique(groups, return_inverse=True)\n",
    "        n_groups = len(unique_groups)\n",
    "\n",
    "        if self.n_splits > n_groups:\n",
    "            raise ValueError(\"Cannot have number of splits n_splits=%d greater\"\n",
    "                             \" than the number of groups: %d.\"\n",
    "                             % (self.n_splits, n_groups))\n",
    "\n",
    "        # Weight groups by their number of occurrences\n",
    "        n_samples_per_group = np.bincount(groups)\n",
    "\n",
    "        # Distribute the most frequent groups first\n",
    "        indices = np.argsort(n_samples_per_group)[::-1]\n",
    "        \n",
    "        if self.shuffle:\n",
    "            rng = check_random_state(self.random_state)\n",
    "            for n_sample in np.unique(n_samples_per_group):\n",
    "                same_n_indices_index = np.where(n_samples_per_group == n_sample)[0]\n",
    "                target_chunk = indices[same_n_indices_index]\n",
    "                rng.shuffle(target_chunk)\n",
    "                indices[same_n_indices_index] = target_chunk\n",
    "\n",
    "        n_samples_per_group = n_samples_per_group[indices]\n",
    "\n",
    "        # Total weight of each fold\n",
    "        n_samples_per_fold = np.zeros(self.n_splits)\n",
    "\n",
    "        # Mapping from group index to fold index\n",
    "        group_to_fold = np.zeros(len(unique_groups))\n",
    "\n",
    "        # Distribute samples by adding the largest weight to the lightest fold\n",
    "        for group_index, weight in enumerate(n_samples_per_group):\n",
    "            lightest_fold = np.argmin(n_samples_per_fold)\n",
    "            n_samples_per_fold[lightest_fold] += weight\n",
    "            group_to_fold[indices[group_index]] = lightest_fold\n",
    "\n",
    "        indices = group_to_fold[groups]\n",
    "\n",
    "        for f in range(self.n_splits):\n",
    "            yield np.where(indices == f)[0]\n",
    "\n",
    "    def split(self, X, y=None, groups=None):\n",
    "        \"\"\"Generate indices to split data into training and test set.\n",
    "        Parameters\n",
    "        ----------\n",
    "        X : array-like of shape (n_samples, n_features)\n",
    "            Training data, where n_samples is the number of samples\n",
    "            and n_features is the number of features.\n",
    "        y : array-like of shape (n_samples,), default=None\n",
    "            The target variable for supervised learning problems.\n",
    "        groups : array-like of shape (n_samples,)\n",
    "            Group labels for the samples used while splitting the dataset into\n",
    "            train/test set.\n",
    "        Yields\n",
    "        ------\n",
    "        train : ndarray\n",
    "            The training set indices for that split.\n",
    "        test : ndarray\n",
    "            The testing set indices for that split.\n",
    "        \"\"\"\n",
    "        return super().split(X, y, groups)\n",
    "    \n",
    "\n",
    "class RepeatedGroupKFold(_RepeatedSplits):\n",
    "    \"\"\"Repeated Group K-Fold cross validator.\n",
    "    Repeats Group K-Fold n times with different randomization in each repetition.\n",
    "    Read more in the :ref:`User Guide <repeated_group_k_fold>`.\n",
    "    Parameters\n",
    "    ----------\n",
    "    n_splits : int, default=5\n",
    "        Number of folds. Must be at least 2.\n",
    "    n_repeats : int, default=10\n",
    "        Number of times cross-validator needs to be repeated.\n",
    "    random_state : int, RandomState instance or None, default=None\n",
    "        Controls the randomness of each repeated cross-validation instance.\n",
    "        Pass an int for reproducible output across multiple function calls.\n",
    "        See :term:`Glossary <random_state>`.\n",
    "\n",
    "    Examples\n",
    "    --------\n",
    "    >>> import numpy as np\n",
    "    >>> from sklearn.model_selection import RepeatedGroupKFold\n",
    "    >>> X = np.array([[1, 2], [3, 4], [5, 6], [7, 8]])\n",
    "    >>> y = np.array([0, 0, 2, 2])\n",
    "    >>> groups = np.array([0, 1, 2, 3])\n",
    "    >>> rkf = RepeatedGroupKFold(n_splits=2, n_repeats=2, random_state=2652124)\n",
    "    >>> for train_index, test_index in rkf.split(X, y, groups):\n",
    "    ...     print(\"TRAIN:\", train_index, \"TEST:\", test_index)\n",
    "    ...     X_train, X_test = X[train_index], X[test_index]\n",
    "    ...     y_train, y_test = y[train_index], y[test_index]\n",
    "    ... \n",
    "    TRAIN: [1 2] TEST: [0 3]\n",
    "    TRAIN: [0 3] TEST: [1 2]\n",
    "    TRAIN: [0 1] TEST: [2 3]\n",
    "    TRAIN: [2 3] TEST: [0 1]\n",
    "\n",
    "    Notes\n",
    "    -----\n",
    "    Randomized CV splitters may return different results for each call of\n",
    "    split. You can make the results identical by setting `random_state`\n",
    "    to an integer.\n",
    "\n",
    "    See Also\n",
    "    --------\n",
    "    RepeatedStratifiedKFold : Repeats Stratified K-Fold n times.\n",
    "    \"\"\"\n",
    "    @_deprecate_positional_args\n",
    "    def __init__(self, *, n_splits=5, n_repeats=10, random_state=None):\n",
    "        super().__init__(\n",
    "            GroupKFold, n_repeats=n_repeats,\n",
    "            random_state=random_state, n_splits=n_splits)\n",
    "        \n",
    "    def split(self, X, y=None, groups=None):\n",
    "        \"\"\"Generates indices to split data into training and test set.\n",
    "        Parameters\n",
    "        ----------\n",
    "        X : array-like of shape (n_samples, n_features)\n",
    "            Training data, where n_samples is the number of samples\n",
    "            and n_features is the number of features.\n",
    "        y : array-like of shape (n_samples,)\n",
    "            The target variable for supervised learning problems.\n",
    "        groups : array-like of shape (n_samples,), default=None\n",
    "            Group labels for the samples used while splitting the dataset into\n",
    "            train/test set.\n",
    "        Yields\n",
    "        ------\n",
    "        train : ndarray\n",
    "            The training set indices for that split.\n",
    "        test : ndarray\n",
    "            The testing set indices for that split.\n",
    "        \"\"\"\n",
    "        n_repeats = self.n_repeats\n",
    "        rng = check_random_state(self.random_state)\n",
    "\n",
    "        for idx in range(n_repeats):\n",
    "            cv = self.cv(random_state=rng, shuffle=True,\n",
    "                            **self.cvargs)\n",
    "            for train_index, test_index in cv.split(X, y, groups):\n",
    "                yield train_index, test_index"
   ]
  },
  {
   "cell_type": "code",
   "execution_count": 45,
   "id": "143c64a2-cf79-4b64-9f6a-df09562e6fb5",
   "metadata": {},
   "outputs": [
    {
     "name": "stdout",
     "output_type": "stream",
     "text": [
      "46\n",
      "54\n",
      "58\n",
      "63\n"
     ]
    }
   ],
   "source": [
    "# Find random state with val set with all categories\n",
    "\n",
    "import numpy as np\n",
    "# from sklearn.model_selection import GroupKFold\n",
    "\n",
    "# Sample data\n",
    "X = df_total_cv_curated.segment_id.values  # Your data\n",
    "y = df_total_cv_curated.category_id.values  # Your labels\n",
    "# Define groups where each group represents a different subject\n",
    "groups = df_total_cv_curated.patient_id.values  # Random grouping for illustration\n",
    "\n",
    "# Define the number of splits\n",
    "n_splits = 10\n",
    "\n",
    "# Create GroupKFold with a custom generator to ensure groups stay together\n",
    "# gkf = GroupKFold(n_splits=n_splits)\n",
    "for rand in range(0,100):\n",
    "    gkf = RepeatedGroupKFold(n_splits=n_splits, n_repeats=2, random_state=rand)\n",
    "    \n",
    "    # Initialize lists to store train and validation indices\n",
    "    train_indices_list = []\n",
    "    val_indices_list = []\n",
    "    \n",
    "    # Generate train and validation indices for each split\n",
    "    \n",
    "    for train_indices, val_indices in gkf.split(X, y, groups=groups):\n",
    "        train_indices_list.append(train_indices)\n",
    "        val_indices_list.append(val_indices)\n",
    "    \n",
    "    # Generate dataframes train and val\n",
    "    no_samples = []\n",
    "    for split_idx, (train_indices, val_indices) in enumerate(zip(train_indices_list, val_indices_list)):\n",
    "        # print(f\"Split {split_idx+1}:\")\n",
    "        df_train = df_total_cv_curated.iloc[train_indices,:].reset_index(drop=True)\n",
    "        # print(\"Train indices:\", train_indices)\n",
    "        # print(\"Subjs train:\", np.unique(df_train.patient_id.values))\n",
    "        # print(\"Validation indices:\", val_indices)\n",
    "        df_val = df_total_cv_curated.iloc[val_indices,:].reset_index(drop=True)\n",
    "        # print(\"Subjs val:\", np.unique(df_val.patient_id.values))\n",
    "    \n",
    "        # Check if all of the the are no samples of 1 class in val set\n",
    "        for cat in no_samples_subjs:\n",
    "            cond = all(subj in no_samples_subjs[cat] for subj in np.unique(df_val.patient_id.values))\n",
    "            if cond:\n",
    "                no_samples.append(f'Fold {split_idx} has no samples for cat {cat}')\n",
    "                # print(f'Fold {split_idx} has no samples for cat {cat}')\n",
    "        # print('\\n')\n",
    "    if len(no_samples) == 0:\n",
    "        print(rand)"
   ]
  },
  {
   "cell_type": "code",
   "execution_count": 48,
   "id": "1cb9661e-d0f3-45b0-8fc0-92644dfa3482",
   "metadata": {},
   "outputs": [
    {
     "name": "stdout",
     "output_type": "stream",
     "text": [
      "Split 1:\n",
      "Subjs train: [ 0  1  3  4  5  6  7  8  9 14 16 17 18 20 21 23 24 25 26 28 29 30 31 32\n",
      " 33 34 35 36]\n",
      "Subjs val: [ 2 19 27]\n",
      "\n",
      "\n",
      "Split 2:\n",
      "Subjs train: [ 0  2  3  5  6  7  8 16 17 18 19 20 21 23 24 25 26 27 28 29 30 31 32 33\n",
      " 34 35 36]\n",
      "Subjs val: [ 1  4  9 14]\n",
      "\n",
      "\n",
      "Split 3:\n",
      "Subjs train: [ 0  1  2  3  4  5  6  8  9 14 16 17 19 20 21 23 24 25 26 27 28 30 31 32\n",
      " 33 34 35 36]\n",
      "Subjs val: [ 7 18 29]\n",
      "\n",
      "\n",
      "Split 4:\n",
      "Subjs train: [ 0  1  2  3  4  5  6  7  8  9 14 16 17 18 19 20 24 25 26 27 28 29 30 31\n",
      " 33 34 35 36]\n",
      "Subjs val: [21 23 32]\n",
      "\n",
      "\n",
      "Split 5:\n",
      "Subjs train: [ 0  1  2  3  4  5  7  8  9 14 16 17 18 19 20 21 23 24 25 26 27 28 29 31\n",
      " 32 33 34 35]\n",
      "Subjs val: [ 6 30 36]\n",
      "\n",
      "\n",
      "Split 6:\n",
      "Subjs train: [ 1  2  3  4  5  6  7  8  9 14 16 18 19 20 21 23 24 25 26 27 28 29 30 31\n",
      " 32 33 35 36]\n",
      "Subjs val: [ 0 17 34]\n",
      "\n",
      "\n",
      "Split 7:\n",
      "Subjs train: [ 0  1  2  3  4  5  6  7  8  9 14 16 17 18 19 20 21 23 25 27 28 29 30 31\n",
      " 32 34 35 36]\n",
      "Subjs val: [24 26 33]\n",
      "\n",
      "\n",
      "Split 8:\n",
      "Subjs train: [ 0  1  2  3  4  5  6  7  8  9 14 16 17 18 19 21 23 24 26 27 28 29 30 32\n",
      " 33 34 35 36]\n",
      "Subjs val: [20 25 31]\n",
      "\n",
      "\n",
      "Split 9:\n",
      "Subjs train: [ 0  1  2  3  4  6  7  9 14 16 17 18 19 20 21 23 24 25 26 27 28 29 30 31\n",
      " 32 33 34 36]\n",
      "Subjs val: [ 5  8 35]\n",
      "\n",
      "\n",
      "Split 10:\n",
      "Subjs train: [ 0  1  2  4  5  6  7  8  9 14 17 18 19 20 21 23 24 25 26 27 29 30 31 32\n",
      " 33 34 35 36]\n",
      "Subjs val: [ 3 16 28]\n",
      "\n",
      "\n",
      "Split 11:\n",
      "Subjs train: [ 0  1  2  3  4  5  6  7  8  9 14 16 17 18 20 21 23 24 26 28 29 30 31 32\n",
      " 33 34 35 36]\n",
      "Subjs val: [19 25 27]\n",
      "\n",
      "\n",
      "Split 12:\n",
      "Subjs train: [ 0  1  2  3  4  5  6  7  8  9 14 18 19 20 23 24 25 26 27 28 29 30 31 32\n",
      " 33 34 35 36]\n",
      "Subjs val: [16 17 21]\n",
      "\n",
      "\n",
      "Split 13:\n",
      "Subjs train: [ 0  1  2  3  4  5  6  9 14 16 17 19 20 21 23 24 25 26 27 28 29 30 31 32\n",
      " 33 34 35 36]\n",
      "Subjs val: [ 7  8 18]\n",
      "\n",
      "\n",
      "Split 14:\n",
      "Subjs train: [ 0  1  3  4  5  6  7  8 16 17 18 19 20 21 23 24 25 26 27 28 29 30 31 33\n",
      " 34 35 36]\n",
      "Subjs val: [ 2  9 14 32]\n",
      "\n",
      "\n",
      "Split 15:\n",
      "Subjs train: [ 0  1  2  3  4  5  6  7  8  9 14 16 17 18 19 20 21 23 24 25 26 27 28 30\n",
      " 31 32 33 35]\n",
      "Subjs val: [29 34 36]\n",
      "\n",
      "\n",
      "Split 16:\n",
      "Subjs train: [ 0  1  2  3  5  6  7  8  9 14 16 17 18 19 20 21 24 25 26 27 28 29 30 32\n",
      " 33 34 35 36]\n",
      "Subjs val: [ 4 23 31]\n",
      "\n",
      "\n",
      "Split 17:\n",
      "Subjs train: [ 0  2  3  4  5  7  8  9 14 16 17 18 19 21 23 24 25 26 27 28 29 30 31 32\n",
      " 33 34 35 36]\n",
      "Subjs val: [ 1  6 20]\n",
      "\n",
      "\n",
      "Split 18:\n",
      "Subjs train: [ 1  2  3  4  5  6  7  8  9 14 16 17 18 19 20 21 23 24 25 27 28 29 30 31\n",
      " 32 34 35 36]\n",
      "Subjs val: [ 0 26 33]\n",
      "\n",
      "\n",
      "Split 19:\n",
      "Subjs train: [ 0  1  2  3  4  6  7  8  9 14 16 17 18 19 20 21 23 24 25 26 27 28 29 31\n",
      " 32 33 34 36]\n",
      "Subjs val: [ 5 30 35]\n",
      "\n",
      "\n",
      "Split 20:\n",
      "Subjs train: [ 0  1  2  4  5  6  7  8  9 14 16 17 18 19 20 21 23 25 26 27 29 30 31 32\n",
      " 33 34 35 36]\n",
      "Subjs val: [ 3 24 28]\n",
      "\n",
      "\n"
     ]
    }
   ],
   "source": [
    "import numpy as np\n",
    "# from sklearn.model_selection import GroupKFold\n",
    "\n",
    "# Sample data\n",
    "X = df_total_cv_curated.segment_id.values  # Your data\n",
    "y = df_total_cv_curated.category_id.values  # Your labels\n",
    "# Define groups where each group represents a different subject\n",
    "groups = df_total_cv_curated.patient_id.values  # Random grouping for illustration\n",
    "\n",
    "# Define the number of splits\n",
    "n_splits = 10\n",
    "\n",
    "# Create GroupKFold with a custom generator to ensure groups stay together\n",
    "# gkf = GroupKFold(n_splits=n_splits)\n",
    "gkf = RepeatedGroupKFold(n_splits=n_splits, n_repeats=2, random_state=46)\n",
    "\n",
    "# Initialize lists to store train and validation indices\n",
    "train_indices_list = []\n",
    "val_indices_list = []\n",
    "\n",
    "# Generate train and validation indices for each split\n",
    "\n",
    "for train_indices, val_indices in gkf.split(X, y, groups=groups):\n",
    "    train_indices_list.append(train_indices)\n",
    "    val_indices_list.append(val_indices)\n",
    "\n",
    "# Generate dataframes train and val\n",
    "no_samples = []\n",
    "for split_idx, (train_indices, val_indices) in enumerate(zip(train_indices_list, val_indices_list)):\n",
    "    print(f\"Split {split_idx+1}:\")\n",
    "    df_train = df_total_cv_curated.iloc[train_indices,:].reset_index(drop=True)\n",
    "    # print(\"Train indices:\", train_indices)\n",
    "    print(\"Subjs train:\", np.unique(df_train.patient_id.values))\n",
    "    # print(\"Validation indices:\", val_indices)\n",
    "    df_val = df_total_cv_curated.iloc[val_indices,:].reset_index(drop=True)\n",
    "    print(\"Subjs val:\", np.unique(df_val.patient_id.values))\n",
    "\n",
    "    # Check if all of the the are no samples of 1 class in val set\n",
    "    for cat in no_samples_subjs:\n",
    "        cond = all(subj in no_samples_subjs[cat] for subj in np.unique(df_val.patient_id.values))\n",
    "        if cond:\n",
    "            # no_samples.append(f'Fold {split_idx} has no samples for cat {cat}')\n",
    "            print(f'Fold {split_idx} has no samples for cat {cat}')\n",
    "    print('\\n')"
   ]
  },
  {
   "cell_type": "code",
   "execution_count": 94,
   "id": "398b1126-01ad-4a25-af02-dd7f91aad4ee",
   "metadata": {},
   "outputs": [
    {
     "data": {
      "text/html": [
       "<div>\n",
       "<style scoped>\n",
       "    .dataframe tbody tr th:only-of-type {\n",
       "        vertical-align: middle;\n",
       "    }\n",
       "\n",
       "    .dataframe tbody tr th {\n",
       "        vertical-align: top;\n",
       "    }\n",
       "\n",
       "    .dataframe thead th {\n",
       "        text-align: right;\n",
       "    }\n",
       "</style>\n",
       "<table border=\"1\" class=\"dataframe\">\n",
       "  <thead>\n",
       "    <tr style=\"text-align: right;\">\n",
       "      <th></th>\n",
       "      <th>anatomy</th>\n",
       "      <th>category_id</th>\n",
       "      <th>channel</th>\n",
       "      <th>electrode_type</th>\n",
       "      <th>institution</th>\n",
       "      <th>patient_id</th>\n",
       "      <th>reviewer_id</th>\n",
       "      <th>segment_id</th>\n",
       "      <th>soz</th>\n",
       "      <th>category_name</th>\n",
       "    </tr>\n",
       "  </thead>\n",
       "  <tbody>\n",
       "    <tr>\n",
       "      <th>98539</th>\n",
       "      <td>NaN</td>\n",
       "      <td>2</td>\n",
       "      <td>LAD_3</td>\n",
       "      <td>depth</td>\n",
       "      <td>mayo</td>\n",
       "      <td>23</td>\n",
       "      <td>1</td>\n",
       "      <td>x151806</td>\n",
       "      <td>0</td>\n",
       "      <td>physiology</td>\n",
       "    </tr>\n",
       "    <tr>\n",
       "      <th>98540</th>\n",
       "      <td>NaN</td>\n",
       "      <td>2</td>\n",
       "      <td>LAD_1</td>\n",
       "      <td>depth</td>\n",
       "      <td>mayo</td>\n",
       "      <td>23</td>\n",
       "      <td>1</td>\n",
       "      <td>x151102</td>\n",
       "      <td>0</td>\n",
       "      <td>physiology</td>\n",
       "    </tr>\n",
       "    <tr>\n",
       "      <th>98541</th>\n",
       "      <td>NaN</td>\n",
       "      <td>2</td>\n",
       "      <td>LAD_1</td>\n",
       "      <td>depth</td>\n",
       "      <td>mayo</td>\n",
       "      <td>23</td>\n",
       "      <td>1</td>\n",
       "      <td>x151117</td>\n",
       "      <td>0</td>\n",
       "      <td>physiology</td>\n",
       "    </tr>\n",
       "    <tr>\n",
       "      <th>98542</th>\n",
       "      <td>NaN</td>\n",
       "      <td>2</td>\n",
       "      <td>LAD_1</td>\n",
       "      <td>depth</td>\n",
       "      <td>mayo</td>\n",
       "      <td>23</td>\n",
       "      <td>1</td>\n",
       "      <td>x151150</td>\n",
       "      <td>0</td>\n",
       "      <td>physiology</td>\n",
       "    </tr>\n",
       "    <tr>\n",
       "      <th>98543</th>\n",
       "      <td>NaN</td>\n",
       "      <td>2</td>\n",
       "      <td>LAD_3</td>\n",
       "      <td>depth</td>\n",
       "      <td>mayo</td>\n",
       "      <td>23</td>\n",
       "      <td>1</td>\n",
       "      <td>x152004</td>\n",
       "      <td>0</td>\n",
       "      <td>physiology</td>\n",
       "    </tr>\n",
       "  </tbody>\n",
       "</table>\n",
       "</div>"
      ],
      "text/plain": [
       "      anatomy  category_id channel electrode_type institution  patient_id  \\\n",
       "98539     NaN            2   LAD_3          depth        mayo          23   \n",
       "98540     NaN            2   LAD_1          depth        mayo          23   \n",
       "98541     NaN            2   LAD_1          depth        mayo          23   \n",
       "98542     NaN            2   LAD_1          depth        mayo          23   \n",
       "98543     NaN            2   LAD_3          depth        mayo          23   \n",
       "\n",
       "       reviewer_id segment_id  soz category_name  \n",
       "98539            1    x151806    0    physiology  \n",
       "98540            1    x151102    0    physiology  \n",
       "98541            1    x151117    0    physiology  \n",
       "98542            1    x151150    0    physiology  \n",
       "98543            1    x152004    0    physiology  "
      ]
     },
     "execution_count": 94,
     "metadata": {},
     "output_type": "execute_result"
    }
   ],
   "source": [
    "df_train.tail()"
   ]
  },
  {
   "cell_type": "markdown",
   "id": "dd52820d-2260-4a36-9e29-9daaa8171d8d",
   "metadata": {
    "jp-MarkdownHeadingCollapsed": true
   },
   "source": [
    "# Noise detection dataset\n",
    "I'll balance the classes manually to have a similar amount of training examples per subject. The biggest will be training "
   ]
  },
  {
   "cell_type": "code",
   "execution_count": 3,
   "id": "1ff9722a-eb7d-49e6-a3e2-ba2608dc6013",
   "metadata": {},
   "outputs": [
    {
     "data": {
      "text/html": [
       "<div>\n",
       "<style scoped>\n",
       "    .dataframe tbody tr th:only-of-type {\n",
       "        vertical-align: middle;\n",
       "    }\n",
       "\n",
       "    .dataframe tbody tr th {\n",
       "        vertical-align: top;\n",
       "    }\n",
       "\n",
       "    .dataframe thead th {\n",
       "        text-align: right;\n",
       "    }\n",
       "</style>\n",
       "<table border=\"1\" class=\"dataframe\">\n",
       "  <thead>\n",
       "    <tr style=\"text-align: right;\">\n",
       "      <th></th>\n",
       "      <th>anatomy</th>\n",
       "      <th>category_id</th>\n",
       "      <th>channel</th>\n",
       "      <th>electrode_type</th>\n",
       "      <th>institution</th>\n",
       "      <th>patient_id</th>\n",
       "      <th>reviewer_id</th>\n",
       "      <th>segment_id</th>\n",
       "      <th>soz</th>\n",
       "      <th>category_name</th>\n",
       "    </tr>\n",
       "    <tr>\n",
       "      <th>index</th>\n",
       "      <th></th>\n",
       "      <th></th>\n",
       "      <th></th>\n",
       "      <th></th>\n",
       "      <th></th>\n",
       "      <th></th>\n",
       "      <th></th>\n",
       "      <th></th>\n",
       "      <th></th>\n",
       "      <th></th>\n",
       "    </tr>\n",
       "  </thead>\n",
       "  <tbody>\n",
       "    <tr>\n",
       "      <th>7132</th>\n",
       "      <td>hippocampus anterior</td>\n",
       "      <td>1</td>\n",
       "      <td>B'1</td>\n",
       "      <td>depth</td>\n",
       "      <td>fnusa</td>\n",
       "      <td>1</td>\n",
       "      <td>2</td>\n",
       "      <td>y007132</td>\n",
       "      <td>1</td>\n",
       "      <td>pathology</td>\n",
       "    </tr>\n",
       "    <tr>\n",
       "      <th>7133</th>\n",
       "      <td>hippocampus anterior</td>\n",
       "      <td>1</td>\n",
       "      <td>B'1</td>\n",
       "      <td>depth</td>\n",
       "      <td>fnusa</td>\n",
       "      <td>1</td>\n",
       "      <td>2</td>\n",
       "      <td>y007133</td>\n",
       "      <td>1</td>\n",
       "      <td>pathology</td>\n",
       "    </tr>\n",
       "    <tr>\n",
       "      <th>7134</th>\n",
       "      <td>hippocampus anterior</td>\n",
       "      <td>1</td>\n",
       "      <td>B'1</td>\n",
       "      <td>depth</td>\n",
       "      <td>fnusa</td>\n",
       "      <td>1</td>\n",
       "      <td>2</td>\n",
       "      <td>y007134</td>\n",
       "      <td>1</td>\n",
       "      <td>pathology</td>\n",
       "    </tr>\n",
       "    <tr>\n",
       "      <th>7135</th>\n",
       "      <td>hippocampus anterior</td>\n",
       "      <td>1</td>\n",
       "      <td>B'1</td>\n",
       "      <td>depth</td>\n",
       "      <td>fnusa</td>\n",
       "      <td>1</td>\n",
       "      <td>2</td>\n",
       "      <td>y007135</td>\n",
       "      <td>1</td>\n",
       "      <td>pathology</td>\n",
       "    </tr>\n",
       "    <tr>\n",
       "      <th>7136</th>\n",
       "      <td>hippocampus anterior</td>\n",
       "      <td>1</td>\n",
       "      <td>B'1</td>\n",
       "      <td>depth</td>\n",
       "      <td>fnusa</td>\n",
       "      <td>1</td>\n",
       "      <td>2</td>\n",
       "      <td>y007136</td>\n",
       "      <td>1</td>\n",
       "      <td>pathology</td>\n",
       "    </tr>\n",
       "  </tbody>\n",
       "</table>\n",
       "</div>"
      ],
      "text/plain": [
       "                    anatomy  category_id channel electrode_type institution  \\\n",
       "index                                                                         \n",
       "7132   hippocampus anterior            1     B'1          depth       fnusa   \n",
       "7133   hippocampus anterior            1     B'1          depth       fnusa   \n",
       "7134   hippocampus anterior            1     B'1          depth       fnusa   \n",
       "7135   hippocampus anterior            1     B'1          depth       fnusa   \n",
       "7136   hippocampus anterior            1     B'1          depth       fnusa   \n",
       "\n",
       "       patient_id  reviewer_id segment_id  soz category_name  \n",
       "index                                                         \n",
       "7132            1            2    y007132    1     pathology  \n",
       "7133            1            2    y007133    1     pathology  \n",
       "7134            1            2    y007134    1     pathology  \n",
       "7135            1            2    y007135    1     pathology  \n",
       "7136            1            2    y007136    1     pathology  "
      ]
     },
     "execution_count": 3,
     "metadata": {},
     "output_type": "execute_result"
    }
   ],
   "source": [
    "df_fnusa_no_pw = df_fnusa.loc[df_fnusa.category_id != 0]\n",
    "df_fnusa_no_pw.loc[:,'category_id'] = df_fnusa_no_pw.category_id - 1\n",
    "\n",
    "df_mayo_no_pw = df_mayo.loc[df_mayo.category_id != 0]\n",
    "df_mayo_no_pw.loc[:,'category_id'] = df_mayo_no_pw.category_id - 1\n",
    "\n",
    "df_fnusa_no_pw.head()"
   ]
  },
  {
   "cell_type": "markdown",
   "id": "d514e1e5-0ab2-46bd-87ca-36279d806a2b",
   "metadata": {},
   "source": [
    "## Balance Fnusa"
   ]
  },
  {
   "cell_type": "markdown",
   "id": "2e298def-cbc3-4a28-8fa3-1ba05caa62fe",
   "metadata": {},
   "source": [
    "Not touching test set as I'll probably do bootstrapping for that"
   ]
  },
  {
   "cell_type": "code",
   "execution_count": 4,
   "id": "41a5550c-00aa-4953-826e-8948a5e69e74",
   "metadata": {},
   "outputs": [
    {
     "name": "stdout",
     "output_type": "stream",
     "text": [
      "subjects from inst fnusa\n",
      "{'noise': [0, 2892, 12, 8463, 5059, 0, 5416, 18, 0, 5876, 3339, 1343, 181], 'path': [1912, 1657, 8076, 0, 1527, 1554, 7738, 1896, 6750, 4260, 4072, 7710, 5318], 'phys': [0, 7809, 0, 0, 5452, 962, 2689, 20860, 0, 1545, 2890, 38217, 14136]}\n",
      "\n",
      " noise \n",
      "Number of subj: 10 \n",
      "Median events per subj 3115.5 \n",
      "Total events proportion 18.147960518624497 \n",
      "Total events: 32599\n",
      "\n",
      "\n",
      " path \n",
      "Number of subj: 12 \n",
      "Median events per subj 4166.0 \n",
      "Total events proportion 29.21020547907075 \n",
      "Total events: 52470\n",
      "\n",
      "\n",
      " phys \n",
      "Number of subj: 9 \n",
      "Median events per subj 5452.0 \n",
      "Total events proportion 52.64183400230475 \n",
      "Total events: 94560\n",
      "\n"
     ]
    }
   ],
   "source": [
    "# Eval\n",
    "counter = {\n",
    "    'noise':[],\n",
    "    'path':[],\n",
    "    'phys':[]\n",
    "}\n",
    "df_evaluated = df_fnusa_no_pw\n",
    "for inst in np.unique(df_evaluated.institution):\n",
    "    df_inst = df_evaluated.loc[df_evaluated.institution==inst]\n",
    "    print(f'subjects from inst {inst}')\n",
    "    for subj in np.unique(df_inst.patient_id):\n",
    "        df_subj = df_inst.loc[df_inst.patient_id==subj]\n",
    "        for cat_id, cat_name in [(0, 'noise'), (1, 'path'), (2,'phys')]:\n",
    "            counter[cat_name].append(len(df_subj.loc[df_subj.category_id==cat_id]))\n",
    "print(counter)\n",
    "\n",
    "for cat in counter:\n",
    "    array_count = np.array(counter[cat])\n",
    "    print('\\n',cat,f'\\nNumber of subj: {len(array_count[array_count!=0])}', f'\\nMedian events per subj {np.median(array_count[array_count!=0])}',f'\\nTotal events proportion {np.sum(array_count)*100/len(df_evaluated)}', f'\\nTotal events: {np.sum(array_count)}\\n')"
   ]
  },
  {
   "cell_type": "code",
   "execution_count": 5,
   "id": "63e95a54-2dc3-4738-8d73-96bbc52a568f",
   "metadata": {},
   "outputs": [
    {
     "name": "stdout",
     "output_type": "stream",
     "text": [
      "subjects from inst fnusa\n"
     ]
    }
   ],
   "source": [
    "# Manually picked choice\n",
    "# For training: 1500, 2000, 1200. \n",
    "# For val 4000, 2000, 2000\n",
    "max_img_subj_cat = {\n",
    "    'noise': 3000, # Pay more the noise\n",
    "    'path': 800, # Less path at it is not so hard to identify\n",
    "    'phys': 1500\n",
    "}\n",
    "df_curated = []\n",
    "for inst in np.unique(df_evaluated.institution):\n",
    "    df_inst = df_evaluated.loc[df_evaluated.institution==inst]\n",
    "    print(f'subjects from inst {inst}')\n",
    "    for subj in np.unique(df_inst.patient_id):\n",
    "        df_subj = df_inst.loc[df_inst.patient_id==subj]\n",
    "        for cat_id, cat_name in [(0, 'noise'), (1, 'path'), (2,'phys')]:\n",
    "            df_cat = df_subj.loc[df_subj.category_id==cat_id]\n",
    "            if len(df_curated)<1:\n",
    "                df_curated = df_cat.sample(min(len(df_cat),max_img_subj_cat[cat_name]))\n",
    "            else:\n",
    "                df_curated = pd.concat([df_curated, df_cat.sample(min(len(df_cat),max_img_subj_cat[cat_name]))])\n",
    "df_curated = df_curated.reset_index(drop=True)"
   ]
  },
  {
   "cell_type": "code",
   "execution_count": 6,
   "id": "df809c4f-4260-409c-9638-ef1bf5c659d1",
   "metadata": {},
   "outputs": [
    {
     "name": "stdout",
     "output_type": "stream",
     "text": [
      "subjects from inst fnusa\n",
      "{'noise': [0, 2892, 12, 3000, 3000, 0, 3000, 18, 0, 3000, 3000, 1343, 181], 'path': [800, 800, 800, 0, 800, 800, 800, 800, 800, 800, 800, 800, 800], 'phys': [0, 1500, 0, 0, 1500, 962, 1500, 1500, 0, 1500, 1500, 1500, 1500]}\n",
      "\n",
      " noise \n",
      "Number of subj: 10 \n",
      "Median events per subj 2946.0 \n",
      "Total events proportion 46.29118263187964 \n",
      "Total events: 19446\n",
      "\n",
      "\n",
      " path \n",
      "Number of subj: 12 \n",
      "Median events per subj 800.0 \n",
      "Total events proportion 22.852789944772425 \n",
      "Total events: 9600\n",
      "\n",
      "\n",
      " phys \n",
      "Number of subj: 9 \n",
      "Median events per subj 1500.0 \n",
      "Total events proportion 30.856027423347935 \n",
      "Total events: 12962\n",
      "\n"
     ]
    }
   ],
   "source": [
    "# Eval\n",
    "counter = {\n",
    "    'noise':[],\n",
    "    'path':[],\n",
    "    'phys':[]\n",
    "}\n",
    "df_evaluated = df_curated\n",
    "for inst in np.unique(df_evaluated.institution):\n",
    "    df_inst = df_evaluated.loc[df_evaluated.institution==inst]\n",
    "    print(f'subjects from inst {inst}')\n",
    "    for subj in np.unique(df_inst.patient_id):\n",
    "        df_subj = df_inst.loc[df_inst.patient_id==subj]\n",
    "        for cat_id, cat_name in [(0, 'noise'), (1, 'path'), (2,'phys')]:\n",
    "            counter[cat_name].append(len(df_subj.loc[df_subj.category_id==cat_id]))\n",
    "print(counter)\n",
    "for cat in counter:\n",
    "    array_count = np.array(counter[cat])\n",
    "    print('\\n',cat,f'\\nNumber of subj: {len(array_count[array_count!=0])}', f'\\nMedian events per subj {np.median(array_count[array_count!=0])}',f'\\nTotal events proportion {np.sum(array_count)*100/len(df_evaluated)}', f'\\nTotal events: {np.sum(array_count)}\\n')"
   ]
  },
  {
   "cell_type": "code",
   "execution_count": 7,
   "id": "1bdb1a88-b882-4d73-9193-70b0fa1c8799",
   "metadata": {},
   "outputs": [],
   "source": [
    "df_curated_fnusa = df_curated"
   ]
  },
  {
   "cell_type": "code",
   "execution_count": 18,
   "id": "dd489dc4-fdee-4338-b1b6-08baaff56a0a",
   "metadata": {
    "jupyter": {
     "source_hidden": true
    }
   },
   "outputs": [
    {
     "data": {
      "text/plain": [
       "42008"
      ]
     },
     "execution_count": 18,
     "metadata": {},
     "output_type": "execute_result"
    }
   ],
   "source": [
    "len(df_curated_fnusa)"
   ]
  },
  {
   "cell_type": "markdown",
   "id": "c796545f-20c9-45cc-a4fc-f07ed5e8b788",
   "metadata": {
    "jp-MarkdownHeadingCollapsed": true
   },
   "source": [
    "## Balance Mayo"
   ]
  },
  {
   "cell_type": "code",
   "execution_count": 8,
   "id": "4ffbc88f-8d7e-430b-8d3c-d5f122105474",
   "metadata": {},
   "outputs": [
    {
     "name": "stdout",
     "output_type": "stream",
     "text": [
      "subjects from inst mayo\n",
      "{'noise': [2318, 0, 466, 4636, 2063, 1002, 12873, 0, 0, 740, 0, 3699, 4096, 1700, 5613, 1278, 58, 761], 'path': [0, 883, 1923, 0, 0, 0, 0, 0, 2816, 0, 3426, 0, 0, 0, 0, 0, 3432, 2747], 'phys': [330, 8653, 399, 2057, 790, 6583, 0, 25951, 0, 0, 498, 177, 6098, 3126, 0, 1424, 0, 644]}\n",
      "\n",
      " noise \n",
      "Number of subj: 14 \n",
      "Median events per subj 1881.5 \n",
      "Total events proportion 36.46742009535582 \n",
      "Total events: 41303\n",
      "\n",
      "\n",
      " path \n",
      "Number of subj: 6 \n",
      "Median events per subj 2781.5 \n",
      "Total events proportion 13.444287480134204 \n",
      "Total events: 15227\n",
      "\n",
      "\n",
      " phys \n",
      "Number of subj: 13 \n",
      "Median events per subj 1424.0 \n",
      "Total events proportion 50.08829242450998 \n",
      "Total events: 56730\n",
      "\n"
     ]
    }
   ],
   "source": [
    "# Eval\n",
    "counter = {\n",
    "    'noise':[],\n",
    "    'path':[],\n",
    "    'phys':[]\n",
    "}\n",
    "df_evaluated = df_mayo_no_pw\n",
    "for inst in np.unique(df_evaluated.institution):\n",
    "    df_inst = df_evaluated.loc[df_evaluated.institution==inst]\n",
    "    print(f'subjects from inst {inst}')\n",
    "    for subj in np.unique(df_inst.patient_id):\n",
    "        df_subj = df_inst.loc[df_inst.patient_id==subj]\n",
    "        for cat_id, cat_name in [(0, 'noise'), (1, 'path'), (2,'phys')]:\n",
    "            counter[cat_name].append(len(df_subj.loc[df_subj.category_id==cat_id]))\n",
    "print(counter)\n",
    "\n",
    "for cat in counter:\n",
    "    array_count = np.array(counter[cat])\n",
    "    print('\\n',cat,f'\\nNumber of subj: {len(array_count[array_count!=0])}', f'\\nMedian events per subj {np.median(array_count[array_count!=0])}',f'\\nTotal events proportion {np.sum(array_count)*100/len(df_evaluated)}', f'\\nTotal events: {np.sum(array_count)}\\n')"
   ]
  },
  {
   "cell_type": "code",
   "execution_count": 9,
   "id": "f91b18e6-c7b9-476b-8570-01f9fb9b8f23",
   "metadata": {},
   "outputs": [
    {
     "name": "stdout",
     "output_type": "stream",
     "text": [
      "subjects from inst mayo\n"
     ]
    }
   ],
   "source": [
    "# Manually picked choice\n",
    "# For training: 1500, 2000, 1200. \n",
    "# For val 4000, 2000, 2000\n",
    "max_img_subj_cat = {\n",
    "    'noise': 2000, # Pay more the noise\n",
    "    'path': 1500, # Less path at it is not so hard to identify\n",
    "    'phys': 1300\n",
    "}\n",
    "df_curated = []\n",
    "for inst in np.unique(df_evaluated.institution):\n",
    "    df_inst = df_evaluated.loc[df_evaluated.institution==inst]\n",
    "    print(f'subjects from inst {inst}')\n",
    "    for subj in np.unique(df_inst.patient_id):\n",
    "        df_subj = df_inst.loc[df_inst.patient_id==subj]\n",
    "        for cat_id, cat_name in [(0, 'noise'), (1, 'path'), (2,'phys')]:\n",
    "            df_cat = df_subj.loc[df_subj.category_id==cat_id]\n",
    "            if len(df_curated)<1:\n",
    "                df_curated = df_cat.sample(min(len(df_cat),max_img_subj_cat[cat_name]))\n",
    "            else:\n",
    "                df_curated = pd.concat([df_curated, df_cat.sample(min(len(df_cat),max_img_subj_cat[cat_name]))])\n",
    "df_curated = df_curated.reset_index(drop=True)"
   ]
  },
  {
   "cell_type": "code",
   "execution_count": 10,
   "id": "0997b473-86a4-44e7-9dc5-db5749318689",
   "metadata": {},
   "outputs": [
    {
     "name": "stdout",
     "output_type": "stream",
     "text": [
      "subjects from inst mayo\n",
      "{'noise': [2000, 0, 466, 2000, 2000, 1002, 2000, 0, 0, 740, 0, 2000, 2000, 1700, 2000, 1278, 58, 761], 'path': [0, 883, 1500, 0, 0, 0, 0, 0, 1500, 0, 1500, 0, 0, 0, 0, 0, 1500, 1500], 'phys': [330, 1300, 399, 1300, 790, 1300, 0, 1300, 0, 0, 498, 177, 1300, 1300, 0, 1300, 0, 644]}\n",
      "\n",
      " noise \n",
      "Number of subj: 14 \n",
      "Median events per subj 1850.0 \n",
      "Total events proportion 49.6081932252145 \n",
      "Total events: 20005\n",
      "\n",
      "\n",
      " path \n",
      "Number of subj: 6 \n",
      "Median events per subj 1500.0 \n",
      "Total events proportion 20.788077171055896 \n",
      "Total events: 8383\n",
      "\n",
      "\n",
      " phys \n",
      "Number of subj: 13 \n",
      "Median events per subj 1300.0 \n",
      "Total events proportion 29.603729603729604 \n",
      "Total events: 11938\n",
      "\n"
     ]
    }
   ],
   "source": [
    "# Eval\n",
    "counter = {\n",
    "    'noise':[],\n",
    "    'path':[],\n",
    "    'phys':[]\n",
    "}\n",
    "df_evaluated = df_curated\n",
    "for inst in np.unique(df_evaluated.institution):\n",
    "    df_inst = df_evaluated.loc[df_evaluated.institution==inst]\n",
    "    print(f'subjects from inst {inst}')\n",
    "    for subj in np.unique(df_inst.patient_id):\n",
    "        df_subj = df_inst.loc[df_inst.patient_id==subj]\n",
    "        for cat_id, cat_name in [(0, 'noise'), (1, 'path'), (2,'phys')]:\n",
    "            counter[cat_name].append(len(df_subj.loc[df_subj.category_id==cat_id]))\n",
    "print(counter)\n",
    "for cat in counter:\n",
    "    array_count = np.array(counter[cat])\n",
    "    print('\\n',cat,f'\\nNumber of subj: {len(array_count[array_count!=0])}', f'\\nMedian events per subj {np.median(array_count[array_count!=0])}',f'\\nTotal events proportion {np.sum(array_count)*100/len(df_evaluated)}', f'\\nTotal events: {np.sum(array_count)}\\n')"
   ]
  },
  {
   "cell_type": "code",
   "execution_count": 11,
   "id": "e613b51e-eadc-46da-898a-ed11579c8cff",
   "metadata": {},
   "outputs": [],
   "source": [
    "df_curated_mayo = df_curated"
   ]
  },
  {
   "cell_type": "code",
   "execution_count": 12,
   "id": "b0f5e924-eb20-4e5a-85d7-a24d14787b5e",
   "metadata": {},
   "outputs": [
    {
     "data": {
      "text/plain": [
       "(40326, 42008)"
      ]
     },
     "execution_count": 12,
     "metadata": {},
     "output_type": "execute_result"
    }
   ],
   "source": [
    "len(df_curated_mayo), len(df_curated_fnusa)"
   ]
  },
  {
   "cell_type": "code",
   "execution_count": 13,
   "id": "3f8dbb81-00c6-46cd-9805-47ed1e0c4b42",
   "metadata": {},
   "outputs": [],
   "source": [
    "df_train = df_curated_fnusa\n",
    "df_val = df_curated_mayo"
   ]
  },
  {
   "cell_type": "code",
   "execution_count": 14,
   "id": "20d63983-c664-43b6-b988-072a7b9db750",
   "metadata": {},
   "outputs": [],
   "source": [
    "# Write csv files. Using fnusa as train\n",
    "df_train.to_csv('/scratch/mcesped/Datasets/Noise_detection/df_train_curated.csv', sep=\",\", index_label='index')\n",
    "df_val.to_csv('/scratch/mcesped/Datasets/Noise_detection/df_val_curated.csv', sep=\",\", index_label='index')\n",
    "# df_test.to_csv('/scratch/mcesped/Datasets/Noise_detection/df_test.csv', sep=\",\", index_label='index')"
   ]
  },
  {
   "cell_type": "code",
   "execution_count": 16,
   "id": "add02aeb-0e8b-4980-8a0f-f57a8ed0e291",
   "metadata": {},
   "outputs": [],
   "source": [
    "df_fnusa_no_pw.to_csv('/scratch/mcesped/Datasets/Noise_detection/df_train_full.csv', sep=\",\", index_label='index')\n",
    "df_mayo_no_pw.to_csv('/scratch/mcesped/Datasets/Noise_detection/df_val_full.csv', sep=\",\", index_label='index')"
   ]
  },
  {
   "cell_type": "markdown",
   "id": "fe564bf2-5796-4b5d-9385-f888111ee0da",
   "metadata": {
    "jp-MarkdownHeadingCollapsed": true
   },
   "source": [
    "# Path detection dataset\n",
    "I'll balance the classes manually to have a similar amount of training examples per subject. The biggest will be training "
   ]
  },
  {
   "cell_type": "code",
   "execution_count": 3,
   "id": "98e04f76-2173-4b17-8820-30022b1e6cb4",
   "metadata": {},
   "outputs": [
    {
     "data": {
      "text/html": [
       "<div>\n",
       "<style scoped>\n",
       "    .dataframe tbody tr th:only-of-type {\n",
       "        vertical-align: middle;\n",
       "    }\n",
       "\n",
       "    .dataframe tbody tr th {\n",
       "        vertical-align: top;\n",
       "    }\n",
       "\n",
       "    .dataframe thead th {\n",
       "        text-align: right;\n",
       "    }\n",
       "</style>\n",
       "<table border=\"1\" class=\"dataframe\">\n",
       "  <thead>\n",
       "    <tr style=\"text-align: right;\">\n",
       "      <th></th>\n",
       "      <th>anatomy</th>\n",
       "      <th>category_id</th>\n",
       "      <th>channel</th>\n",
       "      <th>electrode_type</th>\n",
       "      <th>institution</th>\n",
       "      <th>patient_id</th>\n",
       "      <th>reviewer_id</th>\n",
       "      <th>segment_id</th>\n",
       "      <th>soz</th>\n",
       "      <th>category_name</th>\n",
       "    </tr>\n",
       "    <tr>\n",
       "      <th>index</th>\n",
       "      <th></th>\n",
       "      <th></th>\n",
       "      <th></th>\n",
       "      <th></th>\n",
       "      <th></th>\n",
       "      <th></th>\n",
       "      <th></th>\n",
       "      <th></th>\n",
       "      <th></th>\n",
       "      <th></th>\n",
       "    </tr>\n",
       "  </thead>\n",
       "  <tbody>\n",
       "    <tr>\n",
       "      <th>7132</th>\n",
       "      <td>hippocampus anterior</td>\n",
       "      <td>1</td>\n",
       "      <td>B'1</td>\n",
       "      <td>depth</td>\n",
       "      <td>fnusa</td>\n",
       "      <td>1</td>\n",
       "      <td>2</td>\n",
       "      <td>y007132</td>\n",
       "      <td>1</td>\n",
       "      <td>pathology</td>\n",
       "    </tr>\n",
       "    <tr>\n",
       "      <th>7133</th>\n",
       "      <td>hippocampus anterior</td>\n",
       "      <td>1</td>\n",
       "      <td>B'1</td>\n",
       "      <td>depth</td>\n",
       "      <td>fnusa</td>\n",
       "      <td>1</td>\n",
       "      <td>2</td>\n",
       "      <td>y007133</td>\n",
       "      <td>1</td>\n",
       "      <td>pathology</td>\n",
       "    </tr>\n",
       "    <tr>\n",
       "      <th>7134</th>\n",
       "      <td>hippocampus anterior</td>\n",
       "      <td>1</td>\n",
       "      <td>B'1</td>\n",
       "      <td>depth</td>\n",
       "      <td>fnusa</td>\n",
       "      <td>1</td>\n",
       "      <td>2</td>\n",
       "      <td>y007134</td>\n",
       "      <td>1</td>\n",
       "      <td>pathology</td>\n",
       "    </tr>\n",
       "    <tr>\n",
       "      <th>7135</th>\n",
       "      <td>hippocampus anterior</td>\n",
       "      <td>1</td>\n",
       "      <td>B'1</td>\n",
       "      <td>depth</td>\n",
       "      <td>fnusa</td>\n",
       "      <td>1</td>\n",
       "      <td>2</td>\n",
       "      <td>y007135</td>\n",
       "      <td>1</td>\n",
       "      <td>pathology</td>\n",
       "    </tr>\n",
       "    <tr>\n",
       "      <th>7136</th>\n",
       "      <td>hippocampus anterior</td>\n",
       "      <td>1</td>\n",
       "      <td>B'1</td>\n",
       "      <td>depth</td>\n",
       "      <td>fnusa</td>\n",
       "      <td>1</td>\n",
       "      <td>2</td>\n",
       "      <td>y007136</td>\n",
       "      <td>1</td>\n",
       "      <td>pathology</td>\n",
       "    </tr>\n",
       "  </tbody>\n",
       "</table>\n",
       "</div>"
      ],
      "text/plain": [
       "                    anatomy  category_id channel electrode_type institution  \\\n",
       "index                                                                         \n",
       "7132   hippocampus anterior            1     B'1          depth       fnusa   \n",
       "7133   hippocampus anterior            1     B'1          depth       fnusa   \n",
       "7134   hippocampus anterior            1     B'1          depth       fnusa   \n",
       "7135   hippocampus anterior            1     B'1          depth       fnusa   \n",
       "7136   hippocampus anterior            1     B'1          depth       fnusa   \n",
       "\n",
       "       patient_id  reviewer_id segment_id  soz category_name  \n",
       "index                                                         \n",
       "7132            1            2    y007132    1     pathology  \n",
       "7133            1            2    y007133    1     pathology  \n",
       "7134            1            2    y007134    1     pathology  \n",
       "7135            1            2    y007135    1     pathology  \n",
       "7136            1            2    y007136    1     pathology  "
      ]
     },
     "execution_count": 3,
     "metadata": {},
     "output_type": "execute_result"
    }
   ],
   "source": [
    "df_fnusa_no_pw = df_fnusa.loc[df_fnusa.category_id != 0]\n",
    "df_fnusa_no_pw.loc[:,'category_id'] = df_fnusa_no_pw.category_id - 1\n",
    "\n",
    "df_mayo_no_pw = df_mayo.loc[df_mayo.category_id != 0]\n",
    "df_mayo_no_pw.loc[:,'category_id'] = df_mayo_no_pw.category_id - 1\n",
    "\n",
    "df_fnusa_no_pw.head()"
   ]
  },
  {
   "cell_type": "code",
   "execution_count": 36,
   "id": "298bc556-31c7-43d3-adeb-7ce74c7d969e",
   "metadata": {},
   "outputs": [
    {
     "data": {
      "text/html": [
       "<div>\n",
       "<style scoped>\n",
       "    .dataframe tbody tr th:only-of-type {\n",
       "        vertical-align: middle;\n",
       "    }\n",
       "\n",
       "    .dataframe tbody tr th {\n",
       "        vertical-align: top;\n",
       "    }\n",
       "\n",
       "    .dataframe thead th {\n",
       "        text-align: right;\n",
       "    }\n",
       "</style>\n",
       "<table border=\"1\" class=\"dataframe\">\n",
       "  <thead>\n",
       "    <tr style=\"text-align: right;\">\n",
       "      <th></th>\n",
       "      <th>anatomy</th>\n",
       "      <th>category_id</th>\n",
       "      <th>channel</th>\n",
       "      <th>electrode_type</th>\n",
       "      <th>institution</th>\n",
       "      <th>patient_id</th>\n",
       "      <th>reviewer_id</th>\n",
       "      <th>segment_id</th>\n",
       "      <th>soz</th>\n",
       "      <th>category_name</th>\n",
       "    </tr>\n",
       "    <tr>\n",
       "      <th>index</th>\n",
       "      <th></th>\n",
       "      <th></th>\n",
       "      <th></th>\n",
       "      <th></th>\n",
       "      <th></th>\n",
       "      <th></th>\n",
       "      <th></th>\n",
       "      <th></th>\n",
       "      <th></th>\n",
       "      <th></th>\n",
       "    </tr>\n",
       "  </thead>\n",
       "  <tbody>\n",
       "    <tr>\n",
       "      <th>9044</th>\n",
       "      <td>amygdala</td>\n",
       "      <td>2</td>\n",
       "      <td>A'1</td>\n",
       "      <td>depth</td>\n",
       "      <td>fnusa</td>\n",
       "      <td>2</td>\n",
       "      <td>3</td>\n",
       "      <td>y009044</td>\n",
       "      <td>0</td>\n",
       "      <td>physiology</td>\n",
       "    </tr>\n",
       "    <tr>\n",
       "      <th>9045</th>\n",
       "      <td>amygdala</td>\n",
       "      <td>2</td>\n",
       "      <td>A'1</td>\n",
       "      <td>depth</td>\n",
       "      <td>fnusa</td>\n",
       "      <td>2</td>\n",
       "      <td>3</td>\n",
       "      <td>y009045</td>\n",
       "      <td>0</td>\n",
       "      <td>physiology</td>\n",
       "    </tr>\n",
       "    <tr>\n",
       "      <th>9046</th>\n",
       "      <td>amygdala</td>\n",
       "      <td>2</td>\n",
       "      <td>A'1</td>\n",
       "      <td>depth</td>\n",
       "      <td>fnusa</td>\n",
       "      <td>2</td>\n",
       "      <td>3</td>\n",
       "      <td>y009046</td>\n",
       "      <td>0</td>\n",
       "      <td>physiology</td>\n",
       "    </tr>\n",
       "    <tr>\n",
       "      <th>9047</th>\n",
       "      <td>amygdala</td>\n",
       "      <td>2</td>\n",
       "      <td>A'1</td>\n",
       "      <td>depth</td>\n",
       "      <td>fnusa</td>\n",
       "      <td>2</td>\n",
       "      <td>3</td>\n",
       "      <td>y009047</td>\n",
       "      <td>0</td>\n",
       "      <td>physiology</td>\n",
       "    </tr>\n",
       "    <tr>\n",
       "      <th>9048</th>\n",
       "      <td>amygdala</td>\n",
       "      <td>2</td>\n",
       "      <td>A'1</td>\n",
       "      <td>depth</td>\n",
       "      <td>fnusa</td>\n",
       "      <td>2</td>\n",
       "      <td>3</td>\n",
       "      <td>y009048</td>\n",
       "      <td>0</td>\n",
       "      <td>physiology</td>\n",
       "    </tr>\n",
       "    <tr>\n",
       "      <th>...</th>\n",
       "      <td>...</td>\n",
       "      <td>...</td>\n",
       "      <td>...</td>\n",
       "      <td>...</td>\n",
       "      <td>...</td>\n",
       "      <td>...</td>\n",
       "      <td>...</td>\n",
       "      <td>...</td>\n",
       "      <td>...</td>\n",
       "      <td>...</td>\n",
       "    </tr>\n",
       "    <tr>\n",
       "      <th>193113</th>\n",
       "      <td>gyrus frontalis medius</td>\n",
       "      <td>2</td>\n",
       "      <td>G9</td>\n",
       "      <td>depth</td>\n",
       "      <td>fnusa</td>\n",
       "      <td>13</td>\n",
       "      <td>1</td>\n",
       "      <td>y193113</td>\n",
       "      <td>0</td>\n",
       "      <td>physiology</td>\n",
       "    </tr>\n",
       "    <tr>\n",
       "      <th>193114</th>\n",
       "      <td>gyrus frontalis medius</td>\n",
       "      <td>2</td>\n",
       "      <td>G9</td>\n",
       "      <td>depth</td>\n",
       "      <td>fnusa</td>\n",
       "      <td>13</td>\n",
       "      <td>1</td>\n",
       "      <td>y193114</td>\n",
       "      <td>0</td>\n",
       "      <td>physiology</td>\n",
       "    </tr>\n",
       "    <tr>\n",
       "      <th>193115</th>\n",
       "      <td>gyrus frontalis medius</td>\n",
       "      <td>2</td>\n",
       "      <td>G9</td>\n",
       "      <td>depth</td>\n",
       "      <td>fnusa</td>\n",
       "      <td>13</td>\n",
       "      <td>1</td>\n",
       "      <td>y193115</td>\n",
       "      <td>0</td>\n",
       "      <td>physiology</td>\n",
       "    </tr>\n",
       "    <tr>\n",
       "      <th>193116</th>\n",
       "      <td>gyrus frontalis medius</td>\n",
       "      <td>2</td>\n",
       "      <td>G9</td>\n",
       "      <td>depth</td>\n",
       "      <td>fnusa</td>\n",
       "      <td>13</td>\n",
       "      <td>1</td>\n",
       "      <td>y193116</td>\n",
       "      <td>0</td>\n",
       "      <td>physiology</td>\n",
       "    </tr>\n",
       "    <tr>\n",
       "      <th>193117</th>\n",
       "      <td>gyrus frontalis medius</td>\n",
       "      <td>2</td>\n",
       "      <td>G9</td>\n",
       "      <td>depth</td>\n",
       "      <td>fnusa</td>\n",
       "      <td>13</td>\n",
       "      <td>1</td>\n",
       "      <td>y193117</td>\n",
       "      <td>0</td>\n",
       "      <td>physiology</td>\n",
       "    </tr>\n",
       "  </tbody>\n",
       "</table>\n",
       "<p>94560 rows × 10 columns</p>\n",
       "</div>"
      ],
      "text/plain": [
       "                       anatomy  category_id channel electrode_type  \\\n",
       "index                                                                \n",
       "9044                  amygdala            2     A'1          depth   \n",
       "9045                  amygdala            2     A'1          depth   \n",
       "9046                  amygdala            2     A'1          depth   \n",
       "9047                  amygdala            2     A'1          depth   \n",
       "9048                  amygdala            2     A'1          depth   \n",
       "...                        ...          ...     ...            ...   \n",
       "193113  gyrus frontalis medius            2      G9          depth   \n",
       "193114  gyrus frontalis medius            2      G9          depth   \n",
       "193115  gyrus frontalis medius            2      G9          depth   \n",
       "193116  gyrus frontalis medius            2      G9          depth   \n",
       "193117  gyrus frontalis medius            2      G9          depth   \n",
       "\n",
       "       institution  patient_id  reviewer_id segment_id  soz category_name  \n",
       "index                                                                      \n",
       "9044         fnusa           2            3    y009044    0    physiology  \n",
       "9045         fnusa           2            3    y009045    0    physiology  \n",
       "9046         fnusa           2            3    y009046    0    physiology  \n",
       "9047         fnusa           2            3    y009047    0    physiology  \n",
       "9048         fnusa           2            3    y009048    0    physiology  \n",
       "...            ...         ...          ...        ...  ...           ...  \n",
       "193113       fnusa          13            1    y193113    0    physiology  \n",
       "193114       fnusa          13            1    y193114    0    physiology  \n",
       "193115       fnusa          13            1    y193115    0    physiology  \n",
       "193116       fnusa          13            1    y193116    0    physiology  \n",
       "193117       fnusa          13            1    y193117    0    physiology  \n",
       "\n",
       "[94560 rows x 10 columns]"
      ]
     },
     "execution_count": 36,
     "metadata": {},
     "output_type": "execute_result"
    }
   ],
   "source": [
    "df_fnusa_no_pw.loc[df_fnusa_no_pw.category_id == 2]"
   ]
  },
  {
   "cell_type": "code",
   "execution_count": 46,
   "id": "73fa7f7f-bc99-43ea-8511-f0629611ef42",
   "metadata": {},
   "outputs": [
    {
     "data": {
      "text/html": [
       "<div>\n",
       "<style scoped>\n",
       "    .dataframe tbody tr th:only-of-type {\n",
       "        vertical-align: middle;\n",
       "    }\n",
       "\n",
       "    .dataframe tbody tr th {\n",
       "        vertical-align: top;\n",
       "    }\n",
       "\n",
       "    .dataframe thead th {\n",
       "        text-align: right;\n",
       "    }\n",
       "</style>\n",
       "<table border=\"1\" class=\"dataframe\">\n",
       "  <thead>\n",
       "    <tr style=\"text-align: right;\">\n",
       "      <th></th>\n",
       "      <th>anatomy</th>\n",
       "      <th>category_id</th>\n",
       "      <th>channel</th>\n",
       "      <th>electrode_type</th>\n",
       "      <th>institution</th>\n",
       "      <th>patient_id</th>\n",
       "      <th>reviewer_id</th>\n",
       "      <th>segment_id</th>\n",
       "      <th>soz</th>\n",
       "      <th>category_name</th>\n",
       "    </tr>\n",
       "    <tr>\n",
       "      <th>index</th>\n",
       "      <th></th>\n",
       "      <th></th>\n",
       "      <th></th>\n",
       "      <th></th>\n",
       "      <th></th>\n",
       "      <th></th>\n",
       "      <th></th>\n",
       "      <th></th>\n",
       "      <th></th>\n",
       "      <th></th>\n",
       "    </tr>\n",
       "  </thead>\n",
       "  <tbody>\n",
       "    <tr>\n",
       "      <th>9105</th>\n",
       "      <td>amygdala</td>\n",
       "      <td>0</td>\n",
       "      <td>A'1</td>\n",
       "      <td>depth</td>\n",
       "      <td>fnusa</td>\n",
       "      <td>2</td>\n",
       "      <td>2</td>\n",
       "      <td>y009105</td>\n",
       "      <td>0</td>\n",
       "      <td>noise</td>\n",
       "    </tr>\n",
       "    <tr>\n",
       "      <th>9106</th>\n",
       "      <td>amygdala</td>\n",
       "      <td>0</td>\n",
       "      <td>A'1</td>\n",
       "      <td>depth</td>\n",
       "      <td>fnusa</td>\n",
       "      <td>2</td>\n",
       "      <td>2</td>\n",
       "      <td>y009106</td>\n",
       "      <td>0</td>\n",
       "      <td>noise</td>\n",
       "    </tr>\n",
       "    <tr>\n",
       "      <th>9107</th>\n",
       "      <td>amygdala</td>\n",
       "      <td>0</td>\n",
       "      <td>A'1</td>\n",
       "      <td>depth</td>\n",
       "      <td>fnusa</td>\n",
       "      <td>2</td>\n",
       "      <td>2</td>\n",
       "      <td>y009107</td>\n",
       "      <td>0</td>\n",
       "      <td>noise</td>\n",
       "    </tr>\n",
       "    <tr>\n",
       "      <th>9108</th>\n",
       "      <td>amygdala</td>\n",
       "      <td>0</td>\n",
       "      <td>A'1</td>\n",
       "      <td>depth</td>\n",
       "      <td>fnusa</td>\n",
       "      <td>2</td>\n",
       "      <td>2</td>\n",
       "      <td>y009108</td>\n",
       "      <td>0</td>\n",
       "      <td>noise</td>\n",
       "    </tr>\n",
       "    <tr>\n",
       "      <th>9109</th>\n",
       "      <td>amygdala</td>\n",
       "      <td>0</td>\n",
       "      <td>A'1</td>\n",
       "      <td>depth</td>\n",
       "      <td>fnusa</td>\n",
       "      <td>2</td>\n",
       "      <td>2</td>\n",
       "      <td>y009109</td>\n",
       "      <td>0</td>\n",
       "      <td>noise</td>\n",
       "    </tr>\n",
       "    <tr>\n",
       "      <th>...</th>\n",
       "      <td>...</td>\n",
       "      <td>...</td>\n",
       "      <td>...</td>\n",
       "      <td>...</td>\n",
       "      <td>...</td>\n",
       "      <td>...</td>\n",
       "      <td>...</td>\n",
       "      <td>...</td>\n",
       "      <td>...</td>\n",
       "      <td>...</td>\n",
       "    </tr>\n",
       "    <tr>\n",
       "      <th>180390</th>\n",
       "      <td>hippocampus posterior</td>\n",
       "      <td>0</td>\n",
       "      <td>C3</td>\n",
       "      <td>depth</td>\n",
       "      <td>fnusa</td>\n",
       "      <td>13</td>\n",
       "      <td>3</td>\n",
       "      <td>y180390</td>\n",
       "      <td>0</td>\n",
       "      <td>noise</td>\n",
       "    </tr>\n",
       "    <tr>\n",
       "      <th>180393</th>\n",
       "      <td>wm</td>\n",
       "      <td>0</td>\n",
       "      <td>C4</td>\n",
       "      <td>depth</td>\n",
       "      <td>fnusa</td>\n",
       "      <td>13</td>\n",
       "      <td>3</td>\n",
       "      <td>y180393</td>\n",
       "      <td>0</td>\n",
       "      <td>noise</td>\n",
       "    </tr>\n",
       "    <tr>\n",
       "      <th>180413</th>\n",
       "      <td>wm</td>\n",
       "      <td>0</td>\n",
       "      <td>C4</td>\n",
       "      <td>depth</td>\n",
       "      <td>fnusa</td>\n",
       "      <td>13</td>\n",
       "      <td>3</td>\n",
       "      <td>y180413</td>\n",
       "      <td>0</td>\n",
       "      <td>noise</td>\n",
       "    </tr>\n",
       "    <tr>\n",
       "      <th>180414</th>\n",
       "      <td>wm</td>\n",
       "      <td>0</td>\n",
       "      <td>C4</td>\n",
       "      <td>depth</td>\n",
       "      <td>fnusa</td>\n",
       "      <td>13</td>\n",
       "      <td>3</td>\n",
       "      <td>y180414</td>\n",
       "      <td>0</td>\n",
       "      <td>noise</td>\n",
       "    </tr>\n",
       "    <tr>\n",
       "      <th>180415</th>\n",
       "      <td>wm</td>\n",
       "      <td>0</td>\n",
       "      <td>C5</td>\n",
       "      <td>depth</td>\n",
       "      <td>fnusa</td>\n",
       "      <td>13</td>\n",
       "      <td>3</td>\n",
       "      <td>y180415</td>\n",
       "      <td>0</td>\n",
       "      <td>noise</td>\n",
       "    </tr>\n",
       "  </tbody>\n",
       "</table>\n",
       "<p>32599 rows × 10 columns</p>\n",
       "</div>"
      ],
      "text/plain": [
       "                      anatomy  category_id channel electrode_type institution  \\\n",
       "index                                                                           \n",
       "9105                 amygdala            0     A'1          depth       fnusa   \n",
       "9106                 amygdala            0     A'1          depth       fnusa   \n",
       "9107                 amygdala            0     A'1          depth       fnusa   \n",
       "9108                 amygdala            0     A'1          depth       fnusa   \n",
       "9109                 amygdala            0     A'1          depth       fnusa   \n",
       "...                       ...          ...     ...            ...         ...   \n",
       "180390  hippocampus posterior            0      C3          depth       fnusa   \n",
       "180393                     wm            0      C4          depth       fnusa   \n",
       "180413                     wm            0      C4          depth       fnusa   \n",
       "180414                     wm            0      C4          depth       fnusa   \n",
       "180415                     wm            0      C5          depth       fnusa   \n",
       "\n",
       "        patient_id  reviewer_id segment_id  soz category_name  \n",
       "index                                                          \n",
       "9105             2            2    y009105    0         noise  \n",
       "9106             2            2    y009106    0         noise  \n",
       "9107             2            2    y009107    0         noise  \n",
       "9108             2            2    y009108    0         noise  \n",
       "9109             2            2    y009109    0         noise  \n",
       "...            ...          ...        ...  ...           ...  \n",
       "180390          13            3    y180390    0         noise  \n",
       "180393          13            3    y180393    0         noise  \n",
       "180413          13            3    y180413    0         noise  \n",
       "180414          13            3    y180414    0         noise  \n",
       "180415          13            3    y180415    0         noise  \n",
       "\n",
       "[32599 rows x 10 columns]"
      ]
     },
     "execution_count": 46,
     "metadata": {},
     "output_type": "execute_result"
    }
   ],
   "source": [
    "df_train = df_fnusa_no_pw.replace({'category_id': {2:0}})\n",
    "df_train.loc[df_fnusa_no_pw.category_id == 0]"
   ]
  },
  {
   "cell_type": "markdown",
   "id": "ca2a6bcb-ec68-4480-a79a-869a046ec990",
   "metadata": {},
   "source": [
    "## Balance Fnusa"
   ]
  },
  {
   "cell_type": "markdown",
   "id": "ea714c0f-4466-46ac-a82c-f9f9e1016c48",
   "metadata": {},
   "source": [
    "Not touching test set as I'll probably do bootstrapping for that"
   ]
  },
  {
   "cell_type": "code",
   "execution_count": 12,
   "id": "d30d7eb2-3588-43a1-8b75-4d2fb8f923a3",
   "metadata": {},
   "outputs": [
    {
     "name": "stdout",
     "output_type": "stream",
     "text": [
      "subjects from inst fnusa\n",
      "{'noise': [0, 2892, 12, 8463, 5059, 0, 5416, 18, 0, 5876, 3339, 1343, 181], 'path': [1912, 1657, 8076, 0, 1527, 1554, 7738, 1896, 6750, 4260, 4072, 7710, 5318], 'phys': [0, 7809, 0, 0, 5452, 962, 2689, 20860, 0, 1545, 2890, 38217, 14136]}\n",
      "\n",
      " noise \n",
      "Number of subj: 10 \n",
      "Median events per subj 3115.5 \n",
      "Total events proportion 18.147960518624497 \n",
      "Total events: 32599\n",
      "\n",
      "\n",
      " path \n",
      "Number of subj: 12 \n",
      "Median events per subj 4166.0 \n",
      "Total events proportion 29.21020547907075 \n",
      "Total events: 52470\n",
      "\n",
      "\n",
      " phys \n",
      "Number of subj: 9 \n",
      "Median events per subj 5452.0 \n",
      "Total events proportion 52.64183400230475 \n",
      "Total events: 94560\n",
      "\n"
     ]
    }
   ],
   "source": [
    "# Eval\n",
    "counter = {\n",
    "    'noise':[],\n",
    "    'path':[],\n",
    "    'phys':[]\n",
    "}\n",
    "df_evaluated = df_fnusa_no_pw\n",
    "for inst in np.unique(df_evaluated.institution):\n",
    "    df_inst = df_evaluated.loc[df_evaluated.institution==inst]\n",
    "    print(f'subjects from inst {inst}')\n",
    "    for subj in np.unique(df_inst.patient_id):\n",
    "        df_subj = df_inst.loc[df_inst.patient_id==subj]\n",
    "        for cat_id, cat_name in [(0, 'noise'), (1, 'path'), (2,'phys')]:\n",
    "            counter[cat_name].append(len(df_subj.loc[df_subj.category_id==cat_id]))\n",
    "print(counter)\n",
    "\n",
    "for cat in counter:\n",
    "    array_count = np.array(counter[cat])\n",
    "    print('\\n',cat,f'\\nNumber of subj: {len(array_count[array_count!=0])}', f'\\nMedian events per subj {np.median(array_count[array_count!=0])}',f'\\nTotal events proportion {np.sum(array_count)*100/len(df_evaluated)}', f'\\nTotal events: {np.sum(array_count)}\\n')"
   ]
  },
  {
   "cell_type": "code",
   "execution_count": 13,
   "id": "af41cb4f-0aa6-4992-8117-27c0ccd13f92",
   "metadata": {},
   "outputs": [
    {
     "name": "stdout",
     "output_type": "stream",
     "text": [
      "subjects from inst fnusa\n"
     ]
    }
   ],
   "source": [
    "# Manually picked choice\n",
    "# For training: 1500, 2000, 1200. \n",
    "# For val 4000, 2000, 2000\n",
    "max_img_subj_cat = {\n",
    "    'noise': 3000, # Pay more the noise\n",
    "    'path': 4000, # Less path at it is not so hard to identify\n",
    "    'phys': 3000\n",
    "}\n",
    "df_curated = []\n",
    "for inst in np.unique(df_evaluated.institution):\n",
    "    df_inst = df_evaluated.loc[df_evaluated.institution==inst]\n",
    "    print(f'subjects from inst {inst}')\n",
    "    for subj in np.unique(df_inst.patient_id):\n",
    "        df_subj = df_inst.loc[df_inst.patient_id==subj]\n",
    "        for cat_id, cat_name in [(0, 'noise'), (1, 'path'), (2,'phys')]:\n",
    "            df_cat = df_subj.loc[df_subj.category_id==cat_id]\n",
    "            if len(df_curated)<1:\n",
    "                df_curated = df_cat.sample(min(len(df_cat),max_img_subj_cat[cat_name]))\n",
    "            else:\n",
    "                df_curated = pd.concat([df_curated, df_cat.sample(min(len(df_cat),max_img_subj_cat[cat_name]))])\n",
    "df_curated = df_curated.reset_index(drop=True)"
   ]
  },
  {
   "cell_type": "code",
   "execution_count": 14,
   "id": "b57b8f00-6753-4705-b3ba-24c2be96abca",
   "metadata": {},
   "outputs": [
    {
     "name": "stdout",
     "output_type": "stream",
     "text": [
      "subjects from inst fnusa\n",
      "{'noise': [0, 2892, 12, 3000, 3000, 0, 3000, 18, 0, 3000, 3000, 1343, 181], 'path': [1912, 1657, 4000, 0, 1527, 1554, 4000, 1896, 4000, 4000, 4000, 4000, 4000], 'phys': [0, 3000, 0, 0, 3000, 962, 2689, 3000, 0, 1545, 2890, 3000, 3000]}\n",
      "\n",
      " noise \n",
      "Number of subj: 10 \n",
      "Median events per subj 2946.0 \n",
      "Total events proportion 24.590910240522017 \n",
      "Total events: 19446\n",
      "\n",
      "\n",
      " path \n",
      "Number of subj: 12 \n",
      "Median events per subj 4000.0 \n",
      "Total events proportion 46.21512936594249 \n",
      "Total events: 36546\n",
      "\n",
      "\n",
      " phys \n",
      "Number of subj: 9 \n",
      "Median events per subj 3000.0 \n",
      "Total events proportion 29.193960393535498 \n",
      "Total events: 23086\n",
      "\n"
     ]
    }
   ],
   "source": [
    "# Eval\n",
    "counter = {\n",
    "    'noise':[],\n",
    "    'path':[],\n",
    "    'phys':[]\n",
    "}\n",
    "df_evaluated = df_curated\n",
    "for inst in np.unique(df_evaluated.institution):\n",
    "    df_inst = df_evaluated.loc[df_evaluated.institution==inst]\n",
    "    print(f'subjects from inst {inst}')\n",
    "    for subj in np.unique(df_inst.patient_id):\n",
    "        df_subj = df_inst.loc[df_inst.patient_id==subj]\n",
    "        for cat_id, cat_name in [(0, 'noise'), (1, 'path'), (2,'phys')]:\n",
    "            counter[cat_name].append(len(df_subj.loc[df_subj.category_id==cat_id]))\n",
    "print(counter)\n",
    "for cat in counter:\n",
    "    array_count = np.array(counter[cat])\n",
    "    print('\\n',cat,f'\\nNumber of subj: {len(array_count[array_count!=0])}', f'\\nMedian events per subj {np.median(array_count[array_count!=0])}',f'\\nTotal events proportion {np.sum(array_count)*100/len(df_evaluated)}', f'\\nTotal events: {np.sum(array_count)}\\n')"
   ]
  },
  {
   "cell_type": "code",
   "execution_count": 15,
   "id": "5420ce8a-dcbd-4fba-8dd7-abee4770ae17",
   "metadata": {},
   "outputs": [],
   "source": [
    "df_curated_fnusa = df_curated"
   ]
  },
  {
   "cell_type": "code",
   "execution_count": 16,
   "id": "52805b3b-501e-4e51-84d3-09799246baf0",
   "metadata": {},
   "outputs": [
    {
     "data": {
      "text/plain": [
       "79078"
      ]
     },
     "execution_count": 16,
     "metadata": {},
     "output_type": "execute_result"
    }
   ],
   "source": [
    "len(df_curated_fnusa)"
   ]
  },
  {
   "cell_type": "markdown",
   "id": "5ea1494f-cbd9-4329-a06b-88978b79b01e",
   "metadata": {},
   "source": [
    "## Balance Mayo"
   ]
  },
  {
   "cell_type": "code",
   "execution_count": 28,
   "id": "27484f93-151f-4309-9668-a378b2da4958",
   "metadata": {},
   "outputs": [
    {
     "name": "stdout",
     "output_type": "stream",
     "text": [
      "subjects from inst mayo\n",
      "{'noise': [2318, 0, 466, 4636, 2063, 1002, 12873, 0, 0, 740, 0, 3699, 4096, 1700, 5613, 1278, 58, 761], 'path': [0, 883, 1923, 0, 0, 0, 0, 0, 2816, 0, 3426, 0, 0, 0, 0, 0, 3432, 2747], 'phys': [330, 8653, 399, 2057, 790, 6583, 0, 25951, 0, 0, 498, 177, 6098, 3126, 0, 1424, 0, 644]}\n",
      "\n",
      " noise \n",
      "Number of subj: 14 \n",
      "Median events per subj 1881.5 \n",
      "Total events proportion 36.46742009535582 \n",
      "Total events: 41303\n",
      "\n",
      "\n",
      " path \n",
      "Number of subj: 6 \n",
      "Median events per subj 2781.5 \n",
      "Total events proportion 13.444287480134204 \n",
      "Total events: 15227\n",
      "\n",
      "\n",
      " phys \n",
      "Number of subj: 13 \n",
      "Median events per subj 1424.0 \n",
      "Total events proportion 50.08829242450998 \n",
      "Total events: 56730\n",
      "\n"
     ]
    }
   ],
   "source": [
    "# Eval\n",
    "counter = {\n",
    "    'noise':[],\n",
    "    'path':[],\n",
    "    'phys':[]\n",
    "}\n",
    "df_evaluated = df_mayo_no_pw\n",
    "for inst in np.unique(df_evaluated.institution):\n",
    "    df_inst = df_evaluated.loc[df_evaluated.institution==inst]\n",
    "    print(f'subjects from inst {inst}')\n",
    "    for subj in np.unique(df_inst.patient_id):\n",
    "        df_subj = df_inst.loc[df_inst.patient_id==subj]\n",
    "        for cat_id, cat_name in [(0, 'noise'), (1, 'path'), (2,'phys')]:\n",
    "            counter[cat_name].append(len(df_subj.loc[df_subj.category_id==cat_id]))\n",
    "print(counter)\n",
    "\n",
    "for cat in counter:\n",
    "    array_count = np.array(counter[cat])\n",
    "    print('\\n',cat,f'\\nNumber of subj: {len(array_count[array_count!=0])}', f'\\nMedian events per subj {np.median(array_count[array_count!=0])}',f'\\nTotal events proportion {np.sum(array_count)*100/len(df_evaluated)}', f'\\nTotal events: {np.sum(array_count)}\\n')"
   ]
  },
  {
   "cell_type": "code",
   "execution_count": 29,
   "id": "763f38aa-836b-433f-acc0-31f85fc259c2",
   "metadata": {},
   "outputs": [
    {
     "name": "stdout",
     "output_type": "stream",
     "text": [
      "subjects from inst mayo\n"
     ]
    }
   ],
   "source": [
    "# Manually picked choice\n",
    "# For training: 1500, 2000, 1200. \n",
    "# For val 4000, 2000, 2000\n",
    "max_img_subj_cat = {\n",
    "    'noise': 700, # Pay more the noise\n",
    "    'path': 2700, # Less path at it is not so hard to identify\n",
    "    'phys': 800\n",
    "}\n",
    "df_curated = []\n",
    "for inst in np.unique(df_evaluated.institution):\n",
    "    df_inst = df_evaluated.loc[df_evaluated.institution==inst]\n",
    "    print(f'subjects from inst {inst}')\n",
    "    for subj in np.unique(df_inst.patient_id):\n",
    "        df_subj = df_inst.loc[df_inst.patient_id==subj]\n",
    "        for cat_id, cat_name in [(0, 'noise'), (1, 'path'), (2,'phys')]:\n",
    "            df_cat = df_subj.loc[df_subj.category_id==cat_id]\n",
    "            if len(df_curated)<1:\n",
    "                df_curated = df_cat.sample(min(len(df_cat),max_img_subj_cat[cat_name]))\n",
    "            else:\n",
    "                df_curated = pd.concat([df_curated, df_cat.sample(min(len(df_cat),max_img_subj_cat[cat_name]))])\n",
    "df_curated = df_curated.reset_index(drop=True)"
   ]
  },
  {
   "cell_type": "code",
   "execution_count": 30,
   "id": "49f17255-7ce9-4e76-9ff9-bdd8533fa05f",
   "metadata": {},
   "outputs": [
    {
     "name": "stdout",
     "output_type": "stream",
     "text": [
      "subjects from inst mayo\n",
      "{'noise': [700, 0, 466, 700, 700, 700, 700, 0, 0, 700, 0, 700, 700, 700, 700, 700, 58, 700], 'path': [0, 883, 1923, 0, 0, 0, 0, 0, 2700, 0, 2700, 0, 0, 0, 0, 0, 2700, 2700], 'phys': [330, 800, 399, 800, 790, 800, 0, 800, 0, 0, 498, 177, 800, 800, 0, 800, 0, 644]}\n",
      "\n",
      " noise \n",
      "Number of subj: 14 \n",
      "Median events per subj 700.0 \n",
      "Total events proportion 28.81684319297339 \n",
      "Total events: 8924\n",
      "\n",
      "\n",
      " path \n",
      "Number of subj: 6 \n",
      "Median events per subj 2700.0 \n",
      "Total events proportion 43.9356755360372 \n",
      "Total events: 13606\n",
      "\n",
      "\n",
      " phys \n",
      "Number of subj: 13 \n",
      "Median events per subj 800.0 \n",
      "Total events proportion 27.247481270989407 \n",
      "Total events: 8438\n",
      "\n"
     ]
    }
   ],
   "source": [
    "# Eval\n",
    "counter = {\n",
    "    'noise':[],\n",
    "    'path':[],\n",
    "    'phys':[]\n",
    "}\n",
    "df_evaluated = df_curated\n",
    "for inst in np.unique(df_evaluated.institution):\n",
    "    df_inst = df_evaluated.loc[df_evaluated.institution==inst]\n",
    "    print(f'subjects from inst {inst}')\n",
    "    for subj in np.unique(df_inst.patient_id):\n",
    "        df_subj = df_inst.loc[df_inst.patient_id==subj]\n",
    "        for cat_id, cat_name in [(0, 'noise'), (1, 'path'), (2,'phys')]:\n",
    "            counter[cat_name].append(len(df_subj.loc[df_subj.category_id==cat_id]))\n",
    "print(counter)\n",
    "for cat in counter:\n",
    "    array_count = np.array(counter[cat])\n",
    "    print('\\n',cat,f'\\nNumber of subj: {len(array_count[array_count!=0])}', f'\\nMedian events per subj {np.median(array_count[array_count!=0])}',f'\\nTotal events proportion {np.sum(array_count)*100/len(df_evaluated)}', f'\\nTotal events: {np.sum(array_count)}\\n')"
   ]
  },
  {
   "cell_type": "code",
   "execution_count": 31,
   "id": "18d24976-9b7e-4d55-b0fa-4741e6ab0bf8",
   "metadata": {},
   "outputs": [],
   "source": [
    "df_curated_mayo = df_curated"
   ]
  },
  {
   "cell_type": "code",
   "execution_count": 32,
   "id": "d134b6c7-587f-4ebe-aa38-657fd89290fd",
   "metadata": {},
   "outputs": [
    {
     "data": {
      "text/plain": [
       "(30968, 79078)"
      ]
     },
     "execution_count": 32,
     "metadata": {},
     "output_type": "execute_result"
    }
   ],
   "source": [
    "len(df_curated_mayo), len(df_curated_fnusa)"
   ]
  },
  {
   "cell_type": "code",
   "execution_count": 33,
   "id": "05dc12c5-1fb1-4642-98ac-1daaa3f71e5e",
   "metadata": {},
   "outputs": [],
   "source": [
    "df_train = df_curated_fnusa\n",
    "df_val = df_curated_mayo"
   ]
  },
  {
   "cell_type": "code",
   "execution_count": 34,
   "id": "2f98c7b4-703e-4567-b0c5-b337d50bc81b",
   "metadata": {},
   "outputs": [],
   "source": [
    "# Write csv files. Using fnusa as train\n",
    "df_train.to_csv('/scratch/mcesped/Datasets/Path_detection/df_train_curated.csv', sep=\",\", index_label='index')\n",
    "df_val.to_csv('/scratch/mcesped/Datasets/Path_detection/df_val_curated.csv', sep=\",\", index_label='index')\n",
    "# df_test.to_csv('/scratch/mcesped/Datasets/Noise_detection/df_test.csv', sep=\",\", index_label='index')"
   ]
  },
  {
   "cell_type": "code",
   "execution_count": 35,
   "id": "5b09c2d4-4720-46ac-8eb3-98e9e2db307b",
   "metadata": {},
   "outputs": [],
   "source": [
    "df_fnusa_no_pw.to_csv('/scratch/mcesped/Datasets/Path_detection/df_train_full.csv', sep=\",\", index_label='index')\n",
    "df_mayo_no_pw.to_csv('/scratch/mcesped/Datasets/Path_detection/df_val_full.csv', sep=\",\", index_label='index')"
   ]
  },
  {
   "cell_type": "markdown",
   "id": "953c1aa3-4749-4742-bb89-865bd7aa8854",
   "metadata": {},
   "source": [
    "# Multiclass (3 classes)"
   ]
  },
  {
   "cell_type": "code",
   "execution_count": 33,
   "id": "9a9fc98c-2309-4fef-b04c-d3945d59e443",
   "metadata": {},
   "outputs": [
    {
     "data": {
      "text/html": [
       "<div>\n",
       "<style scoped>\n",
       "    .dataframe tbody tr th:only-of-type {\n",
       "        vertical-align: middle;\n",
       "    }\n",
       "\n",
       "    .dataframe tbody tr th {\n",
       "        vertical-align: top;\n",
       "    }\n",
       "\n",
       "    .dataframe thead th {\n",
       "        text-align: right;\n",
       "    }\n",
       "</style>\n",
       "<table border=\"1\" class=\"dataframe\">\n",
       "  <thead>\n",
       "    <tr style=\"text-align: right;\">\n",
       "      <th></th>\n",
       "      <th>anatomy</th>\n",
       "      <th>category_id</th>\n",
       "      <th>channel</th>\n",
       "      <th>electrode_type</th>\n",
       "      <th>institution</th>\n",
       "      <th>patient_id</th>\n",
       "      <th>reviewer_id</th>\n",
       "      <th>segment_id</th>\n",
       "      <th>soz</th>\n",
       "      <th>category_name</th>\n",
       "    </tr>\n",
       "    <tr>\n",
       "      <th>index</th>\n",
       "      <th></th>\n",
       "      <th></th>\n",
       "      <th></th>\n",
       "      <th></th>\n",
       "      <th></th>\n",
       "      <th></th>\n",
       "      <th></th>\n",
       "      <th></th>\n",
       "      <th></th>\n",
       "      <th></th>\n",
       "    </tr>\n",
       "  </thead>\n",
       "  <tbody>\n",
       "    <tr>\n",
       "      <th>7132</th>\n",
       "      <td>hippocampus anterior</td>\n",
       "      <td>1</td>\n",
       "      <td>B'1</td>\n",
       "      <td>depth</td>\n",
       "      <td>fnusa</td>\n",
       "      <td>1</td>\n",
       "      <td>2</td>\n",
       "      <td>y007132</td>\n",
       "      <td>1</td>\n",
       "      <td>pathology</td>\n",
       "    </tr>\n",
       "    <tr>\n",
       "      <th>7133</th>\n",
       "      <td>hippocampus anterior</td>\n",
       "      <td>1</td>\n",
       "      <td>B'1</td>\n",
       "      <td>depth</td>\n",
       "      <td>fnusa</td>\n",
       "      <td>1</td>\n",
       "      <td>2</td>\n",
       "      <td>y007133</td>\n",
       "      <td>1</td>\n",
       "      <td>pathology</td>\n",
       "    </tr>\n",
       "    <tr>\n",
       "      <th>7134</th>\n",
       "      <td>hippocampus anterior</td>\n",
       "      <td>1</td>\n",
       "      <td>B'1</td>\n",
       "      <td>depth</td>\n",
       "      <td>fnusa</td>\n",
       "      <td>1</td>\n",
       "      <td>2</td>\n",
       "      <td>y007134</td>\n",
       "      <td>1</td>\n",
       "      <td>pathology</td>\n",
       "    </tr>\n",
       "    <tr>\n",
       "      <th>7135</th>\n",
       "      <td>hippocampus anterior</td>\n",
       "      <td>1</td>\n",
       "      <td>B'1</td>\n",
       "      <td>depth</td>\n",
       "      <td>fnusa</td>\n",
       "      <td>1</td>\n",
       "      <td>2</td>\n",
       "      <td>y007135</td>\n",
       "      <td>1</td>\n",
       "      <td>pathology</td>\n",
       "    </tr>\n",
       "    <tr>\n",
       "      <th>7136</th>\n",
       "      <td>hippocampus anterior</td>\n",
       "      <td>1</td>\n",
       "      <td>B'1</td>\n",
       "      <td>depth</td>\n",
       "      <td>fnusa</td>\n",
       "      <td>1</td>\n",
       "      <td>2</td>\n",
       "      <td>y007136</td>\n",
       "      <td>1</td>\n",
       "      <td>pathology</td>\n",
       "    </tr>\n",
       "  </tbody>\n",
       "</table>\n",
       "</div>"
      ],
      "text/plain": [
       "                    anatomy  category_id channel electrode_type institution  \\\n",
       "index                                                                         \n",
       "7132   hippocampus anterior            1     B'1          depth       fnusa   \n",
       "7133   hippocampus anterior            1     B'1          depth       fnusa   \n",
       "7134   hippocampus anterior            1     B'1          depth       fnusa   \n",
       "7135   hippocampus anterior            1     B'1          depth       fnusa   \n",
       "7136   hippocampus anterior            1     B'1          depth       fnusa   \n",
       "\n",
       "       patient_id  reviewer_id segment_id  soz category_name  \n",
       "index                                                         \n",
       "7132            1            2    y007132    1     pathology  \n",
       "7133            1            2    y007133    1     pathology  \n",
       "7134            1            2    y007134    1     pathology  \n",
       "7135            1            2    y007135    1     pathology  \n",
       "7136            1            2    y007136    1     pathology  "
      ]
     },
     "execution_count": 33,
     "metadata": {},
     "output_type": "execute_result"
    }
   ],
   "source": [
    "df_fnusa_no_pw = df_fnusa.loc[df_fnusa.category_id != 0]\n",
    "df_fnusa_no_pw.loc[:,'category_id'] = df_fnusa_no_pw.category_id - 1\n",
    "\n",
    "df_mayo_no_pw = df_mayo.loc[df_mayo.category_id != 0]\n",
    "df_mayo_no_pw.loc[:,'category_id'] = df_mayo_no_pw.category_id - 1\n",
    "\n",
    "df_fnusa_no_pw.head()"
   ]
  },
  {
   "cell_type": "markdown",
   "id": "009259af-2051-4958-a7ad-2899355cffe3",
   "metadata": {},
   "source": [
    "## Balance Fnusa"
   ]
  },
  {
   "cell_type": "markdown",
   "id": "1a0135a6-758f-4229-84f2-7f8f9cb74030",
   "metadata": {},
   "source": [
    "Not touching test set as I'll probably do bootstrapping for that"
   ]
  },
  {
   "cell_type": "code",
   "execution_count": 38,
   "id": "850f6ef2-d337-4d5d-a691-12e8e83cd4aa",
   "metadata": {},
   "outputs": [
    {
     "name": "stdout",
     "output_type": "stream",
     "text": [
      "subjects from inst fnusa\n",
      "{'noise': [0, 2892, 12, 8463, 5059, 0, 5416, 18, 0, 5876, 3339, 1343, 181], 'path': [1912, 1657, 8076, 0, 1527, 1554, 7738, 1896, 6750, 4260, 4072, 7710, 5318], 'phys': [0, 7809, 0, 0, 5452, 962, 2689, 20860, 0, 1545, 2890, 38217, 14136]}\n",
      "\n",
      " noise \n",
      "Number of subj: 10 \n",
      "Median events per subj 3115.5 \n",
      "Total events proportion 18.147960518624497 \n",
      "Total events: 32599\n",
      "\n",
      "\n",
      " path \n",
      "Number of subj: 12 \n",
      "Median events per subj 4166.0 \n",
      "Total events proportion 29.21020547907075 \n",
      "Total events: 52470\n",
      "\n",
      "\n",
      " phys \n",
      "Number of subj: 9 \n",
      "Median events per subj 5452.0 \n",
      "Total events proportion 52.64183400230475 \n",
      "Total events: 94560\n",
      "\n"
     ]
    }
   ],
   "source": [
    "# Eval\n",
    "counter = {\n",
    "    'noise':[],\n",
    "    'path':[],\n",
    "    'phys':[]\n",
    "}\n",
    "df_evaluated = df_fnusa_no_pw\n",
    "for inst in np.unique(df_evaluated.institution):\n",
    "    df_inst = df_evaluated.loc[df_evaluated.institution==inst]\n",
    "    print(f'subjects from inst {inst}')\n",
    "    for subj in np.unique(df_inst.patient_id):\n",
    "        df_subj = df_inst.loc[df_inst.patient_id==subj]\n",
    "        for cat_id, cat_name in [(0, 'noise'), (1, 'path'), (2,'phys')]:\n",
    "            counter[cat_name].append(len(df_subj.loc[df_subj.category_id==cat_id]))\n",
    "print(counter)\n",
    "\n",
    "for cat in counter:\n",
    "    array_count = np.array(counter[cat])\n",
    "    print('\\n',cat,f'\\nNumber of subj: {len(array_count[array_count!=0])}', f'\\nMedian events per subj {np.median(array_count[array_count!=0])}',f'\\nTotal events proportion {np.sum(array_count)*100/len(df_evaluated)}', f'\\nTotal events: {np.sum(array_count)}\\n')"
   ]
  },
  {
   "cell_type": "code",
   "execution_count": 39,
   "id": "99ca998e-e491-4aef-898f-9eeada6d4e66",
   "metadata": {},
   "outputs": [
    {
     "name": "stdout",
     "output_type": "stream",
     "text": [
      "subjects from inst fnusa\n"
     ]
    }
   ],
   "source": [
    "max_img_subj_cat = {\n",
    "    'noise': 3100, # Pay more the noise and physiology\n",
    "    'path': 700, # Less path at it is not so hard to identify. Before in 1000\n",
    "    'phys': 5000\n",
    "}\n",
    "df_curated = []\n",
    "for inst in np.unique(df_evaluated.institution):\n",
    "    df_inst = df_evaluated.loc[df_evaluated.institution==inst]\n",
    "    print(f'subjects from inst {inst}')\n",
    "    for subj in np.unique(df_inst.patient_id):\n",
    "        df_subj = df_inst.loc[df_inst.patient_id==subj]\n",
    "        for cat_id, cat_name in [(0, 'noise'), (1, 'path'), (2,'phys')]:\n",
    "            df_cat = df_subj.loc[df_subj.category_id==cat_id]\n",
    "            if len(df_curated)<1:\n",
    "                df_curated = df_cat.sample(min(len(df_cat),max_img_subj_cat[cat_name]))\n",
    "            else:\n",
    "                df_curated = pd.concat([df_curated, df_cat.sample(min(len(df_cat),max_img_subj_cat[cat_name]))])\n",
    "df_curated = df_curated.reset_index(drop=True)"
   ]
  },
  {
   "cell_type": "code",
   "execution_count": 40,
   "id": "568bd82d-ff2a-4aaf-ac49-1d48dc37bd14",
   "metadata": {},
   "outputs": [
    {
     "name": "stdout",
     "output_type": "stream",
     "text": [
      "subjects from inst fnusa\n",
      "{'noise': [0, 2892, 12, 3100, 3100, 0, 3100, 18, 0, 3100, 3100, 1343, 181], 'path': [700, 700, 700, 0, 700, 700, 700, 700, 700, 700, 700, 700, 700], 'phys': [0, 5000, 0, 0, 5000, 962, 2689, 5000, 0, 1545, 2890, 5000, 5000]}\n",
      "\n",
      " noise \n",
      "Number of subj: 10 \n",
      "Median events per subj 2996.0 \n",
      "Total events proportion 32.46842036723532 \n",
      "Total events: 19946\n",
      "\n",
      "\n",
      " path \n",
      "Number of subj: 12 \n",
      "Median events per subj 700.0 \n",
      "Total events proportion 13.673655423883318 \n",
      "Total events: 8400\n",
      "\n",
      "\n",
      " phys \n",
      "Number of subj: 9 \n",
      "Median events per subj 5000.0 \n",
      "Total events proportion 53.857924208881364 \n",
      "Total events: 33086\n",
      "\n"
     ]
    }
   ],
   "source": [
    "# Eval\n",
    "counter = {\n",
    "    'noise':[],\n",
    "    'path':[],\n",
    "    'phys':[]\n",
    "}\n",
    "df_evaluated = df_curated\n",
    "for inst in np.unique(df_evaluated.institution):\n",
    "    df_inst = df_evaluated.loc[df_evaluated.institution==inst]\n",
    "    print(f'subjects from inst {inst}')\n",
    "    for subj in np.unique(df_inst.patient_id):\n",
    "        df_subj = df_inst.loc[df_inst.patient_id==subj]\n",
    "        for cat_id, cat_name in [(0, 'noise'), (1, 'path'), (2,'phys')]:\n",
    "            counter[cat_name].append(len(df_subj.loc[df_subj.category_id==cat_id]))\n",
    "print(counter)\n",
    "for cat in counter:\n",
    "    array_count = np.array(counter[cat])\n",
    "    print('\\n',cat,f'\\nNumber of subj: {len(array_count[array_count!=0])}', f'\\nMedian events per subj {np.median(array_count[array_count!=0])}',f'\\nTotal events proportion {np.sum(array_count)*100/len(df_evaluated)}', f'\\nTotal events: {np.sum(array_count)}\\n')"
   ]
  },
  {
   "cell_type": "code",
   "execution_count": 9,
   "id": "343c493c-ffbf-42c9-ae94-b48533a53aa6",
   "metadata": {},
   "outputs": [],
   "source": [
    "df_curated_fnusa = df_curated"
   ]
  },
  {
   "cell_type": "code",
   "execution_count": 10,
   "id": "9dc62ba6-127e-4f57-a547-bd4a6a4d6de2",
   "metadata": {},
   "outputs": [
    {
     "data": {
      "text/plain": [
       "56432"
      ]
     },
     "execution_count": 10,
     "metadata": {},
     "output_type": "execute_result"
    }
   ],
   "source": [
    "len(df_curated_fnusa)"
   ]
  },
  {
   "cell_type": "markdown",
   "id": "0adadcc3-885a-4c63-befd-96ae1931e744",
   "metadata": {},
   "source": [
    "## Balance Mayo"
   ]
  },
  {
   "cell_type": "code",
   "execution_count": 41,
   "id": "665f2f08-17da-418d-bee2-204265046592",
   "metadata": {},
   "outputs": [
    {
     "name": "stdout",
     "output_type": "stream",
     "text": [
      "subjects from inst mayo\n",
      "{'noise': [2318, 0, 466, 4636, 2063, 1002, 12873, 0, 0, 740, 0, 3699, 4096, 1700, 5613, 1278, 58, 761], 'path': [0, 883, 1923, 0, 0, 0, 0, 0, 2816, 0, 3426, 0, 0, 0, 0, 0, 3432, 2747], 'phys': [330, 8653, 399, 2057, 790, 6583, 0, 25951, 0, 0, 498, 177, 6098, 3126, 0, 1424, 0, 644]}\n",
      "\n",
      " noise \n",
      "Number of subj: 14 \n",
      "Median events per subj 1881.5 \n",
      "Total events proportion 36.46742009535582 \n",
      "Total events: 41303\n",
      "\n",
      "\n",
      " path \n",
      "Number of subj: 6 \n",
      "Median events per subj 2781.5 \n",
      "Total events proportion 13.444287480134204 \n",
      "Total events: 15227\n",
      "\n",
      "\n",
      " phys \n",
      "Number of subj: 13 \n",
      "Median events per subj 1424.0 \n",
      "Total events proportion 50.08829242450998 \n",
      "Total events: 56730\n",
      "\n"
     ]
    }
   ],
   "source": [
    "# Eval\n",
    "counter = {\n",
    "    'noise':[],\n",
    "    'path':[],\n",
    "    'phys':[]\n",
    "}\n",
    "df_evaluated = df_mayo_no_pw\n",
    "for inst in np.unique(df_evaluated.institution):\n",
    "    df_inst = df_evaluated.loc[df_evaluated.institution==inst]\n",
    "    print(f'subjects from inst {inst}')\n",
    "    for subj in np.unique(df_inst.patient_id):\n",
    "        df_subj = df_inst.loc[df_inst.patient_id==subj]\n",
    "        for cat_id, cat_name in [(0, 'noise'), (1, 'path'), (2,'phys')]:\n",
    "            counter[cat_name].append(len(df_subj.loc[df_subj.category_id==cat_id]))\n",
    "print(counter)\n",
    "\n",
    "for cat in counter:\n",
    "    array_count = np.array(counter[cat])\n",
    "    print('\\n',cat,f'\\nNumber of subj: {len(array_count[array_count!=0])}', f'\\nMedian events per subj {np.median(array_count[array_count!=0])}',f'\\nTotal events proportion {np.sum(array_count)*100/len(df_evaluated)}', f'\\nTotal events: {np.sum(array_count)}\\n')"
   ]
  },
  {
   "cell_type": "code",
   "execution_count": 42,
   "id": "daf198b4-9cce-423d-872a-4bd1873ff23a",
   "metadata": {},
   "outputs": [
    {
     "name": "stdout",
     "output_type": "stream",
     "text": [
      "subjects from inst mayo\n"
     ]
    }
   ],
   "source": [
    "# Manually picked choice\n",
    "# Val for multiclass\n",
    "max_img_subj_cat = {\n",
    "    'noise': 1500, # Pay more the noise\n",
    "    'path': 2800, # Less path at it is not so hard to identify\n",
    "    'phys': 2000\n",
    "}\n",
    "# Val for OVR - balanced\n",
    "max_img_subj_cat = {\n",
    "    'noise': 1300, # Pay more the noise\n",
    "    'path': 2800, # Less path at it is not so hard to identify\n",
    "    'phys': 1700\n",
    "}\n",
    "\n",
    "# Val for OVR - imbalanced. Just limiting to the average \n",
    "max_img_subj_cat = {\n",
    "    'noise': 1882, # Pay more the noise\n",
    "    'path': 2782, # Less path at it is not so hard to identify\n",
    "    'phys': 1424\n",
    "}\n",
    "\n",
    "df_curated = []\n",
    "for inst in np.unique(df_evaluated.institution):\n",
    "    df_inst = df_evaluated.loc[df_evaluated.institution==inst]\n",
    "    print(f'subjects from inst {inst}')\n",
    "    for subj in np.unique(df_inst.patient_id):\n",
    "        df_subj = df_inst.loc[df_inst.patient_id==subj]\n",
    "        for cat_id, cat_name in [(0, 'noise'), (1, 'path'), (2,'phys')]:\n",
    "            df_cat = df_subj.loc[df_subj.category_id==cat_id]\n",
    "            if len(df_curated)<1:\n",
    "                df_curated = df_cat.sample(min(len(df_cat),max_img_subj_cat[cat_name]))\n",
    "            else:\n",
    "                df_curated = pd.concat([df_curated, df_cat.sample(min(len(df_cat),max_img_subj_cat[cat_name]))])\n",
    "df_curated = df_curated.reset_index(drop=True)"
   ]
  },
  {
   "cell_type": "code",
   "execution_count": 43,
   "id": "5484b0f8-9022-4d79-ade0-94bf187a4e85",
   "metadata": {},
   "outputs": [
    {
     "name": "stdout",
     "output_type": "stream",
     "text": [
      "subjects from inst mayo\n",
      "{'noise': [1882, 0, 466, 1882, 1882, 1002, 1882, 0, 0, 740, 0, 1882, 1882, 1700, 1882, 1278, 58, 761], 'path': [0, 883, 1923, 0, 0, 0, 0, 0, 2782, 0, 2782, 0, 0, 0, 0, 0, 2782, 2747], 'phys': [330, 1424, 399, 1424, 790, 1424, 0, 1424, 0, 0, 498, 177, 1424, 1424, 0, 1424, 0, 644]}\n",
      "\n",
      " noise \n",
      "Number of subj: 14 \n",
      "Median events per subj 1791.0 \n",
      "Total events proportion 41.79888414262052 \n",
      "Total events: 19179\n",
      "\n",
      "\n",
      " path \n",
      "Number of subj: 6 \n",
      "Median events per subj 2764.5 \n",
      "Total events proportion 30.29160491674658 \n",
      "Total events: 13899\n",
      "\n",
      "\n",
      " phys \n",
      "Number of subj: 13 \n",
      "Median events per subj 1424.0 \n",
      "Total events proportion 27.9095109406329 \n",
      "Total events: 12806\n",
      "\n"
     ]
    }
   ],
   "source": [
    "# Eval\n",
    "counter = {\n",
    "    'noise':[],\n",
    "    'path':[],\n",
    "    'phys':[]\n",
    "}\n",
    "df_evaluated = df_curated\n",
    "for inst in np.unique(df_evaluated.institution):\n",
    "    df_inst = df_evaluated.loc[df_evaluated.institution==inst]\n",
    "    print(f'subjects from inst {inst}')\n",
    "    for subj in np.unique(df_inst.patient_id):\n",
    "        df_subj = df_inst.loc[df_inst.patient_id==subj]\n",
    "        for cat_id, cat_name in [(0, 'noise'), (1, 'path'), (2,'phys')]:\n",
    "            counter[cat_name].append(len(df_subj.loc[df_subj.category_id==cat_id]))\n",
    "print(counter)\n",
    "for cat in counter:\n",
    "    array_count = np.array(counter[cat])\n",
    "    print('\\n',cat,f'\\nNumber of subj: {len(array_count[array_count!=0])}', f'\\nMedian events per subj {np.median(array_count[array_count!=0])}',f'\\nTotal events proportion {np.sum(array_count)*100/len(df_evaluated)}', f'\\nTotal events: {np.sum(array_count)}\\n')"
   ]
  },
  {
   "cell_type": "code",
   "execution_count": 26,
   "id": "f7b33036-5ec0-4af5-a23a-608cc3a33bea",
   "metadata": {},
   "outputs": [],
   "source": [
    "df_curated_mayo = df_curated"
   ]
  },
  {
   "cell_type": "code",
   "execution_count": 27,
   "id": "881d4a7f-bd64-4889-9b77-7df825437495",
   "metadata": {},
   "outputs": [],
   "source": [
    "df_curated_mayo.to_csv('/scratch/mcesped/Datasets/Multiclass/df_val_curated_OVR_imbalanced.csv', sep=\",\", index_label='index')"
   ]
  },
  {
   "cell_type": "code",
   "execution_count": 15,
   "id": "a6fa3550-0702-4b84-b9fc-e944e5bb0fce",
   "metadata": {},
   "outputs": [
    {
     "data": {
      "text/plain": [
       "(46520, 56432)"
      ]
     },
     "execution_count": 15,
     "metadata": {},
     "output_type": "execute_result"
    }
   ],
   "source": [
    "len(df_curated_mayo), len(df_curated_fnusa)"
   ]
  },
  {
   "cell_type": "code",
   "execution_count": 16,
   "id": "abb03fd1-45ae-4045-8630-f780168c07cb",
   "metadata": {},
   "outputs": [],
   "source": [
    "df_train = df_curated_fnusa\n",
    "df_val = df_curated_mayo"
   ]
  },
  {
   "cell_type": "code",
   "execution_count": 17,
   "id": "edf982f1-b88d-47e2-b6af-84be6809b8a4",
   "metadata": {},
   "outputs": [],
   "source": [
    "# Write csv files. Using fnusa as train\n",
    "df_train.to_csv('/scratch/mcesped/Datasets/Multiclass/df_train_curated.csv', sep=\",\", index_label='index')\n",
    "df_val.to_csv('/scratch/mcesped/Datasets/Multiclass/df_val_curated.csv', sep=\",\", index_label='index')\n",
    "# df_test.to_csv('/scratch/mcesped/Datasets/Noise_detection/df_test.csv', sep=\",\", index_label='index')"
   ]
  },
  {
   "cell_type": "code",
   "execution_count": 47,
   "id": "03a4ea30-2ba1-4332-8950-7b65c660aadb",
   "metadata": {},
   "outputs": [],
   "source": [
    "df_fnusa_no_pw.to_csv('/scratch/mcesped/Datasets/Multiclass/df_train_full.csv', sep=\",\", index_label='index')\n",
    "df_mayo_no_pw.to_csv('/scratch/mcesped/Datasets/Multiclass/df_val_full.csv', sep=\",\", index_label='index')"
   ]
  }
 ],
 "metadata": {
  "kernelspec": {
   "display_name": "Python 3 (ipykernel)",
   "language": "python",
   "name": "python3"
  },
  "language_info": {
   "codemirror_mode": {
    "name": "ipython",
    "version": 3
   },
   "file_extension": ".py",
   "mimetype": "text/x-python",
   "name": "python",
   "nbconvert_exporter": "python",
   "pygments_lexer": "ipython3",
   "version": "3.10.2"
  }
 },
 "nbformat": 4,
 "nbformat_minor": 5
}
